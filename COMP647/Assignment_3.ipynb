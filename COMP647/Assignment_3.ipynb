{
 "cells": [
  {
   "cell_type": "markdown",
   "id": "84353770",
   "metadata": {},
   "source": [
    "- Student Name: Xiuwen (Alice) Zhu\n",
    "- Student ID: 1149188\n",
    "- Course Code: COMP647\n",
    "- Course Examiner: Professor Don Kulasiri\n",
    "- Due Date: 03/11/2025"
   ]
  },
  {
   "cell_type": "markdown",
   "id": "0c1f5e79",
   "metadata": {},
   "source": [
    "# Project Plan\n",
    "\n",
    "1.\tFeature engineering and feature selection as appropriate to your dataset. Briefly explain and justify what you do using comments in your Python code. *(Feature engineering and feature selection was completed in assignment 2, so I will go straight to plan 2. )*\n",
    "\n",
    "2.\tUse appropriate machine learning algorithms (supervised and/or unsupervised) to perform forecasting, classification or clustering tasks with respect to your dataset. Justify why the respective algorithms are selected.\n",
    "3.\tConduct performance measures in the algorithm evaluations and justify the selected the performance measures would be the most appropriate to evaluate the algorithms chosen. \n",
    "4.\tExplain how you avoid over fitting and underfitting of the algorithms. \n",
    "5.\tPerform appropriate eXplainable AI techniques to discover which features are influencing the predictions\n"
   ]
  },
  {
   "cell_type": "markdown",
   "id": "84d0953d",
   "metadata": {},
   "source": [
    "# Research Questions\n",
    "\n",
    "**As an entrepreneur, I want to know:**\n",
    "Which sub-categories will have better sales based on their current sale, number of reviews and rating. \n",
    "\n",
    "**As a buyer, I want to know:**\n",
    "Which sellers have received more consistent high ratings for their products?\n",
    "\n",
    "**As the company, I want to know:**\n",
    "What are the main factors of the sold products that may be contributing to the variation in sales?\n",
    "\n"
   ]
  },
  {
   "cell_type": "markdown",
   "id": "cc3e1182",
   "metadata": {},
   "source": [
    "# Import the Neccessary Libaries for Machine Learning"
   ]
  },
  {
   "cell_type": "code",
   "execution_count": 112,
   "id": "0c63f088",
   "metadata": {},
   "outputs": [],
   "source": [
    "import itertools\n",
    "import numpy as np, pandas as pd \n",
    "import matplotlib.pyplot as plt\n",
    "import seaborn as sns    \n",
    "import hdbscan  \n",
    "import os\n",
    "from scipy.spatial.distance import cdist         \n",
    "from sklearn.preprocessing import StandardScaler\n",
    "from sklearn.cluster import KMeans, AgglomerativeClustering\n",
    "from sklearn.metrics import silhouette_score, calinski_harabasz_score, davies_bouldin_score\n",
    "from sklearn.decomposition import PCA\n",
    "from sklearn.mixture import GaussianMixture\n",
    "from sklearn.ensemble import IsolationForest\n",
    "\n"
   ]
  },
  {
   "cell_type": "markdown",
   "id": "592b526c",
   "metadata": {},
   "source": [
    "# Read Data from CSV"
   ]
  },
  {
   "cell_type": "code",
   "execution_count": 74,
   "id": "e3238106",
   "metadata": {},
   "outputs": [],
   "source": [
    "file_path = 'cleaned_amazon_ecommerce.csv' # Define the file path for the dataset.\n",
    "df = pd.read_csv (file_path)"
   ]
  },
  {
   "cell_type": "markdown",
   "id": "e52f6c0b",
   "metadata": {},
   "source": [
    "# View Data"
   ]
  },
  {
   "cell_type": "code",
   "execution_count": 75,
   "id": "a5cbbdc2",
   "metadata": {},
   "outputs": [
    {
     "name": "stdout",
     "output_type": "stream",
     "text": [
      "<class 'pandas.core.frame.DataFrame'>\n",
      "RangeIndex: 9983 entries, 0 to 9982\n",
      "Data columns (total 20 columns):\n",
      " #   Column                          Non-Null Count  Dtype  \n",
      "---  ------                          --------------  -----  \n",
      " 0   uniq_id                         9983 non-null   object \n",
      " 1   product_name                    9983 non-null   object \n",
      " 2   number_of_reviews               9983 non-null   int64  \n",
      " 3   cleaned_price                   9983 non-null   float64\n",
      " 4   stock_quantity                  9983 non-null   int64  \n",
      " 5   stock_condition                 9983 non-null   object \n",
      " 6   average_review_rating_out_of_5  9983 non-null   float64\n",
      " 7   main_category                   9983 non-null   object \n",
      " 8   sub_category                    9983 non-null   object \n",
      " 9   item_weight_in_kg               9983 non-null   float64\n",
      " 10  recommended_minimum_age_years   9983 non-null   float64\n",
      " 11  purchase_month                  9983 non-null   int64  \n",
      " 12  purchase_year                   9983 non-null   int64  \n",
      " 13  seller_name                     6898 non-null   object \n",
      " 14  main_category_encoded           9983 non-null   int64  \n",
      " 15  sub_category_encoded            9983 non-null   int64  \n",
      " 16  seller_name_encoded             9983 non-null   int64  \n",
      " 17  sales                           9983 non-null   float64\n",
      " 18  month_sin                       9983 non-null   float64\n",
      " 19  month_cos                       9983 non-null   float64\n",
      "dtypes: float64(7), int64(7), object(6)\n",
      "memory usage: 1.5+ MB\n"
     ]
    }
   ],
   "source": [
    "df.info()"
   ]
  },
  {
   "cell_type": "code",
   "execution_count": 76,
   "id": "df5b1012",
   "metadata": {},
   "outputs": [
    {
     "data": {
      "application/vnd.microsoft.datawrangler.viewer.v0+json": {
       "columns": [
        {
         "name": "index",
         "rawType": "int64",
         "type": "integer"
        },
        {
         "name": "uniq_id",
         "rawType": "object",
         "type": "string"
        },
        {
         "name": "product_name",
         "rawType": "object",
         "type": "string"
        },
        {
         "name": "number_of_reviews",
         "rawType": "int64",
         "type": "integer"
        },
        {
         "name": "cleaned_price",
         "rawType": "float64",
         "type": "float"
        },
        {
         "name": "stock_quantity",
         "rawType": "int64",
         "type": "integer"
        },
        {
         "name": "stock_condition",
         "rawType": "object",
         "type": "string"
        },
        {
         "name": "average_review_rating_out_of_5",
         "rawType": "float64",
         "type": "float"
        },
        {
         "name": "main_category",
         "rawType": "object",
         "type": "string"
        },
        {
         "name": "sub_category",
         "rawType": "object",
         "type": "string"
        },
        {
         "name": "item_weight_in_kg",
         "rawType": "float64",
         "type": "float"
        },
        {
         "name": "recommended_minimum_age_years",
         "rawType": "float64",
         "type": "float"
        },
        {
         "name": "purchase_month",
         "rawType": "int64",
         "type": "integer"
        },
        {
         "name": "purchase_year",
         "rawType": "int64",
         "type": "integer"
        },
        {
         "name": "seller_name",
         "rawType": "object",
         "type": "string"
        },
        {
         "name": "main_category_encoded",
         "rawType": "int64",
         "type": "integer"
        },
        {
         "name": "sub_category_encoded",
         "rawType": "int64",
         "type": "integer"
        },
        {
         "name": "seller_name_encoded",
         "rawType": "int64",
         "type": "integer"
        },
        {
         "name": "sales",
         "rawType": "float64",
         "type": "float"
        },
        {
         "name": "month_sin",
         "rawType": "float64",
         "type": "float"
        },
        {
         "name": "month_cos",
         "rawType": "float64",
         "type": "float"
        }
       ],
       "ref": "e2d6d0db-322c-4e15-9ba4-1e44503c00cd",
       "rows": [
        [
         "0",
         "eac7efa5dbd3d667f26eb3d3ab504464",
         "Hornby 2014 Catalogue",
         "15",
         "3.42",
         "5",
         "new",
         "4.9",
         "Hobbies",
         "Model Trains & Railway Sets",
         "0.6",
         "6.0",
         "4",
         "2014",
         "Amazon.co.uk",
         "17",
         "81",
         "84",
         "17.1",
         "0.8660254037844387",
         "-0.4999999999999998"
        ],
        [
         "1",
         "b17540ef7e86e461d37f3ae58b7b72ac",
         "FunkyBuys® Large Christmas Holiday Express Festive Train Set (SI-TY1017) Toy Light / Sounds / Battery Operated & Smoke",
         "2",
         "16.99",
         "3",
         "new",
         "4.5",
         "Hobbies",
         "Model Trains & Railway Sets",
         "0.2",
         "3.0",
         "12",
         "2015",
         "UHD WHOLESALE",
         "17",
         "81",
         "1588",
         "50.97",
         "-2.4492935982947064e-16",
         "1.0"
        ]
       ],
       "shape": {
        "columns": 20,
        "rows": 2
       }
      },
      "text/html": [
       "<div>\n",
       "<style scoped>\n",
       "    .dataframe tbody tr th:only-of-type {\n",
       "        vertical-align: middle;\n",
       "    }\n",
       "\n",
       "    .dataframe tbody tr th {\n",
       "        vertical-align: top;\n",
       "    }\n",
       "\n",
       "    .dataframe thead th {\n",
       "        text-align: right;\n",
       "    }\n",
       "</style>\n",
       "<table border=\"1\" class=\"dataframe\">\n",
       "  <thead>\n",
       "    <tr style=\"text-align: right;\">\n",
       "      <th></th>\n",
       "      <th>uniq_id</th>\n",
       "      <th>product_name</th>\n",
       "      <th>number_of_reviews</th>\n",
       "      <th>cleaned_price</th>\n",
       "      <th>stock_quantity</th>\n",
       "      <th>stock_condition</th>\n",
       "      <th>average_review_rating_out_of_5</th>\n",
       "      <th>main_category</th>\n",
       "      <th>sub_category</th>\n",
       "      <th>item_weight_in_kg</th>\n",
       "      <th>recommended_minimum_age_years</th>\n",
       "      <th>purchase_month</th>\n",
       "      <th>purchase_year</th>\n",
       "      <th>seller_name</th>\n",
       "      <th>main_category_encoded</th>\n",
       "      <th>sub_category_encoded</th>\n",
       "      <th>seller_name_encoded</th>\n",
       "      <th>sales</th>\n",
       "      <th>month_sin</th>\n",
       "      <th>month_cos</th>\n",
       "    </tr>\n",
       "  </thead>\n",
       "  <tbody>\n",
       "    <tr>\n",
       "      <th>0</th>\n",
       "      <td>eac7efa5dbd3d667f26eb3d3ab504464</td>\n",
       "      <td>Hornby 2014 Catalogue</td>\n",
       "      <td>15</td>\n",
       "      <td>3.42</td>\n",
       "      <td>5</td>\n",
       "      <td>new</td>\n",
       "      <td>4.9</td>\n",
       "      <td>Hobbies</td>\n",
       "      <td>Model Trains &amp; Railway Sets</td>\n",
       "      <td>0.6</td>\n",
       "      <td>6.0</td>\n",
       "      <td>4</td>\n",
       "      <td>2014</td>\n",
       "      <td>Amazon.co.uk</td>\n",
       "      <td>17</td>\n",
       "      <td>81</td>\n",
       "      <td>84</td>\n",
       "      <td>17.10</td>\n",
       "      <td>8.660254e-01</td>\n",
       "      <td>-0.5</td>\n",
       "    </tr>\n",
       "    <tr>\n",
       "      <th>1</th>\n",
       "      <td>b17540ef7e86e461d37f3ae58b7b72ac</td>\n",
       "      <td>FunkyBuys® Large Christmas Holiday Express Fes...</td>\n",
       "      <td>2</td>\n",
       "      <td>16.99</td>\n",
       "      <td>3</td>\n",
       "      <td>new</td>\n",
       "      <td>4.5</td>\n",
       "      <td>Hobbies</td>\n",
       "      <td>Model Trains &amp; Railway Sets</td>\n",
       "      <td>0.2</td>\n",
       "      <td>3.0</td>\n",
       "      <td>12</td>\n",
       "      <td>2015</td>\n",
       "      <td>UHD WHOLESALE</td>\n",
       "      <td>17</td>\n",
       "      <td>81</td>\n",
       "      <td>1588</td>\n",
       "      <td>50.97</td>\n",
       "      <td>-2.449294e-16</td>\n",
       "      <td>1.0</td>\n",
       "    </tr>\n",
       "  </tbody>\n",
       "</table>\n",
       "</div>"
      ],
      "text/plain": [
       "                            uniq_id  \\\n",
       "0  eac7efa5dbd3d667f26eb3d3ab504464   \n",
       "1  b17540ef7e86e461d37f3ae58b7b72ac   \n",
       "\n",
       "                                        product_name  number_of_reviews  \\\n",
       "0                              Hornby 2014 Catalogue                 15   \n",
       "1  FunkyBuys® Large Christmas Holiday Express Fes...                  2   \n",
       "\n",
       "   cleaned_price  stock_quantity stock_condition  \\\n",
       "0           3.42               5             new   \n",
       "1          16.99               3             new   \n",
       "\n",
       "   average_review_rating_out_of_5 main_category                 sub_category  \\\n",
       "0                             4.9       Hobbies  Model Trains & Railway Sets   \n",
       "1                             4.5       Hobbies  Model Trains & Railway Sets   \n",
       "\n",
       "   item_weight_in_kg  recommended_minimum_age_years  purchase_month  \\\n",
       "0                0.6                            6.0               4   \n",
       "1                0.2                            3.0              12   \n",
       "\n",
       "   purchase_year    seller_name  main_category_encoded  sub_category_encoded  \\\n",
       "0           2014   Amazon.co.uk                     17                    81   \n",
       "1           2015  UHD WHOLESALE                     17                    81   \n",
       "\n",
       "   seller_name_encoded  sales     month_sin  month_cos  \n",
       "0                   84  17.10  8.660254e-01       -0.5  \n",
       "1                 1588  50.97 -2.449294e-16        1.0  "
      ]
     },
     "execution_count": 76,
     "metadata": {},
     "output_type": "execute_result"
    }
   ],
   "source": [
    "df.head(2)"
   ]
  },
  {
   "cell_type": "markdown",
   "id": "2acce1d5",
   "metadata": {},
   "source": [
    "# Research Question 1"
   ]
  },
  {
   "cell_type": "markdown",
   "id": "af7ffc79",
   "metadata": {},
   "source": [
    "Which sub-categories have had good sale performance in November based on their number of reviews and occurence in every november of the year."
   ]
  },
  {
   "cell_type": "code",
   "execution_count": 77,
   "id": "eb6176ba",
   "metadata": {},
   "outputs": [],
   "source": [
    "# I want to analyse product sales in November using the previous November data, because this is when festive season shopping starts.\n",
    "# Although low review count does not means low sale, high review count usually means high sales.\n",
    "# Therefore, I will use review_count as a proxy for sales.\n",
    "# Also because this is an analysis of sales over years, an unsupervised ML model will be used to cluster the sub-categorries.\n",
    "# A KMeans model will be used, as it can cluster data points based on feature similarity using the mean of number of reviews and ratings.\n",
    "\n",
    "nov = df[df['purchase_month'] == 11].copy()"
   ]
  },
  {
   "cell_type": "code",
   "execution_count": null,
   "id": "a6e60a98",
   "metadata": {},
   "outputs": [],
   "source": [
    "# Aggregate necessary statistics for November data for each sub-category.\n",
    "\n",
    "#agg = (\n",
    "    #nov\n",
    "    #.groupby('sub_category')\n",
    "    #.agg(\n",
    "        #mean_reviews=('number_of_reviews', 'mean'), # Proxy for popularity.\n",
    "        #std_reviews=('number_of_reviews', 'std'), # Consistency of popularity.\n",
    "        #median_reviews=('number_of_reviews', 'median'), # Consistency of popularity.\n",
    "        #mean_rating=('average_review_rating_out_of_5', 'mean'), # Proxy for quality.\n",
    "        #count_years=('purchase_year', 'nunique'), # Years being sold in November.)\n",
    "    #.reset_index())\n",
    "#agg['std_reviews'] = agg['std_reviews'].fillna(0)"
   ]
  },
  {
   "cell_type": "code",
   "execution_count": null,
   "id": "dd751f71",
   "metadata": {},
   "outputs": [],
   "source": [
    "# Preprocess features: cap extreme values and apply log1p transformation to skwed data.\n",
    "# KMean clustering assumes normal distributed data and is sensitive to outliers. \n",
    "# So the purpose of this step is to reduce the influence of outliers and normallise the skewed distributions, so that the clustering algorithm can perform effectively.\n",
    "# Upon the capping and log-transforming, the data will be normalised and dominant features will be scaled down.\n",
    "\n",
    "#cols_cap_log = ['std_reviews'] # Define which columns to cap and log-transform.\n",
    "#agg2 = agg.copy() # Create a copy of the aggregated data, so that the origianl data is preserved. \n",
    "#for c in cols_cap_log: \n",
    "    #cap = agg2[c].quantile(0.99) # Capping to keep 99% of the data unaffected, but the 1% extreme outliers will be compressed.\n",
    "    #agg2[c] = np.minimum(agg2[c].fillna(0), cap) \n",
    "    #agg2[c] = np.log1p(agg2[c]) # Compress distribution with log1p function to reduce skewness."
   ]
  },
  {
   "cell_type": "code",
   "execution_count": null,
   "id": "c67fbd86",
   "metadata": {},
   "outputs": [],
   "source": [
    "#features = ['std_reviews','count_years'] # Feature selection for clustering.\n",
    "#X = agg2[features].fillna(0).values \n",
    "\n",
    "# KMeans does not work with df, but numeric matrices, so this assigned X will correspond to one sub-category per row and each feature per column.\n",
    "# This will apply to the extract feature values and fill any remaining NaNs with 0.\n",
    "#scaler = StandardScaler() # Normaling the features so that they are all on the same scale.\n",
    "#X_scaled = scaler.fit_transform(X) # Calculate and apply the scaling."
   ]
  },
  {
   "cell_type": "code",
   "execution_count": null,
   "id": "bc9dbbb6",
   "metadata": {},
   "outputs": [
    {
     "name": "stdout",
     "output_type": "stream",
     "text": [
      "k=2 -> silhouette 0.6134\n",
      "k=3 -> silhouette 0.5298\n",
      "k=4 -> silhouette 0.5208\n",
      "k=5 -> silhouette 0.5342\n",
      "k=6 -> silhouette 0.5292\n",
      "k=7 -> silhouette 0.5283\n",
      "k=8 -> silhouette 0.5464\n",
      "k=9 -> silhouette 0.5709\n",
      "k=10 -> silhouette 0.5727\n",
      "k=11 -> silhouette 0.5826\n",
      "Best k by silhouette: 2\n"
     ]
    }
   ],
   "source": [
    "# Determine the optimal number of clusters (k) using silhouette score.\n",
    "# Silhouette score measures how similar an object is to its own cluster compared to other clusters.\n",
    "# A higher silhouette score indicates better-defined clusters, so the highest K will be chosen.\n",
    "# \n",
    "\n",
    "scores = {}\n",
    "for k in range(2,12): \n",
    "    # Test k values from 2 to 5. The reason that it starts from 2 is that if it is 1, then all data points are in 1 cluster.\n",
    "    km = KMeans(n_clusters=k, random_state=42, n_init=50) \n",
    "    # n_clusters=k sets the number of clusters.\n",
    "    # random_state=42 ensures reproducibility of results.\n",
    "    # n_init=50 means runs the algorithm will run 50 times with different starting points, and keeping the best solution.\n",
    "    labels = km.fit_predict(X_scaled)\n",
    "    # Fit the KMeans model to the scaled data.\n",
    "    scores[k] = silhouette_score(X_scaled, labels)\n",
    "    # Calculate silhouette score for the cluster and store it in the scores dictionary.\n",
    "    print(f\"k={k} -> silhouette {scores[k]:.4f}\")\n",
    "\n",
    "best_k = max(scores, key=scores.get)\n",
    "print(\"Best k by silhouette:\", best_k)\n",
    "\n",
    "\n",
    "# Silhouette score range from -1 to 1. A score close to 1 indicates that the samples are far away from the neighboring clusters, which is a good clustering result.\n",
    "# A score of 0 means clusters are overlapping.\n",
    "# A negative score indicates that samples might have been assigned to the wrong cluster.\n",
    "# I have explored multiple k values ranges and found that k=5 gives the highest silhouette score of 0.4184.\n",
    "# However, the clusters are not well defined.\n",
    "# When I tried K=4, where the silhouette score is slightly lower at 0.3767, the clusters are better defined than k=5.\n",
    "# Despite K=4 gives more defined clusters, the silhouette score is not very high, meaning that the clusters are not very distinct.\n",
    "# Therefore, I need to adjust my feature selection and preprocessing steps to improve the clustering results.\n",
    "# After dropping the mean_rating and median_reviews features, the silhouette score improved to 0.4926 at k=4.\n",
    "# This indicates those two features adds variance and noises, not helping with reinforcing the separation between clusters."
   ]
  },
  {
   "cell_type": "code",
   "execution_count": 87,
   "id": "34f2b54f",
   "metadata": {},
   "outputs": [
    {
     "name": "stdout",
     "output_type": "stream",
     "text": [
      "{'silhouette': 0.5342459965635983, 'calinski_harabasz': 188.2671448484265, 'davies_bouldin': 0.7359184275455091}\n"
     ]
    }
   ],
   "source": [
    "def eval_labels(X, labels):\n",
    "    return {\n",
    "        'silhouette': silhouette_score(X, labels) if len(set(labels))>1 else -1,\n",
    "        'calinski_harabasz': calinski_harabasz_score(X, labels) if len(set(labels))>1 else -1,\n",
    "        'davies_bouldin': davies_bouldin_score(X, labels) if len(set(labels))>1 else np.inf\n",
    "    }\n",
    "\n",
    "print(eval_labels(X_scaled, labels)) \n"
   ]
  },
  {
   "cell_type": "code",
   "execution_count": null,
   "id": "70548d18",
   "metadata": {},
   "outputs": [
    {
     "name": "stdout",
     "output_type": "stream",
     "text": [
      "                  PC1       PC2\n",
      "std_reviews  0.707107  0.707107\n",
      "count_years  0.707107 -0.707107\n"
     ]
    }
   ],
   "source": [
    "# Get the feature names again\n",
    "#features = ['std_reviews','count_years']\n",
    "\n",
    "# PCA loadings (weights)\n",
    "#loadings = pd.DataFrame(pca.components_.T, \n",
    "                        #columns=['PC1', 'PC2'], \n",
    "                        #index=features)\n",
    "\n",
    "#print(loadings)"
   ]
  },
  {
   "cell_type": "code",
   "execution_count": 113,
   "id": "85fb6247",
   "metadata": {},
   "outputs": [
    {
     "name": "stdout",
     "output_type": "stream",
     "text": [
      "\n",
      "=== Silhouette and Inertia Results for KMeans ===\n",
      " k   Inertia  Silhouette_Score\n",
      " 2 64.178543          0.551726\n",
      " 3 37.581343          0.530539\n",
      " 4 28.054126          0.445744\n",
      " 5 20.521525          0.465835\n",
      " 6 15.757624          0.477047\n",
      "\n",
      "Cluster centroids (in log-normalized units):\n",
      "   cluster  avg_reviews_nov  occurrence_count      score\n",
      "1        1         6.816874          5.892857  12.709732\n",
      "0        0         2.144679          1.923077   4.067756\n",
      "\n",
      "Best performing cluster (high sales & consistent): Cluster 1\n",
      "Saved results to: /Users/xiuwen/Documents/GitHub/1149188/COMP647/november_subcategory_clusters_normalized.csv\n"
     ]
    },
    {
     "data": {
      "image/png": "[encoded data removed]",
      "text/plain": [
       "<Figure size 800x600 with 1 Axes>"
      ]
     },
     "metadata": {},
     "output_type": "display_data"
    },
    {
     "name": "stdout",
     "output_type": "stream",
     "text": [
      "\n",
      "Top sub-categories in the best-performing cluster:\n",
      "                sub_category  avg_reviews_nov  occurrence_count\n",
      "                 Accessories        15.323712                 7\n",
      "  Toy Vehicles & Accessories        14.391349                 8\n",
      "                     Unknown        13.845552                 8\n",
      "Banners, Stickers & Confetti        11.618266                 4\n",
      "                      Disney        10.271219                 5\n",
      "       Children's Craft Kits        10.110986                 6\n",
      "   Science Fiction & Fantasy         9.783635                 6\n",
      "           Dice & Dice Games         8.400557                 4\n",
      " Model Trains & Railway Sets         7.830877                 5\n",
      "                  Card Games         7.459200                 7\n",
      "                    Costumes         7.187950                 5\n",
      "                 Decorations         6.836806                 5\n",
      "    Toy Trains & Accessories         6.238559                 5\n",
      " Trading Cards & Accessories         6.103852                 8\n",
      "                   Star Wars         6.070372                 7\n",
      "                  Soft Dolls         5.358862                 4\n",
      "                      Hasbro         5.124719                 6\n",
      "           Knights & Castles         4.788416                 5\n",
      "            Paper & Stickers         4.720310                 6\n",
      "                     Jigsaws         4.456841                 5\n"
     ]
    }
   ],
   "source": [
    "nov_df = df[df['purchase_month'] == 11].copy()\n",
    "YEARS_RANGE = list(range(2001, 2017))   # 2001–2016 inclusive\n",
    "TOTAL_NOVEMBER_YEARS = len(YEARS_RANGE) \n",
    "\n",
    "# -----------------------\n",
    "# 6. Apply log normalization to skewed \"number_of_reviews\"\n",
    "# -----------------------\n",
    "# Why log1p? log1p(x) = log(1 + x)\n",
    "#  - If x = 0 → log1p(0) = 0 (safe)\n",
    "#  - If x is large → compresses the scale\n",
    "# Example: 10 → 2.4, 100 → 4.6, 1000 → 6.9\n",
    "nov_df['number_of_reviews_log'] = np.log1p(nov_df['number_of_reviews'])\n",
    "\n",
    "# -----------------------\n",
    "# 7. Group by sub_category and year to get November totals\n",
    "# -----------------------\n",
    "grouped_yearly = nov_df.groupby(['sub_category', 'purchase_year'])['number_of_reviews_log'].sum().reset_index()\n",
    "\n",
    "# -----------------------\n",
    "# 8. Aggregate per sub_category across years\n",
    "# -----------------------\n",
    "agg = grouped_yearly.groupby('sub_category').agg(\n",
    "    avg_reviews_nov=('number_of_reviews_log', 'mean'),  # mean of log-transformed reviews\n",
    "    occurrence_count=('purchase_year', 'nunique')       # number of distinct Novembers it appeared\n",
    ").reset_index()\n",
    "\n",
    "agg['prop_nov_years'] = agg['occurrence_count'] / TOTAL_NOVEMBER_YEARS\n",
    "\n",
    "# -----------------------\n",
    "# 9. Prepare features for clustering\n",
    "# -----------------------\n",
    "# Using avg_reviews_nov (already log-scaled) and occurrence_count\n",
    "features = agg[['avg_reviews_nov', 'occurrence_count']].values\n",
    "\n",
    "# Standardize to zero mean and unit variance so KMeans treats both equally\n",
    "scaler = StandardScaler()\n",
    "features_scaled = scaler.fit_transform(features)\n",
    "\n",
    "# -----------------------\n",
    "# 10. Find best k (number of clusters) using silhouette score\n",
    "# -----------------------\n",
    "\n",
    "inertias = []      # sum of squared distances to cluster centers\n",
    "sil_scores = []    # silhouette score for cluster quality\n",
    "ks = range(2, 7)   # range of k to test\n",
    "RANDOM_STATE = 42\n",
    "\n",
    "for k in ks:\n",
    "    kmeans_tmp = KMeans(n_clusters=k, random_state=RANDOM_STATE, n_init=10)\n",
    "    labels_tmp = kmeans_tmp.fit_predict(features_scaled)\n",
    "    inertias.append(kmeans_tmp.inertia_)\n",
    "    sil_scores.append(silhouette_score(features_scaled, labels_tmp))\n",
    "\n",
    "# Create a small results table for easier viewing\n",
    "silhouette_results = pd.DataFrame({\n",
    "    \"k\": list(ks),\n",
    "    \"Inertia\": inertias,\n",
    "    \"Silhouette_Score\": sil_scores\n",
    "})\n",
    "\n",
    "# Print all silhouette scores neatly\n",
    "print(\"\\n=== Silhouette and Inertia Results for KMeans ===\")\n",
    "print(silhouette_results.to_string(index=False))\n",
    "\n",
    "\n",
    "# -----------------------\n",
    "# 11. Fit KMeans using best_k\n",
    "# -----------------------\n",
    "kmeans = KMeans(n_clusters=best_k, random_state=RANDOM_STATE, n_init=20)\n",
    "agg['cluster'] = kmeans.fit_predict(features_scaled)\n",
    "\n",
    "# -----------------------\n",
    "# 12. Analyze cluster centers (convert back to original units)\n",
    "# -----------------------\n",
    "centroids_scaled = kmeans.cluster_centers_\n",
    "centroids_original = scaler.inverse_transform(centroids_scaled)\n",
    "centroid_df = pd.DataFrame(centroids_original, columns=['avg_reviews_nov', 'occurrence_count'])\n",
    "centroid_df['cluster'] = centroid_df.index\n",
    "\n",
    "# Higher avg_reviews_nov and occurrence_count indicate stronger and consistent sales\n",
    "centroid_df['score'] = centroid_df['avg_reviews_nov'] + centroid_df['occurrence_count']\n",
    "centroid_df = centroid_df.sort_values('score', ascending=False)\n",
    "best_cluster = int(centroid_df.iloc[0]['cluster'])\n",
    "\n",
    "# -----------------------\n",
    "# 13. Save and print summary\n",
    "# -----------------------\n",
    "DATA_PATH = \"data.csv\"  # change to your actual dataset path\n",
    "OUTPUT_SUMMARY_CSV = \"november_subcategory_clusters_normalized.csv\"\n",
    "RANDOM_STATE = 42\n",
    "YEARS_RANGE = list(range(2001, 2017))\n",
    "TOTAL_NOVEMBER_YEARS = len(YEARS_RANGE)\n",
    "\n",
    "agg.to_csv(OUTPUT_SUMMARY_CSV, index=False)\n",
    "\n",
    "print(\"\\nCluster centroids (in log-normalized units):\")\n",
    "print(centroid_df[['cluster', 'avg_reviews_nov', 'occurrence_count', 'score']])\n",
    "\n",
    "print(f\"\\nBest performing cluster (high sales & consistent): Cluster {best_cluster}\")\n",
    "print(f\"Saved results to: {os.path.abspath(OUTPUT_SUMMARY_CSV)}\")\n",
    "\n",
    "# -----------------------\n",
    "# 14. Plot clusters\n",
    "# -----------------------\n",
    "plt.figure(figsize=(8,6))\n",
    "scatter = plt.scatter(\n",
    "    agg['avg_reviews_nov'], \n",
    "    agg['occurrence_count'], \n",
    "    c=agg['cluster'], cmap='tab10', s=50, alpha=0.8\n",
    ")\n",
    "plt.scatter(\n",
    "    centroid_df['avg_reviews_nov'], \n",
    "    centroid_df['occurrence_count'],\n",
    "    c='black', s=200, marker='X', label='Centroids'\n",
    ")\n",
    "plt.xlabel(\"Average November Reviews (log-normalized)\")\n",
    "plt.ylabel(\"Number of Novembers Appeared (occurrence_count)\")\n",
    "plt.title(\"KMeans Clustering of Sub-categories (Normalized Reviews)\")\n",
    "plt.legend()\n",
    "plt.grid(True)\n",
    "plt.show()\n",
    "\n",
    "# -----------------------\n",
    "# 15. Display top-performing sub-categories\n",
    "# -----------------------\n",
    "best_subcats = agg[agg['cluster'] == best_cluster].sort_values('avg_reviews_nov', ascending=False)\n",
    "print(\"\\nTop sub-categories in the best-performing cluster:\")\n",
    "print(best_subcats[['sub_category', 'avg_reviews_nov', 'occurrence_count']].head(20).to_string(index=False))"
   ]
  },
  {
   "cell_type": "code",
   "execution_count": null,
   "id": "0e196b6f",
   "metadata": {},
   "outputs": [],
   "source": []
  }
 ],
 "metadata": {
  "kernelspec": {
   "display_name": "COMP647_env_py312",
   "language": "python",
   "name": "python3"
  },
  "language_info": {
   "codemirror_mode": {
    "name": "ipython",
    "version": 3
   },
   "file_extension": ".py",
   "mimetype": "text/x-python",
   "name": "python",
   "nbconvert_exporter": "python",
   "pygments_lexer": "ipython3",
   "version": "3.12.11"
  }
 },
 "nbformat": 4,
 "nbformat_minor": 5
}

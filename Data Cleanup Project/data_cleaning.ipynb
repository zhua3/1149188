{
 "cells": [
  {
   "cell_type": "code",
   "execution_count": 87,
   "id": "1eb5da77",
   "metadata": {},
   "outputs": [
    {
     "name": "stdout",
     "output_type": "stream",
     "text": [
      "/opt/anaconda3/envs/COMP647_env_py312/bin/python\n"
     ]
    }
   ],
   "source": [
    "import sys\n",
    "print(sys.executable)\n"
   ]
  },
  {
   "cell_type": "code",
   "execution_count": 88,
   "id": "8be6aa1d",
   "metadata": {},
   "outputs": [
    {
     "name": "stdout",
     "output_type": "stream",
     "text": [
      "Student Name: Xiuwen (Alice) Zhu\n",
      "Student ID: 1149188\n",
      "Course Code: COMP647\n",
      "Course Examiner: Professor Don Kulasiri\n",
      "Due Date: 07/08/2025\n"
     ]
    }
   ],
   "source": [
    "print (\"Student Name: Xiuwen (Alice) Zhu\") \n",
    "print (\"Student ID: 1149188\")\n",
    "print (\"Course Code: COMP647\")\n",
    "print (\"Course Examiner: Professor Don Kulasiri\")\n",
    "print (\"Due Date: 07/08/2025\")"
   ]
  },
  {
   "cell_type": "markdown",
   "id": "9bd2fd98",
   "metadata": {},
   "source": [
    "# Import the Necessary Libraries for Data Cleaning"
   ]
  },
  {
   "cell_type": "code",
   "execution_count": 89,
   "id": "f9db2683",
   "metadata": {},
   "outputs": [],
   "source": [
    "import numpy as np # Numerical operations and array handling.\n",
    "import pandas as pd # Data manipulation and analysis.\n",
    "import matplotlib.pyplot as plt # Plotting library for creating static, animated, and interactive visualizations.\n",
    "import seaborn as sns # Statistical data visualization library based on matplotlib.\n",
    "from scipy import stats # Module for scientific computing, including statistical functions.\n"
   ]
  },
  {
   "cell_type": "markdown",
   "id": "986b6305",
   "metadata": {},
   "source": [
    "# Read Data from CSV"
   ]
  },
  {
   "cell_type": "code",
   "execution_count": 90,
   "id": "516917c6",
   "metadata": {},
   "outputs": [],
   "source": [
    "file_path = 'amazon_co-ecommerce_sample.csv' # Define the file path for the dataset.\n",
    "df = pd.read_csv (file_path) # Read the Excel file into a DataFrame."
   ]
  },
  {
   "cell_type": "markdown",
   "id": "b11e7819",
   "metadata": {},
   "source": [
    "# Understand Data"
   ]
  },
  {
   "cell_type": "code",
   "execution_count": 91,
   "id": "5d8dd1d5",
   "metadata": {},
   "outputs": [
    {
     "data": {
      "application/vnd.microsoft.datawrangler.viewer.v0+json": {
       "columns": [
        {
         "name": "index",
         "rawType": "int64",
         "type": "integer"
        },
        {
         "name": "uniq_id",
         "rawType": "object",
         "type": "string"
        },
        {
         "name": "product_name",
         "rawType": "object",
         "type": "string"
        },
        {
         "name": "manufacturer",
         "rawType": "object",
         "type": "string"
        },
        {
         "name": "price",
         "rawType": "object",
         "type": "string"
        },
        {
         "name": "number_available_in_stock",
         "rawType": "object",
         "type": "string"
        },
        {
         "name": "number_of_reviews",
         "rawType": "object",
         "type": "string"
        },
        {
         "name": "number_of_answered_questions",
         "rawType": "float64",
         "type": "float"
        },
        {
         "name": "average_review_rating",
         "rawType": "object",
         "type": "string"
        },
        {
         "name": "amazon_category_and_sub_category",
         "rawType": "object",
         "type": "string"
        },
        {
         "name": "customers_who_bought_this_item_also_bought",
         "rawType": "object",
         "type": "string"
        },
        {
         "name": "description",
         "rawType": "object",
         "type": "string"
        },
        {
         "name": "product_information",
         "rawType": "object",
         "type": "string"
        },
        {
         "name": "product_description",
         "rawType": "object",
         "type": "string"
        },
        {
         "name": "items_customers_buy_after_viewing_this_item",
         "rawType": "object",
         "type": "string"
        },
        {
         "name": "customer_questions_and_answers",
         "rawType": "object",
         "type": "string"
        },
        {
         "name": "customer_reviews",
         "rawType": "object",
         "type": "string"
        },
        {
         "name": "sellers",
         "rawType": "object",
         "type": "string"
        }
       ],
       "ref": "39ef3b08-5adc-488d-9b6c-2b1abe197275",
       "rows": [
        [
         "0",
         "eac7efa5dbd3d667f26eb3d3ab504464",
         "Hornby 2014 Catalogue",
         "Hornby",
         "£3.42",
         "5 new",
         "15",
         "1.0",
         "4.9 out of 5 stars",
         "Hobbies > Model Trains & Railway Sets > Rail Vehicles > Trains",
         "http://www.amazon.co.uk/Hornby-R8150-Catalogue-2015/dp/B00S9SUUBE | http://www.amazon.co.uk/Hornby-Book-Model-Railways-Edition/dp/1844860957 | http://www.amazon.co.uk/Hornby-Book-Scenic-Railway-Modelling/dp/1844861120 | http://www.amazon.co.uk/Peco-60-Plans-Book/dp/B002QVL16I | http://www.amazon.co.uk/Hornby-Gloucester | http://www.amazon.co.uk/Airfix-5014429781902",
         "Product Description Hornby 2014 Catalogue Box Contains 1 x one catalogue",
         "Technical Details Item Weight640 g Product Dimensions29.6 x 20.8 x 1 cm Manufacturer recommended age:6 years and up Item model numberR8148 Main Language(s)English manual, English Number of Game Players1 Number of Puzzle Pieces1 Assembly RequiredNo Scale1:72 Engine Typeelectric Track Width/GaugeHO Batteries Required?No Batteries Included?No Material Type(s)Paper Material Care InstructionsNo Remote Control Included?No Radio Control Suitabilityindoor Colorwhite    Additional Information ASINB00HJ208KO Best Sellers Rank 52,854 in Toys & Games (See top 100) #69 in Toys & Games > Model Trains & Railway Sets > Rail Vehicles > Trains Shipping Weight640 g Delivery Destinations:Visit the Delivery Destinations Help page to see where this item can be delivered. Date First Available24 Dec. 2013    Feedback  Would you like to update product info or give feedback on images?",
         "Product Description Hornby 2014 Catalogue Box Contains 1 x one catalogue",
         "http://www.amazon.co.uk/Hornby-R8150-Catalogue-2015/dp/B00S9SUUBE | http://www.amazon.co.uk/Hornby-Book-Model-Railways-Edition/dp/1844860957 | http://www.amazon.co.uk/Peco-60-Plans-Book/dp/B002QVL16I | http://www.amazon.co.uk/Newcomers-Guide-Model-Railways-Step/dp/1857943295",
         "Does this catalogue detail all the previous Hornby products please? // HiThe 2014 catalogue does indeed detail previous models but also includes new releases for 2014.You would be advised to purchase models as you need them to avoid them being discontinued in subsequent years…\n    \n      see more\n    \n  \n  \n    HiThe 2014 catalogue does indeed detail previous models but also includes new releases for 2014.You would be advised to purchase models as you need them to avoid them being discontinued in subsequent yearsHope this helps\n    \n      see less",
         "Worth Buying For The Pictures Alone (As Ever) // 4.0 // 6 April 2014 // By\n    \n    Copnovelist\n  \n on 6 April 2014 // Part of the magic for me growing up as a boy was to buy (or be given) the new Hornby catalogue every year, even if it included 90% of the same products as the previous year.  I've still got my old ones dating back to the 70s and 80s somewhere.  These days the catalogue is especially informative in that it tells you the vintage of the rolling stock which is useful if you are dedicating your railway to one particular era and train company. | Amazing detail fabulous photography. // 5.0 // 11 April 2015 // By\n    \n    richard\n  \n on 11 April 2015 // Amazing detail, every credit to the photographer in this book, a worthy reference manual, as well as a sales brochure. even if you only have a passing interest in the hobby you will be transported to another time when we were all younger and in awe of the big trains. | 'Great Purchase' // 5.0 // 23 April 2014 // By\n    \n    Pinkhandbag\n  \n on 23 April 2014 // This was purchased on behalf of my Dad. He is always asking me to look up 00 gauge engines online, so this has been a good buy as he can look at it anytime. Would definitely buy the next one 2015!It arrived quickly and in perfect condition :-) | Great Catalogue // 5.0 // 11 Jun. 2014 // By\n    \n    Gary John Mapson\n  \n on 11 Jun. 2014 // Everything I really needed to see what was on offer from Hornby in the way of trains.  Would not have minded it included an RRP as well though | I collect them all as the glossy pictures are great and it is nice that you can still get ... // 5.0 // 7 Dec. 2014 // By\n    \n    David Baker\n  \n on 7 Dec. 2014 // I collect them all as the glossy pictures are great and it is nice that you can still get catalogs to collect. | Great catalogue // 5.0 // 20 Mar. 2015 // By\n    \n    John A. Day\n  \n on 20 Mar. 2015 // What a great book.  Extremely useful insight to all future christmas presents. | Useful // 5.0 // 7 Oct. 2014 // By\n    \n    T. Davies\n  \n on 7 Oct. 2014 // Useful info for someonelike me starting back into the hobby after many years | hornbys latest catalogue. // 5.0 // 1 Dec. 2014 // By\n    \n    John Butlin\n  \n on 1 Dec. 2014 // A well produced very good quality catalogue.Super quality pictures.",
         "{\"seller\"=>[{\"Seller_name_1\"=>\"Amazon.co.uk\", \"Seller_price_1\"=>\"£3.42\"}, {\"Seller_name_2\"=>\"**stop-&-shop-uk**\", \"Seller_price_2\"=>\"£0.19\"}, {\"Seller_name_3\"=>\"World Wide Shopping Mall Ltd\", \"Seller_price_3\"=>\"£9.99\"}, {\"Seller_name_4\"=>\"MyHobbyStore Retail\", \"Seller_price_4\"=>\"£8.00\"}, {\"Seller_name_5\"=>\"francejouet\", \"Seller_price_5\"=>\"£37.62\"}]}"
        ]
       ],
       "shape": {
        "columns": 17,
        "rows": 1
       }
      },
      "text/html": [
       "<div>\n",
       "<style scoped>\n",
       "    .dataframe tbody tr th:only-of-type {\n",
       "        vertical-align: middle;\n",
       "    }\n",
       "\n",
       "    .dataframe tbody tr th {\n",
       "        vertical-align: top;\n",
       "    }\n",
       "\n",
       "    .dataframe thead th {\n",
       "        text-align: right;\n",
       "    }\n",
       "</style>\n",
       "<table border=\"1\" class=\"dataframe\">\n",
       "  <thead>\n",
       "    <tr style=\"text-align: right;\">\n",
       "      <th></th>\n",
       "      <th>uniq_id</th>\n",
       "      <th>product_name</th>\n",
       "      <th>manufacturer</th>\n",
       "      <th>price</th>\n",
       "      <th>number_available_in_stock</th>\n",
       "      <th>number_of_reviews</th>\n",
       "      <th>number_of_answered_questions</th>\n",
       "      <th>average_review_rating</th>\n",
       "      <th>amazon_category_and_sub_category</th>\n",
       "      <th>customers_who_bought_this_item_also_bought</th>\n",
       "      <th>description</th>\n",
       "      <th>product_information</th>\n",
       "      <th>product_description</th>\n",
       "      <th>items_customers_buy_after_viewing_this_item</th>\n",
       "      <th>customer_questions_and_answers</th>\n",
       "      <th>customer_reviews</th>\n",
       "      <th>sellers</th>\n",
       "    </tr>\n",
       "  </thead>\n",
       "  <tbody>\n",
       "    <tr>\n",
       "      <th>0</th>\n",
       "      <td>eac7efa5dbd3d667f26eb3d3ab504464</td>\n",
       "      <td>Hornby 2014 Catalogue</td>\n",
       "      <td>Hornby</td>\n",
       "      <td>£3.42</td>\n",
       "      <td>5 new</td>\n",
       "      <td>15</td>\n",
       "      <td>1.0</td>\n",
       "      <td>4.9 out of 5 stars</td>\n",
       "      <td>Hobbies &gt; Model Trains &amp; Railway Sets &gt; Rail V...</td>\n",
       "      <td>http://www.amazon.co.uk/Hornby-R8150-Catalogue...</td>\n",
       "      <td>Product Description Hornby 2014 Catalogue Box ...</td>\n",
       "      <td>Technical Details Item Weight640 g Product Dim...</td>\n",
       "      <td>Product Description Hornby 2014 Catalogue Box ...</td>\n",
       "      <td>http://www.amazon.co.uk/Hornby-R8150-Catalogue...</td>\n",
       "      <td>Does this catalogue detail all the previous Ho...</td>\n",
       "      <td>Worth Buying For The Pictures Alone (As Ever) ...</td>\n",
       "      <td>{\"seller\"=&gt;[{\"Seller_name_1\"=&gt;\"Amazon.co.uk\", ...</td>\n",
       "    </tr>\n",
       "  </tbody>\n",
       "</table>\n",
       "</div>"
      ],
      "text/plain": [
       "                            uniq_id           product_name manufacturer  \\\n",
       "0  eac7efa5dbd3d667f26eb3d3ab504464  Hornby 2014 Catalogue       Hornby   \n",
       "\n",
       "   price number_available_in_stock number_of_reviews  \\\n",
       "0  £3.42                     5 new                15   \n",
       "\n",
       "   number_of_answered_questions average_review_rating  \\\n",
       "0                           1.0    4.9 out of 5 stars   \n",
       "\n",
       "                    amazon_category_and_sub_category  \\\n",
       "0  Hobbies > Model Trains & Railway Sets > Rail V...   \n",
       "\n",
       "          customers_who_bought_this_item_also_bought  \\\n",
       "0  http://www.amazon.co.uk/Hornby-R8150-Catalogue...   \n",
       "\n",
       "                                         description  \\\n",
       "0  Product Description Hornby 2014 Catalogue Box ...   \n",
       "\n",
       "                                 product_information  \\\n",
       "0  Technical Details Item Weight640 g Product Dim...   \n",
       "\n",
       "                                 product_description  \\\n",
       "0  Product Description Hornby 2014 Catalogue Box ...   \n",
       "\n",
       "         items_customers_buy_after_viewing_this_item  \\\n",
       "0  http://www.amazon.co.uk/Hornby-R8150-Catalogue...   \n",
       "\n",
       "                      customer_questions_and_answers  \\\n",
       "0  Does this catalogue detail all the previous Ho...   \n",
       "\n",
       "                                    customer_reviews  \\\n",
       "0  Worth Buying For The Pictures Alone (As Ever) ...   \n",
       "\n",
       "                                             sellers  \n",
       "0  {\"seller\"=>[{\"Seller_name_1\"=>\"Amazon.co.uk\", ...  "
      ]
     },
     "execution_count": 91,
     "metadata": {},
     "output_type": "execute_result"
    }
   ],
   "source": [
    "# Use DataWrangler to understand data quality issues.\n",
    "df.head(1)"
   ]
  },
  {
   "cell_type": "markdown",
   "id": "20a3e949",
   "metadata": {},
   "source": [
    "# Keep Useful Columns Only"
   ]
  },
  {
   "cell_type": "markdown",
   "id": "0144f272",
   "metadata": {},
   "source": [
    "## All Columns in DataFrame"
   ]
  },
  {
   "cell_type": "code",
   "execution_count": 92,
   "id": "6c15ec78",
   "metadata": {},
   "outputs": [
    {
     "name": "stdout",
     "output_type": "stream",
     "text": [
      "<class 'pandas.core.frame.DataFrame'>\n",
      "RangeIndex: 10000 entries, 0 to 9999\n",
      "Data columns (total 17 columns):\n",
      " #   Column                                       Non-Null Count  Dtype  \n",
      "---  ------                                       --------------  -----  \n",
      " 0   uniq_id                                      10000 non-null  object \n",
      " 1   product_name                                 10000 non-null  object \n",
      " 2   manufacturer                                 9993 non-null   object \n",
      " 3   price                                        8565 non-null   object \n",
      " 4   number_available_in_stock                    7500 non-null   object \n",
      " 5   number_of_reviews                            9982 non-null   object \n",
      " 6   number_of_answered_questions                 9235 non-null   float64\n",
      " 7   average_review_rating                        9982 non-null   object \n",
      " 8   amazon_category_and_sub_category             9310 non-null   object \n",
      " 9   customers_who_bought_this_item_also_bought   8938 non-null   object \n",
      " 10  description                                  9349 non-null   object \n",
      " 11  product_information                          9942 non-null   object \n",
      " 12  product_description                          9349 non-null   object \n",
      " 13  items_customers_buy_after_viewing_this_item  6935 non-null   object \n",
      " 14  customer_questions_and_answers               914 non-null    object \n",
      " 15  customer_reviews                             9979 non-null   object \n",
      " 16  sellers                                      6918 non-null   object \n",
      "dtypes: float64(1), object(16)\n",
      "memory usage: 1.3+ MB\n"
     ]
    }
   ],
   "source": [
    "df.info()"
   ]
  },
  {
   "cell_type": "markdown",
   "id": "4a084a7d",
   "metadata": {},
   "source": [
    "## All Columns in DataFrame2"
   ]
  },
  {
   "cell_type": "code",
   "execution_count": 93,
   "id": "03aae666",
   "metadata": {},
   "outputs": [],
   "source": [
    "df2=df[[\n",
    "    'uniq_id',\n",
    "    'product_name',\n",
    "    'price',\n",
    "    'number_available_in_stock',\n",
    "    'average_review_rating',\n",
    "    'amazon_category_and_sub_category',\n",
    "    'customer_reviews']]"
   ]
  },
  {
   "cell_type": "code",
   "execution_count": 94,
   "id": "3b3a1ecf",
   "metadata": {},
   "outputs": [
    {
     "name": "stdout",
     "output_type": "stream",
     "text": [
      "<class 'pandas.core.frame.DataFrame'>\n",
      "RangeIndex: 10000 entries, 0 to 9999\n",
      "Data columns (total 7 columns):\n",
      " #   Column                            Non-Null Count  Dtype \n",
      "---  ------                            --------------  ----- \n",
      " 0   uniq_id                           10000 non-null  object\n",
      " 1   product_name                      10000 non-null  object\n",
      " 2   price                             8565 non-null   object\n",
      " 3   number_available_in_stock         7500 non-null   object\n",
      " 4   average_review_rating             9982 non-null   object\n",
      " 5   amazon_category_and_sub_category  9310 non-null   object\n",
      " 6   customer_reviews                  9979 non-null   object\n",
      "dtypes: object(7)\n",
      "memory usage: 547.0+ KB\n"
     ]
    }
   ],
   "source": [
    "df2.info()"
   ]
  },
  {
   "cell_type": "code",
   "execution_count": 95,
   "id": "f351e5ae",
   "metadata": {},
   "outputs": [
    {
     "data": {
      "application/vnd.microsoft.datawrangler.viewer.v0+json": {
       "columns": [
        {
         "name": "index",
         "rawType": "int64",
         "type": "integer"
        },
        {
         "name": "uniq_id",
         "rawType": "object",
         "type": "string"
        },
        {
         "name": "product_name",
         "rawType": "object",
         "type": "string"
        },
        {
         "name": "price",
         "rawType": "object",
         "type": "string"
        },
        {
         "name": "number_available_in_stock",
         "rawType": "object",
         "type": "string"
        },
        {
         "name": "average_review_rating",
         "rawType": "object",
         "type": "string"
        },
        {
         "name": "amazon_category_and_sub_category",
         "rawType": "object",
         "type": "string"
        },
        {
         "name": "customer_reviews",
         "rawType": "object",
         "type": "string"
        }
       ],
       "ref": "a266711e-7622-46de-8a36-625e7b12f0d0",
       "rows": [
        [
         "0",
         "eac7efa5dbd3d667f26eb3d3ab504464",
         "Hornby 2014 Catalogue",
         "£3.42",
         "5 new",
         "4.9 out of 5 stars",
         "Hobbies > Model Trains & Railway Sets > Rail Vehicles > Trains",
         "Worth Buying For The Pictures Alone (As Ever) // 4.0 // 6 April 2014 // By\n    \n    Copnovelist\n  \n on 6 April 2014 // Part of the magic for me growing up as a boy was to buy (or be given) the new Hornby catalogue every year, even if it included 90% of the same products as the previous year.  I've still got my old ones dating back to the 70s and 80s somewhere.  These days the catalogue is especially informative in that it tells you the vintage of the rolling stock which is useful if you are dedicating your railway to one particular era and train company. | Amazing detail fabulous photography. // 5.0 // 11 April 2015 // By\n    \n    richard\n  \n on 11 April 2015 // Amazing detail, every credit to the photographer in this book, a worthy reference manual, as well as a sales brochure. even if you only have a passing interest in the hobby you will be transported to another time when we were all younger and in awe of the big trains. | 'Great Purchase' // 5.0 // 23 April 2014 // By\n    \n    Pinkhandbag\n  \n on 23 April 2014 // This was purchased on behalf of my Dad. He is always asking me to look up 00 gauge engines online, so this has been a good buy as he can look at it anytime. Would definitely buy the next one 2015!It arrived quickly and in perfect condition :-) | Great Catalogue // 5.0 // 11 Jun. 2014 // By\n    \n    Gary John Mapson\n  \n on 11 Jun. 2014 // Everything I really needed to see what was on offer from Hornby in the way of trains.  Would not have minded it included an RRP as well though | I collect them all as the glossy pictures are great and it is nice that you can still get ... // 5.0 // 7 Dec. 2014 // By\n    \n    David Baker\n  \n on 7 Dec. 2014 // I collect them all as the glossy pictures are great and it is nice that you can still get catalogs to collect. | Great catalogue // 5.0 // 20 Mar. 2015 // By\n    \n    John A. Day\n  \n on 20 Mar. 2015 // What a great book.  Extremely useful insight to all future christmas presents. | Useful // 5.0 // 7 Oct. 2014 // By\n    \n    T. Davies\n  \n on 7 Oct. 2014 // Useful info for someonelike me starting back into the hobby after many years | hornbys latest catalogue. // 5.0 // 1 Dec. 2014 // By\n    \n    John Butlin\n  \n on 1 Dec. 2014 // A well produced very good quality catalogue.Super quality pictures."
        ]
       ],
       "shape": {
        "columns": 7,
        "rows": 1
       }
      },
      "text/html": [
       "<div>\n",
       "<style scoped>\n",
       "    .dataframe tbody tr th:only-of-type {\n",
       "        vertical-align: middle;\n",
       "    }\n",
       "\n",
       "    .dataframe tbody tr th {\n",
       "        vertical-align: top;\n",
       "    }\n",
       "\n",
       "    .dataframe thead th {\n",
       "        text-align: right;\n",
       "    }\n",
       "</style>\n",
       "<table border=\"1\" class=\"dataframe\">\n",
       "  <thead>\n",
       "    <tr style=\"text-align: right;\">\n",
       "      <th></th>\n",
       "      <th>uniq_id</th>\n",
       "      <th>product_name</th>\n",
       "      <th>price</th>\n",
       "      <th>number_available_in_stock</th>\n",
       "      <th>average_review_rating</th>\n",
       "      <th>amazon_category_and_sub_category</th>\n",
       "      <th>customer_reviews</th>\n",
       "    </tr>\n",
       "  </thead>\n",
       "  <tbody>\n",
       "    <tr>\n",
       "      <th>0</th>\n",
       "      <td>eac7efa5dbd3d667f26eb3d3ab504464</td>\n",
       "      <td>Hornby 2014 Catalogue</td>\n",
       "      <td>£3.42</td>\n",
       "      <td>5 new</td>\n",
       "      <td>4.9 out of 5 stars</td>\n",
       "      <td>Hobbies &gt; Model Trains &amp; Railway Sets &gt; Rail V...</td>\n",
       "      <td>Worth Buying For The Pictures Alone (As Ever) ...</td>\n",
       "    </tr>\n",
       "  </tbody>\n",
       "</table>\n",
       "</div>"
      ],
      "text/plain": [
       "                            uniq_id           product_name  price  \\\n",
       "0  eac7efa5dbd3d667f26eb3d3ab504464  Hornby 2014 Catalogue  £3.42   \n",
       "\n",
       "  number_available_in_stock average_review_rating  \\\n",
       "0                     5 new    4.9 out of 5 stars   \n",
       "\n",
       "                    amazon_category_and_sub_category  \\\n",
       "0  Hobbies > Model Trains & Railway Sets > Rail V...   \n",
       "\n",
       "                                    customer_reviews  \n",
       "0  Worth Buying For The Pictures Alone (As Ever) ...  "
      ]
     },
     "execution_count": 95,
     "metadata": {},
     "output_type": "execute_result"
    }
   ],
   "source": [
    "df2.head(1)"
   ]
  },
  {
   "cell_type": "markdown",
   "id": "125358d9",
   "metadata": {},
   "source": [
    "# Check for Duplicates"
   ]
  },
  {
   "cell_type": "code",
   "execution_count": 96,
   "id": "31942bed",
   "metadata": {},
   "outputs": [
    {
     "name": "stdout",
     "output_type": "stream",
     "text": [
      "No duplicates found based on the same combination of 'uniq_id' and 'product_name'.\n"
     ]
    }
   ],
   "source": [
    "duplicates = df2.duplicated(subset=['uniq_id', 'product_name'], keep=False) # Check for duplicates based on the same combination of 'unique_id' and 'product_name'\n",
    "\n",
    "if duplicates.any():\n",
    "        print(\"Duplicates found based on the same combination of 'uniq_id' and 'product_name':\")\n",
    "        print(df2[duplicates])\n",
    "else:   \n",
    "        print(\"No duplicates found based on the same combination of 'uniq_id' and 'product_name'.\") "
   ]
  },
  {
   "cell_type": "markdown",
   "id": "943eb811",
   "metadata": {},
   "source": [
    "# Removing Symbols and Renaming Columns"
   ]
  }
 ],
 "metadata": {
  "kernelspec": {
   "display_name": "COMP647_env_py312",
   "language": "python",
   "name": "python3"
  },
  "language_info": {
   "codemirror_mode": {
    "name": "ipython",
    "version": 3
   },
   "file_extension": ".py",
   "mimetype": "text/x-python",
   "name": "python",
   "nbconvert_exporter": "python",
   "pygments_lexer": "ipython3",
   "version": "3.12.11"
  }
 },
 "nbformat": 4,
 "nbformat_minor": 5
}

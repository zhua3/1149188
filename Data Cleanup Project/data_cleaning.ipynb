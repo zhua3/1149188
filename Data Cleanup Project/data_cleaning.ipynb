{
 "cells": [
  {
   "cell_type": "code",
   "execution_count": 33,
   "id": "1eb5da77",
   "metadata": {},
   "outputs": [
    {
     "name": "stdout",
     "output_type": "stream",
     "text": [
      "/opt/anaconda3/envs/COMP647_env_py312/bin/python\n"
     ]
    }
   ],
   "source": [
    "import sys\n",
    "print(sys.executable)\n"
   ]
  },
  {
   "cell_type": "markdown",
   "id": "26c9a59d",
   "metadata": {},
   "source": [
    "- Student Name: Xiuwen (Alice) Zhu\n",
    "- Student ID: 1149188\n",
    "- Course Code: COMP647\n",
    "- Course Examiner: Professor Don Kulasiri\n",
    "- Due Date: 02/09/2025"
   ]
  },
  {
   "cell_type": "markdown",
   "id": "f0ea1433",
   "metadata": {},
   "source": [
    "# Project Plan\n",
    "\n",
    "- Columns to keep or drop\n",
    "    - Columns to keep are: \"uniq_id\", \"product_name\", \"price\", \"number_available_in_stock\", \"number_of_reviews\", \"average_review_rating\", \"amazon_category_and_sub_category\", \"product_information\", \"customer_reviews\" and \"seller\".\n",
    "    - I will drop \"manufacturer\" because it contains too much random and inaccurate information, such as numbers or repeated words from the product name, which makes it impossible to clean. \n",
    "    - I will drop \"number_of_answered_questions\" since the numbers don’t give any meaningful insight (the actual questions are unknown).\n",
    "    - I will drop \"customers_who_bought_this_item_also_bought\" and \"items_customers_buy_after_viewing_this_item\" because they only contain product web links, and most of them are likely invalid as the dataset is quite old.\n",
    "    - I will drop \"description\" and \"product_description\" because they are long paragraphs with similar content, and it is hard to extract clear, representative keywords from them.\n",
    "    - I will drop \"customer_questions_and_answers\" because only 914 out of 10,000 rows are filled, and the filled ones contain long paragraphs that are difficult to handle.\n",
    "\n",
    "- Clean data \n",
    "    - For \"price\", remove symbols before the number.\n",
    "    - For \"number_available_in_stock\", split into two columns: \"stock_quantity\" and \"stock_status\".\n",
    "    - From \"average_review_rating\", extract the numeric part into a new column called \"average_rating\".\n",
    "    - For \"amazon_category_and_sub_category\", split into two levels only, and label them \"main_category\" and \"sub_category\".\n",
    "    - From \"product_information\", extract product weight (e.g., values like weight…g or weight…kg) into a new column called \"product_weight\".\n",
    "    - For \"product_weight\":\n",
    "        - extract only numbers and g/kg,\n",
    "        - convert all g values into kg,\n",
    "        - remove the unit (e.g., kg).\n",
    "    - From \"product_information\", also extract age suitability (e.g., age…up) into a new column called \"age_suitability\", and keep only the numeric part.\n",
    "    - From \"customer_reviews\", extract the first date into a new column called \"purchase_date\" (assuming reviews were made in the same month as purchase).\n",
    "    - From \"seller\", extract only the seller name.\n",
    "    - Fix the data type for each feature.\n",
    "    - For all string columns, use .strip() to remove leading and trailing spaces.\n",
    "    - Drop the original features after transformation.\n",
    "\n",
    "\n",
    "- Transform data\n",
    "    - Filling missing value\n",
    "        - For categories, use \"Unknown main category\" and \"Unknown sub category\".\n",
    "        - For \"price\", fill with the average price of the same sub_category.\n",
    "        - For \"stock_quantity\", fill with the mode of the same sub_category.\n",
    "        - For \"stock_status\", fill with the mode of the same sub_category.\n",
    "        - For \"product_weight\", fill with the median of the same sub_category.\n",
    "        - For \"age_suitability\", fill with the mode of the same sub_category.\n",
    "        - For \"purchase_date\", fill with the mode of the same sub_category.\n",
    "        - For \"number_of_reviews\", fill with the mode of the same sub_category.\n",
    "        - For \"average_rating\", fill with the average rating of the same sub_category.\n",
    "        - For \"seller\", fill with \"Unknown seller\".\n",
    "\n",
    "\n",
    "- Visualise data\n",
    "    - Filter data to only:\n",
    "        - number_of_reviews>=51\n",
    "        - average rating>=4.5\n",
    "    - Produce a scatter plot where x=\"number_of_reviews\" y=\"average rating\" and hue=\"top category\""
   ]
  },
  {
   "cell_type": "markdown",
   "id": "91912f73",
   "metadata": {},
   "source": [
    "# Research Question\n",
    "\n",
    "As an entrepreneur who wants to start a business on amazon.com, if I assume that higher product ratings correspond to better sales performance, then:\n",
    "- Which main product category tends to receive a higher response rate and higher ratings?\n",
    "- Which sub category within that main category has a higher response rate and higher ratings?\n",
    "- Which seller has most products to sell?\n",
    "- Which main category product is receiving has highest ratings and doesn't cost that much for stocking?\n",
    "- What is the item quantity I should at least prepare?\n",
    "\n",
    "As a buyer, I want to know:\n",
    "- For the same product, which seller is selling at a cheaper price?\n",
    "- Which seller received more high ratings for their product?\n",
    "\n",
    "As a company, I want to know:\n",
    "- Which month of the year made most sale. \n",
    "- Compare sales across the years to discover which year made the highest gross profit and mainly from which category of products."
   ]
  },
  {
   "cell_type": "markdown",
   "id": "9bd2fd98",
   "metadata": {},
   "source": [
    "# Import the Necessary Libraries for Data Cleaning"
   ]
  },
  {
   "cell_type": "code",
   "execution_count": 34,
   "id": "f9db2683",
   "metadata": {},
   "outputs": [],
   "source": [
    "import numpy as np # Numerical operations and array handling.\n",
    "import pandas as pd # Data manipulation and analysis.\n",
    "import matplotlib.pyplot as plt # Plotting library for creating static, animated, and interactive visualizations.\n",
    "import seaborn as sns # Statistical data visualization library based on matplotlib.\n",
    "from scipy import stats # Module for scientific computing, including statistical functions.\n"
   ]
  },
  {
   "cell_type": "markdown",
   "id": "986b6305",
   "metadata": {},
   "source": [
    "# Read Data from CSV"
   ]
  },
  {
   "cell_type": "markdown",
   "id": "15866426",
   "metadata": {},
   "source": [
    "Data source: [Fashion products on Amazon.com](https://www.kaggle.com/datasets/hkhamnakhalid/fashion-products-on-amazoncom)"
   ]
  },
  {
   "cell_type": "code",
   "execution_count": 35,
   "id": "516917c6",
   "metadata": {},
   "outputs": [],
   "source": [
    "file_path = 'amazon_co-ecommerce_sample.csv' # Define the file path for the dataset.\n",
    "df = pd.read_csv (file_path) # Read the csv file into a DataFrame."
   ]
  },
  {
   "cell_type": "markdown",
   "id": "b11e7819",
   "metadata": {},
   "source": [
    "# Understand Data"
   ]
  },
  {
   "cell_type": "code",
   "execution_count": 36,
   "id": "0e24d052",
   "metadata": {},
   "outputs": [
    {
     "data": {
      "application/vnd.microsoft.datawrangler.viewer.v0+json": {
       "columns": [
        {
         "name": "index",
         "rawType": "int64",
         "type": "integer"
        },
        {
         "name": "uniq_id",
         "rawType": "object",
         "type": "string"
        },
        {
         "name": "product_name",
         "rawType": "object",
         "type": "string"
        },
        {
         "name": "manufacturer",
         "rawType": "object",
         "type": "string"
        },
        {
         "name": "price",
         "rawType": "object",
         "type": "unknown"
        },
        {
         "name": "number_available_in_stock",
         "rawType": "object",
         "type": "unknown"
        },
        {
         "name": "number_of_reviews",
         "rawType": "object",
         "type": "unknown"
        },
        {
         "name": "number_of_answered_questions",
         "rawType": "float64",
         "type": "float"
        },
        {
         "name": "average_review_rating",
         "rawType": "object",
         "type": "unknown"
        },
        {
         "name": "amazon_category_and_sub_category",
         "rawType": "object",
         "type": "unknown"
        },
        {
         "name": "customers_who_bought_this_item_also_bought",
         "rawType": "object",
         "type": "unknown"
        },
        {
         "name": "description",
         "rawType": "object",
         "type": "unknown"
        },
        {
         "name": "product_information",
         "rawType": "object",
         "type": "unknown"
        },
        {
         "name": "product_description",
         "rawType": "object",
         "type": "unknown"
        },
        {
         "name": "items_customers_buy_after_viewing_this_item",
         "rawType": "object",
         "type": "unknown"
        },
        {
         "name": "customer_questions_and_answers",
         "rawType": "object",
         "type": "unknown"
        },
        {
         "name": "customer_reviews",
         "rawType": "object",
         "type": "unknown"
        },
        {
         "name": "sellers",
         "rawType": "object",
         "type": "unknown"
        }
       ],
       "ref": "39f81030-0b5c-49c0-8d56-88b09e1d01bc",
       "rows": [
        [
         "71",
         "1e9876e6f7e98a6bb869341b4b56efd5",
         "Power Trains Auto Loader City",
         "POWER CITY TRAINS",
         "£76.99",
         "2 new",
         null,
         "1.0",
         null,
         null,
         "http://www.amazon.co.uk/Power-Trains-Auto-Loader-City/dp/B007T4KQ40 | http://www.amazon.co.uk/Trains-Remote-Control-Loader-Express/dp/B00DF0XIJC | http://www.amazon.co.uk/Power-Trains-41384-Starter-Set/dp/B007T4KP8C | http://www.amazon.co.uk/Power-Trains-Mining-Set/dp/B00ECKLDT6 | http://www.amazon.co.uk/Power-City-Trains-Starter-Set/dp/B00L4PMC2O | http://www.amazon.co.uk/Hornby-R1151-Caledonian",
         "Power City Trains Auto Loader City",
         "Technical Details Item Weight1.5 Kg Product Dimensions45.7 x 10.2 x 38.1 cm Batteries:2 AAA batteries required. Item model number48604 Assembly RequiredNo Batteries Required?Yes Batteries Included?No    Additional Information ASINB0090VT1DC Best Sellers Rank 581,421 in Toys & Games (See top 100) Shipping Weight1.5 Kg Delivery Destinations:Visit the Delivery Destinations Help page to see where this item can be delivered. Date First Available23 Aug. 2015    Feedback  Would you like to update product info or give feedback on images?",
         "Power City Trains Auto Loader City",
         "http://www.amazon.co.uk/Power-Trains-Auto-Loader-City/dp/B007T4KQ40 | http://www.amazon.co.uk/Trains-Remote-Control-Loader-Express/dp/B00DF0XIJC | http://www.amazon.co.uk/Power-Trains-Action-Accessories | http://www.amazon.co.uk/Power-Trains-Oval-Track-Pack/dp/B007T4KP7S",
         null,
         null,
         "{\"seller\"=>[{\"Seller_name_1\"=>\"Eurozone Marketplace\", \"Seller_price_1\"=>\"£76.99\"}, {\"Seller_name_2\"=>\"M&E Store-UK\", \"Seller_price_2\"=>\"£115.72\"}]}"
        ],
        [
         "411",
         "b585918cbbf998a288bbb259313f0296",
         "Polyhedral Dice",
         "Chessex",
         "£11.93",
         "4 new",
         "1",
         "1.0",
         "5.0 out of 5 stars",
         "Games > Dice & Dice Games",
         "http://www.amazon.co.uk/Polyhedral",
         "Signature dice are a compilation of the best selling colors of new dice released in the past few years. It includes a wide variety of colors and materials, but each is a unique and interesting addition to any dice collection. This set contains one d20, one d12, two d10 (00-90 and 0-9), one d8, one d6, and one d4",
         "Technical Details Item Weight54 g Product Dimensions3.8 x 3.8 x 7 cm Manufacturer recommended age:12 years and up Manufacturer reference27489    Additional Information ASINB00115YMHU Best Sellers Rank 851,874 in Toys & Games (See top 100) #2024 in Toys & Games > Games > Dice & Dice Games Shipping Weight68 g Delivery Destinations:Visit the Delivery Destinations Help page to see where this item can be delivered. Date First Available3 Aug. 2011    Feedback  Would you like to update product info or give feedback on images?",
         "Signature dice are a compilation of the best selling colors of new dice released in the past few years. It includes a wide variety of colors and materials, but each is a unique and interesting addition to any dice collection. This set contains one d20, one d12, two d10 (00-90 and 0-9), one d8, one d6, and one d4",
         null,
         null,
         "RPG-tastic! // 5.0 // 21 April 2013 // By\n    \n    Angela\n  \n on 21 April 2013 // Delivered to me extremely quickly, I bought these in preparation for a proposed RPG evening with some workmates. The colour appealed to me and they really are gorgeous looking dice, even more so in person. The marbled effect is very attractive. They do look better in person although the numbers on mine are gold rather than silver as pictured.",
         null
        ],
        [
         "441",
         "47e284cab850f3a73f412ed5fe85d969",
         "100 six sided dice, 14mm, random colours",
         "The Dice Place",
         "£10.79",
         null,
         "1",
         "1.0",
         "5.0 out of 5 stars",
         "Games > Dice & Dice Games",
         "http://www.amazon.co.uk/Chessex-Dice-Pound-Pound-O-Dice-Approximately | http://www.amazon.co.uk/SmartDealsPro | http://www.amazon.co.uk/sided-dice-14mm-random-colours/dp/B009AABY60",
         "A pack of 100 (minimum) dice useful for many board games and dice games, such as Yahtzee, snakes and ladders etc. Also useful as spares for other family games, use as counters, markers or tokens. These 14mm dice are great for helping kids at maths, and can be used for statistical purposes too. We'd recommend larger 16mm dice for younger kids. These 14mm dice are ideal for educational maths teaching use in the classroom - 12mm dice and 16mm dice are also available. Ideal for beetle drive.",
         "Technical Details Item Weight277 g Product Dimensions15 x 12.5 x 5.5 cm ColorBlack    Additional Information ASINB009C97FF8 Best Sellers Rank 231,507 in Toys & Games (See top 100) #734 in Toys & Games > Games > Dice & Dice Games #902 in Toys & Games > Games > Educational Games Shipping Weight277 g Delivery Destinations:Visit the Delivery Destinations Help page to see where this item can be delivered. Date First Available17 Sept. 2012    Feedback  Would you like to update product info or give feedback on images?",
         "A pack of 100 (minimum) dice useful for many board games and dice games, such as Yahtzee, snakes and ladders etc. Also useful as spares for other family games, use as counters, markers or tokens. These 14mm dice are great for helping kids at maths, and can be used for statistical purposes too. We'd recommend larger 16mm dice for younger kids. These 14mm dice are ideal for educational maths teaching use in the classroom - 12mm dice and 16mm dice are also available. Ideal for beetle drive.",
         "http://www.amazon.co.uk/sided-dice-16mm-random-colours/dp/B0097EXRPU",
         null,
         "Five Stars // 5.0 // 19 Feb. 2015 // By\n    \n    Mrs V M Pryor\n  \n on 19 Feb. 2015 // Good selection of colours",
         "{\"seller\"=>{\"Seller_name_1\"=>\"Legendgames\", \"Seller_price_1\"=>\"£10.79\"}}"
        ],
        [
         "471",
         "b5b9d9641ddd0c677c5ddaa719207f63",
         "Polyhedral Dice",
         "Chessex",
         "£9.74",
         "2 new",
         "1",
         "1.0",
         "5.0 out of 5 stars",
         "Games > Dice & Dice Games",
         "http://www.amazon.co.uk/WHATWEARS-Poly-Dices-Pearl-Black/dp/B01488FWM0",
         null,
         "Technical Details Item Weight54 g Manufacturer recommended age:12 years and up Manufacturer referenceCHX25328    Additional Information ASINB003WZMX6E Best Sellers Rank 1,131,515 in Toys & Games (See top 100) #2514 in Toys & Games > Games > Dice & Dice Games Shipping Weight454 g Delivery Destinations:Visit the Delivery Destinations Help page to see where this item can be delivered. Date First Available3 Aug. 2011    Feedback  Would you like to update product info or give feedback on images?",
         null,
         null,
         null,
         "Good design and good quality, would recommend. // 5.0 // 7 Feb. 2015 // By\n    \n    Chloe Philippe\n  \n on 7 Feb. 2015 // Bought these for my boyfriend, and he said that they're \"Very lucky, I've rolled many 20s with them! Perfect for the malicious GM ;)\"Good design and good quality, would recommend.",
         null
        ],
        [
         "585",
         "222285fb1f28be6b3d6d14d5c35e562f",
         "100 six sided dice, 14mm, random colours",
         "The Dice Place",
         "£10.79",
         null,
         "2",
         "1.0",
         "5.0 out of 5 stars",
         "Games > Dice & Dice Games",
         "http://www.amazon.co.uk/spot-12mm-diameter-asstd-00561/dp/B002TV8MHG | http://www.amazon.co.uk/sided-dice-14mm-random-colours/dp/B009C97FF8 | http://www.amazon.co.uk/Random-Polyhedral | http://www.amazon.co.uk/Dice-16mm-sided-mixed-colours/dp/B00ANIROD0 | http://www.amazon.co.uk/SmartDealsPro | http://www.amazon.co.uk/Chessex-Dice-Pound-Pound-O-Dice-Approximately",
         "A pack of 100 (minimum) dice useful for many board games and dice games, such as Yahtzee, snakes and ladders etc. Also useful as spares for other family games, use as counters, markers or tokens. These 14mm dice are great for helping kids at maths, and can be used for statistical purposes too. We'd recommend larger 16mm dice for younger kids. These 14mm dice are ideal for use in the classroom - 12mm dice and 16mm dice are also available.",
         "Technical Details Item Weight277 g Product Dimensions15 x 12.5 x 5.5 cm ColorBlack    Additional Information ASINB009AABY60 Best Sellers Rank 292,765 in Toys & Games (See top 100) #882 in Toys & Games > Games > Dice & Dice Games #1080 in Toys & Games > Games > Educational Games Shipping Weight340 g Delivery Destinations:Visit the Delivery Destinations Help page to see where this item can be delivered. Date First Available13 Sept. 2012    Feedback  Would you like to update product info or give feedback on images?",
         "A pack of 100 (minimum) dice useful for many board games and dice games, such as Yahtzee, snakes and ladders etc. Also useful as spares for other family games, use as counters, markers or tokens. These 14mm dice are great for helping kids at maths, and can be used for statistical purposes too. We'd recommend larger 16mm dice for younger kids. These 14mm dice are ideal for use in the classroom - 12mm dice and 16mm dice are also available.",
         "http://www.amazon.co.uk/spot-12mm-diameter-asstd-00561/dp/B002TV8MHG | http://www.amazon.co.uk/sided-dice-16mm-random-colours/dp/B0097EXRPU | http://www.amazon.co.uk/sided-dice-14mm-random-colours/dp/B009C97FF8",
         null,
         "I now have want more // 5.0 // 7 Mar. 2013 // By\n    \n    Amazon Customer\n  \n on 7 Mar. 2013 // My kids love board games but they're always losing the dice, which means we either play something else or find a game that doesn't use dice.I thought buying this many would mean the kids would leave them about and lose most of them, however, the opposite happened and they treasure them and even keep them safe in jar.Just the right size and a colour for any event, I would recommend these to anyone. | Five Stars // 5.0 // 15 Jan. 2015 // By\n    \n    MR DM SIBLEY\n  \n on 15 Jan. 2015 // Quick delivery and as described",
         "{\"seller\"=>{\"Seller_name_1\"=>\"Legendgames\", \"Seller_price_1\"=>\"£10.79\"}}"
        ],
        [
         "604",
         "a86f57bbf3abbddd964f1ca438a07c94",
         "Playmobil 5494 Christmas Advent Calendar Santas Workshop",
         "Playmobil",
         "£15.39",
         "19 new",
         "199",
         "6.0",
         "4.6 out of 5 stars",
         null,
         "http://www.amazon.co.uk/Playmobil-5496-Advent-Calendar-Christmas/dp/B00IF1W4KK | http://www.amazon.co.uk/Playmobil-5497-Christmas-Calendar-Animals/dp/B00IF1W7NE | http://www.amazon.co.uk/Playmobil-5492-Christmas-Calendar-Fairyland/dp/B00B3QT7JU | http://www.amazon.co.uk/Playmobil-5493-Christmas-Calendar-Treasure/dp/B00B3QT8FS | http://www.amazon.co.uk/Playmobil-5976-Father-Christmas-Santas/dp/B00CFOD9OS | http://www.amazon.co.uk/LEGO-City-60099-Advent-Calendar/dp/B00SDTYX2Q",
         "Style Name:STYLE A Product Description The Playmobil Santa's workshop advent calendar has 24 boxes to count down to Christmas. As each box is opened it creates a scene, with father Christmas and his elves helping load the sleigh with toys, pulled by his trusty reindeer. The set comes complete with a matching pairs card game. Box Contains 1 x Father christmas1 x Fairy2 x Elves1 x Memory card game",
         "Technical Details Brand Playmobil Model Number5494 Item Weight9 g Product Dimensions40 x 7.5 x 30 cm    Additional Information ASINB00B3QT8F8 Best Sellers Rank 3,959 in Toys & Games (See top 100) #2 in Toys & Games > Advent Calendars Shipping Weight1 Kg Delivery Destinations:Visit the Delivery Destinations Help page to see where this item can be delivered. Date First Available13 Sept. 2013    Feedback  Would you like to update product info or give feedback on images?",
         "Style Name:STYLE A Product Description The Playmobil Santa's workshop advent calendar has 24 boxes to count down to Christmas. As each box is opened it creates a scene, with father Christmas and his elves helping load the sleigh with toys, pulled by his trusty reindeer. The set comes complete with a matching pairs card game. Box Contains 1 x Father christmas1 x Fairy2 x Elves1 x Memory card game",
         "http://www.amazon.co.uk/Playmobil-5976-Father-Christmas-Santas/dp/B00CFOD9OS | http://www.amazon.co.uk/Play-Doh-B2199-Advent-Calendar/dp/B00R9DBK9Q | http://www.amazon.co.uk/Playmobil-6697-Super-Kingsland-Castle/dp/B00VLVQ3XA | http://www.amazon.co.uk/Playmobil-5495-Christmas-Calendar-Operation/dp/B00IF1W45U",
         "Would this be ok for a 2 year old? // HalloI think no because this is only  4-10 years. The parts are too small Regression…\n    \n      see more\n    \n  \n  \n    HalloI think no because this is only  4-10 years. The parts are too small RegressionT.Bias\n    \n      see less | Can you re use it year after year? // You could if you were REALLY careful when opening each of the doors.  You would also need to make sure none of the items when missing before re packing ready for next year.  Realistically they are a single year use. Ours stay in the Christmas decoration box and get set up by the smalls each year and still very much enjoyed. | I can see the set only contains the four figures plus accessories, does in include the reindeer and sleigh? Thank you // Yes it does | Does anyone know what's the meaning of style A? // Hello Carey, no meaning, there is not differents styles, it must be a description generic or that came from other product. Best regards from Playmyplanet | What age is this product suitable for? // My daughter was 14 when she asked for this and she loved it | what size is the display // 46x24cm",
         "SET : PLAYMOBIL 5494 'CHRISTMAS ADVENT 2015' // 5.0 // 5 Dec. 2015 // By\n    \n    ДД²\n  \n on 5 Dec. 2015 // ★ PLAYMOBIL★ 5494★ 2015★ AGE GUIDE : 4-10 (Not for children under 3 years)★ 101 pc★ Assembly instruction booklet includedI always pop a chunky advent calendar in my basket to have from Amazon, and when the price decreases (which is usually the case); I place the order, which happened in October this year.The colourful, quality box measures around 40 cm x 30 cm x 8 cm overall and comes in a strong outer carton for safe transit.◄ SPOILER ALERT! ►Like a box of crackers, the box has a cardboard overlay detailing the contents, day-by-day, which I have gone on to show in my images to give an idea of the content this year.  I discard this layer when giving as a gift so the recipient doesn’t  know what to expect behind each window.  If it is opened carefully, there is no evidence of this.Underneath, on one side of the box is a tree-framed, snowy scene with a path meandering off into the distance with an inbuilt hanger to put on a wall, if required.  If just standing the calendar on a flat surface, which is quite successful due to its depth, the hanger just looks like the moon in the wintry night sky and doesn’t spoil the scene.On the other side are the advent calendar windows, showing Santa & his elves, busy with preparations and loading the sleigh, watched over by an angel.  The windows vary in sizes and the numbers are easy to spot, each surrounded by a bright yellow star.  They are relatively easy to open, by depressing and pushing back on the tab, and then tear the perforations.  The rewards occasionally need basic assembling, adding to the fun.The contents are designed to go on the colourful backdrop – the base of which measures around 46 cm maximum x 24.Read more › | She was absolutely delighted when I gave it to her on 30th November ... // 5.0 // 23 Jan. 2015 // By\n    \n    Diane R\n  \n on 23 Jan. 2015 // My 7 year old granddaughter asked for this having seen it in a shop window and found from some friends at school that they had had one last year. She was absolutely delighted when I gave it to her on 30th November and opened the window without fail every day. It was a lovely idea and she's already said she wants another for next Christmas. | Better than chocolates // 5.0 // 16 Dec. 2013 // By\n    \n    marie-claude\n  \n on 16 Dec. 2013 // My girls love it. Much better than chocolates.They can't wait to see what they will get tomorrow and they play a lot with it | Fantastic. // 5.0 // 24 Nov. 2014 // By\n    \n    Mr. Adrian M. Pomeroy\n  \n on 24 Nov. 2014 // Again allowing me to be the best uncle.Remind nephews and nieces just who is the most awesome for a whole month leading up to Christmas.more seriously it does make an event of every day. | Great purchase // 5.0 // 18 Dec. 2013 // By\n    \n    C Bates\n  \n on 18 Dec. 2013 // fantastic alternative for an advent calendar and I  would definitely recommend to others and buy again. A great Christmas idea | My three and a half year old Son really enjoyed his advent calendar and we love buying him Playmobil ... // 3.0 // 7 Jan. 2015 // By\n    \n    Jules\n  \n on 7 Jan. 2015 // My three and a half year old Son really enjoyed his advent calendar and we love buying him Playmobil products.  Out of the 24 boxes in the calendar we felt we only got about 6 quality items and we felt the rest of it was like items from Kinder eggs.  There were only 4 actual Playmobile figures in the whole pack.  We did use the opening of the advent calendar doors as a bribe after tooth brushing which has really helped us.  We're going to try the Lego calendar next year. | Beautifully detailed, an annual purchase from now on // 5.0 // 29 Dec. 2015 // By\n    \n    Cookieland\n  \n on 29 Dec. 2015 // My sister made me an advent calendar back in 2004 out of matchboxes, papier mache and the Playmobil nativity sets, after all this time it is getting rather battered and loved but my two young children adore it. I was delighted to discover Playmobil made their own calendars a few years ago but at the time the price was out of my range and I didn't think it looked like you got much inside for the price. How wrong was I! On the spur of the moment I ordered this the last week of November, my husband was not impressed when he realized I had spent nearly £25 on an advent calendar/Seasonal toy. However when it arrived one look on the back of the box swayed him. Note: Don't let the recipients of the calendar see the back of the box for it shows you what you receive behind each door! Each door holds something for Santa's workshop, e.g a blue basket with six teeny tiny animal figures (When I say teeny, I mean teeny! About half a cm in size. My five year old took to carrying them around in his pocket he was so delighted with them), a wheelbarrow and teddy bear, carrots for the reindeer, a \"present\" with toy racing car. There are four little card boxes behind various doors which you need to fold up into presents. This advent calendar comes with four figures - An angel, two elves and Santa himself (Who also comes with his list and quill on 24th), all hidden behind a different door. Inside the box there is a beautiful cardboard backdrop, you have to pop out some parts and fold it to make it stand. It really is gorgeous and the children loved setting up the scene each day. The card game you get is just a little box with a simple game of snap (Or pairs) inside. I think my children would have preferred an extra toy for the grotto but it is a nice idea. I will definitely be buying these annually. The excitement on my bairns faces each morning was wonderful and something you would not be able to get from a chocolate calendar. Plus they have a beautiful toy to get out every Christmas. | We all loved it. Bit tricky keeping all the bits together ... // 5.0 // 31 Dec. 2014 // By\n    \n    MrsM\n  \n on 31 Dec. 2014 // First time I have bought one. We all loved it. Bit tricky keeping all the bits together especially with small kids, but I managed it by only really letting them play with it Xmas eve when it was complete (mean mum). The doors are quite firm so smaller kids need a bit of effort to open them. I had to open the door for my 3 year old to break the perforations then close it for her to open in the morning. As I have all the bits, it may be back again next year and I can mix up all the pieces for them. I will be looking to see what other ones there are too.",
         "{\"seller\"=>[{\"Seller_name_1\"=>\"Buy-For-Less-Online\", \"Seller_price_1\"=>\"£15.08\"}, {\"Seller_name_2\"=>\"Amazon.co.uk\", \"Seller_price_2\"=>\"£15.39\"}, {\"Seller_name_3\"=>\"uGado\", \"Seller_price_3\"=>\"£19.90\"}, {\"Seller_name_4\"=>\"Mar Menor\", \"Seller_price_4\"=>\"£15.95\"}, {\"Seller_name_5\"=>\"Gameseek\", \"Seller_price_5\"=>\"£20.44\"}, {\"Seller_name_6\"=>\"i want one of those\", \"Seller_price_6\"=>\"£21.99\"}, {\"Seller_name_7\"=>\"mk-tronic\", \"Seller_price_7\"=>\"£15.50\"}, {\"Seller_name_8\"=>\"Bene´s Spielshop GmbH (alle Preise incl. Mehrwertsteuer, kein gemeinsamer Versand mit anderen Anbietern, daher Versandkosten beachten!)\", \"Seller_price_8\"=>\"£22.99\"}, {\"Seller_name_9\"=>\"Toy Central Ltd\", \"Seller_price_9\"=>\"£21.50\"}, {\"Seller_name_10\"=>\"Accessories In Store\", \"Seller_price_10\"=>\"£26.95\"}]}"
        ],
        [
         "632",
         "4d8bead8e9ce03e48f5c682f75b371b0",
         "Schleich Farm Christmas Advent Calendar",
         "Schleich",
         "£31.00",
         "7 new",
         "8",
         "4.0",
         "4.6 out of 5 stars",
         null,
         "http://www.amazon.co.uk/Schleich-Farm-Christmas-Advent-Calendar/dp/B00VPY5JBA | http://www.amazon.co.uk/Schleich-Horse-Christmas-Advent-Calendar/dp/B00IUK1I3A | http://www.amazon.co.uk/Schleich-42028-Barn/dp/B0012BQ622 | http://www.amazon.co.uk/Schleich-Horse-Christmas-Advent-Calendar/dp/B00VPY5NQG | http://www.amazon.co.uk/Schleich-42110-Horse-Stable/dp/B00HL2DHNM | http://www.amazon.co.uk/Schleich-13747-Pot-Bellied-Pig/dp/B00GVTE1BI",
         "Product Description Enjoy a farm Christmas this year with Schleich's new advent calendar, containing a total of 27 invididual items with 3 of them being exclusive to this advent calendar. Box Contains 4 x Fence Panels; 1 x Bucket; 1 x Feed; 1 x Wheelbarrow; 1 x Pitchfork; 1 x Broom; 1 x Hay Bale; 1 x German Shepherd; 1 x German Shepherd Puppy; 1 x Piglet; 3 x Food; 1 x Simmental Cow; 1 x Simmental Calf; 1 x Crate; 1 x Lamb; 1 x Goat; 1 x Rabbit; 4 x Pen Fence Panels; 1 x Sticket Set",
         "Technical Details Item Weight100 g Product Dimensions28.2 x 37.5 x 8.2 cm Manufacturer recommended age:3 - 3 years Item model number97022 Main Language(s)German manual, German Number of Puzzle Pieces1 Assembly RequiredNo Batteries Required?No Batteries Included?No    Additional Information ASINB00IUK1I80 Best Sellers Rank 141,646 in Toys & Games (See top 100) #160 in Toys & Games > Advent Calendars Shipping Weight699 g Delivery Destinations:Visit the Delivery Destinations Help page to see where this item can be delivered. Date First Available11 July 2014    Feedback  Would you like to update product info or give feedback on images?",
         "Product Description Enjoy a farm Christmas this year with Schleich's new advent calendar, containing a total of 27 invididual items with 3 of them being exclusive to this advent calendar. Box Contains 4 x Fence Panels; 1 x Bucket; 1 x Feed; 1 x Wheelbarrow; 1 x Pitchfork; 1 x Broom; 1 x Hay Bale; 1 x German Shepherd; 1 x German Shepherd Puppy; 1 x Piglet; 3 x Food; 1 x Simmental Cow; 1 x Simmental Calf; 1 x Crate; 1 x Lamb; 1 x Goat; 1 x Rabbit; 4 x Pen Fence Panels; 1 x Sticket Set",
         "http://www.amazon.co.uk/Schleich-Farm-Christmas-Advent-Calendar/dp/B00VPY5JBA | http://www.amazon.co.uk/Schleich-Horse-Christmas-Advent-Calendar/dp/B00VPY5NQG | http://www.amazon.co.uk/Playmobil-5493-Christmas-Calendar-Treasure/dp/B00B3QT8FS | http://www.amazon.co.uk/Playmobil-5494-Christmas-Calendar-Workshop/dp/B00B3QT8F8",
         null,
         "Good for extras, not well balanced with animals, stickers very lame! // 2.0 // 21 Dec. 2014 // By\n    \n    arethousa\n  \n on 21 Dec. 2014 // This looked really good in principle, but after four days of fence panels, and then another couple of days of rabbit hutch panels, topped off by opening yesterdays door to discover only some really lame stickers, my son is quiet dissapointed, and so are we. The animals are very thin on the ground in this box set, its mostly extras for animal play, I was hopeing it would be more balanced, and was quite shocked at the stickers as that wasn't mentioned and really isnt very fair! Buy if you can find it cheaper on offer, but £25 is too much. | Good quality animals as you would expect with schleich // 5.0 // 8 Dec. 2014 // By\n    \n    Lesley mcgoldrick\n  \n on 8 Dec. 2014 // Good quality animals as you would expect with schleich, after xmas was can add all the items to our collection.  Really pleased with purchase.  The only thing I would say is be careful with the door they open v easily causing me to open a few doors early but hardly a deal breaker. | How now brown cow. // 5.0 // 10 July 2015 // By\n    \n    tehsweeney\n  \n on 10 July 2015 // Definitely worth the money to keep your kid busy, a bit annoying that several of the panels contain sections of fence as it takes a few days to build but it encourages patience. | Five Stars // 5.0 // 6 Jan. 2015 // By\n    \n    mk\n  \n on 6 Jan. 2015 // Great value - kids loved opening the windows and played with it throughout December. Great value for quality products",
         "{\"seller\"=>[{\"Seller_name_1\"=>\"Kiwistar\", \"Seller_price_1\"=>\"£31.00\"}, {\"Seller_name_2\"=>\"BM-Global\", \"Seller_price_2\"=>\"£28.78\"}, {\"Seller_name_3\"=>\"Tim & Tina's Toy Store - delivery time 3-7 business days!\", \"Seller_price_3\"=>\"£38.70\"}, {\"Seller_name_4\"=>\"DaJu Online (Alle Preise inkl. MwSt, bitte Versandkosten beachten)\", \"Seller_price_4\"=>\"£49.93\"}, {\"Seller_name_5\"=>\"Eurozone Marketplace\", \"Seller_price_5\"=>\"£53.36\"}, {\"Seller_name_6\"=>\"DealsCentre\", \"Seller_price_6\"=>\"£117.90\"}, {\"Seller_name_7\"=>\"DALY store\", \"Seller_price_7\"=>\"£126.43\"}]}"
        ],
        [
         "670",
         "a39c1fb94ba6029ba492ee9a5dc1c97f",
         "Barbie Advent Calendar",
         "Barbie",
         "£13.21",
         "14 new",
         "4",
         "1.0",
         "4.5 out of 5 stars",
         "Characters & Brands > Barbie",
         "http://www.amazon.co.uk/Playmobil-5493-Christmas-Calendar-Treasure/dp/B00B3QT8FS | http://www.amazon.co.uk/Play-Doh-B2199-Advent-Calendar/dp/B00R9DBK9Q | http://www.amazon.co.uk/Barbie-CHR76-2015-Holiday-Doll/dp/B00T03UF44 | http://www.amazon.co.uk/Barbie-Collectors | http://www.amazon.co.uk/Mattel-Barbie-Accessories | http://www.amazon.co.uk/Barbie-Style-House-Toilet-Set/dp/B00M5ATYDC",
         "Product Description Celebrate the holidays in signature style with this Barbie advent calendar! Depicting a festive background with a modern look and sparkling print, girls will love opening a compartment each day -- for 24 days -- to discover a fab fashion, cool accessories and even a gift for the girl! With fashion items like shoes, purses and jewellery, as well as go-to pieces like a wrapped present, camera and hair dryer, girls will love playing out Barbie doll's busy holiday schedule when anything is possible. And in the 24th compartment, they'll find an accessory they can wear to look festive too! The calendar includes 24 items. Doll sold separately. Colours and decorations may vary. Box Contains 1 x The calendar includes 24 items.",
         "Technical Details Item Weight422 g Product Dimensions5.1 x 45.7 x 32.4 cm Manufacturer recommended age:3 years and up Item model numberCLR43 Main Language(s)German manual, English manual, French manual, Dutch manual, Italian manual, German, English, French, Dutch, Italian Number of Puzzle Pieces1 Assembly RequiredNo Batteries Required?No Batteries Included?No    Additional Information ASINB00TXI26S4 Best Sellers Rank 66,487 in Toys & Games (See top 100) #45 in Toys & Games > Advent Calendars #1050 in Toys & Games > Dolls & Accessories > Fashion Dolls & Accessories Shipping Weight422 g Delivery Destinations:Visit the Delivery Destinations Help page to see where this item can be delivered. Date First Available30 Sept. 2015    Feedback  Would you like to update product info or give feedback on images?",
         "Product Description Celebrate the holidays in signature style with this Barbie advent calendar! Depicting a festive background with a modern look and sparkling print, girls will love opening a compartment each day -- for 24 days -- to discover a fab fashion, cool accessories and even a gift for the girl! With fashion items like shoes, purses and jewellery, as well as go-to pieces like a wrapped present, camera and hair dryer, girls will love playing out Barbie doll's busy holiday schedule when anything is possible. And in the 24th compartment, they'll find an accessory they can wear to look festive too! The calendar includes 24 items. Doll sold separately. Colours and decorations may vary. Box Contains 1 x The calendar includes 24 items.",
         null,
         null,
         "My daughter loves it. Just to expensive changing from ... // 4.0 // 9 Dec. 2015 // By\n    \n    Sandsmcp\n  \n on 9 Dec. 2015 // My daughter loves it . Just to expensive changing from sterling into euros . But I would buy it again . | Four Stars // 4.0 // 31 Dec. 2015 // By\n    \n    sara evans\n  \n on 31 Dec. 2015 // Nice to have something different than chocolate in calendar | Five Stars // 5.0 // 6 Dec. 2015 // By\n    \n    mrs claire pudney\n  \n on 6 Dec. 2015 // My daughter was thrilled to receive this. | Always a hit. Arrived speedily. // 5.0 // 3 Dec. 2015 // By\n    \n    G. Wallington\n  \n on 3 Dec. 2015 // Always a hit.  Arrived speedily.",
         "{\"seller\"=>[{\"Seller_name_1\"=>\"Toystar UK\", \"Seller_price_1\"=>\"£13.21\"}, {\"Seller_name_2\"=>\"Wholesale UK\", \"Seller_price_2\"=>\"£13.25\"}, {\"Seller_name_3\"=>\"Amazon.co.uk\", \"Seller_price_3\"=>\"£14.91\"}, {\"Seller_name_4\"=>\"Buy-For-Less-Online\", \"Seller_price_4\"=>\"£15.85\"}, {\"Seller_name_5\"=>\"Ihr-Trendshop\", \"Seller_price_5\"=>\"£17.74\"}, {\"Seller_name_6\"=>\"Toys 2000\", \"Seller_price_6\"=>\"£22.90\"}, {\"Seller_name_7\"=>\"homeandmore\", \"Seller_price_7\"=>\"£19.74\"}, {\"Seller_name_8\"=>\"MANDROPS AG\", \"Seller_price_8\"=>\"£19.94\"}, {\"Seller_name_9\"=>\"ConquestCompany\", \"Seller_price_9\"=>\"£20.02\"}, {\"Seller_name_10\"=>\"Son Services gGmbH-AGB-Widerrufsbelehrung – Widerrufs-Formular\", \"Seller_price_10\"=>\"£10.83\"}]}"
        ],
        [
         "686",
         "4c3f802a49b832bc5e5ee283b81909a1",
         "Barbie Advent Calendar",
         "Barbie",
         "£19.67",
         "10 new",
         "26",
         "1.0",
         "4.3 out of 5 stars",
         "Characters & Brands > Disney > Toys",
         "http://www.amazon.co.uk/Barbie-Y7502-Advent-Calendar/dp/B00BR9Y6Q2 | http://www.amazon.co.uk/Flashlight | http://www.amazon.co.uk/Official-Mattel-Calendar-Christmas-Accessories | http://www.amazon.co.uk/Capri-sun-Apple-Blackcurrant | http://www.amazon.co.uk/Mattel-Barbie-Accessories | http://www.amazon.co.uk/Playmobil-5493-Christmas-Calendar-Treasure/dp/B00B3QT8FS",
         "Product Description Each of the 24 days brings an accessory for Barbie doll or the girl. The set includes a festive dress for Barbie doll decorated with hearts (and in Barbie signature pink, of course). The doll comes with shoes - four pairs, from boots to pumps; necklaces, cuffs and bangles and earrings; purses and clutches; a perfume bottle; and extras, like a cell phone, sunglasses and hair clips. Girls can use the accessories to dress up the included fashion or to mix and match with existing looks (sold separately). Two special treats for the girl include a pink \"gem\" bracelet adorned with a Barbie silo head and a ring. It's the ideal way to prepare for the holidays. Doll not included. Box Contains Set includes:A dress for Barbie doll decorated with heartsTwo special treats for the girl include a pink \"gem\" bracelet adorned with a Barbie silo head",
         "Technical Details Item Weight440 g Product Dimensions45.7 x 5.1 x 32.4 cm Manufacturer recommended age:36 months - 18 years Item model numberBLT25 Assembly RequiredNo Batteries Required?No Batteries Included?No    Additional Information ASINB00IVFCV6M Best Sellers Rank 79,635 in Toys & Games (See top 100) #57 in Toys & Games > Advent Calendars #748 in Toys & Games > Dolls & Accessories > Fashion Dolls & Accessories > Fashion Dolls Shipping Weight481 g Delivery Destinations:Visit the Delivery Destinations Help page to see where this item can be delivered. Date First Available3 Jun. 2014    Feedback  Would you like to update product info or give feedback on images?",
         "Product Description Each of the 24 days brings an accessory for Barbie doll or the girl. The set includes a festive dress for Barbie doll decorated with hearts (and in Barbie signature pink, of course). The doll comes with shoes - four pairs, from boots to pumps; necklaces, cuffs and bangles and earrings; purses and clutches; a perfume bottle; and extras, like a cell phone, sunglasses and hair clips. Girls can use the accessories to dress up the included fashion or to mix and match with existing looks (sold separately). Two special treats for the girl include a pink \"gem\" bracelet adorned with a Barbie silo head and a ring. It's the ideal way to prepare for the holidays. Doll not included. Box Contains Set includes:A dress for Barbie doll decorated with heartsTwo special treats for the girl include a pink \"gem\" bracelet adorned with a Barbie silo head",
         null,
         null,
         "Cheap advent calendar // 1.0 // 28 Oct. 2015 // By\n    \n    lully\n  \n on 28 Oct. 2015 // Thought this would make a lovely different calendar, however it looked cheap and tacky, the box was broken even before it arrived, also thought there would be a Barbie for the amount of money even at full price.Cheap cheap cheap don't waste your money and dissappoint your little girl like I did.It's now in the BIN !!!!!!!!It's also dated 2014 in the description, rubbish. | Looks great with really bright colours // 5.0 // 17 Nov. 2015 // By\n    \n    Amazon Customer\n  \n on 17 Nov. 2015 // Packaged very well. Was worried about possible damage in transit but not a mark on it. Looks great with really bright colours. Have no doubt my daughter will be thrilled with it | The product looked cheap and I expected better gifts behind each door // 3.0 // 8 Nov. 2015 // By\n    \n    Joanne braddock\n  \n on 8 Nov. 2015 // The product looked cheap and I expected better gifts behind each door. The gifts weren't great and could have been for any doll, expected more for my money | Great item. Much bigger than expected // 5.0 // 15 Oct. 2015 // By\n    \n    elizabeth pope\n  \n on 15 Oct. 2015 // Great item. Much bigger than expected. Fast deliveryMy daughter saw this and let out an excited scream!! Very very happy | Good idea. // 4.0 // 14 Dec. 2015 // By\n    \n    ricky\n  \n on 14 Dec. 2015 // The items are a bit cheap n tacky but regardless my step daughter is so excited to open it. Good idea. | Great calendar // 5.0 // 11 Jan. 2015 // By\n    \n    Amy\n  \n on 11 Jan. 2015 // My daughter loved it, was great for the run up to Xmas and she now has tons if barbie accessories! | Fab if you get it on sale // 3.0 // 9 Dec. 2015 // By\n    \n    M\n  \n on 9 Dec. 2015 // Glad I got this on sale as I wouldn't pay full price for it. My girls love it though. | Five Stars // 5.0 // 20 July 2015 // By\n    \n    Cody Pugh\n  \n on 20 July 2015 // Great price and arrived quickly, looking forward to little lady having it in december",
         "{\"seller\"=>[{\"Seller_name_1\"=>\"Toystar UK\", \"Seller_price_1\"=>\"£19.67\"}, {\"Seller_name_2\"=>\"AAA Toys\", \"Seller_price_2\"=>\"£19.69\"}, {\"Seller_name_3\"=>\"tradiero GmbH\", \"Seller_price_3\"=>\"£19.69\"}, {\"Seller_name_4\"=>\"toysmania\", \"Seller_price_4\"=>\"£14.99\"}, {\"Seller_name_5\"=>\"Son Services gGmbH-AGB-Widerrufsbelehrung – Widerrufs-Formular\", \"Seller_price_5\"=>\"£11.76\"}, {\"Seller_name_6\"=>\"Spielwaren Sulzer GmbH & Co KG\", \"Seller_price_6\"=>\"£15.75\"}, {\"Seller_name_7\"=>\"CAD68\", \"Seller_price_7\"=>\"£20.21\"}, {\"Seller_name_8\"=>\"luxshop\", \"Seller_price_8\"=>\"£23.64\"}, {\"Seller_name_9\"=>\"Mi lybro USA\", \"Seller_price_9\"=>\"£41.21\"}, {\"Seller_name_10\"=>\"DALY store\", \"Seller_price_10\"=>\"£56.42\"}]}"
        ],
        [
         "708",
         "8b731aa196a86a223fe00e787b478da2",
         "Schleich Horse Christmas Advent Calendar",
         "Schleich",
         "£24.99",
         "6 new",
         "16",
         "1.0",
         "4.0 out of 5 stars",
         null,
         "http://www.amazon.co.uk/Schleich-42160-Big-Horse-Show/dp/B00PZMDXJ8 | http://www.amazon.co.uk/Schleich-42271-Show-Jumping-Course/dp/B00QVYZBXU | http://www.amazon.co.uk/Schleich-Farm-Christmas-Advent-Calendar/dp/B00VPY5JBA | http://www.amazon.co.uk/Schleich-42104-Horse-Wash-Area/dp/B00HL2DG2Y | http://www.amazon.co.uk/Schleich-42190-Tournament | http://www.amazon.co.uk/Schleich-42056-Show-Jumping-Set/dp/B00B1D79DQ",
         "Product Description This enchanting Schleich Advent calendar will delight all Horse fans with very special gifts: Horses, all kinds of equestrian accessories and exclusives. Box Contains Sticker Pack; Winners Medallions; 2 Horses; Rider; Show jumping accessories and more!",
         "Technical Details Item Weight680 g Product Dimensions39.4 x 8.3 x 28.6 cm Manufacturer recommended age:3 years and up Item model number97051 Assembly RequiredNo Batteries Required?No Batteries Included?No    Additional Information ASINB00VPY5NQG Best Sellers Rank 88,160 in Toys & Games (See top 100) #68 in Toys & Games > Advent Calendars Shipping Weight721 g Delivery Destinations:Visit the Delivery Destinations Help page to see where this item can be delivered. Date First Available13 Aug. 2015    Feedback  Would you like to update product info or give feedback on images?",
         "Product Description This enchanting Schleich Advent calendar will delight all Horse fans with very special gifts: Horses, all kinds of equestrian accessories and exclusives. Box Contains Sticker Pack; Winners Medallions; 2 Horses; Rider; Show jumping accessories and more!",
         "http://www.amazon.co.uk/Schleich-42039-Pony-riding-set/dp/B0031EDQOO | http://www.amazon.co.uk/Schleich-42104-Horse-Wash-Area/dp/B00HL2DG2Y | http://www.amazon.co.uk/Schleich-42105-Feeding-set/dp/B00HL2DGQ0 | http://www.amazon.co.uk/Schleich-13790-Icelandic-Pony-Mare/dp/B00PESXPYQ",
         "Is it 12 days or 24? // 24",
         "Disappointing // 3.0 // 21 Dec. 2015 // By\n    \n    Helen\n  \n on 21 Dec. 2015 // I was disappointed with this calendar, as was my daughter. I paid a very high price due to low availability and many of the doors were a small sheet of stickers or a chapter of a short story. If I had seen the contents, I certainly wouldn't have bought this. | Great idea.... // 3.0 // 22 Dec. 2015 // By\n    \n    Richard M\n  \n on 22 Dec. 2015 // Great idea, but let down by missing parts; quite surprising for Schleich - resulted in a disappointed 9 year old horse fanatic! | This is a lovely item which arrived in good time. However it was sent as you see ... // 3.0 // 27 Nov. 2015 // By\n    \n    Amazon Customer\n  \n on 27 Nov. 2015 // This is a lovely item which arrived in good time. However it was sent as you see it, no outer packaging with a big label stuck over the box. Not ideal when I have small children in the house and was trying to keep this as a surprise. Plus what would have happened to the cardboard had it got wet it dirty like other parcels have in the past? | Five Stars // 5.0 // 14 Dec. 2015 // By\n    \n    Miss V A McLaughlan\n  \n on 14 Dec. 2015 // Arrived in time for advent. My niece loves opening. Especially the days with horses. | The rider and two horses were great but the bridle doesn't fit either of the horses // 2.0 // 25 Dec. 2015 // By\n    \n    Smoochypoo's\n  \n on 25 Dec. 2015 // Very disappointing for the price. Several days of nothing buy tiny stickers? The rider and two horses were great but the bridle doesn't fit either of the horses. This was really sad as my daughter was really excited about to try it on and waited patiently until the 24th only to find it didn't fit.All round poor value for money. | it is a little expensive but a 9 year old with imagination gets plenty of play value and seams to be good quality so far just li // 5.0 // 18 Dec. 2015 // By\n    \n    Mrs Jacqui Mcclelland\n  \n on 18 Dec. 2015 // Granddaughter loves this and cant wait to open each door, it is a little expensive but a 9 year old with imagination gets plenty of play value and seams to be good quality so far just like the schleich animals you would buy separately | Our girls absolutely loved this. Of all their toys it has been ... // 5.0 // 26 Mar. 2016 // By\n    \n    Tele\n  \n on 26 Mar. 2016 // Our girls absolutely loved this. Of all their toys it has been the Sleich animals that have kept them entertained for hundreds of hours, making up never ending stories with their zoo/farm full of creatures. | Good but pricey. // 5.0 // 9 Jan. 2016 // By\n    \n    Suzy\n  \n on 9 Jan. 2016 // Expensive but my daughter collects these horses and riders. But disappointing that some days just had a story - and not even the whole story!",
         "{\"seller\"=>[{\"Seller_name_1\"=>\"Amazon.co.uk\", \"Seller_price_1\"=>\"£24.99\"}, {\"Seller_name_2\"=>\"Kara-Handelshaus GmbH Preise inkl. MwSt.\", \"Seller_price_2\"=>\"£45.54\"}, {\"Seller_name_3\"=>\"DaJu Online (Alle Preise inkl. MwSt, bitte Versandkosten beachten)\", \"Seller_price_3\"=>\"£51.71\"}, {\"Seller_name_4\"=>\"Son Services gGmbH-AGB-Widerrufsbelehrung – Widerrufs-Formular\", \"Seller_price_4\"=>\"£49.69\"}, {\"Seller_name_5\"=>\"JAPAN HIGH QUALITY SHOP.\", \"Seller_price_5\"=>\"£90.53\"}, {\"Seller_name_6\"=>\"francejouet\", \"Seller_price_6\"=>\"£91.19\"}]}"
        ],
        [
         "729",
         "123fe47531406d6366b394528bdd468b",
         "Schleich Farm Christmas Advent Calendar",
         "Schleich",
         "£18.45",
         "32 new",
         "16",
         "1.0",
         "3.9 out of 5 stars",
         null,
         "http://www.amazon.co.uk/Schleich-Horse-Christmas-Advent-Calendar/dp/B00VPY5NQG | http://www.amazon.co.uk/Schleich-97050-Adventskalender | http://www.amazon.co.uk/Schleich-42191-Chicken-Coop-Playset/dp/B00QKLM0YM | http://www.amazon.co.uk/Schleich-Farm-Christmas-Advent-Calendar/dp/B00IUK1I80 | http://www.amazon.co.uk/Schleich-13771-Sitting-Cat/dp/B00PESXE3S | http://www.amazon.co.uk/Schleich-13726-Ram/dp/B009MJU44C",
         "Product Description This enchanting Schleich Advent calendar will delight all farm animal fans with very special gifts: cute animals, all kinds of accessories to care for and feed them, special extras and a very exclusive surprise behind the last door. Box Contains Cow; Pig; Donkey; Piglets; Dog; Feed; Hay; Straw; Crate; Fork; Broom; Bucket and more!",
         "Technical Details Item Weight685 g Product Dimensions39.4 x 8.3 x 28.6 cm Manufacturer recommended age:3 years and up Item model number97052 Number of Puzzle Pieces1 Assembly RequiredNo Batteries Required?No Batteries Included?No    Additional Information ASINB00VPY5JBA Best Sellers Rank 95,026 in Toys & Games (See top 100) #82 in Toys & Games > Advent Calendars Shipping Weight816 g Delivery Destinations:Visit the Delivery Destinations Help page to see where this item can be delivered. Date First Available13 Aug. 2015    Feedback  Would you like to update product info or give feedback on images?",
         "Product Description This enchanting Schleich Advent calendar will delight all farm animal fans with very special gifts: cute animals, all kinds of accessories to care for and feed them, special extras and a very exclusive surprise behind the last door. Box Contains Cow; Pig; Donkey; Piglets; Dog; Feed; Hay; Straw; Crate; Fork; Broom; Bucket and more!",
         null,
         null,
         "Really disappointed by the tat that has come out of this ... // 2.0 // 7 Dec. 2015 // By\n    \n    Sarah H\n  \n on 7 Dec. 2015 // Really disappointed by the tat that has come out of this calendar so far.A flimsy story book, that is actually a matchbox sized two page story the other pages are in other languagesAn small bunch of applesTwo animalsSome very flimsy playing cards I wasn't expecting an animal a day but I do think Schleich could do betterIn the past we have done Lego, and Playmobil and you never get a wow everyday but it comes together really well. This is in not in that league and my daughter had already lost interest whereas her brother is still enthralled by his Playmobil this year | On day 12 now and extremely disappointed with the content of the calendar // 2.0 // 12 Dec. 2015 // By\n    \n    Allan Thornhill\n  \n on 12 Dec. 2015 // On day 12 now and extremely disappointed with the content of the calendar. Today we have received yet another small booklet thing with 2 pages in English. Would it not have been sensible to place all these game card items in one day?Whilst we don't expect animals everyday, the quality and value of the items does not appear to be adding up to the £25 we paid for it.Very disappointed so far | The bigger animals are great. // 4.0 // 9 Dec. 2015 // By\n    \n    Jonathan Turner\n  \n on 9 Dec. 2015 // Some days are disappointing as only get cards. The bigger animals are great. | Nice alternative advent calendar // 4.0 // 31 Jan. 2016 // By\n    \n    Amazon Customer\n  \n on 31 Jan. 2016 // Nice advent calendar,makes a change from chocolate. Really good idea although my daughter was a bit disappointed on the days when she got cards. These are only useful once you have opened all days as there is a board game on the cardboard cover. Toys are of the quality you would expect from schleich, | Couldn't speak highly enough of this. Beth got excited ... // 5.0 // 28 Dec. 2015 // By\n    \n    katheryn edwards\n  \n on 28 Dec. 2015 // Couldn't speak highly enough of this. Beth got excited about opening this every morning and she's only 24 months. The toys are lovely - she's a bit young for the actual game but she'll have this all year round so it doesn't matter. She can play it when she's old enough :) | Great items. // 5.0 // 15 Jan. 2016 // By\n    \n    Gav\n  \n on 15 Jan. 2016 // A nice selection of schleich items. The contents all follow a theme called A  Race at the farm. So the box has a race layout that the items can be placed on. Great fun. Items included brush, carrots. Hay bale, large cow.,donkey, pig. Dog. Plus other items. | Missing item. // 1.0 // 24 Dec. 2015 // By\n    \n    Amazon Customer\n  \n on 24 Dec. 2015 // Looked great all month, and then on Christmas Eve, opened the last window to find that the board for the game (premise for the entire thing) was missing.  Completely misses the whole point! | ... two different versions of these and the kids really enjoyed them and thought they were great value for the ... // 5.0 // 4 Jan. 2016 // By\n    \n    James\n  \n on 4 Jan. 2016 // I bought two different versions of these and the kids really enjoyed them and thought they were great value for the contents.",
         "{\"seller\"=>[{\"Seller_name_1\"=>\"Cuthberts Toys\", \"Seller_price_1\"=>\"£18.45\"}, {\"Seller_name_2\"=>\"ElectricGemZ\", \"Seller_price_2\"=>\"£19.99\"}, {\"Seller_name_3\"=>\"World Wide Shopping Mall Ltd\", \"Seller_price_3\"=>\"£22.99\"}, {\"Seller_name_4\"=>\"Amazon.co.uk\", \"Seller_price_4\"=>\"£23.46\"}, {\"Seller_name_5\"=>\"Spielzeugwelten (alle Preise inkl. gesetzlicher MwSt. und zzgl.Versandkosten - Impressum & Widerrufsbelehrung in der Verkäuferinfo)\", \"Seller_price_5\"=>\"£27.24\"}, {\"Seller_name_6\"=>\"ToysnFun\", \"Seller_price_6\"=>\"£22.99\"}, {\"Seller_name_7\"=>\"Tim & Tina's Toy Store - delivery time 3-7 business days!\", \"Seller_price_7\"=>\"£23.69\"}, {\"Seller_name_8\"=>\"Paragon Toys and Collectables\", \"Seller_price_8\"=>\"£24.99\"}, {\"Seller_name_9\"=>\"FairToys.nl\", \"Seller_price_9\"=>\"£19.96\"}, {\"Seller_name_10\"=>\"arstecnica\", \"Seller_price_10\"=>\"£21.89\"}]}"
        ],
        [
         "730",
         "5365a737432f34ae99dca4e8289b8078",
         "Playmobil 5494 Christmas Advent Calendar Santas Workshop",
         "Playmobil",
         "£15.39",
         "19 new",
         "199",
         "6.0",
         "4.6 out of 5 stars",
         null,
         "http://www.amazon.co.uk/Playmobil-5496-Advent-Calendar-Christmas/dp/B00IF1W4KK | http://www.amazon.co.uk/Playmobil-5497-Christmas-Calendar-Animals/dp/B00IF1W7NE | http://www.amazon.co.uk/Playmobil-5492-Christmas-Calendar-Fairyland/dp/B00B3QT7JU | http://www.amazon.co.uk/Playmobil-5493-Christmas-Calendar-Treasure/dp/B00B3QT8FS | http://www.amazon.co.uk/Playmobil-5976-Father-Christmas-Santas/dp/B00CFOD9OS | http://www.amazon.co.uk/LEGO-City-60099-Advent-Calendar/dp/B00SDTYX2Q",
         "Style Name:STYLE A Product Description The Playmobil Santa's workshop advent calendar has 24 boxes to count down to Christmas. As each box is opened it creates a scene, with father Christmas and his elves helping load the sleigh with toys, pulled by his trusty reindeer. The set comes complete with a matching pairs card game. Box Contains 1 x Father christmas1 x Fairy2 x Elves1 x Memory card game",
         "Technical Details Brand Playmobil Model Number5494 Item Weight9 g Product Dimensions40 x 7.5 x 30 cm    Additional Information ASINB00B3QT8F8 Customer Reviews amznJQ.onReady('popover', function() { (function($) { if($.fn.acrPopover) return; var popoverConfig = { showOnHover:true, showCloseButton: \"ontouchstart\" in document.documentElement, width: null, location:'bottom', locationAlign:'left', locationOffset:[-20,0], group: 'reviewsPopover', clone:false, hoverHideDelay:300 }; $.fn.acrPopover = function() { return this.each(function() { var $this = $(this); if(!$this.data('init') && typeof $this.amazonPopoverTrigger === 'function') { $this.data('init', 1); var ajaxURL = '/gp/customer-reviews/common/du/displayHistoPopAjax.html?' + '&ASIN=' + $this.attr('name') + '&link=1' + '&seeall=1' + '&ref=' + $this.attr('ref'); var myConfig = $.extend(true, { destination: ajaxURL }, popoverConfig); $this.amazonPopoverTrigger(myConfig); } }); }; window.reviewHistPopoverConfig = popoverConfig; var jqInit = window.jQueryInitHistoPopovers = function(asin) { if (typeof $('.acr-popover[name=' + asin + ']').acrPopover === 'function') { $('.acr-popover[name=' + asin + ']').acrPopover(); } }; window.doInit_average_customer_reviews = jqInit; window.onAjaxUpdate_average_customer_reviews = jqInit; window.onCacheUpdate_average_customer_reviews = jqInit; window.onCacheUpdateReselect_average_customer_reviews = jqInit; amznJQ.onCompletion('amznJQ.criticalFeature', function() { setTimeout(function() { amznJQ.declareAvailable('acrPopover'); }, 10); }); })(jQuery); }); amznJQ.onReady('acrPopover', function() { jQuery('.acr-popover').each(function() { if (typeof jQuery(this).acrPopover === 'function') { jQuery(this).acrPopover(); } }); }); 4.6 out of 5 stars See all reviews 199 reviews 4.6 out of 5 stars Best Sellers Rank 3,959 in Toys & Games (See top 100) #2 in Toys & Games > Advent Calendars Shipping Weight1 Kg Delivery Destinations:Visit the Delivery Destinations Help page to see where this item can be delivered. Date First Available13 Sept. 2013    Feedback  Would you like to update product info or give feedback on images?",
         "Style Name:STYLE A Product Description The Playmobil Santa's workshop advent calendar has 24 boxes to count down to Christmas. As each box is opened it creates a scene, with father Christmas and his elves helping load the sleigh with toys, pulled by his trusty reindeer. The set comes complete with a matching pairs card game. Box Contains 1 x Father christmas1 x Fairy2 x Elves1 x Memory card game",
         "http://www.amazon.co.uk/Playmobil-5976-Father-Christmas-Santas/dp/B00CFOD9OS | http://www.amazon.co.uk/Play-Doh-B2199-Advent-Calendar/dp/B00R9DBK9Q | http://www.amazon.co.uk/Playmobil-6697-Super-Kingsland-Castle/dp/B00VLVQ3XA | http://www.amazon.co.uk/Playmobil-5495-Christmas-Calendar-Operation/dp/B00IF1W45U",
         "Would this be ok for a 2 year old? // HalloI think no because this is only  4-10 years. The parts are too small Regression…\n    \n      see more\n    \n  \n  \n    HalloI think no because this is only  4-10 years. The parts are too small RegressionT.Bias\n    \n      see less | Can you re use it year after year? // You could if you were REALLY careful when opening each of the doors.  You would also need to make sure none of the items when missing before re packing ready for next year.  Realistically they are a single year use. Ours stay in the Christmas decoration box and get set up by the smalls each year and still very much enjoyed. | I can see the set only contains the four figures plus accessories, does in include the reindeer and sleigh? Thank you // Yes it does | Does anyone know what's the meaning of style A? // Hello Carey, no meaning, there is not differents styles, it must be a description generic or that came from other product. Best regards from Playmyplanet | What age is this product suitable for? // My daughter was 14 when she asked for this and she loved it | what size is the display // 46x24cm",
         "SET : PLAYMOBIL 5494 'CHRISTMAS ADVENT 2015' // 5.0 // 5 Dec. 2015 // By\n    \n    ДД²\n  \n on 5 Dec. 2015 // ★ PLAYMOBIL★ 5494★ 2015★ AGE GUIDE : 4-10 (Not for children under 3 years)★ 101 pc★ Assembly instruction booklet includedI always pop a chunky advent calendar in my basket to have from Amazon, and when the price decreases (which is usually the case); I place the order, which happened in October this year.The colourful, quality box measures around 40 cm x 30 cm x 8 cm overall and comes in a strong outer carton for safe transit.◄ SPOILER ALERT! ►Like a box of crackers, the box has a cardboard overlay detailing the contents, day-by-day, which I have gone on to show in my images to give an idea of the content this year.  I discard this layer when giving as a gift so the recipient doesn’t  know what to expect behind each window.  If it is opened carefully, there is no evidence of this.Underneath, on one side of the box is a tree-framed, snowy scene with a path meandering off into the distance with an inbuilt hanger to put on a wall, if required.  If just standing the calendar on a flat surface, which is quite successful due to its depth, the hanger just looks like the moon in the wintry night sky and doesn’t spoil the scene.On the other side are the advent calendar windows, showing Santa & his elves, busy with preparations and loading the sleigh, watched over by an angel.  The windows vary in sizes and the numbers are easy to spot, each surrounded by a bright yellow star.  They are relatively easy to open, by depressing and pushing back on the tab, and then tear the perforations.  The rewards occasionally need basic assembling, adding to the fun.The contents are designed to go on the colourful backdrop – the base of which measures around 46 cm maximum x 24.Read more › | She was absolutely delighted when I gave it to her on 30th November ... // 5.0 // 23 Jan. 2015 // By\n    \n    Diane R\n  \n on 23 Jan. 2015 // My 7 year old granddaughter asked for this having seen it in a shop window and found from some friends at school that they had had one last year. She was absolutely delighted when I gave it to her on 30th November and opened the window without fail every day. It was a lovely idea and she's already said she wants another for next Christmas. | Better than chocolates // 5.0 // 16 Dec. 2013 // By\n    \n    marie-claude\n  \n on 16 Dec. 2013 // My girls love it. Much better than chocolates.They can't wait to see what they will get tomorrow and they play a lot with it | Fantastic. // 5.0 // 24 Nov. 2014 // By\n    \n    Mr. Adrian M. Pomeroy\n  \n on 24 Nov. 2014 // Again allowing me to be the best uncle.Remind nephews and nieces just who is the most awesome for a whole month leading up to Christmas.more seriously it does make an event of every day. | Great purchase // 5.0 // 18 Dec. 2013 // By\n    \n    C Bates\n  \n on 18 Dec. 2013 // fantastic alternative for an advent calendar and I  would definitely recommend to others and buy again. A great Christmas idea | My three and a half year old Son really enjoyed his advent calendar and we love buying him Playmobil ... // 3.0 // 7 Jan. 2015 // By\n    \n    Jules\n  \n on 7 Jan. 2015 // My three and a half year old Son really enjoyed his advent calendar and we love buying him Playmobil products.  Out of the 24 boxes in the calendar we felt we only got about 6 quality items and we felt the rest of it was like items from Kinder eggs.  There were only 4 actual Playmobile figures in the whole pack.  We did use the opening of the advent calendar doors as a bribe after tooth brushing which has really helped us.  We're going to try the Lego calendar next year. | Beautifully detailed, an annual purchase from now on // 5.0 // 29 Dec. 2015 // By\n    \n    Cookieland\n  \n on 29 Dec. 2015 // My sister made me an advent calendar back in 2004 out of matchboxes, papier mache and the Playmobil nativity sets, after all this time it is getting rather battered and loved but my two young children adore it. I was delighted to discover Playmobil made their own calendars a few years ago but at the time the price was out of my range and I didn't think it looked like you got much inside for the price. How wrong was I! On the spur of the moment I ordered this the last week of November, my husband was not impressed when he realized I had spent nearly £25 on an advent calendar/Seasonal toy. However when it arrived one look on the back of the box swayed him. Note: Don't let the recipients of the calendar see the back of the box for it shows you what you receive behind each door! Each door holds something for Santa's workshop, e.g a blue basket with six teeny tiny animal figures (When I say teeny, I mean teeny! About half a cm in size. My five year old took to carrying them around in his pocket he was so delighted with them), a wheelbarrow and teddy bear, carrots for the reindeer, a \"present\" with toy racing car. There are four little card boxes behind various doors which you need to fold up into presents. This advent calendar comes with four figures - An angel, two elves and Santa himself (Who also comes with his list and quill on 24th), all hidden behind a different door. Inside the box there is a beautiful cardboard backdrop, you have to pop out some parts and fold it to make it stand. It really is gorgeous and the children loved setting up the scene each day. The card game you get is just a little box with a simple game of snap (Or pairs) inside. I think my children would have preferred an extra toy for the grotto but it is a nice idea. I will definitely be buying these annually. The excitement on my bairns faces each morning was wonderful and something you would not be able to get from a chocolate calendar. Plus they have a beautiful toy to get out every Christmas. | We all loved it. Bit tricky keeping all the bits together ... // 5.0 // 31 Dec. 2014 // By\n    \n    MrsM\n  \n on 31 Dec. 2014 // First time I have bought one. We all loved it. Bit tricky keeping all the bits together especially with small kids, but I managed it by only really letting them play with it Xmas eve when it was complete (mean mum). The doors are quite firm so smaller kids need a bit of effort to open them. I had to open the door for my 3 year old to break the perforations then close it for her to open in the morning. As I have all the bits, it may be back again next year and I can mix up all the pieces for them. I will be looking to see what other ones there are too.",
         "{\"seller\"=>[{\"Seller_name_1\"=>\"Buy-For-Less-Online\", \"Seller_price_1\"=>\"£15.08\"}, {\"Seller_name_2\"=>\"Amazon.co.uk\", \"Seller_price_2\"=>\"£15.39\"}, {\"Seller_name_3\"=>\"uGado\", \"Seller_price_3\"=>\"£19.90\"}, {\"Seller_name_4\"=>\"Mar Menor\", \"Seller_price_4\"=>\"£15.95\"}, {\"Seller_name_5\"=>\"Gameseek\", \"Seller_price_5\"=>\"£20.44\"}, {\"Seller_name_6\"=>\"i want one of those\", \"Seller_price_6\"=>\"£21.99\"}, {\"Seller_name_7\"=>\"mk-tronic\", \"Seller_price_7\"=>\"£15.50\"}, {\"Seller_name_8\"=>\"Bene´s Spielshop GmbH (alle Preise incl. Mehrwertsteuer, kein gemeinsamer Versand mit anderen Anbietern, daher Versandkosten beachten!)\", \"Seller_price_8\"=>\"£22.99\"}, {\"Seller_name_9\"=>\"Toy Central Ltd\", \"Seller_price_9\"=>\"£21.50\"}, {\"Seller_name_10\"=>\"Accessories In Store\", \"Seller_price_10\"=>\"£26.95\"}]}"
        ],
        [
         "783",
         "1051cbd9af89d98b6909ae75a3190249",
         "Schleich Horse Christmas Advent Calendar",
         "Schleich",
         "£24.99",
         "6 new",
         "16",
         "1.0",
         "4.0 out of 5 stars",
         null,
         "http://www.amazon.co.uk/Schleich-42160-Big-Horse-Show/dp/B00PZMDXJ8 | http://www.amazon.co.uk/Schleich-42271-Show-Jumping-Course/dp/B00QVYZBXU | http://www.amazon.co.uk/Schleich-Farm-Christmas-Advent-Calendar/dp/B00VPY5JBA | http://www.amazon.co.uk/Schleich-42104-Horse-Wash-Area/dp/B00HL2DG2Y | http://www.amazon.co.uk/Schleich-42190-Tournament | http://www.amazon.co.uk/Schleich-42056-Show-Jumping-Set/dp/B00B1D79DQ",
         "Product Description This enchanting Schleich Advent calendar will delight all Horse fans with very special gifts: Horses, all kinds of equestrian accessories and exclusives. Box Contains Sticker Pack; Winners Medallions; 2 Horses; Rider; Show jumping accessories and more!",
         "Technical Details Item Weight680 g Product Dimensions39.4 x 8.3 x 28.6 cm Manufacturer recommended age:3 years and up Item model number97051 Assembly RequiredNo Batteries Required?No Batteries Included?No    Additional Information ASINB00VPY5NQG Best Sellers Rank 88,160 in Toys & Games (See top 100) #68 in Toys & Games > Advent Calendars Shipping Weight721 g Delivery Destinations:Visit the Delivery Destinations Help page to see where this item can be delivered. Date First Available13 Aug. 2015    Feedback  Would you like to update product info or give feedback on images?",
         "Product Description This enchanting Schleich Advent calendar will delight all Horse fans with very special gifts: Horses, all kinds of equestrian accessories and exclusives. Box Contains Sticker Pack; Winners Medallions; 2 Horses; Rider; Show jumping accessories and more!",
         "http://www.amazon.co.uk/Schleich-42039-Pony-riding-set/dp/B0031EDQOO | http://www.amazon.co.uk/Schleich-42104-Horse-Wash-Area/dp/B00HL2DG2Y | http://www.amazon.co.uk/Schleich-42105-Feeding-set/dp/B00HL2DGQ0 | http://www.amazon.co.uk/Schleich-13790-Icelandic-Pony-Mare/dp/B00PESXPYQ",
         "Is it 12 days or 24? // 24",
         "Disappointing // 3.0 // 21 Dec. 2015 // By\n    \n    Helen\n  \n on 21 Dec. 2015 // I was disappointed with this calendar, as was my daughter. I paid a very high price due to low availability and many of the doors were a small sheet of stickers or a chapter of a short story. If I had seen the contents, I certainly wouldn't have bought this. | Great idea.... // 3.0 // 22 Dec. 2015 // By\n    \n    Richard M\n  \n on 22 Dec. 2015 // Great idea, but let down by missing parts; quite surprising for Schleich - resulted in a disappointed 9 year old horse fanatic! | This is a lovely item which arrived in good time. However it was sent as you see ... // 3.0 // 27 Nov. 2015 // By\n    \n    Amazon Customer\n  \n on 27 Nov. 2015 // This is a lovely item which arrived in good time. However it was sent as you see it, no outer packaging with a big label stuck over the box. Not ideal when I have small children in the house and was trying to keep this as a surprise. Plus what would have happened to the cardboard had it got wet it dirty like other parcels have in the past? | Five Stars // 5.0 // 14 Dec. 2015 // By\n    \n    Miss V A McLaughlan\n  \n on 14 Dec. 2015 // Arrived in time for advent. My niece loves opening. Especially the days with horses. | The rider and two horses were great but the bridle doesn't fit either of the horses // 2.0 // 25 Dec. 2015 // By\n    \n    Smoochypoo's\n  \n on 25 Dec. 2015 // Very disappointing for the price. Several days of nothing buy tiny stickers? The rider and two horses were great but the bridle doesn't fit either of the horses. This was really sad as my daughter was really excited about to try it on and waited patiently until the 24th only to find it didn't fit.All round poor value for money. | it is a little expensive but a 9 year old with imagination gets plenty of play value and seams to be good quality so far just li // 5.0 // 18 Dec. 2015 // By\n    \n    Mrs Jacqui Mcclelland\n  \n on 18 Dec. 2015 // Granddaughter loves this and cant wait to open each door, it is a little expensive but a 9 year old with imagination gets plenty of play value and seams to be good quality so far just like the schleich animals you would buy separately | Our girls absolutely loved this. Of all their toys it has been ... // 5.0 // 26 Mar. 2016 // By\n    \n    Tele\n  \n on 26 Mar. 2016 // Our girls absolutely loved this. Of all their toys it has been the Sleich animals that have kept them entertained for hundreds of hours, making up never ending stories with their zoo/farm full of creatures. | Good but pricey. // 5.0 // 9 Jan. 2016 // By\n    \n    Suzy\n  \n on 9 Jan. 2016 // Expensive but my daughter collects these horses and riders. But disappointing that some days just had a story - and not even the whole story!",
         "{\"seller\"=>[{\"Seller_name_1\"=>\"Amazon.co.uk\", \"Seller_price_1\"=>\"£24.99\"}, {\"Seller_name_2\"=>\"Kara-Handelshaus GmbH Preise inkl. MwSt.\", \"Seller_price_2\"=>\"£45.54\"}, {\"Seller_name_3\"=>\"DaJu Online (Alle Preise inkl. MwSt, bitte Versandkosten beachten)\", \"Seller_price_3\"=>\"£51.71\"}, {\"Seller_name_4\"=>\"Son Services gGmbH-AGB-Widerrufsbelehrung – Widerrufs-Formular\", \"Seller_price_4\"=>\"£49.69\"}, {\"Seller_name_5\"=>\"JAPAN HIGH QUALITY SHOP.\", \"Seller_price_5\"=>\"£90.53\"}, {\"Seller_name_6\"=>\"francejouet\", \"Seller_price_6\"=>\"£91.19\"}]}"
        ],
        [
         "947",
         "92235acc2aaa246330c8e343b36155b2",
         "Aivtalk Transport Trailer Car Carrier Truck Toy for Boys (includes 4 Cars) - Multicolor",
         "Aivtalk",
         null,
         "2 new",
         "72",
         "1.0",
         "4.5 out of 5 stars",
         "Baby & Toddler Toys > Pushchair Toys",
         "http://www.amazon.co.uk/Corgi-Toys-Eddie-Stobart-Vehicle/dp/B00FWTAWCK | http://www.amazon.co.uk/Corgi-Scale-Eddie-Stobart-Transporter | http://www.amazon.co.uk/Corgi-Toys-TY86646-Superhaulers | http://www.amazon.co.uk/Peterkin-Scale-Royal-Volvo-Truck/dp/B00F5YVHUS | http://www.amazon.co.uk/Corgi-Superhaulers | http://www.amazon.co.uk/Peterkin-Scale-Eddie-Stobart-Volvo/dp/B00662GQ90",
         "Colour Name:Red Features: Super cool gift for kids Completely non-toxic, safe for children Designed with realistic features in a smaller scale Specifications: Material: Metal & Plastic For Ages: 3 years and up Dimensions: 29*7*4.5cm Color:As picture Package includes: 1 * Trailer,4 * Mini cars",
         "Technical Details Item Weight318 g Product Dimensions35.6 x 12.7 x 9.1 cm Manufacturer recommended age:5 years and up Manufacturer referenceX1LS21032 Assembly RequiredNo Batteries Required?No Batteries Included?No Remote Control Included?No Colorred    Additional Information ASINB0142FVTGM Best Sellers Rank 46,708 in Toys & Games (See top 100) #43 in Toys & Games > Toddler Toys > Pushchair Toys Shipping Weight318 g Delivery Destinations:Visit the Delivery Destinations Help page to see where this item can be delivered. Date First Available18 Aug. 2015    Feedback  Would you like to update product info or give feedback on images?",
         "Colour Name:Red Features: Super cool gift for kids Completely non-toxic, safe for children Designed with realistic features in a smaller scale Specifications: Material: Metal & Plastic For Ages: 3 years and up Dimensions: 29*7*4.5cm Color:As picture Package includes: 1 * Trailer,4 * Mini cars",
         "http://www.amazon.co.uk/Corgi-Superhaulers | http://www.amazon.co.uk/Peterkin-Scale-Eddie-Stobart-Volvo/dp/B00662GQ90 | http://www.amazon.co.uk/Corgi-Scale-Eddie-Stobart-Truck/dp/B00KGZTGNG | http://www.amazon.co.uk/Playmobil-4129-Recycling-Truck-Flashing-x/dp/B006UAFVVC",
         null,
         "Poor quality // 1.0 // 4 Jan. 2014 // 6 of 6 people found the following review helpful // The cab bit is metal, trailer part is cheap plastic. The 2 parts don't even hold well together. My son gets very frustrated with it because the trailer constantly falls away when he's pulling it along.  Rubbish!I bought a nice morrisons truck - much bigger and the two part click together nicely. It was made of plastic but ten times better quality than this product. | Not very sturdy // 3.0 // 20 Oct. 2013 // By\n    \n    SP\n  \n on 4 Jan. 2014 // We've had it for some months and by now some wheels have come off. Also the the tanker and the cabin don't stay together very well, so it's really not very good as a children's toy. And I don't know what else it could be used for as it's not something you would want as a collectible... | Cheap Rubbish // 1.0 // 26 Dec. 2012 // 5 of 5 people found the following review helpful // In any world that I come from \"Die Cast\" toys are made of metal, with plastic, rubber or glass details. Wholly plastic toys are made by a process called \"injection moulding\". This toy appears to 90% plastic. Corgi seem to believe that by making a very small portion of the cab in metal and the remainder plastic they can use the expression \"Die Cast\".  I have bought Corgi toys for decades.  NEVER AGAIN.  Cheap rubbish! | Very poor quality // 2.0 // 23 Dec. 2013 // By\n    \n    KR\n  \n on 20 Oct. 2013 // Not good at all. Plastic and awful. The trailer does not stay on either. It must be some sort of \"health and safety\" feature. If not, it must just be a poor product. I have a much older one that is good quality. Things have changed. | Eddie Stobart Truck // 5.0 // 12 Dec. 2011 // 12 of 13 people found the following review helpful // Great Purchase for our son's birthday. He loves it and it is a great toy. Recommend any Eddie Stobart fan to purchase one. Arrived well packaged too Thank you | toy for my wife // 5.0 // 2 April 2013 // By\n    \n    Del Ric\n  \n on 26 Dec. 2012 // my wife loves eddie stowbart lorrys and she was very happy to have this lovely toy for christmass since then we spotted my daughters name on one of eddies waggons  debara jane  richard | Really meaningful toy lorry that highlighted son's love of Eddie 'Spotting' // 4.0 // 16 Jan. 2013 // 4 of 4 people found the following review helpful // Good quality toy that my little boy (age 5) loved as he spends all the time on the motorway spotting Eddie Stobart lorries. Shame the tanker part is plastic, but really for the price you couldn't expect too much. I would have been willing to pay more though had it been metal.He has played with it a lot, he has a road mat and has used it on that with all his other vehicles. Good quality, good price, and je was really excited to see Eddie Stobart's name on it. | Great product // 4.0 // 28 Sept. 2012 // By\n    \n    Musto\n  \n on 23 Dec. 2013 // Ordered this for my son's 9th birthday as he is collecting  Eddie Stobart trucks. Arrived within a couple of days, well packaged and no damage. He is delighted with it and is proudly on the shelf with the others!!",
         null
        ],
        [
         "1138",
         "424629207f3ebd08881b81a78808dcb4",
         "Iron Man 3 Marvel Iron Assemblers Battle Vehicle",
         "Iron Man 3- Marvel",
         null,
         "1 new",
         "12",
         "2.0",
         "4.6 out of 5 stars",
         "Figures & Playsets > Science Fiction & Fantasy",
         "http://www.amazon.co.uk/Marvel-Iron-Man-Monster-Launcher/dp/B00B2JSY6A | http://www.amazon.co.uk/Iron-Man-Avengers-Assemblers | http://www.amazon.co.uk/Marvel-Iron-Man-Starter-Heroes/dp/B00CL1BUQY | http://www.amazon.co.uk/MARVEL-THE-AVENGERS-IRON-RACER/dp/B00KBXV1W2 | http://www.amazon.co.uk/Iron-Man-Turbo-Racer-Figure/dp/B0035G0MMM | http://www.amazon.co.uk/Marvel-Avengers-Ultron-Figures-Vehicle/dp/B00TH93WNM",
         "Product Description When Iron Man needs to get blasted into battle, he rolls out in his repulsor charged race car. Armoured and amped up for battle, this super fast vehicle roars down the road, ready to convert into power enhanced exo armor at a moment’s notice. Iron Man is the ultimate super powered, heavily armed, powerfully armoured superhero. Now he’s got a repulsor charged car that’s as powerful as he is. This Assemblers Battle Vehicle has hardcore armour just like Iron Man, plus incredible weapon arms that detach from the vehicle and attach to the included Iron Man figure’s arms. When you need to blast him into battle, put your Iron Man figure into the vehicle’s figure launcher and fire him into the fray. Your Iron Man battles are going to be a lot more awesome with this powerful Battle Vehicle. Box Contains 1 x iron man figure3 x weapon arm accessories1 x figure launch accessory1 x instructions",
         "Technical Details Item Weight349 g Product Dimensions30.6 x 22.8 x 8.2 cm Manufacturer recommended age:3 years and up Item model numberA2009E27 Main Language(s)English Batteries Required?No Batteries Included?No Material Care InstructionsA2009    Additional Information ASINB00A46NRXC Best Sellers Rank 111,852 in Toys & Games (See top 100) #3868 in Toys & Games > Figures & Playsets > Science Fiction & Fantasy #8256 in Toys & Games > Sports Toys & Outdoor Shipping Weight581 g Delivery Destinations:Visit the Delivery Destinations Help page to see where this item can be delivered. Date First Available21 Jan. 2013    Feedback  Would you like to update product info or give feedback on images?",
         "Product Description When Iron Man needs to get blasted into battle, he rolls out in his repulsor charged race car. Armoured and amped up for battle, this super fast vehicle roars down the road, ready to convert into power enhanced exo armor at a moment’s notice. Iron Man is the ultimate super powered, heavily armed, powerfully armoured superhero. Now he’s got a repulsor charged car that’s as powerful as he is. This Assemblers Battle Vehicle has hardcore armour just like Iron Man, plus incredible weapon arms that detach from the vehicle and attach to the included Iron Man figure’s arms. When you need to blast him into battle, put your Iron Man figure into the vehicle’s figure launcher and fire him into the fray. Your Iron Man battles are going to be a lot more awesome with this powerful Battle Vehicle. Box Contains 1 x iron man figure3 x weapon arm accessories1 x figure launch accessory1 x instructions",
         "http://www.amazon.co.uk/Marvel-Iron-Man-Monster-Launcher/dp/B00B2JSY6A | http://www.amazon.co.uk/Iron-Marvel-Gauntlet-Mask-included/dp/B00A6SR2I4 | http://www.amazon.co.uk/Marvel-Avengers-Firestrike | http://www.amazon.co.uk/Hasbro-A1738-Iron-Man-Repulsor/dp/B00A46NS0Y",
         null,
         "grandson heaven // 5.0 // 7 Aug. 2013 // By\n    \n    Lashy\n  \n on 7 Aug. 2013 // Bought this product for my grandson who loves Iron man . The product was delivered in perfect condition packaged perfectly. The product was fantastic the figure was a proper figger you would normally pay 10pound ish to buy. The car is great quality a fantastic toy . A happy boy and grandad . The price was great 15 pounds. If you buy you won't be disappointed. | Iron man 3 // 4.0 // 10 Jan. 2014 // By\n    \n    Mrs. B. E. Morris\n  \n on 10 Jan. 2014 // Bought it for my grandchildren for Christmas, as far as I know they are happy with it.  It seems quite strong, which it needs to be.  As long as they like it that's fine. | An amazing christmas present for any boy // 5.0 // 26 Dec. 2013 // By\n    \n    Fiona Westcott\n  \n on 26 Dec. 2013 // Absolutely amazing my 5 year old Nephew loved it.  Would recommend anyone looking for a present for a boy this iss ideal. | a // 5.0 // 5 Dec. 2013 // By\n    \n    miss charlotte randall\n  \n on 5 Dec. 2013 // Son has a spiderman version of this and loves it and he started liking iron man so this will be perfect | toy loved by my son, beautiful colors, good finish // 5.0 // 16 Oct. 2013 // By\n    \n    Joanna\n  \n on 16 Oct. 2013 // subject line described, very nice finish, nice colors, I am very happy, toy loved by my son, beautiful colors, good finish | Came before estimated delivery date, really happy. // 5.0 // 30 Sept. 2013 // By\n    \n    Ellie McKeon\n  \n on 30 Sept. 2013 // Happy with this delivery as it came before estimated delivery date and i was able to wrap in time for a present :)",
         null
        ],
        [
         "1192",
         "5e35b3a765fb26a01e702573ecf680d9",
         "Optimus Prime DMK 01 Transformers Movie Dual Model Kit",
         "Takara Tomy",
         "£88.96",
         "18 new",
         "2",
         "1.0",
         "5.0 out of 5 stars",
         "Characters & Brands > Tomy",
         "http://www.amazon.co.uk/Transformers | http://www.amazon.co.uk/Actionfigur | http://www.amazon.co.uk/Transformers | http://www.amazon.co.uk/Transformers | http://www.amazon.co.uk/Transformers | http://www.amazon.co.uk/Transformers",
         "Optimus Prime DMK 01 Transformers Movie Dual Model Kit!",
         "Technical Details Item Weight1 Kg Product Dimensions38.7 x 12.7 x 30.5 cm Manufacturer recommended age:15 years and up Item model numberDMK01 Assembly RequiredYes    Additional Information ASINB00CE3GSIO Best Sellers Rank 330,823 in Toys & Games (See top 100) #12786 in Toys & Games > Figures & Playsets > Science Fiction & Fantasy Shipping Weight1 Kg Delivery Destinations:Visit the Delivery Destinations Help page to see where this item can be delivered. Date First Available19 Nov. 2013    Feedback  Would you like to update product info or give feedback on images?",
         "Optimus Prime DMK 01 Transformers Movie Dual Model Kit!",
         "http://www.amazon.co.uk/Transformers | http://www.amazon.co.uk/Optimus-Evasion-Transformers | http://www.amazon.co.uk/Actionfigur | http://www.amazon.co.uk/Transformers",
         "Please could you confirm the height of the toy? // The height is 9 1/2 inches",
         "This is possibly the best Optimus Prime figure I have // 5.0 // 4 Oct. 2014 // By\n    \n    Alistair Bennett\n  \n on 4 Oct. 2014 // This is possibly the best Optimus Prime figure I have! Very detailed, very articulated, and extremely accurate to the CGI model! Would recommend this to anyone that looks for accuracy in figures! | Five Stars // 5.0 // 3 Sept. 2014 // By\n    \n    Dwight Samuda\n  \n on 3 Sept. 2014 // My son loves it already in a glass case",
         "{\"seller\"=>[{\"Seller_name_1\"=>\"AmazingVillageJapan\", \"Seller_price_1\"=>\"£88.96\"}, {\"Seller_name_2\"=>\"Best Ever Japan\", \"Seller_price_2\"=>\"£100.08\"}, {\"Seller_name_3\"=>\"Classic Sweet\", \"Seller_price_3\"=>\"£100.30\"}, {\"Seller_name_4\"=>\"TKD-COM\", \"Seller_price_4\"=>\"£113.53\"}, {\"Seller_name_5\"=>\"JAPAN HIGH QUALITY SHOP.\", \"Seller_price_5\"=>\"£113.76\"}, {\"Seller_name_6\"=>\"Michael　Japan\", \"Seller_price_6\"=>\"£119.52\"}, {\"Seller_name_7\"=>\"TLC corporation\", \"Seller_price_7\"=>\"£119.56\"}, {\"Seller_name_8\"=>\"Ninja Japan Factory\", \"Seller_price_8\"=>\"£122.27\"}, {\"Seller_name_9\"=>\"zipanguclub\", \"Seller_price_9\"=>\"£122.92\"}, {\"Seller_name_10\"=>\"Japan_Hobby_Shop\", \"Seller_price_10\"=>\"£122.95\"}]}"
        ],
        [
         "1603",
         "63748b108d1797cd4944b88f8e02eb13",
         "INTEX Inflatable Swimming Paddling Play Pool 3 Ring Blue Toy Kids Childs Childrens Baby Family Sizes - 45'' , 58'' , 66'' Diameter (58'' x 13'')",
         "Intex",
         "£7.99",
         null,
         "22",
         null,
         "4.5 out of 5 stars",
         "Sports Toys & Outdoor > Beach Toys > Beach Toys",
         "http://www.amazon.co.uk/Dermalogica | http://www.amazon.co.uk/Pampers-Baby-Junior-Nappies-Monthly/dp/B00AR9HX3G | http://www.amazon.co.uk/Intex-69611E-Bellows-Foot-Pump/dp/B001ANYRGE | http://www.amazon.co.uk/Pampers-Fragrance-Free-Baby-Wipes/dp/B00ID7CC8A | http://www.amazon.co.uk/The-Cat-Hat-Green-Seuss/dp/0007158440 | http://www.amazon.co.uk/Pampers-Baby-Nappies-Monthly-Saving/dp/B00AR9HWZ0",
         "Colour Name:58'' x 13'' INTEX 3 Ring Paddling Pool This great 3 Ring Inflatable Blue Paddling Pool will keep the kids entertained for hours and is ideal for any garden. Once inflated, depending on the size pool you choose, the pool can hold between 35 and 127 gallons of water. The paddling pool also comes with a repair patch if required. Recommended for ages 3+. 3 sizes available:45\" x 10\" /114cm x 25cm/, holds 35 gallons (132 litres); 58\" x 13\" /147cm x 33cm/, holds 76 gallons (288 litres); 66\" x 16\" /168cm x 41cm/, holds 127 gallons (481 litres); -Ideal for use by children ages 3+ -Pool is supplied with a repair patch",
         "Technical Details Manufacturer recommended age:3 years and up    Additional Information ASINB00C3DZ4EE Best Sellers Rank 193,671 in Toys & Games (See top 100) #245 in Toys & Games > Sports Toys & Outdoor > Beach Toys > Paddling Pools #508 in Toys & Games > Sports Toys & Outdoor > Beach Toys > Beach Toys Delivery Destinations:Visit the Delivery Destinations Help page to see where this item can be delivered. Date First Available29 Mar. 2013    Feedback  Would you like to update product info or give feedback on images?",
         "Colour Name:58'' x 13'' INTEX 3 Ring Paddling Pool This great 3 Ring Inflatable Blue Paddling Pool will keep the kids entertained for hours and is ideal for any garden. Once inflated, depending on the size pool you choose, the pool can hold between 35 and 127 gallons of water. The paddling pool also comes with a repair patch if required. Recommended for ages 3+. 3 sizes available:45\" x 10\" /114cm x 25cm/, holds 35 gallons (132 litres); 58\" x 13\" /147cm x 33cm/, holds 76 gallons (288 litres); 66\" x 16\" /168cm x 41cm/, holds 127 gallons (481 litres); -Ideal for use by children ages 3+ -Pool is supplied with a repair patch",
         "http://www.amazon.co.uk/Bestway-Ocean-Life-122cm/dp/B000NVRTSM | http://www.amazon.co.uk/Intex-59416NP-Crystal-Inflatable | http://www.amazon.co.uk/Bestway-BW51009-Ocean-Life-Pool/dp/B002CIKZ12 | http://www.amazon.co.uk/Rectangular",
         null,
         "good pool // 5.0 // 18 Jan. 2014 // By\n    \n    jo\n  \n on 18 Jan. 2014 // brilliant pool and loads bigger than it looked.Easy fit 4 kiddies in with room left..Recommended buy and sturdy too..Get one ready for the summer as such a good price too | super fast delivery in the height of a heat wave! // 5.0 // 19 Aug. 2013 // By\n    \n    Catherine M\n  \n on 19 Aug. 2013 // ordered it at 2pm one day and it arrived the next morning!  really good quality and just in time for the heatwave!  excellent seller! | Satisfied for the Summer // 5.0 // 9 Aug. 2015 // By\n    \n    Thea\n  \n on 9 Aug. 2015 // Delivery: On timeQuality: Not thick material but seems tough enough and scratch resistant. Size as advertised, certainly big enough for a few 4yo's! Easy to inflate/Deflate. Still fine after a few uses. Good for the priceFinal Word: Would we purchase again? Yes! | Paddling pool // 5.0 // 24 Aug. 2013 // By\n    \n    Jemrex\n  \n on 24 Aug. 2013 // Very very pleased, after searching lots of shops I found this online. Very easy to blow up and then put water in it. My children love playing in it and very pleased with how fast it was delivered. Thankyou. | As described // 5.0 // 10 April 2015 // By\n    \n    KSMCossington\n  \n on 10 April 2015 // Currently used as a ballpool the grandchildren have loads of fun. Pool as described not sure how sturdy it will be over a period of time and will use as a pool in the summer. Quick delivery. | fantastic // 5.0 // 14 Aug. 2013 // By\n    \n    Caroline Scholes\n  \n on 14 Aug. 2013 // Great for money..pity sun stopped wen i bought it..lol...much cheaper than high street..........would certainly recommend buying this pool well worth it. | Ok // 2.0 // 17 Feb. 2014 // By\n    \n    Mrs Alexandra Robertson\n  \n on 17 Feb. 2014 // Was good to put balls in for a ball pit, then used once on grass with a small amount of water and two out of three rings of the side have deflated. | not what I expected // 3.0 // 6 May 2013 // By\n    \n    Graeme Rawding\n  \n on 6 May 2013 // Does an okay job but looks bigger in the picture . I would go for something bigger being and better quality to be honest but it is ok .",
         null
        ],
        [
         "1617",
         "fb0510ab7db2b42f81abf0d1b62cfa17",
         "Set Of 12 Foam Water Pistol HYDRO STORM Blaster Shooter Pump",
         "KT",
         "£16.99",
         "2 new",
         "2",
         "2.0",
         "4.0 out of 5 stars",
         "Sports Toys & Outdoor > Beach Toys > Water Pistols",
         "http://www.amazon.co.uk/Water-Pistol-HYDRO-Blaster-Shooter/dp/B00L731FRQ | http://www.amazon.co.uk/Speedo-Essential-Endurance-Medalist-Swimsuit/dp/B001ISKF9E | http://www.amazon.co.uk/WATER-BOMB-BALLOONS-MULTICOLOURED | http://www.amazon.co.uk/Water-Bomb-Balloons-x120-pks/dp/B00440Q6R8",
         "Set Of 12 Foam Water Pistol HYDRO STORM Blaster Shooter Pump. Set Of 12 Foam Water Pistol / Blaster Shooter - Swim Pool Toy. Simply immerse the water blaster fully in water - and pull the leaver back to fill. Will shoot up to 6 meters! Each water blaster is 25 cm in length, and pull out to 39 cm when loaded for blasting! Great pool fun toy - please note that the water blaster must be fully immersed in water to build up pressure. Load - ready for the next soaking! You will receive 12 water blasters per order. We also sell these in sets of 6, 8, 12 or 20 - for extra bulk buy savings! Age 5 years +.",
         "Technical Details Item Weight399 g Manufacturer recommended age:4 years and up Manufacturer reference118    Additional Information ASINB00L73JV86 Customer Reviews amznJQ.onReady('popover', function() { (function($) { if($.fn.acrPopover) return; var popoverConfig = { showOnHover:true, showCloseButton: \"ontouchstart\" in document.documentElement, width: null, location:'bottom', locationAlign:'left', locationOffset:[-20,0], group: 'reviewsPopover', clone:false, hoverHideDelay:300 }; $.fn.acrPopover = function() { return this.each(function() { var $this = $(this); if(!$this.data('init') && typeof $this.amazonPopoverTrigger === 'function') { $this.data('init', 1); var ajaxURL = '/gp/customer-reviews/common/du/displayHistoPopAjax.html?' + '&ASIN=' + $this.attr('name') + '&link=1' + '&seeall=1' + '&ref=' + $this.attr('ref'); var myConfig = $.extend(true, { destination: ajaxURL }, popoverConfig); $this.amazonPopoverTrigger(myConfig); } }); }; window.reviewHistPopoverConfig = popoverConfig; var jqInit = window.jQueryInitHistoPopovers = function(asin) { if (typeof $('.acr-popover[name=' + asin + ']').acrPopover === 'function') { $('.acr-popover[name=' + asin + ']').acrPopover(); } }; window.doInit_average_customer_reviews = jqInit; window.onAjaxUpdate_average_customer_reviews = jqInit; window.onCacheUpdate_average_customer_reviews = jqInit; window.onCacheUpdateReselect_average_customer_reviews = jqInit; amznJQ.onCompletion('amznJQ.criticalFeature', function() { setTimeout(function() { amznJQ.declareAvailable('acrPopover'); }, 10); }); })(jQuery); }); amznJQ.onReady('acrPopover', function() { jQuery('.acr-popover').each(function() { if (typeof jQuery(this).acrPopover === 'function') { jQuery(this).acrPopover(); } }); }); 4.0 out of 5 stars See all reviews 2 reviews 4.0 out of 5 stars Best Sellers Rank 287,686 in Toys & Games (See top 100) #154 in Toys & Games > Sports Toys & Outdoor > Beach Toys > Water Pistols Shipping Weight399 g Delivery Destinations:Visit the Delivery Destinations Help page to see where this item can be delivered. Date First Available22 Jun. 2014    Feedback  Would you like to update product info or give feedback on images?",
         "Set Of 12 Foam Water Pistol HYDRO STORM Blaster Shooter Pump. Set Of 12 Foam Water Pistol / Blaster Shooter - Swim Pool Toy. Simply immerse the water blaster fully in water - and pull the leaver back to fill. Will shoot up to 6 meters! Each water blaster is 25 cm in length, and pull out to 39 cm when loaded for blasting! Great pool fun toy - please note that the water blaster must be fully immersed in water to build up pressure. Load - ready for the next soaking! You will receive 12 water blasters per order. We also sell these in sets of 6, 8, 12 or 20 - for extra bulk buy savings! Age 5 years +.",
         "http://www.amazon.co.uk/Water-Pistol-HYDRO-Blaster-Shooter/dp/B00L73PCZC | http://www.amazon.co.uk/Water-Pistol-HYDRO-Blaster-Shooter/dp/B00SX1ZWFQ | http://www.amazon.co.uk/Water-Pistol-HYDRO-Blaster-Shooter/dp/B00L73A78E | http://www.amazon.co.uk/Water-Pistol-HYDRO-Blaster-Shooter/dp/B00L73E9V0",
         null,
         "value for money // 3.0 // 6 July 2015 // By\n    \n    GEOFF BAYLIFF\n  \n on 6 July 2015 // for the price there ok, purchased for a kids water party half have fallen apart but for the price and quantity I would purchase again. | Five Stars // 5.0 // 20 Aug. 2015 // By\n    \n    lucy\n  \n on 20 Aug. 2015 // Great party bag presents",
         "{\"seller\"=>[{\"Seller_name_1\"=>\"Shopping Bazar\", \"Seller_price_1\"=>\"£16.99\"}, {\"Seller_name_2\"=>\"Mighty Oak Trading\", \"Seller_price_2\"=>\"£17.29\"}]}"
        ],
        [
         "1663",
         "31b947a5b469814972178b047f5f3d0d",
         "Set Of 12 Foam Water Pistol HYDRO STORM Blaster Shooter Pump",
         "KT",
         "£14.53",
         "3 new",
         "3",
         "7.0",
         "4.3 out of 5 stars",
         "Sports Toys & Outdoor > Beach Toys > Water Pistols",
         "http://www.amazon.co.uk/Water-Pistol-HYDRO-Blaster-Shooter/dp/B00L73PCZC | http://www.amazon.co.uk/Animal-Parade-180-Chewable-Tablets/dp/B00012NGZI | http://www.amazon.co.uk/Water-Bombs-300-including-nozzle/dp/B005EXN8H0 | http://www.amazon.co.uk/Latex-Rocket-Water-Balloons-Pack/dp/B00160C2BS | http://www.amazon.co.uk/AK-SPORT-Super-Soaker-Scatterblast | http://www.amazon.co.uk/TP-Activity-Toys-Aqua-Slide/dp/B000G7P89A",
         "Set Of 12 Foam Water Pistol HYDRO STORM Blaster Shooter Pump. Set Of 12 Foam Water Pistol / Blaster Shooter - Swim Pool Toy. Simply immerse the water blaster fully in water - and pull the leaver back to fill. Will shoot up to 6 meters! Each water blaster is 25 cm in length, and pull out to 39 cm when loaded for blasting! Great pool fun toy - please note that the water blaster must be fully immersed in water to build up pressure. Load - ready for the next soaking! You will receive 12 water blasters per order. We also sell these in sets of 6, 8, 12 or 20 - for extra bulk buy savings! Age 5 years +.",
         "Technical Details Item Weight440 g Product Dimensions28.6 x 24.2 x 11 cm Manufacturer recommended age:4 years and up Manufacturer reference118    Additional Information ASINB00SX1ZWFQ Best Sellers Rank 73,571 in Toys & Games (See top 100) #40 in Toys & Games > Sports Toys & Outdoor > Beach Toys > Water Pistols Shipping Weight440 g Delivery Destinations:Visit the Delivery Destinations Help page to see where this item can be delivered. Date First Available29 Jan. 2015    Feedback  Would you like to update product info or give feedback on images?",
         "Set Of 12 Foam Water Pistol HYDRO STORM Blaster Shooter Pump. Set Of 12 Foam Water Pistol / Blaster Shooter - Swim Pool Toy. Simply immerse the water blaster fully in water - and pull the leaver back to fill. Will shoot up to 6 meters! Each water blaster is 25 cm in length, and pull out to 39 cm when loaded for blasting! Great pool fun toy - please note that the water blaster must be fully immersed in water to build up pressure. Load - ready for the next soaking! You will receive 12 water blasters per order. We also sell these in sets of 6, 8, 12 or 20 - for extra bulk buy savings! Age 5 years +.",
         "http://www.amazon.co.uk/Water-Pistol-HYDRO-Blaster-Shooter/dp/B00L73PCZC | http://www.amazon.co.uk/Foam-Water-Pistol-Blaster-Shooter/dp/B00BUUXM3G | http://www.amazon.co.uk/HydroStorm | http://www.amazon.co.uk/Water-Pistol-HYDRO-Blaster-Shooter/dp/B00VTWRLZK",
         null,
         "Great, but half were broken! // 3.0 // 6 Jun. 2015 // By\n    \n    Dan\n  \n on 6 Jun. 2015 // Brilliant fun for all the kids, but a shame that 1/2 of them were broken! | Five Stars // 5.0 // 31 July 2015 // By\n    \n    Donal A Galligan\n  \n on 31 July 2015 // Great fun. | Five Stars // 5.0 // 25 Aug. 2015 // By\n    \n    G McComb\n  \n on 25 Aug. 2015 // Perfect...",
         "{\"seller\"=>[{\"Seller_name_1\"=>\"Shopping Bazar\", \"Seller_price_1\"=>\"£14.53\"}, {\"Seller_name_2\"=>\"K Direct\", \"Seller_price_2\"=>\"£14.54\"}, {\"Seller_name_3\"=>\"Concept4U (UK)\", \"Seller_price_3\"=>\"£16.83\"}]}"
        ],
        [
         "1669",
         "fa0ddb20a585d9b6c7f9ee1667d1b0c6",
         "INTEX Inflatable Swimming Paddling Play Pool 3 Ring Blue Toy Kids Childs Childrens Baby Family Sizes - 45'' , 58'' , 66'' Diameter (58'' x 13'')",
         "Intex",
         "£7.99",
         null,
         "22",
         "10.0",
         "4.5 out of 5 stars",
         "Sports Toys & Outdoor > Beach Toys > Beach Toys",
         "http://www.amazon.co.uk/Dermalogica | http://www.amazon.co.uk/Pampers-Baby-Junior-Nappies-Monthly/dp/B00AR9HX3G | http://www.amazon.co.uk/Intex-69611E-Bellows-Foot-Pump/dp/B001ANYRGE | http://www.amazon.co.uk/Pampers-Fragrance-Free-Baby-Wipes/dp/B00ID7CC8A | http://www.amazon.co.uk/The-Cat-Hat-Green-Seuss/dp/0007158440 | http://www.amazon.co.uk/Pampers-Baby-Nappies-Monthly-Saving/dp/B00AR9HWZ0",
         "Colour Name:58'' x 13'' INTEX 3 Ring Paddling Pool This great 3 Ring Inflatable Blue Paddling Pool will keep the kids entertained for hours and is ideal for any garden. Once inflated, depending on the size pool you choose, the pool can hold between 35 and 127 gallons of water. The paddling pool also comes with a repair patch if required. Recommended for ages 3+. 3 sizes available:45\" x 10\" /114cm x 25cm/, holds 35 gallons (132 litres); 58\" x 13\" /147cm x 33cm/, holds 76 gallons (288 litres); 66\" x 16\" /168cm x 41cm/, holds 127 gallons (481 litres); -Ideal for use by children ages 3+ -Pool is supplied with a repair patch",
         "Technical Details Manufacturer recommended age:3 years and up    Additional Information ASINB00C3DZ4EE Best Sellers Rank 193,671 in Toys & Games (See top 100) #245 in Toys & Games > Sports Toys & Outdoor > Beach Toys > Paddling Pools #508 in Toys & Games > Sports Toys & Outdoor > Beach Toys > Beach Toys Delivery Destinations:Visit the Delivery Destinations Help page to see where this item can be delivered. Date First Available29 Mar. 2013    Feedback  Would you like to update product info or give feedback on images?",
         "Colour Name:58'' x 13'' INTEX 3 Ring Paddling Pool This great 3 Ring Inflatable Blue Paddling Pool will keep the kids entertained for hours and is ideal for any garden. Once inflated, depending on the size pool you choose, the pool can hold between 35 and 127 gallons of water. The paddling pool also comes with a repair patch if required. Recommended for ages 3+. 3 sizes available:45\" x 10\" /114cm x 25cm/, holds 35 gallons (132 litres); 58\" x 13\" /147cm x 33cm/, holds 76 gallons (288 litres); 66\" x 16\" /168cm x 41cm/, holds 127 gallons (481 litres); -Ideal for use by children ages 3+ -Pool is supplied with a repair patch",
         "http://www.amazon.co.uk/Bestway-Ocean-Life-122cm/dp/B000NVRTSM | http://www.amazon.co.uk/Intex-59416NP-Crystal-Inflatable | http://www.amazon.co.uk/Bestway-BW51009-Ocean-Life-Pool/dp/B002CIKZ12 | http://www.amazon.co.uk/Rectangular",
         null,
         "good pool // 5.0 // 18 Jan. 2014 // By\n    \n    jo\n  \n on 18 Jan. 2014 // brilliant pool and loads bigger than it looked.Easy fit 4 kiddies in with room left..Recommended buy and sturdy too..Get one ready for the summer as such a good price too | super fast delivery in the height of a heat wave! // 5.0 // 19 Aug. 2013 // By\n    \n    Catherine M\n  \n on 19 Aug. 2013 // ordered it at 2pm one day and it arrived the next morning!  really good quality and just in time for the heatwave!  excellent seller! | Satisfied for the Summer // 5.0 // 9 Aug. 2015 // By\n    \n    Thea\n  \n on 9 Aug. 2015 // Delivery: On timeQuality: Not thick material but seems tough enough and scratch resistant. Size as advertised, certainly big enough for a few 4yo's! Easy to inflate/Deflate. Still fine after a few uses. Good for the priceFinal Word: Would we purchase again? Yes! | Paddling pool // 5.0 // 24 Aug. 2013 // By\n    \n    Jemrex\n  \n on 24 Aug. 2013 // Very very pleased, after searching lots of shops I found this online. Very easy to blow up and then put water in it. My children love playing in it and very pleased with how fast it was delivered. Thankyou. | As described // 5.0 // 10 April 2015 // By\n    \n    KSMCossington\n  \n on 10 April 2015 // Currently used as a ballpool the grandchildren have loads of fun. Pool as described not sure how sturdy it will be over a period of time and will use as a pool in the summer. Quick delivery. | fantastic // 5.0 // 14 Aug. 2013 // By\n    \n    Caroline Scholes\n  \n on 14 Aug. 2013 // Great for money..pity sun stopped wen i bought it..lol...much cheaper than high street..........would certainly recommend buying this pool well worth it. | Ok // 2.0 // 17 Feb. 2014 // By\n    \n    Mrs Alexandra Robertson\n  \n on 17 Feb. 2014 // Was good to put balls in for a ball pit, then used once on grass with a small amount of water and two out of three rings of the side have deflated. | not what I expected // 3.0 // 6 May 2013 // By\n    \n    Graeme Rawding\n  \n on 6 May 2013 // Does an okay job but looks bigger in the picture . I would go for something bigger being and better quality to be honest but it is ok .",
         null
        ],
        [
         "1705",
         "51620830f770b30c89c2faee596bce6b",
         "Konfidence Youth Swim Jacket - Blue/Navy - 10-12 yrs",
         "Konfidence",
         "£29.99",
         "2 new",
         "1",
         "9.0",
         "4.0 out of 5 stars",
         "Sports Toys & Outdoor > Beach Toys > Flotation Devices & Accessories",
         "http://www.amazon.co.uk/Splash-About-Neoprene-Adjustable | http://www.amazon.co.uk/Youth-Junior-Floatation | http://www.amazon.co.uk/TBF-KIDS-SWIM-TRAINING-JACKET/dp/B005SFJIM8 | http://www.amazon.co.uk/Konfidence | http://www.amazon.co.uk/Konfidence | http://www.amazon.co.uk/Children-Kids-Jacket-Swimming-Training/dp/B01006Y8O2",
         "Size Name:10-12 years  |  Colour Name:Blue/Navy Due to popular demand we make the Konfidence Jacket in teenage sizes. The jacket makes it possible to achieve a far better swimming position than alternative swimming aids making learning easier. It's also a more credible alternative for the older user and provides a greater sense of security and comfort. The adjustable crotch strap ensures a snug fit and can be removed if preferred. The jackets are available in Blue/Navy or Pink/Lilac, 8-1o yrs, 10-12yrs or 12-14 yrs. There are also the Konfidence Adult Swim Jackets also available according to chest size.",
         "Technical Details Manufacturer recommended age:10 years and up Colorblue    Additional Information ASINB004J65FV0 Best Sellers Rank 420,259 in Toys & Games (See top 100) #452 in Toys & Games > Sports Toys & Outdoor > Beach Toys > Flotation Devices & Accessories Delivery Destinations:Visit the Delivery Destinations Help page to see where this item can be delivered. Date First Available14 Jan. 2011    Feedback  Would you like to update product info or give feedback on images?",
         "Size Name:10-12 years  |  Colour Name:Blue/Navy Due to popular demand we make the Konfidence Jacket in teenage sizes. The jacket makes it possible to achieve a far better swimming position than alternative swimming aids making learning easier. It's also a more credible alternative for the older user and provides a greater sense of security and comfort. The adjustable crotch strap ensures a snug fit and can be removed if preferred. The jackets are available in Blue/Navy or Pink/Lilac, 8-1o yrs, 10-12yrs or 12-14 yrs. There are also the Konfidence Adult Swim Jackets also available according to chest size.",
         "http://www.amazon.co.uk/Splash-About-Neoprene-Adjustable | http://www.amazon.co.uk/Konfidence | http://www.amazon.co.uk/Youth-Junior-Floatation | http://www.amazon.co.uk/TBF-KIDS-SWIM-TRAINING-JACKET/dp/B005SFJIM8",
         null,
         "nurse steve // 4.0 // 24 Dec. 2011 // By\n    \n    Mr. S. J. Mcconnon\n  \n on 24 Dec. 2011 // This was bought for my son when he was 9 years old and these jackets are excellent as a buoyancy aid and gave him the confidence to stay in the water all the time. Unfortunately he hasn't fully got the concept of swimming.",
         null
        ],
        [
         "1747",
         "60a747385b90c519065bd996c430b9f8",
         "Konfidence Youth Swim Jacket - Blue/Navy - 10-12 yrs",
         "Konfidence",
         "£29.99",
         "2 new",
         "1",
         "1.0",
         "4.0 out of 5 stars",
         "Sports Toys & Outdoor > Beach Toys > Flotation Devices & Accessories",
         "http://www.amazon.co.uk/Splash-About-Neoprene-Adjustable | http://www.amazon.co.uk/Youth-Junior-Floatation | http://www.amazon.co.uk/TBF-KIDS-SWIM-TRAINING-JACKET/dp/B005SFJIM8 | http://www.amazon.co.uk/Konfidence | http://www.amazon.co.uk/Konfidence | http://www.amazon.co.uk/Children-Kids-Jacket-Swimming-Training/dp/B01006Y8O2",
         "Size Name:10-12 years  |  Colour Name:Blue/Navy Due to popular demand we make the Konfidence Jacket in teenage sizes. The jacket makes it possible to achieve a far better swimming position than alternative swimming aids making learning easier. It's also a more credible alternative for the older user and provides a greater sense of security and comfort. The adjustable crotch strap ensures a snug fit and can be removed if preferred. The jackets are available in Blue/Navy or Pink/Lilac, 8-1o yrs, 10-12yrs or 12-14 yrs. There are also the Konfidence Adult Swim Jackets also available according to chest size.",
         "Technical Details Manufacturer recommended age:10 years and up Colorblue    Additional Information ASINB004J65FV0 Best Sellers Rank 420,259 in Toys & Games (See top 100) #452 in Toys & Games > Sports Toys & Outdoor > Beach Toys > Flotation Devices & Accessories Delivery Destinations:Visit the Delivery Destinations Help page to see where this item can be delivered. Date First Available14 Jan. 2011    Feedback  Would you like to update product info or give feedback on images?",
         "Size Name:10-12 years  |  Colour Name:Blue/Navy Due to popular demand we make the Konfidence Jacket in teenage sizes. The jacket makes it possible to achieve a far better swimming position than alternative swimming aids making learning easier. It's also a more credible alternative for the older user and provides a greater sense of security and comfort. The adjustable crotch strap ensures a snug fit and can be removed if preferred. The jackets are available in Blue/Navy or Pink/Lilac, 8-1o yrs, 10-12yrs or 12-14 yrs. There are also the Konfidence Adult Swim Jackets also available according to chest size.",
         "http://www.amazon.co.uk/Splash-About-Neoprene-Adjustable | http://www.amazon.co.uk/Konfidence | http://www.amazon.co.uk/Youth-Junior-Floatation | http://www.amazon.co.uk/TBF-KIDS-SWIM-TRAINING-JACKET/dp/B005SFJIM8",
         null,
         "nurse steve // 4.0 // 24 Dec. 2011 // By\n    \n    Mr. S. J. Mcconnon\n  \n on 24 Dec. 2011 // This was bought for my son when he was 9 years old and these jackets are excellent as a buoyancy aid and gave him the confidence to stay in the water all the time. Unfortunately he hasn't fully got the concept of swimming.",
         null
        ],
        [
         "1808",
         "e429e677677a754741ef6c75141cb4f2",
         "TAVERN WENCH ADULT FANCY DRESS COSTUME LADIES (PIRATES)",
         "Sancto",
         "£22.39 - £41.23",
         null,
         "6",
         "1.0",
         "4.3 out of 5 stars",
         "Fancy Dress > Accessories > Sets & Kits",
         "http://www.amazon.co.uk/Ladies-Oktoberfest | http://www.amazon.co.uk/Tudor-Tavern-Wench-Female-Costume/dp/B008GN2M7C | http://www.amazon.co.uk/California | http://www.amazon.co.uk/Burlesque-Box-Ladies-Oktoberfest | http://www.amazon.co.uk/Ladies-Medieval-Historical | http://www.amazon.co.uk/California | http://www.amazon.co.uk/RENAISSANCE | http://www.amazon.co.uk/CAVEGIRL-ADULT-COSTUME-LADIES-CAVEMEN/dp/B017JENILW | http://www.amazon.co.uk/SHORT-ADULT-FANCY-COSTUME-LADIES/dp/B017JEL0VC | http://www.amazon.co.uk/TIGRESSE-ADULT-COSTUME-LADIES-ANIMALS/dp/B017JEJ79E | http://www.amazon.co.uk/LUCILLA-ADULT-FANCY-COSTUME-LADIES-x/dp/B017JEIYYS | http://www.amazon.co.uk/MEDIEVAL-BEAUTY-ADULT-COSTUME-LADIES/dp/B017JEIZZ6",
         null,
         null,
         null,
         null,
         null,
         "returns difficulty // 4.0 // 17 Nov. 2012 // By\n    \n    Amazon Customer\n  \n on 17 Nov. 2012 // The actual garment was fine but did not fit so had to be returned. Thats when the problem starts. The instructions for returning on the amazone site is automated with a returns voucher being produced for printing off and attaching to return item. However the return address seems to be in Germany and the postage cost reflects the distance. Hardly worth returning, may as well sell on e-bay. Returns address unclear and expensive. Make sure its what you want!! | Okay // 3.0 // 19 Oct. 2013 // By\n    \n    Katie\n  \n on 19 Oct. 2013 // Looks good on though the stitching was all wrong so had to unpick it as they had sewn the burgundy bit into the skirt in the wrong place but for the price its okay. | Well made, quality fabrics! // 5.0 // 25 Nov. 2014 // By\n    \n    Tammy B\n  \n on 25 Nov. 2014 // Great quality especially when you consider the low price. I won best costume at the medieval banquet thanks to this item!",
         "{\"seller\"=>[{\"Seller_name_1\"=>\"Character Fancy Dress\", \"Seller_price_1\"=>\"£41.19\"}, {\"Seller_name_2\"=>\"justlol\", \"Seller_price_2\"=>\"£41.23\"}]}"
        ],
        [
         "2252",
         "d8215aa63f7e07df201a1515d94060c1",
         "XT-XINTE FQ777-124 Pocket Drone 4CH 6Axis Gyro UFO Quadcopter With Switchable Controller RTF Helicopter (Black)",
         "XT-XINTE",
         null,
         "2 new",
         "16",
         "1.0",
         "4.1 out of 5 stars",
         "Hobbies > Remote Controlled Devices > Helicopters & Quadcopters",
         "http://www.amazon.co.uk/XT-XINTE-FQ777-Propeller-Pocket-Quadcopter | http://www.amazon.co.uk/XT-XINTE-124-10-Protective | http://www.amazon.co.uk/FQ777-124-Pocket-Quadcopter | http://www.amazon.co.uk/FQ777-124-Pocket-Quadcopter | http://www.amazon.co.uk/JJRC-Channel-6-Axis-Hexacopter | http://www.amazon.co.uk/Disney-Minnie-Mouse-Magnetic-Sketcher/dp/B0091R2YLG",
         "Colour Name:Black Drone UFO Features: The MINI POCKET DRONE is set up with CF mode(headless) and one key return, which shows this drone is well developed and considered. Unique printing and attractive color design,Small size allows you to fly indoor with limited space. The MINI POCKET DRONE special designed controller is also a storage box for the drone and spare parts. The special controller can achieve: carry the drone/carry spare parts/recharge the drone, also it can be put in your pocket. Controller is designed with MODE1/MODE2 one key swith, which allows everyone to play this drone, no matter you are mode1er/mode2er. Rotor protector is included, as well as landing gears, which are double protection for the rotors and motors, also avoid anyone to get injury. Controller includes a charging cable allows you to charge the drone by batteries in the controller. Also USB cable is available. Lipo battery built-in charge and discharge protection, while powerful motors performs perfect fliping. Drone Helicopter Function: MODE1&MODE2 switch CF mode (headless mode) one key return 360rolling action Notice: For the first time use please full of electricity. Suggestions in the installation of the landing gear after adjust the frequency so that can ensure the gyroscope can accurate calibration. UFO Drone Helicopter Package Included: 1 x FQ777 mini pocket drone(included a 3.7V 100 mah/25C Li-po battery) 1 x Remote Control Transmitter 8 x Propeller(2sets) 1 x Rotor protector 3 x Landing gear (motor protector) 1 x Instruction manual 1 x Quadcopter Battery USB Charger",
         "Technical Details Manufacturer recommended age:14 years and up Item model number$X15171 Assembly RequiredNo Colorblue    Additional Information ASINB00Z6COOF4 Best Sellers Rank 136,291 in Toys & Games (See top 100) #11794 in Toys & Games > Sports Toys & Outdoor Shipping Weight304 g Delivery Destinations:Visit the Delivery Destinations Help page to see where this item can be delivered. Date First Available8 Jun. 2015    Feedback  Would you like to update product info or give feedback on images?",
         "Colour Name:Black Drone UFO Features: The MINI POCKET DRONE is set up with CF mode(headless) and one key return, which shows this drone is well developed and considered. Unique printing and attractive color design,Small size allows you to fly indoor with limited space. The MINI POCKET DRONE special designed controller is also a storage box for the drone and spare parts. The special controller can achieve: carry the drone/carry spare parts/recharge the drone, also it can be put in your pocket. Controller is designed with MODE1/MODE2 one key swith, which allows everyone to play this drone, no matter you are mode1er/mode2er. Rotor protector is included, as well as landing gears, which are double protection for the rotors and motors, also avoid anyone to get injury. Controller includes a charging cable allows you to charge the drone by batteries in the controller. Also USB cable is available. Lipo battery built-in charge and discharge protection, while powerful motors performs perfect fliping. Drone Helicopter Function: MODE1&MODE2 switch CF mode (headless mode) one key return 360rolling action Notice: For the first time use please full of electricity. Suggestions in the installation of the landing gear after adjust the frequency so that can ensure the gyroscope can accurate calibration. UFO Drone Helicopter Package Included: 1 x FQ777 mini pocket drone(included a 3.7V 100 mah/25C Li-po battery) 1 x Remote Control Transmitter 8 x Propeller(2sets) 1 x Rotor protector 3 x Landing gear (motor protector) 1 x Instruction manual 1 x Quadcopter Battery USB Charger",
         null,
         null,
         "It's amazing! // 5.0 // 12 Sept. 2015 // By\n    \n    G Shipman\n  \n on 12 Sept. 2015 // I very rarely bother to write reviews but felt I had to for this one particularly as one of the existing views doesn't paint a fair picture.I've had a few of these and this is the best I've experienced yet. For £17 it's simply amazing. The build quality is better than one I spent twice as much on! I was attracted by how small it is and wasn't disappointed. It is true that this does limit the time the battery lasts for, but 4 mins is a fair assessment. I don't think you could expect more for anything so impressively small!It does take a little bit of practice. You're flying a four channel aircraft in your living room after all but it's gyros our well setup and as forgiving as they possibly could be. I was particularly impressed by the additional features that you'd normally have to pay a lot more for. It has trim on three of the channels; two sensitivity settings; a 3D flight mode enabling se impressive flips; and a self righting system so you can throw it into the air upside down and it'll sort itself out.For £17 it can't be beaten. | XT FQ777 124 Pocket Drone // 5.0 // 6 Feb. 2016 // By\n    \n    sedov\n  \n on 6 Feb. 2016 // Excellent service from the provider of this product  well pleased - The product itself takes some time to set up as the instructions can be hard to follow as there small in size - Once trimmed its a fine piece of kit last about 3 to 4 minutes / It comes with attachments that I recommend you fit as the blades are femma and can break if flown into any surface also continuous charging and flying over time will burn out the micro motors the drone will function but will not take off when this happens. Overall its a great drone if respected for a beginner old or young and for the price a bargain | Robust Fun but with the normal hit and miss instruction booklet // 4.0 // 24 Mar. 2016 // By\n    \n    Amazon Customer\n  \n on 24 Mar. 2016 // Pretty much what I was expecting, with a few little niggles but once sorted it seems to be good value for money.First snag was the charging lead didn't fit, I think there should be a notch at the top of the charging port to locate the lead it was easier to cut the lugs off the charging lead than to make a notch in the cove of the port, the connector is a one way fit only but small enough that BFI could fit it the wrong way.The rotor guard isn't the easiest thing to fit but it does its job, even after it got broken by my wife sitting on it whilst it was charging, the only thing that did so its quite robust.The instruction book...It isn't exactly right, the light stop flashing when it is paired and start to flash slowly as the flight battery runs out. Pairing hmmm Initially I couldn't get it too so I tried to change the mode, this resulted in it taking off and crashing int the ceiling when I tried to pair it afterwards I still haven't worked out the sequence properly, and it has to be done every time you charge it, annoying but worth  messing with. It seems to remember the trim setting a whilst charging which is a good thing as the small size of the controller makes this a bit fiddly a more ergonomic controller would make it nicer, but less portable so swings and roundabouts therelastly a lose hair bit of fluff or a spiders web is enough to slow the motors down and mess up the trim, This is true in my experience of all small copters, but it is a simple matter to remove the blade the hair and refit the blade. | Very happy // 5.0 // 7 Jan. 2016 // By\n    \n    Kath\n  \n on 7 Jan. 2016 // Very happy, will shop again Thank you | Short flight time // 1.0 // 15 Mar. 2016 // By\n    \n    Amazon Customer\n  \n on 15 Mar. 2016 // This is a decent product but a major problem with it is the flight time I am getting, it is horrendous its says about 5 minutes in the description but I only get a maximum of 25 seconds before the battery dies. The suppliers are totally unresponsive as well if you send them a return request. I'm sure the flight time problem will affect a lot of these quadcopters but also there will be a lot of good ones as well, but the quality is really inconsistent. | Great product but... // 4.0 // 21 Mar. 2016 // By\n    \n    Casey\n  \n on 21 Mar. 2016 // I was very impressed with this product and it flies really well . I really like the way the remote can house everything. However  I ordered 3 , one for me  and one each for my siblings , and mine works fine but the other two's stopped working after one crash so just be aware of that when buying . | Fantastic little machine // 5.0 // 13 Oct. 2015 // By\n    \n    Les H\n  \n on 13 Oct. 2015 // Fantastic little machine that I'm using for fun and to practice to get for my bigger drone that's on its way in a few weeks time. Use it indoors though as its easy to lose in long grass. Have a search for quadcopter101 on YouTube as he has a video review on it. | Five Stars // 5.0 // 1 Aug. 2015 // By\n    \n    jozef\n  \n on 1 Aug. 2015 // It does exactly what I expected from it.",
         null
        ],
        [
         "3258",
         "2f846a8dc2327760795dd11b4621d5c5",
         "TAVERN WENCH ADULT FANCY DRESS COSTUME LADIES (PIRATES)",
         "Sancto",
         "£22.00 - £43.99",
         null,
         "6",
         "2.0",
         "4.3 out of 5 stars",
         "Fancy Dress > Costumes > Adults",
         "http://www.amazon.co.uk/PLUSH-COW-HOODED-PONCHO-98/dp/B017JEI43O | http://www.amazon.co.uk/Headdress-Headware-Accessory-Carnival-Costumes/dp/B00KB50N0Q | http://www.amazon.co.uk/Kiss-Lips-Accessory-Fancy-Dress/dp/B004J3OUGY | http://www.amazon.co.uk/Headware-Accessory-Gangster-Costumes-Outfits/dp/B00NIUS0PQ | http://www.amazon.co.uk/Wings-Black-Accessory-Superhero-Fancy/dp/B004LS4YWW | http://www.amazon.co.uk/Moustache-Costumes-Outfits-Accessories | http://www.amazon.co.uk/Headpiece-Headware-Accessory-Creatures-Costumes/dp/B00NIUVH10 | http://www.amazon.co.uk/Hibiscus-Flower-Accessory-Tropical-Hawiian/dp/B009GIMFXW | http://www.amazon.co.uk/Heidi-Wig-blonde-with-pigtails/dp/B0017XOZXM | http://www.amazon.co.uk/Sheriff-Costume-Cowboys-Indians-Outfits/dp/B00IPKLU24 | http://www.amazon.co.uk/Fishnet-Shirts-Costume-Medium-Fancy/dp/B009GIO724 | http://www.amazon.co.uk/Glasses-Accessory-Science-Fiction-Costumes/dp/B00HXWWGAA",
         null,
         null,
         null,
         null,
         null,
         "returns difficulty // 4.0 // 17 Nov. 2012 // By\n    \n    Amazon Customer\n  \n on 17 Nov. 2012 // The actual garment was fine but did not fit so had to be returned. Thats when the problem starts. The instructions for returning on the amazone site is automated with a returns voucher being produced for printing off and attaching to return item. However the return address seems to be in Germany and the postage cost reflects the distance. Hardly worth returning, may as well sell on e-bay. Returns address unclear and expensive. Make sure its what you want!! | Okay // 3.0 // 19 Oct. 2013 // By\n    \n    Katie\n  \n on 19 Oct. 2013 // Looks good on though the stitching was all wrong so had to unpick it as they had sewn the burgundy bit into the skirt in the wrong place but for the price its okay. | Well made, quality fabrics! // 5.0 // 25 Nov. 2014 // By\n    \n    Tammy B\n  \n on 25 Nov. 2014 // Great quality especially when you consider the low price. I won best costume at the medieval banquet thanks to this item!",
         "{\"seller\"=>[{\"Seller_name_1\"=>\"BuySend\", \"Seller_price_1\"=>\"£24.20\"}, {\"Seller_name_2\"=>\"Character Fancy Dress\", \"Seller_price_2\"=>\"£24.21\"}, {\"Seller_name_3\"=>\"Fun Ideas\", \"Seller_price_3\"=>\"£21.86\"}, {\"Seller_name_4\"=>\"justlol\", \"Seller_price_4\"=>\"£34.24\"}, {\"Seller_name_5\"=>\"tablet_books\", \"Seller_price_5\"=>\"£43.99\"}]}"
        ],
        [
         "3458",
         "5bd153363b248694885ee9b3162dc2fe",
         "Meng \"Model 1:35 Toyota Hilux Pick Up Truck w/ZU23-2\" Kit (Multi-Colour)",
         "MENG",
         "£22.99",
         "10 new",
         "3",
         "1.0",
         "4.7 out of 5 stars",
         "Die-Cast & Toy Vehicles > Toy Vehicles & Accessories > Scaled Models > Vehicles",
         "http://www.amazon.co.uk/Meng-Model-Toyota-Anti-Tank-Multi-Colour/dp/B005TEVCSQ | http://www.amazon.co.uk/Deluxe-Materials-Perfect-Plastic-Putty/dp/B0076LAVFK | http://www.amazon.co.uk/T-55A-Russian-Medium-Tank-Military/dp/B000WNCHN8 | http://www.amazon.co.uk/Masterbox-Somewhere-Middle-Present-Figure/dp/B00KTKR7Y8 | http://www.amazon.co.uk/0-5cm-Acrylic-Drawing-Painting-Set-Pack/dp/B007G4ZVKW",
         "Product Description This is the 1/35 scale plastic kit of PICKUP w/ZPU-2. Doors can be assembled in the open or closed position. Complex structure of ZPU-2 AA gun is accurately modelled. The AA gun is moveable and the movement of sight is linked to the gun barrel through linkage system. Two weapon options are provided (ZPU-2/Type 58 AA gun). Precision PE parts are included. Two paint schemes for the Pickup are provided. Overall length: 140mm; width: 57mm Safety Warning not appropriate for children under the age of 14 See all Product Description",
         "Technical Details Item Weight463 g Product Dimensions14 x 5.7 x 6.1 cm Manufacturer recommended age:14 - 18 years Item model numberMMVS005 Manufacturer's Suggested Maximum Weight1000 Grams Main Language(s)Italian manual, German manual, French manual, English manual, Spanish manual, English Number of Puzzle Pieces100 Assembly RequiredYes Scale1:35 Batteries Required?No Batteries Included?No Remote Control Included?No    WEEE Directive Click here for information about recycling electrical and electronic products Additional Information ASINB00JM0M9B2 Best Sellers Rank 292,743 in Toys & Games (See top 100) #767 in Toys & Games > Motorised Model Building Kits > Cars & Vehicles Shipping Weight463 g Delivery Destinations:Visit the Delivery Destinations Help page to see where this item can be delivered. Date First Available27 Jun. 2014    Feedback  Would you like to update product info or give feedback on images?",
         "Product Description This is the 1/35 scale plastic kit of PICKUP w/ZPU-2. Doors can be assembled in the open or closed position. Complex structure of ZPU-2 AA gun is accurately modelled. The AA gun is moveable and the movement of sight is linked to the gun barrel through linkage system. Two weapon options are provided (ZPU-2/Type 58 AA gun). Precision PE parts are included. Two paint schemes for the Pickup are provided. Overall length: 140mm; width: 57mm Safety Warning not appropriate for children under the age of 14 See all Product Description",
         "http://www.amazon.co.uk/Meng-Model-Toyota-Anti-Tank-Multi-Colour/dp/B005TEVCSQ",
         null,
         "Excellent and unusual kit. // 5.0 // 26 Jan. 2015 // By\n    \n    Fergie\n  \n on 26 Jan. 2015 // A superb kit of a different vehicle from the norm. Incredibly highly detailed with fantastic quality throughout. I'm a big fan of Meng kits now. | Great kit but wrongly labelled // 4.0 // 29 Jun. 2015 // By\n    \n    Philip Danzelman\n  \n on 29 Jun. 2015 // Great kit but incorrectly labelled as including the ZU-23 AA gun. It actually includes the ZPU-2 (as on the box pictured). | Five Stars // 5.0 // 29 Oct. 2014 // By\n    \n    J F Murphy\n  \n on 29 Oct. 2014 // Excellent",
         "{\"seller\"=>[{\"Seller_name_1\"=>\"Amazon.co.uk\", \"Seller_price_1\"=>\"£22.99\"}, {\"Seller_name_2\"=>\"Frome Models Centre\", \"Seller_price_2\"=>\"£22.99\"}, {\"Seller_name_3\"=>\"Tiger Hobbies Limited\", \"Seller_price_3\"=>\"£22.99\"}, {\"Seller_name_4\"=>\"eModels uk\", \"Seller_price_4\"=>\"£20.69\"}, {\"Seller_name_5\"=>\"Creative Models Ltd\", \"Seller_price_5\"=>\"£22.99\"}, {\"Seller_name_6\"=>\"Online-Shopping-Mall\", \"Seller_price_6\"=>\"£30.29\"}, {\"Seller_name_7\"=>\"inandout-distribution\", \"Seller_price_7\"=>\"£27.84\"}, {\"Seller_name_8\"=>\"eposti24-de\", \"Seller_price_8\"=>\"£33.44\"}, {\"Seller_name_9\"=>\"TATEYAMA-RENPOU\", \"Seller_price_9\"=>\"£52.00\"}, {\"Seller_name_10\"=>\"MEGA-MAG\", \"Seller_price_10\"=>\"£56.45\"}]}"
        ],
        [
         "3466",
         "b4e8a5abf2362930062262a6b7ee04f7",
         "Super Truck model sound + light 1:24 scale included 4 small F1 cars",
         "SGM ®",
         "£13.99",
         "2 new",
         "6",
         "1.0",
         "4.8 out of 5 stars",
         "Die-Cast & Toy Vehicles > Toy Vehicles & Accessories > Scaled Models > Vehicles",
         "http://www.amazon.co.uk/Super-Truck-model-sound-light/dp/B00DELTQ2U | http://www.amazon.co.uk/FRICTION-TRANSPORTER | http://www.amazon.co.uk/Formula-Racing-Cars-24cm-Sounds/dp/B004Z7SMTU | http://www.amazon.co.uk/Tobar-Scale-Red-Bull-RB9/dp/B00GD9U9N0 | http://www.amazon.co.uk/Siku-Scale-Loader-Deere-Tractors/dp/B00029D1G4 | http://www.amazon.co.uk/Revell-Monogram-Scale-Peterbilt-Conventl-Truck-Multi-Colour/dp/B000BYQFKO",
         "Friction powered truck series with light and sound and four extra cars built -in battery(red)",
         "Technical Details Manufacturer recommended age:3 years and up    Additional Information ASINB00DELT8GY Best Sellers Rank 33,386 in Toys & Games (See top 100) #51 in Toys & Games > Motorised Model Building Kits > Cars & Vehicles Delivery Destinations:Visit the Delivery Destinations Help page to see where this item can be delivered. Date First Available14 Jun. 2013    Feedback  Would you like to update product info or give feedback on images?",
         "Friction powered truck series with light and sound and four extra cars built -in battery(red)",
         "http://www.amazon.co.uk/Super-Truck-model-sound-light/dp/B00DELTQ2U | http://www.amazon.co.uk/FRICTION-TRANSPORTER | http://www.amazon.co.uk/Super-Truck-model-sound-light/dp/B00DELQHSG",
         null,
         "Fab value for money & nice & large & sturdy looking // 5.0 // 25 Nov. 2013 // By\n    \n    Mrs. Christina Segon\n  \n on 25 Nov. 2013 // Bought this for a relatives little boy & I'm almost certain he will love this, it lights up, makes noises & is big with decent sized F1 cars to play with, what more do kids want toys to do. We liked this product so much we have ordered another 1 for another relatives little boy's birthday in a few months time. Arrived in time too | VERY GOOD // 4.0 // 16 Jan. 2015 // By\n    \n    Bevs CORNWALL\n  \n on 16 Jan. 2015 // GRANDSON WAS OVER THE MOON. TRUCK WAS NOT TO PLASTIC. BRILLIANT ESPECIALLY FOR PRICE | Five Stars // 5.0 // 5 May 2015 // By\n    \n    Jane\n  \n on 5 May 2015 // my grandson loves it good value for money",
         "{\"seller\"=>[{\"Seller_name_1\"=>\"SuperStar UK\", \"Seller_price_1\"=>\"£13.99\"}, {\"Seller_name_2\"=>\"H & H Traders\", \"Seller_price_2\"=>\"£13.99\"}]}"
        ],
        [
         "4493",
         "8fc94dcd2e4412a8b1f4dc35704e614f",
         "Zoo Animal Hand Sock Glove Finger Puppets Sack Plush Toy Cow",
         "Nollmit",
         "£2.94",
         "4 new",
         "517",
         "1.0",
         "4.2 out of 5 stars",
         "Puppets & Puppet Theatres > Finger Puppets",
         "http://www.amazon.co.uk/Leegoal-Puppets-Includes-Grandpa-Grandma/dp/B016EIAUBU | http://www.amazon.co.uk/Leegoal-Animal-Finger-Puppet-Children/dp/B016EIAYXY | http://www.amazon.co.uk/10pcs-Velvet-Animal-Finger-Puppets/dp/B008TGTWNS | http://www.amazon.co.uk/Leegoal-Finger-Puppets-Animal-shape/dp/B00570HY8Y | http://www.amazon.co.uk/Finger-Puppets-Toddlers-Preschoolers | http://www.amazon.co.uk/Tonsee%C2%AE-Little-Christmas-Educational",
         "Colour:.Cow Description: Material: Polyester fiber Color: As the pictures Very entertaining for children and easy to use.Your children's bed story will be more lively.Lots of entertainment,just use your imagination.Plush and adorable, great for home, schools and other learning centers. 9 Kinds: Panda, Elephant, Dog, Frog, Rabbit, Cow, Duck, Wolf, Hippo Package Included: 1xAnimal Hand Glove",
         "Technical Details    Additional Information ASINB00PAEUDBW Best Sellers Rank 277,697 in Toys & Games (See top 100) #339 in Toys & Games > Puppets & Puppet Theatres > Finger Puppets #21917 in Baby > Gifts & Keepsakes > Soft Toys Delivery Destinations:Visit the Delivery Destinations Help page to see where this item can be delivered. Date First Available6 Nov. 2014    Feedback  Would you like to update product info or give feedback on images?",
         "Colour:.Cow Description: Material: Polyester fiber Color: As the pictures Very entertaining for children and easy to use.Your children's bed story will be more lively.Lots of entertainment,just use your imagination.Plush and adorable, great for home, schools and other learning centers. 9 Kinds: Panda, Elephant, Dog, Frog, Rabbit, Cow, Duck, Wolf, Hippo Package Included: 1xAnimal Hand Glove",
         "http://www.amazon.co.uk/Leegoal-Finger-Puppets-Animal-shape/dp/B00570HY8Y | http://www.amazon.co.uk/Finger-Puppets-Toddlers-Preschoolers | http://www.amazon.co.uk/Party-Bubbles-for-Favour/dp/B001GMWHNE | http://www.amazon.co.uk/Homgaty-Animals-Puppets-Telling-Birthday-Christmas/dp/B00JRT5MY4",
         null,
         "great item // 5.0 // 10 Jan. 2014 // By\n    \n    Miss Gemma L. Firkins\n  \n on 10 Jan. 2014 // really great item my kids loved them and they were so cheap would 100% recommend make great party bag toys too | great finger puppets // 5.0 // 21 Jan. 2014 // By\n    \n    jill aiken\n  \n on 21 Jan. 2014 // My daughter loves  her finger puppets. Good price compared to others I bought. VeryHappy with my purchase from yourselves | Great stocking filler // 5.0 // 23 Jan. 2014 // By\n    \n    F. Tennant\n  \n on 23 Jan. 2014 // Finger puppets for the children and adults all you need is a stage and your good to go. Great for Developing a Child's Imagination and Creativity | Great value!! // 5.0 // 4 Jan. 2014 // By\n    \n    Lolly\n  \n on 4 Jan. 2014 // Bought as a stocking filling and can't complaint! Brilliant value, little girl loves them, great addition to her puppet theatre! | Daughter laughs every time! // 5.0 // 6 Jan. 2014 // By\n    \n    Peapea\n  \n on 6 Jan. 2014 // Great while feeding her... keeps her busy in the car.... I have to put a voice on and I'm sure she knows its me but she still loves it! | Great little puppets-great value!! // 5.0 // 25 Sept. 2014 // By\n    \n    A lady :)\n  \n on 25 Sept. 2014 // Thank you so much for the puppets. Each family member is distinguishable, with cute details like the tie on the fathers shirt and the bun in the grandmothers hair. My kids loved them straight away.. aged 2 and 4. Definitely worth the money for the effort put into them. Don't know why some are complaining! | Hours of Imaginative Playing // 4.0 // 4 July 2014 // By\n    \n    JanTutor\n  \n on 4 July 2014 // Great value- 6 year old absolutely loves them; I do too! They're durable and although not brilliant quality will last and give hours of enjoyment for a daughter who has the makings of being an Oscar winning director ... Watch this space! | great value for money :) // 5.0 // 11 July 2014 // By\n    \n    leah hobson\n  \n on 11 July 2014 // Arrived quicker than expected. Had a look at them and there great. It'll make a perfect little Christmas gift for my daughter who will be 3 months. Definitely recommend to a friend",
         null
        ],
        [
         "4647",
         "9af78b951e7ba274332b6b06be4bbaf8",
         "Zoo Animal Hand Sock Glove Finger Puppets Sack Plush Toy Cow",
         "Nollmit",
         "£2.94",
         "3 new",
         "512",
         "1.0",
         "4.2 out of 5 stars",
         "Puppets & Puppet Theatres > Finger Puppets",
         "http://www.amazon.co.uk/Leegoal-Velvet-Animal-Finger-Puppets/dp/B016EIAW2C | http://www.amazon.co.uk/10pcs-Velvet-Animal-Finger-Puppets/dp/B008TGTWNS | http://www.amazon.co.uk/Wooden-Airplane-Model-Educational | http://www.amazon.co.uk/Leegoal-Finger-Puppets-Animal-shape/dp/B00570HY8Y | http://www.amazon.co.uk/Soft-Touch-Baby-Wildlife-Set/dp/B0014VF5UE | http://www.amazon.co.uk/niceeshop-Christmas-Snowman-Stories-Puppets/dp/B00GG8VXWE",
         "Colour:.Cow Description: Material: Polyester fiber Color: As the pictures Very entertaining for children and easy to use.Your children's bed story will be more lively.Lots of entertainment,just use your imagination.Plush and adorable, great for home, schools and other learning centers. 9 Kinds: Panda, Elephant, Dog, Frog, Rabbit, Cow, Duck, Wolf, Hippo Package Included: 1xAnimal Hand Glove",
         "Technical Details    Additional Information ASINB00PAEUDBW Best Sellers Rank 70,719 in Toys & Games (See top 100) #95 in Toys & Games > Puppets & Puppet Theatres > Finger Puppets #4773 in Baby > Gifts & Keepsakes > Soft Toys Delivery Destinations:Visit the Delivery Destinations Help page to see where this item can be delivered. Date First Available6 Nov. 2014    Feedback  Would you like to update product info or give feedback on images?",
         "Colour:.Cow Description: Material: Polyester fiber Color: As the pictures Very entertaining for children and easy to use.Your children's bed story will be more lively.Lots of entertainment,just use your imagination.Plush and adorable, great for home, schools and other learning centers. 9 Kinds: Panda, Elephant, Dog, Frog, Rabbit, Cow, Duck, Wolf, Hippo Package Included: 1xAnimal Hand Glove",
         "http://www.amazon.co.uk/Leegoal-Finger-Puppets-Animal-shape/dp/B00570HY8Y | http://www.amazon.co.uk/niceeshop-Christmas-Snowman-Stories-Puppets/dp/B00GG8VXWE | http://www.amazon.co.uk/Finger-Puppets-Toddlers-Preschoolers | http://www.amazon.co.uk/10pcs-Velvet-Animal-Finger-Puppets/dp/B008TGTWNS",
         null,
         "great item // 5.0 // 10 Jan. 2014 // By\n    \n    Miss Gemma L. Firkins\n  \n on 10 Jan. 2014 // really great item my kids loved them and they were so cheap would 100% recommend make great party bag toys too | great finger puppets // 5.0 // 21 Jan. 2014 // By\n    \n    jill aiken\n  \n on 21 Jan. 2014 // My daughter loves  her finger puppets. Good price compared to others I bought. VeryHappy with my purchase from yourselves | Great stocking filler // 5.0 // 23 Jan. 2014 // By\n    \n    F. Tennant\n  \n on 23 Jan. 2014 // Finger puppets for the children and adults all you need is a stage and your good to go. Great for Developing a Child's Imagination and Creativity | Great value!! // 5.0 // 4 Jan. 2014 // By\n    \n    Lolly\n  \n on 4 Jan. 2014 // Bought as a stocking filling and can't complaint! Brilliant value, little girl loves them, great addition to her puppet theatre! | Daughter laughs every time! // 5.0 // 6 Jan. 2014 // By\n    \n    Peapea\n  \n on 6 Jan. 2014 // Great while feeding her... keeps her busy in the car.... I have to put a voice on and I'm sure she knows its me but she still loves it! | Great little puppets-great value!! // 5.0 // 25 Sept. 2014 // By\n    \n    A lady :)\n  \n on 25 Sept. 2014 // Thank you so much for the puppets. Each family member is distinguishable, with cute details like the tie on the fathers shirt and the bun in the grandmothers hair. My kids loved them straight away.. aged 2 and 4. Definitely worth the money for the effort put into them. Don't know why some are complaining! | Hours of Imaginative Playing // 4.0 // 4 July 2014 // By\n    \n    JanTutor\n  \n on 4 July 2014 // Great value- 6 year old absolutely loves them; I do too! They're durable and although not brilliant quality will last and give hours of enjoyment for a daughter who has the makings of being an Oscar winning director ... Watch this space! | great value for money :) // 5.0 // 11 July 2014 // By\n    \n    leah hobson\n  \n on 11 July 2014 // Arrived quicker than expected. Had a look at them and there great. It'll make a perfect little Christmas gift for my daughter who will be 3 months. Definitely recommend to a friend",
         "{\"seller\"=>{\"Seller_name_1\"=>\"coolcase\", \"Seller_price_1\"=>\"£3.00\"}}"
        ],
        [
         "4648",
         "f54f513d55fb1d613f6bf517e03c38a1",
         "Melissa & Doug Princess Puppet",
         "Melissa & Doug",
         "£17.09",
         "3 new",
         "2",
         "1.0",
         "5.0 out of 5 stars",
         "Puppets & Puppet Theatres > Hand Puppets",
         "http://www.amazon.co.uk/Toys-Melissa-Doug-Smoulder-Dragon-Puppet/dp/B004KPKWI6 | http://www.amazon.co.uk/Melissa-Doug-Deluxe-Puppet-Theatre/dp/B0029MKEOO | http://www.amazon.co.uk/Melissa-Doug-13890-King-Puppet/dp/B0026ZPSV8 | http://www.amazon.co.uk/Melissa-Doug-3890-King-Puppet/dp/B000GYSYWG | http://www.amazon.co.uk/Melissa-Doug-13899-Pirate-Puppet/dp/B0026ZPSPY | http://www.amazon.co.uk/Melissa-Doug-12554-Cheerleader",
         "Princess Catherine Castlehoff is regally dressed in purple and gold. This unique royal puppet features elegant hand detailing and materials carefully crafted for years of pretend play!",
         "Technical Details Item Weight454 g Product Dimensions20.3 x 17.8 x 43.2 cm Manufacturer recommended age:36 months - 10 years Item model number3892 Number of Puzzle Pieces1 Assembly RequiredNo Batteries Required?No Batteries Included?No    Additional Information ASINB000GYWXW8 Best Sellers Rank 128,912 in Toys & Games (See top 100) #329 in Toys & Games > Puppets & Puppet Theatres > Hand Puppets Shipping Weight227 g Delivery Destinations:Visit the Delivery Destinations Help page to see where this item can be delivered. Date First Available2 April 2009    Feedback  Would you like to update product info or give feedback on images?",
         "Princess Catherine Castlehoff is regally dressed in purple and gold. This unique royal puppet features elegant hand detailing and materials carefully crafted for years of pretend play!",
         "http://www.amazon.co.uk/Melissa-Doug-13892-Princess-Puppet/dp/B0026ZPSOA | http://www.amazon.co.uk/Melissa-Doug-Deluxe-Puppet-Theatre/dp/B0029MKEOO | http://www.amazon.co.uk/Toys-Melissa-Doug-Smoulder-Dragon-Puppet/dp/B004KPKWI6 | http://www.amazon.co.uk/Melissa-Doug-13890-King-Puppet/dp/B0026ZPSV8",
         null,
         "Five Stars // 5.0 // 27 Nov. 2014 // By\n    \n    elise\n  \n on 27 Nov. 2014 // The product is for my great niece and she will love it. | Five Stars // 5.0 // 31 Dec. 2015 // By\n    \n    janet dale\n  \n on 31 Dec. 2015 // really well made one happy grandchild",
         "{\"seller\"=>[{\"Seller_name_1\"=>\"Buy-For-Less-Online\", \"Seller_price_1\"=>\"£17.09\"}, {\"Seller_name_2\"=>\"Eurozone Marketplace\", \"Seller_price_2\"=>\"£32.95\"}, {\"Seller_name_3\"=>\"francejouet\", \"Seller_price_3\"=>\"£46.55\"}]}"
        ],
        [
         "4969",
         "be4e0e861845a08937b5fc1e4ee19d83",
         "Happy 18th Birthday Party Giant Wall Banner 3 Banners Age 18 Party Decoration",
         "The fancy dress and party store",
         "£1.68",
         "8 new",
         "11",
         "1.0",
         "4.7 out of 5 stars",
         "Party Supplies > Banners, Stickers & Confetti > Banners",
         "http://www.amazon.co.uk/Light-18th-Birthday-Party-Balloons/dp/B00J237Z8Q | http://www.amazon.co.uk/Hanging-Glitz-Prism-Birthday-Decorations | http://www.amazon.co.uk/Glitz-Blue-Birthday-Paper-Napkins/dp/B00477C8RA | http://www.amazon.co.uk/Glitz-Blue-Latex-Birthday-Balloons/dp/B004AKAI12 | http://www.amazon.co.uk/Glitz-Prism-Birthday-Bunting-Banner/dp/B00478GNVG | http://www.amazon.co.uk/BLING-Decorations",
         "Silver banner with coloured letters and numbers, 3 banners per pack each 90cm. Banners are an inexpensive way to quickly transform a space and lend it a party atmosphere.",
         "Technical Details Manufacturer recommended age:16 years and up Item model number10560-18M ColorSilver    Additional Information ASINB00ACH4E2Q Customer Reviews amznJQ.onReady('popover', function() { (function($) { if($.fn.acrPopover) return; var popoverConfig = { showOnHover:true, showCloseButton: \"ontouchstart\" in document.documentElement, width: null, location:'bottom', locationAlign:'left', locationOffset:[-20,0], group: 'reviewsPopover', clone:false, hoverHideDelay:300 }; $.fn.acrPopover = function() { return this.each(function() { var $this = $(this); if(!$this.data('init') && typeof $this.amazonPopoverTrigger === 'function') { $this.data('init', 1); var ajaxURL = '/gp/customer-reviews/common/du/displayHistoPopAjax.html?' + '&ASIN=' + $this.attr('name') + '&link=1' + '&seeall=1' + '&ref=' + $this.attr('ref'); var myConfig = $.extend(true, { destination: ajaxURL }, popoverConfig); $this.amazonPopoverTrigger(myConfig); } }); }; window.reviewHistPopoverConfig = popoverConfig; var jqInit = window.jQueryInitHistoPopovers = function(asin) { if (typeof $('.acr-popover[name=' + asin + ']').acrPopover === 'function') { $('.acr-popover[name=' + asin + ']').acrPopover(); } }; window.doInit_average_customer_reviews = jqInit; window.onAjaxUpdate_average_customer_reviews = jqInit; window.onCacheUpdate_average_customer_reviews = jqInit; window.onCacheUpdateReselect_average_customer_reviews = jqInit; amznJQ.onCompletion('amznJQ.criticalFeature', function() { setTimeout(function() { amznJQ.declareAvailable('acrPopover'); }, 10); }); })(jQuery); }); amznJQ.onReady('acrPopover', function() { jQuery('.acr-popover').each(function() { if (typeof jQuery(this).acrPopover === 'function') { jQuery(this).acrPopover(); } }); }); 4.7 out of 5 stars See all reviews 11 reviews 4.7 out of 5 stars Best Sellers Rank 6,954 in Toys & Games (See top 100) #135 in Toys & Games > Party Supplies > Banners, Stickers & Confetti > Banners Delivery Destinations:Visit the Delivery Destinations Help page to see where this item can be delivered. Date First Available24 Nov. 2012    Feedback  Would you like to update product info or give feedback on images?",
         "Silver banner with coloured letters and numbers, 3 banners per pack each 90cm. Banners are an inexpensive way to quickly transform a space and lend it a party atmosphere.",
         "http://www.amazon.co.uk/Hanging-Glitz-Prism-Birthday-Decorations | http://www.amazon.co.uk/Glitz-Blue-Birthday-Paper-Napkins/dp/B00477C8RA | http://www.amazon.co.uk/Light-18th-Birthday-Party-Balloons/dp/B00J237Z8Q | http://www.amazon.co.uk/18th-Happy-Birthday-Latex-Balloons/dp/B00B2HSZ9I",
         null,
         "Brilliant! // 5.0 // 7 Dec. 2013 // By\n    \n    Beth\n  \n on 7 Dec. 2013 // Fantastic for occasion, quite long to able to cut it and stick it other places as well as one! Very happy! | Brill // 5.0 // 2 Sept. 2014 // By\n    \n    Jade\n  \n on 2 Sept. 2014 // These where a lot wider than I thought they where going yo be they where fantastic ! | Four Stars // 4.0 // 24 Sept. 2015 // By\n    \n    L bowen\n  \n on 24 Sept. 2015 // Banners very good size just gave 4 stars as one teared when splitting them | Great value decoration // 5.0 // 13 July 2014 // By\n    \n    Kathy b\n  \n on 13 July 2014 // Great value effective party decoration . Pleased with it. | Five Stars // 5.0 // 26 Jan. 2016 // By\n    \n    Mani\n  \n on 26 Jan. 2016 // Very nice printing and bright colours. Good size. | Four Stars // 4.0 // 13 Aug. 2014 // By\n    \n    Debonair7\n  \n on 13 Aug. 2014 // Received quickly, slightly smaller than expected",
         null
        ],
        [
         "5022",
         "0c19f1700bd3ce9f6cbc07b40f2bb62a",
         "Happy 6th Birthday Giant Party Wall Banner 3 Banners Age 6 Party Decoration",
         "Gift Zone",
         "£1.65",
         "6 new",
         "8",
         "1.0",
         "4.6 out of 5 stars",
         "Party Supplies > Banners, Stickers & Confetti > Banners",
         "http://www.amazon.co.uk/Birthday-Tropical-Assorted-Qualatex-Balloons/dp/B007JM9F9Y | http://www.amazon.co.uk/Pink-Number-Sparkler-6/dp/B009PKY16U | http://www.amazon.co.uk/unique-Air-Age-6-Balloons/dp/B00B2HSXOU | http://www.amazon.co.uk/small-birthday-badge-girl-5-5cm/dp/B007VQH5C2 | http://www.amazon.co.uk/Silver-Hearts-Holographic | http://www.amazon.co.uk/Glitz-Silver-Number-Sparkler-Candle/dp/B007KJQVV6",
         "Ideal for Decorating your Party Venue The Banner can be used as one complete length or separated along perforations to provide approximately 3 x 90cm design sections Our Banners make great Sashes too if preferred! Overall length 9 Feet (2.7 Metres) and 19cm Wide approx",
         "Technical Details Manufacturer recommended age:3 years and up    Additional Information ASINB009Q835UY Best Sellers Rank 20,581 in Toys & Games (See top 100) #359 in Toys & Games > Party Supplies > Banners, Stickers & Confetti > Banners Delivery Destinations:Visit the Delivery Destinations Help page to see where this item can be delivered. Date First Available13 Oct. 2012    Feedback  Would you like to update product info or give feedback on images?",
         "Ideal for Decorating your Party Venue The Banner can be used as one complete length or separated along perforations to provide approximately 3 x 90cm design sections Our Banners make great Sashes too if preferred! Overall length 9 Feet (2.7 Metres) and 19cm Wide approx",
         "http://www.amazon.co.uk/Silver-Hearts-Holographic | http://www.amazon.co.uk/unique-Air-Age-6-Balloons/dp/B00B2HSXOU | http://www.amazon.co.uk/Birthday-Tropical-Assorted-Qualatex-Balloons/dp/B007JM9F9Y | http://www.amazon.co.uk/Bright-Birthday-Banner-Banners-Decoration",
         null,
         "perfect buy // 5.0 // 30 Mar. 2014 // By\n    \n    Daniela Wilson\n  \n on 30 Mar. 2014 // I bought this for my daughters birthday party and it was perfect. Very big I could have even cut it down to use on a couple of walls. | not as giant as expected but an ok size and ... // 4.0 // 5 Jun. 2015 // By\n    \n    kelly\n  \n on 5 Jun. 2015 // not as giant as expected but an ok size and did use them, more for household decoration rather than decorating a hall | Four Stars // 4.0 // 6 Dec. 2015 // By\n    \n    Amazon Customer\n  \n on 6 Dec. 2015 // Fast delivery but thought I was getting 3seperate banners but they are all on one | Great // 5.0 // 2 July 2014 // By\n    \n    BB\n  \n on 2 July 2014 // Lovely big banner with age on couldn't find these in shops will look here again",
         null
        ],
        [
         "5036",
         "bf6cc97d960ca21f0f4d4ba5cd63795c",
         "Happy 6th Birthday Giant Party Wall Banner 3 Banners Age 6 Party Decoration",
         "The fancy dress and party store",
         "£1.55",
         "7 new",
         "5",
         "1.0",
         "4.6 out of 5 stars",
         "Party Supplies > Banners, Stickers & Confetti > Banners",
         "http://www.amazon.co.uk/unique-Air-Age-6-Balloons/dp/B00B2HSXOU | http://www.amazon.co.uk/Blue-Number-Sparkler-6/dp/B009PKXKJY | http://www.amazon.co.uk/Glitz-Silver-Number-Sparkler-Candle/dp/B007KJQVV6 | http://www.amazon.co.uk/6TH-Birthday-Banner-Boy-Amscan/dp/B00HMR5UIG | http://www.amazon.co.uk/Birthday-Tropical-Assorted-Qualatex-Balloons/dp/B007JM9F9Y | http://www.amazon.co.uk/Bright-Birthday-Banner-Banners-Decoration",
         "Silver banner with coloured letters and numbers, 3 banners per pack each 90cm. Banners are an inexpensive way to quickly transform a space and lend it a party atmosphere.",
         "Technical Details Manufacturer recommended age:6 years and up Item model numberBGQAW652    Additional Information ASINB009Q82W1W Customer Reviews amznJQ.onReady('popover', function() { (function($) { if($.fn.acrPopover) return; var popoverConfig = { showOnHover:true, showCloseButton: \"ontouchstart\" in document.documentElement, width: null, location:'bottom', locationAlign:'left', locationOffset:[-20,0], group: 'reviewsPopover', clone:false, hoverHideDelay:300 }; $.fn.acrPopover = function() { return this.each(function() { var $this = $(this); if(!$this.data('init') && typeof $this.amazonPopoverTrigger === 'function') { $this.data('init', 1); var ajaxURL = '/gp/customer-reviews/common/du/displayHistoPopAjax.html?' + '&ASIN=' + $this.attr('name') + '&link=1' + '&seeall=1' + '&ref=' + $this.attr('ref'); var myConfig = $.extend(true, { destination: ajaxURL }, popoverConfig); $this.amazonPopoverTrigger(myConfig); } }); }; window.reviewHistPopoverConfig = popoverConfig; var jqInit = window.jQueryInitHistoPopovers = function(asin) { if (typeof $('.acr-popover[name=' + asin + ']').acrPopover === 'function') { $('.acr-popover[name=' + asin + ']').acrPopover(); } }; window.doInit_average_customer_reviews = jqInit; window.onAjaxUpdate_average_customer_reviews = jqInit; window.onCacheUpdate_average_customer_reviews = jqInit; window.onCacheUpdateReselect_average_customer_reviews = jqInit; amznJQ.onCompletion('amznJQ.criticalFeature', function() { setTimeout(function() { amznJQ.declareAvailable('acrPopover'); }, 10); }); })(jQuery); }); amznJQ.onReady('acrPopover', function() { jQuery('.acr-popover').each(function() { if (typeof jQuery(this).acrPopover === 'function') { jQuery(this).acrPopover(); } }); }); 4.6 out of 5 stars See all reviews 5 reviews 4.6 out of 5 stars Best Sellers Rank 23,241 in Toys & Games (See top 100) #410 in Toys & Games > Party Supplies > Banners, Stickers & Confetti > Banners Delivery Destinations:Visit the Delivery Destinations Help page to see where this item can be delivered. Date First Available13 Oct. 2012    Feedback  Would you like to update product info or give feedback on images?",
         "Silver banner with coloured letters and numbers, 3 banners per pack each 90cm. Banners are an inexpensive way to quickly transform a space and lend it a party atmosphere.",
         "http://www.amazon.co.uk/unique-Air-Age-6-Balloons/dp/B00B2HSXOU | http://www.amazon.co.uk/Expression | http://www.amazon.co.uk/6TH-Birthday-Banner-Boy-Amscan/dp/B00HMR5UIG | http://www.amazon.co.uk/Punch-Balloons-with-Elastic-PK20/dp/B005UMOX8S",
         null,
         "Banner for a 6 year olds party // 3.0 // 10 Nov. 2013 // By\n    \n    Tracey\n  \n on 10 Nov. 2013 // This banner arrived and was shorter than I had imagined, sizes may have been given on the info on the product but I did not pick up on this. I am sure it will do the job though | arrived promptly, did the job // 5.0 // 9 Sept. 2014 // By\n    \n    squnkymum\n  \n on 9 Sept. 2014 // arrived promptly, did the job | Five Stars // 5.0 // 7 July 2014 // By\n    \n    michelle kennedy\n  \n on 7 July 2014 // Thank you | Looks good // 5.0 // 26 Oct. 2014 // By\n    \n    Blondemoment\n  \n on 26 Oct. 2014 // Great. | Five Stars // 5.0 // 22 Oct. 2014 // By\n    \n    john burns\n  \n on 22 Oct. 2014 // Thanks",
         null
        ],
        [
         "5082",
         "8f3e61375fec47950b5790af01c650c9",
         "Happy 18th Birthday Party Giant Wall Banner 3 Banners Age 18 Party Decoration",
         "Card and Party Store",
         "£1.68",
         "10 new",
         "19",
         "2.0",
         "4.6 out of 5 stars",
         "Party Supplies > Banners, Stickers & Confetti > Banners",
         "http://www.amazon.co.uk/Toys-Glitz-Pink-Latex-Birthday-Balloons/dp/B0050AGGD0 | http://www.amazon.co.uk/Glitz-Prism-Birthday-Bunting-Banner/dp/B004GU8X1I | http://www.amazon.co.uk/FOIL-CENTREPIECE | http://www.amazon.co.uk/Fuschia-18th-Birthday-Party-Balloons/dp/B00IXQQYVW | http://www.amazon.co.uk/Perfectly-Pink-Party-Happy-Birthday-Bunting/dp/B00BQFR2WW | http://www.amazon.co.uk/18TH-BIRTHDAY-HANGING-DECORATION",
         "Perfect for an 18th party celebration! Can be cut into three separate banners for decorating the room. Party 18th banner Happy birthday 18 today Pink banner with Silver letters and numbers 3 banners each approx 90cm long 19cm wide Or use as one length 9 foot long Check out our shop for more 18th gifts and cards!",
         "Technical Details Manufacturer recommended age:16 years and up Item model number10563-18F ColorPink    Additional Information ASINB00ACHIRNS Best Sellers Rank 8,599 in Toys & Games (See top 100) #173 in Toys & Games > Party Supplies > Banners, Stickers & Confetti > Banners Delivery Destinations:Visit the Delivery Destinations Help page to see where this item can be delivered. Date First Available24 Nov. 2012   ",
         "Perfect for an 18th party celebration! Can be cut into three separate banners for decorating the room. Party 18th banner Happy birthday 18 today Pink banner with Silver letters and numbers 3 banners each approx 90cm long 19cm wide Or use as one length 9 foot long Check out our shop for more 18th gifts and cards!",
         "http://www.amazon.co.uk/Silver-Hearts-Holographic | http://www.amazon.co.uk/Toys-Glitz-Pink-Latex-Birthday-Balloons/dp/B0050AGGD0 | http://www.amazon.co.uk/FOIL-CENTREPIECE | http://www.amazon.co.uk/Perfectly-Pink-Party-Happy-Birthday-Bunting/dp/B00BQFR2WW",
         null,
         "happy 18th Banners // 5.0 // 25 Mar. 2014 // By\n    \n    Lynne McCulloch\n  \n on 25 Mar. 2014 // I bought this product for my  daughters 18th. it was decent quality and was reasonably priced. Would buy from here again | 18th Birthday Wall Banner // 5.0 // 28 Feb. 2014 // By\n    \n    L. Mcveigh\n  \n on 28 Feb. 2014 // This was just right for my daughters 18th birthday celebrations, we cut them up so that we had a few around the room | girls banner // 5.0 // 12 Feb. 2014 // By\n    \n    Mrs. P. Burrows\n  \n on 12 Feb. 2014 // lovely and wide also nice and glitzy. come apart easily so can be put about thr room rather than one long one | Great seller // 5.0 // 26 April 2014 // By\n    \n    Timcambs\n  \n on 26 April 2014 // Bargin very pleased with my purchase it does exactly what it says on the packet lol. Great seller. | Five Stars // 5.0 // 21 April 2015 // By\n    \n    Mrs. N. J. Cobley\n  \n on 21 April 2015 // Great value for money, look great and cheaper than the high street stores | Said our message clearly // 4.0 // 13 April 2015 // By\n    \n    Di Billups\n  \n on 13 April 2015 // Great but up by venue on previous night. What a pity good product | Five Stars // 5.0 // 11 Mar. 2015 // By\n    \n    claire burton\n  \n on 11 Mar. 2015 // Very happy with item just as advertised and speedy delivery | Four Stars // 4.0 // 10 Mar. 2016 // By\n    \n    sophie\n  \n on 10 Mar. 2016 // I like the holographic effect and it is good value!",
         null
        ],
        [
         "5765",
         "9b5ae8732a5d830f4450cece18c88991",
         "Power Trains Auto Loader City",
         "Power Trains",
         null,
         "3 new",
         "37",
         "1.0",
         "4.3 out of 5 stars",
         "Hobbies > Model Trains & Railway Sets > Rail Vehicles > Trains",
         "http://www.amazon.co.uk/Power-Trains-Action-Accessories | http://www.amazon.co.uk/Power-Trains-41384-Starter-Set/dp/B007T4KP8C | http://www.amazon.co.uk/Power-Trains-Oval-Track-Pack/dp/B007T4KP7S | http://www.amazon.co.uk/Power-Trains-Motorized-Bullet-Classic/dp/B007T4KNFM | http://www.amazon.co.uk/Trains-Remote-Control-Loader-Express/dp/B00DF0XIJC | http://www.amazon.co.uk/Power-Trains-Freight-Military-Pack/dp/B007T4KOCO",
         "Product Description The ULTIMATE POWER TRAINS SET. This contains 1 Exclusive Motorized Engine, 1 Specialty Car and 3 Basic Cars, 18.8 Feet of Track, 2 Tunnels, 19 accessories and a AUTO LOADER PLAYSET. Box Contains 1 x Motorized Train <18 x feet of track> <4 x carriages> <tunnel> <auto loader>",
         "Technical Details Item Weight1.5 Kg Product Dimensions59.7 x 8.1 x 31.8 cm Batteries:2 AAA batteries required. Manufacturer recommended age:4 - 16 years Item model number41389 Main Language(s)English Number of Game Players1 Assembly RequiredNo Batteries Required?Yes Batteries Included?No Material Type(s)Plastic Material Composition95% plastic, 5% paper Remote Control Included?No Radio Control Suitabilityindoor    Additional Information ASINB007T4KQ40 Best Sellers Rank 86,747 in Toys & Games (See top 100) #53 in Toys & Games > Model Trains & Railway Sets > Rail Vehicles > Trains #14941 in Toys & Games > Dressing Up Shipping Weight1.5 Kg Delivery Destinations:Visit the Delivery Destinations Help page to see where this item can be delivered. Date First Available9 Jun. 2012    Feedback  Would you like to update product info or give feedback on images?",
         "Product Description The ULTIMATE POWER TRAINS SET. This contains 1 Exclusive Motorized Engine, 1 Specialty Car and 3 Basic Cars, 18.8 Feet of Track, 2 Tunnels, 19 accessories and a AUTO LOADER PLAYSET. Box Contains 1 x Motorized Train <18 x feet of track> <4 x carriages> <tunnel> <auto loader>",
         null,
         "Hello, can you please confirm that the motorized machine is the blue one with the yellow letters on, (as the picture) or colors may be diff? Thank Y // No im afraid it isnt, we go grey and green. Hope this helps.",
         "Perfect first semi-grownup train set. // 5.0 // 23 Mar. 2013 // By\n    \n    Matthew Wilson\n  \n on 23 Mar. 2013 // I bought this for my 4 year old nephew as a first semi-grownup train set.  He absolutely loved it and was a total hit on his birthday.  Has plenty of track pieces and easy operation of switch tracks.  I wasn’t overly impressed with the so called ‘auto loader’, as it’s not physically attached to the relevant track piece, it just kind of floats free.  However, the auto stop feature works very well.  The trains can be a little fiddly to couple together and keep on the track at times, but are more than robust enough to withstand a 4 year old.  After a few hours he was swapping the train cars around and easily putting them back on the track when they became derailed.  The actual train motor has two speeds on it. Allowing for easier play and longer battery life (when it’s going slower).  Battery life using a mix of both speeds was easily 6 hours. | 5 yr old likes this // 4.0 // 9 Jan. 2014 // By\n    \n    Becky\n  \n on 9 Jan. 2014 // My 5 yr old really wanted this when saw it on the telly so we got it for him for xmas. He puts it together himself, and spends a good while fiddling about with it. Not very robust feeling, but so far nothing broken, and at age 5 he is reasonably careful. He likes it, so overall a good buy. Also it was the only freight train we could find that wasn't really expensive like Playmobil. | Fab train set- 6 year old grandson loved it- v easy to change track layout and plenty ... // 5.0 // 9 Aug. 2014 // By\n    \n    Johno\n  \n on 9 Aug. 2014 // Fab train set- 6 year old grandson loved it- v easy to change track layout and plenty of accesories. Well worth the money. | A lovely train set. // 5.0 // 2 Jun. 2015 // By\n    \n    P. Sherrington\n  \n on 2 Jun. 2015 // This is great value for money. It was bought for a young lad with ADHD.  He has played and played with it. Yes it is plastic, but it is quite flexible, so the track has been stood on and not broken.  The car loader is fantastic.  The points work brilliantly.  Other than the train being knocked off the track it has never once come off on its own.  I can only assume others have not got the knack of getting the track to clip together properly (there is a knack to it).I would highly recommend this to anyone.  Even our 20 year old son spent time playing with it!.We did have to make a slight modification to the engine.  There is a piece of plastic on the bottom of the battery compartment that kept fouling on the points and stopping the train.  We shaved that off with a knife and off it went. | Power trains perfect // 5.0 // 29 July 2014 // By\n    \n    WaveyDavey\n  \n on 29 July 2014 // Terrific value for our grandchildren. Makes a great track and oodles of entertainment. Impressive | The cars are like something you'd expect from a kinder egg // 1.0 // 13 April 2016 // By\n    \n    Lee Dibbert\n  \n on 13 April 2016 // I was expecting an electric train set. It is battery powered. It is a very cheap looking plastic train set. The cars are like something you'd expect from a kinder egg. I was very dissappointed in this product and wouldn't advise anyone to purchase this. | Power trains auto loader city // 5.0 // 10 Jan. 2015 // By\n    \n    Mre P Kelland\n  \n on 10 Jan. 2015 // Power Trains Auto Loader City:I bought this for my young grandson for Christmas.He was absolutely delighted with it. And I can buy lots of other pieces to add to his collection. | My son loves this // 4.0 // 16 April 2015 // By\n    \n    D. A. Davis\n  \n on 16 April 2015 // My son loves this train set. Very easy to use, so useful to put back in the box when you need the floor space. Great purchase.",
         "{\"seller\"=>[{\"Seller_name_1\"=>\"MadBuy\", \"Seller_price_1\"=>\"£99.99\"}, {\"Seller_name_2\"=>\"DALY store\", \"Seller_price_2\"=>\"£156.28\"}, {\"Seller_name_3\"=>\"DealsCentre\", \"Seller_price_3\"=>\"£185.62\"}]}"
        ],
        [
         "5815",
         "56936e3448ef459c48c331e45fc5fef2",
         "Meng \"Model 1:35 Toyota Hilux Pick Up Truck w/ZU23-2\" Kit (Multi-Colour)",
         "MENG",
         "£42.30",
         "2 new",
         "1",
         null,
         "5.0 out of 5 stars",
         "Die-Cast & Toy Vehicles > Toy Vehicles & Accessories > Scaled Models > Vehicles",
         "http://www.amazon.co.uk/Meng-Model-Toyota-ZU23-2-Multi-Colour/dp/B00JM0M9B2 | http://www.amazon.co.uk/Revell-39604-Contacta-Professional | http://www.amazon.co.uk/JGSDF-Light-Armored-Vehicle-Military/dp/B000VUKL4Y | http://www.amazon.co.uk/ZVEZDA-T-90-Russian-MBT-Model/dp/B004OXVSXC | http://www.amazon.co.uk/Meng-Model-GAZ-233014-Armoured-Multi-Colour/dp/B00CJ340MK",
         "Product Description This 1/35 scale plastic kit of Pickup w/ZU-23-2 is a faithful replica of the real vehicle with accurate outline as well as interior details and optional door positions. Complex structure of ZU-23-2 AA gun is also accurately modelled with traveling/three firing positions available. Precision PE set is included. Two painting schemes for the Pickup are provided. Overall length: 140mm；width: 57mm Safety Warning not appropriate for children under the age of 14 See all Product Description",
         "Technical Details Item Weight372 g Product Dimensions14 x 5.6 x 5.1 cm Manufacturer recommended age:14 - 18 years Item model numberMGK-VS4 Main Language(s)English Number of Puzzle Pieces100 Assembly RequiredYes Scale1:35 Batteries Required?No Batteries Included?No Remote Control Included?No    Additional Information ASINB00C36TCV2 Customer Reviews amznJQ.onReady('popover', function() { (function($) { if($.fn.acrPopover) return; var popoverConfig = { showOnHover:true, showCloseButton: \"ontouchstart\" in document.documentElement, width: null, location:'bottom', locationAlign:'left', locationOffset:[-20,0], group: 'reviewsPopover', clone:false, hoverHideDelay:300 }; $.fn.acrPopover = function() { return this.each(function() { var $this = $(this); if(!$this.data('init') && typeof $this.amazonPopoverTrigger === 'function') { $this.data('init', 1); var ajaxURL = '/gp/customer-reviews/common/du/displayHistoPopAjax.html?' + '&ASIN=' + $this.attr('name') + '&link=1' + '&seeall=1' + '&ref=' + $this.attr('ref'); var myConfig = $.extend(true, { destination: ajaxURL }, popoverConfig); $this.amazonPopoverTrigger(myConfig); } }); }; window.reviewHistPopoverConfig = popoverConfig; var jqInit = window.jQueryInitHistoPopovers = function(asin) { if (typeof $('.acr-popover[name=' + asin + ']').acrPopover === 'function') { $('.acr-popover[name=' + asin + ']').acrPopover(); } }; window.doInit_average_customer_reviews = jqInit; window.onAjaxUpdate_average_customer_reviews = jqInit; window.onCacheUpdate_average_customer_reviews = jqInit; window.onCacheUpdateReselect_average_customer_reviews = jqInit; amznJQ.onCompletion('amznJQ.criticalFeature', function() { setTimeout(function() { amznJQ.declareAvailable('acrPopover'); }, 10); }); })(jQuery); }); amznJQ.onReady('acrPopover', function() { jQuery('.acr-popover').each(function() { if (typeof jQuery(this).acrPopover === 'function') { jQuery(this).acrPopover(); } }); }); 5.0 out of 5 stars See all reviews 1 review 5.0 out of 5 stars Best Sellers Rank 595,083 in Toys & Games (See top 100) #1924 in Toys & Games > Motorised Model Building Kits > Cars & Vehicles Shipping Weight372 g Delivery Destinations:Visit the Delivery Destinations Help page to see where this item can be delivered. Date First Available30 May 2013    Feedback  Would you like to update product info or give feedback on images?",
         "Product Description This 1/35 scale plastic kit of Pickup w/ZU-23-2 is a faithful replica of the real vehicle with accurate outline as well as interior details and optional door positions. Complex structure of ZU-23-2 AA gun is also accurately modelled with traveling/three firing positions available. Precision PE set is included. Two painting schemes for the Pickup are provided. Overall length: 140mm；width: 57mm Safety Warning not appropriate for children under the age of 14 See all Product Description",
         "http://www.amazon.co.uk/Meng-Model-Toyota-ZU23-2-Multi-Colour/dp/B00JM0M9B2 | http://www.amazon.co.uk/Masterbox-Somewhere-Middle-Present-Figure/dp/B00KTKR7Y8",
         null,
         "i would advise you to buy this its great // 5.0 // 17 July 2014 // By\n    \n    Jane\n  \n on 17 July 2014 // arrived on time all bits were with it. excellent buy",
         "{\"seller\"=>[{\"Seller_name_1\"=>\"Amazon.co.uk\", \"Seller_price_1\"=>\"£22.99\"}, {\"Seller_name_2\"=>\"Indalchess\", \"Seller_price_2\"=>\"£42.30\"}]}"
        ],
        [
         "6417",
         "062b36a01be7a910c555a7a5880cab3d",
         "Optimus Prime DMK 01 Transformers Movie Dual Model Kit",
         "Takara Tomy",
         "£108.60",
         "2 new",
         "2",
         "1.0",
         "5.0 out of 5 stars",
         "Characters & Brands > Tomy",
         "http://www.amazon.co.uk/Transformers | http://www.amazon.co.uk/Transformers | http://www.amazon.co.uk/Transformers | http://www.amazon.co.uk/Transformers | http://www.amazon.co.uk/Toys-Transformers | http://www.amazon.co.uk/Special-effects-Revoltech-TRANSFORMERS",
         "Optimus Prime DMK 01 Transformers Movie Dual Model Kit!",
         "Technical Details Item Weight1 Kg Product Dimensions38.7 x 12.7 x 30.5 cm Manufacturer recommended age:15 years and up Item model numberDMK01 Assembly RequiredYes Batteries Required?No Batteries Included?No    Additional Information ASINB00CE3GSIO Best Sellers Rank 350,269 in Toys & Games (See top 100) #12761 in Toys & Games > Figures & Playsets > Science Fiction & Fantasy Shipping Weight1 Kg Delivery Destinations:Visit the Delivery Destinations Help page to see where this item can be delivered. Date First Available19 Nov. 2013    Feedback  Would you like to update product info or give feedback on images?",
         "Optimus Prime DMK 01 Transformers Movie Dual Model Kit!",
         "http://www.amazon.co.uk/Transformers | http://www.amazon.co.uk/Transformers | http://www.amazon.co.uk/Transformers | http://www.amazon.co.uk/Optimus-Evasion-Transformers",
         null,
         "This is possibly the best Optimus Prime figure I have // 5.0 // 4 Oct. 2014 // By\n    \n    Alistair Bennett\n  \n on 4 Oct. 2014 // This is possibly the best Optimus Prime figure I have! Very detailed, very articulated, and extremely accurate to the CGI model! Would recommend this to anyone that looks for accuracy in figures! | Five Stars // 5.0 // 3 Sept. 2014 // By\n    \n    Dwight Samuda\n  \n on 3 Sept. 2014 // My son loves it already in a glass case",
         null
        ],
        [
         "6551",
         "ec127b129e6b6cec2974964b570eaeca",
         "Iron Man 3 Marvel Iron Assemblers Battle Vehicle",
         "Marvel",
         null,
         "1 new",
         "12",
         "1.0",
         "4.6 out of 5 stars",
         "Figures & Playsets > Science Fiction & Fantasy",
         "http://www.amazon.co.uk/Iron-Man-Avengers-Assemblers | http://www.amazon.co.uk/Marvel-Avengers-Ultron-Figures-Vehicle/dp/B00TH93WNM | http://www.amazon.co.uk/MARVEL-THE-AVENGERS-IRON-RACER/dp/B00KBXV1W2 | http://www.amazon.co.uk/Marvel-Iron-Starter-Heroes-Sports/dp/B00CL1BUQY | http://www.amazon.co.uk/Iron-Man-Turbo-Racer-Figure/dp/B0035G0MMM | http://www.amazon.co.uk/Playskool-Marvel-Adventures",
         "Product Description When Iron Man needs to get blasted into battle, he rolls out in his repulsor charged race car. Armoured and amped up for battle, this super fast vehicle roars down the road, ready to convert into power enhanced exo armor at a moment’s notice. Iron Man is the ultimate super powered, heavily armed, powerfully armoured superhero. Now he’s got a repulsor charged car that’s as powerful as he is. This Assemblers Battle Vehicle has hardcore armour just like Iron Man, plus incredible weapon arms that detach from the vehicle and attach to the included Iron Man figure’s arms. When you need to blast him into battle, put your Iron Man figure into the vehicle’s figure launcher and fire him into the fray. Your Iron Man battles are going to be a lot more awesome with this powerful Battle Vehicle. Box Contains 1 x iron man figure3 x weapon arm accessories1 x figure launch accessory1 x instructions",
         "Technical Details Item Weight349 g Product Dimensions30.6 x 22.8 x 8.2 cm Manufacturer recommended age:3 years and up Item model numberA2009E27 Main Language(s)English Batteries Required?No Batteries Included?No Material Care InstructionsA2009    Additional Information ASINB00A46NRXC Best Sellers Rank 115,022 in Toys & Games (See top 100) #3707 in Toys & Games > Figures & Playsets > Science Fiction & Fantasy #9092 in Toys & Games > Sports Toys & Outdoor Shipping Weight581 g Delivery Destinations:Visit the Delivery Destinations Help page to see where this item can be delivered. Date First Available21 Jan. 2013    Feedback  Would you like to update product info or give feedback on images?",
         "Product Description When Iron Man needs to get blasted into battle, he rolls out in his repulsor charged race car. Armoured and amped up for battle, this super fast vehicle roars down the road, ready to convert into power enhanced exo armor at a moment’s notice. Iron Man is the ultimate super powered, heavily armed, powerfully armoured superhero. Now he’s got a repulsor charged car that’s as powerful as he is. This Assemblers Battle Vehicle has hardcore armour just like Iron Man, plus incredible weapon arms that detach from the vehicle and attach to the included Iron Man figure’s arms. When you need to blast him into battle, put your Iron Man figure into the vehicle’s figure launcher and fire him into the fray. Your Iron Man battles are going to be a lot more awesome with this powerful Battle Vehicle. Box Contains 1 x iron man figure3 x weapon arm accessories1 x figure launch accessory1 x instructions",
         "http://www.amazon.co.uk/Marvel-Action-Monster-Rider-Launcher/dp/B00B2JSY6A | http://www.amazon.co.uk/Iron-Marvel-Gauntlet-Mask-included/dp/B00A6SR2I4 | http://www.amazon.co.uk/Marvel-Avengers-Firestrike | http://www.amazon.co.uk/Iron-Marvel-12-inch-Titan-Series/dp/B00A46NRMS",
         null,
         "grandson heaven // 5.0 // 7 Aug. 2013 // By\n    \n    Lashy\n  \n on 7 Aug. 2013 // Bought this product for my grandson who loves Iron man . The product was delivered in perfect condition packaged perfectly. The product was fantastic the figure was a proper figger you would normally pay 10pound ish to buy. The car is great quality a fantastic toy . A happy boy and grandad . The price was great 15 pounds. If you buy you won't be disappointed. | Iron man 3 // 4.0 // 10 Jan. 2014 // By\n    \n    Mrs. B. E. Morris\n  \n on 10 Jan. 2014 // Bought it for my grandchildren for Christmas, as far as I know they are happy with it.  It seems quite strong, which it needs to be.  As long as they like it that's fine. | An amazing christmas present for any boy // 5.0 // 26 Dec. 2013 // By\n    \n    Fiona Westcott\n  \n on 26 Dec. 2013 // Absolutely amazing my 5 year old Nephew loved it.  Would recommend anyone looking for a present for a boy this iss ideal. | a // 5.0 // 5 Dec. 2013 // By\n    \n    miss charlotte randall\n  \n on 5 Dec. 2013 // Son has a spiderman version of this and loves it and he started liking iron man so this will be perfect | toy loved by my son, beautiful colors, good finish // 5.0 // 16 Oct. 2013 // By\n    \n    Joanna\n  \n on 16 Oct. 2013 // subject line described, very nice finish, nice colors, I am very happy, toy loved by my son, beautiful colors, good finish | Came before estimated delivery date, really happy. // 5.0 // 30 Sept. 2013 // By\n    \n    Ellie McKeon\n  \n on 30 Sept. 2013 // Happy with this delivery as it came before estimated delivery date and i was able to wrap in time for a present :)",
         null
        ],
        [
         "6570",
         "093b9505698bbb02e16e3c52d8842597",
         "IdentiPen Dual Point Marker",
         "Identipen",
         "£1.99",
         null,
         "1",
         "1.0",
         "5.0 out of 5 stars",
         "Arts & Crafts > Colouring Pens & Markers",
         null,
         "The Sakura identi pen is a handy dual tip permanent marker. At one end is a fine fibre bullet tip for fine lines and the other has an extra fine plastic bullet tip for more detailed work. It is a permanent marker with archival quality ink that is low odour & Xylene free. The ink is also waterproof and fade resistant. The ink of the Sakura identi pen can be removed from most surfaces using an alcohol based cleaner. They are available in eight vibrant ink colours and are suitable for writing on leather, metal, wood, glass, CDs, plastic and photographs.",
         "Technical Details Manufacturer recommended age:6 years and up    Additional Information ASINB002Q2V6J4 Customer Reviews amznJQ.onReady('popover', function() { (function($) { if($.fn.acrPopover) return; var popoverConfig = { showOnHover:true, showCloseButton: \"ontouchstart\" in document.documentElement, width: null, location:'bottom', locationAlign:'left', locationOffset:[-20,0], group: 'reviewsPopover', clone:false, hoverHideDelay:300 }; $.fn.acrPopover = function() { return this.each(function() { var $this = $(this); if(!$this.data('init') && typeof $this.amazonPopoverTrigger === 'function') { $this.data('init', 1); var ajaxURL = '/gp/customer-reviews/common/du/displayHistoPopAjax.html?' + '&ASIN=' + $this.attr('name') + '&link=1' + '&seeall=1' + '&ref=' + $this.attr('ref'); var myConfig = $.extend(true, { destination: ajaxURL }, popoverConfig); $this.amazonPopoverTrigger(myConfig); } }); }; window.reviewHistPopoverConfig = popoverConfig; var jqInit = window.jQueryInitHistoPopovers = function(asin) { if (typeof $('.acr-popover[name=' + asin + ']').acrPopover === 'function') { $('.acr-popover[name=' + asin + ']').acrPopover(); } }; window.doInit_average_customer_reviews = jqInit; window.onAjaxUpdate_average_customer_reviews = jqInit; window.onCacheUpdate_average_customer_reviews = jqInit; window.onCacheUpdateReselect_average_customer_reviews = jqInit; amznJQ.onCompletion('amznJQ.criticalFeature', function() { setTimeout(function() { amznJQ.declareAvailable('acrPopover'); }, 10); }); })(jQuery); }); amznJQ.onReady('acrPopover', function() { jQuery('.acr-popover').each(function() { if (typeof jQuery(this).acrPopover === 'function') { jQuery(this).acrPopover(); } }); }); 5.0 out of 5 stars See all reviews 1 review 5.0 out of 5 stars Best Sellers Rank 1,261,718 in Toys & Games (See top 100) #3899 in Toys & Games > Arts & Crafts > Colouring Pens & Markers #11953 in Toys & Games > Arts & Crafts > Drawing & Painting Supplies Delivery Destinations:Visit the Delivery Destinations Help page to see where this item can be delivered. Date First Available25 Oct. 2012    Feedback  Would you like to update product info or give feedback on images?",
         "The Sakura identi pen is a handy dual tip permanent marker. At one end is a fine fibre bullet tip for fine lines and the other has an extra fine plastic bullet tip for more detailed work. It is a permanent marker with archival quality ink that is low odour & Xylene free. The ink is also waterproof and fade resistant. The ink of the Sakura identi pen can be removed from most surfaces using an alcohol based cleaner. They are available in eight vibrant ink colours and are suitable for writing on leather, metal, wood, glass, CDs, plastic and photographs.",
         null,
         null,
         "Green for go! // 5.0 // 13 Mar. 2013 // By\n    \n    Magee\n  \n on 13 Mar. 2013 // Lovely pens and they do just what is says on the packet!  I'm gradually getting quite a collection in different colours.",
         "{\"seller\"=>{\"Seller_name_1\"=>\"Pondskipper Crafts\", \"Seller_price_1\"=>\"£1.99\"}}"
        ],
        [
         "6640",
         "232e4e8906252113e9603f576197ada6",
         "Crayola - 9 Glitter Glue",
         "Crayola",
         "£3.50",
         "12 new",
         "41",
         "1.0",
         "4.3 out of 5 stars",
         "Characters & Brands > Crayola",
         "http://www.amazon.co.uk/Artbox-Multi-Colour-Pad-Sheet/dp/B0071910LG | http://www.amazon.co.uk/Crayola-Glitter-Gel-Pens-Pack/dp/B0002HYYGM | http://www.amazon.co.uk/Toys-Galt-Childrens-Glue-120/dp/B000H5V37C | http://www.amazon.co.uk/Artbox-A4-Pastel-Paper-Sheet/dp/B0071DD70O | http://www.amazon.co.uk/Galt-Toys-1003583-Art-Jar/dp/B004UQT2TU | http://www.amazon.co.uk/BCreative-100g-Mixed-Sequins-Spangles/dp/B004U4LM0O",
         "Product Description Add a bit of sparkle and shimmer to your art projects, with the Crayola Glitter Glues. Perfect for decorating cards, pictures and much more! Each pack comes with 9 Glitter Glues, colours include: clear, silver, light green, green, blue, gold, purple, pink and red. Manufacturer's Description Add a bit of sparkle and shimmer to your art projects, with the Crayola Glitter Glues.Perfect for decorating cards, pictures and much more! Each pack comes with 9 Glitter Glues, colours include: clear, silver, light green, green, blue, gold, purple, pink and red.",
         "Technical Details Item Weight159 g Product Dimensions15.5 x 5 x 20 cm Manufacturer recommended age:3 years and up Item model number3.3542 Main Language(s)Italian manual, Spanish manual Assembly RequiredNo Batteries Required?No Batteries Included?No    Additional Information ASINB0006TXE4O Best Sellers Rank 1,565 in Toys & Games (See top 100) #23 in Toys & Games > Arts & Crafts > Colouring Pens & Markers #51 in Toys & Games > Arts & Crafts > Drawing & Painting Supplies Shipping Weight159 g Delivery Destinations:Visit the Delivery Destinations Help page to see where this item can be delivered. Date First Available1 Jan. 2002    Feedback  Would you like to update product info or give feedback on images?",
         "Product Description Add a bit of sparkle and shimmer to your art projects, with the Crayola Glitter Glues. Perfect for decorating cards, pictures and much more! Each pack comes with 9 Glitter Glues, colours include: clear, silver, light green, green, blue, gold, purple, pink and red. Manufacturer's Description Add a bit of sparkle and shimmer to your art projects, with the Crayola Glitter Glues.Perfect for decorating cards, pictures and much more! Each pack comes with 9 Glitter Glues, colours include: clear, silver, light green, green, blue, gold, purple, pink and red.",
         "http://www.amazon.co.uk/Crayola-Glitter-Gel-Pens-Pack/dp/B0002HYYGM | http://www.amazon.co.uk/Glitter-Glue-pens-10pk-crafts/dp/B004178KR8 | http://www.amazon.co.uk/Melissa-Doug-Glitter-Glue-Sticks/dp/B0027YTNP0 | http://www.amazon.co.uk/BCreative-100g-Mixed-Sequins-Spangles/dp/B004U4LM0O",
         null,
         "Great for little and big kids alike! // 5.0 // 7 Feb. 2009 // By\n    \n    Rebecca Pavia\n  \n on 7 Feb. 2009 // I have got 3 children so I did think these would get some use from them. However, I actually bought them to add some sparkle to my home made computer greetings cards at Christmas.I wasn't expecting them to work as well as the traditional glue on paper, sprinkle glitter, shake off method but they actually worked much better.The easy to hold pen design allows for greater definition and control for the placement of lovely sparkly glitter. They come in some really beautiful colours and once dry (takes about 2 hours or so to be totally dry) can create some stunning effects. The glue starts off raised up on the paper after application but you should find it settles down to near flat so that all that is visible is the glitter.Great product for both adults interested in home crafts and children for play and fun. | Glitter Glue Pens // 2.0 // 15 Jun. 2011 // By\n    \n    Aisha Humera\n  \n on 15 Jun. 2011 // Very disappointed as this is a crayola product and was expecting their usual good quality. The pens are more like glue pens rather than glitter glue pens. Apart from 1 or 2 pens the rest didnt not work properly because all the glitter had dried on one side of the tube and only the glue was pumping out. So in the end I cut the tubes and mixed the glitter glue to use it.I would not buy this product again as I saw some cheaper quality ones in sainsbury's today and they seemed to do the job well. | crayola glitter glue // 3.0 // 8 Dec. 2010 // By\n    \n    ammie\n  \n on 8 Dec. 2010 // These glitter glue pens are so much fun to use on cards and pictures. My only problem is that 4 out of the 9 pens only have a centimeter of coloured glitter and the rest is glue. The glitter sits at the bottom and won't mix in with the glue. The other 5 are brilliant to use. | Was expecting easy to use pens for xmas labels // 1.0 // 3 Mar. 2015 // By\n    \n    danielle barrett\n  \n on 3 Mar. 2015 // Was expecting easy to use pens for xmas labels, it takes alot of strength and the gel does not come out steady, so your left with blobs on your letters, very disappointing more in view of being crayola. | Lovely glitter glue pens which have come in useful for many craft activities // 5.0 // 31 Jan. 2015 // By\n    \n    shblue\n  \n on 31 Jan. 2015 // Lovely glitter glue pens which have come in useful for many craft activities. They apply smoothly and easily through the small tip on them, meaning that it is quite easy to be precise when applying it.I was very happy with how quickly and well they dried, and the range of colours that came in the packet!They have lasted well considering how often they have been used, and have been well worth the money. | Difficult // 2.0 // 16 Nov. 2010 // By\n    \n    gerrym0lly\n  \n on 16 Nov. 2010 // Difficult to open pens..no instructions....top had to be unscrewed with pliers, then a green stopper had to be removed.  Children would need adut help unless they were budding engineers.No point in complaining to Crayola... | Excellent value and great selection of jewel like colours // 5.0 // 7 Mar. 2015 // By\n    \n    Bargainhunter\n  \n on 7 Mar. 2015 // Excellent value and great selection of jewel like colours.  Easy to apply in thin or thick layers, dries fairly quickly according to depth.  Not quite 30 minutes, so recommend leaving to thoroughly dry for 1 to 2 hours. Very pleased with this item. | It is a better one. // 5.0 // 12 April 2015 // By\n    \n    yuko\n  \n on 12 April 2015 // Thought it maybe slightly more pricy than the other types available on amazon, it is definitely better !!I got two packs of glitterglues from amazon. The cheaper one was half emptied prior to start using it. This one is much better !!",
         "{\"seller\"=>[{\"Seller_name_1\"=>\"Amazon.co.uk\", \"Seller_price_1\"=>\"£3.50\"}, {\"Seller_name_2\"=>\"Simply Direct ltd\", \"Seller_price_2\"=>\"£3.50\"}, {\"Seller_name_3\"=>\"AbbeyShake\", \"Seller_price_3\"=>\"£3.50\"}, {\"Seller_name_4\"=>\"Fun Collectables\", \"Seller_price_4\"=>\"£5.49\"}, {\"Seller_name_5\"=>\"World Wide Shopping Mall Ltd\", \"Seller_price_5\"=>\"£5.99\"}, {\"Seller_name_6\"=>\"Crazee Deal\", \"Seller_price_6\"=>\"£3.75\"}, {\"Seller_name_7\"=>\"BTBK\", \"Seller_price_7\"=>\"£8.71\"}, {\"Seller_name_8\"=>\"MUCHOJUGUETE\", \"Seller_price_8\"=>\"£5.35\"}, {\"Seller_name_9\"=>\"mikogiocattoli\", \"Seller_price_9\"=>\"£5.78\"}, {\"Seller_name_10\"=>\"life-outlet\", \"Seller_price_10\"=>\"£11.64\"}]}"
        ],
        [
         "6647",
         "cef0dcc45ef62064adce748cd1030e6c",
         "Crayola - 9 Glitter Glue",
         "Crayola",
         "£3.50",
         "12 new",
         "41",
         "1.0",
         "4.3 out of 5 stars",
         "Characters & Brands > Crayola",
         "http://www.amazon.co.uk/Artbox-Multi-Colour-Pad-Sheet/dp/B0071910LG | http://www.amazon.co.uk/Crayola-Glitter-Gel-Pens-Pack/dp/B0002HYYGM | http://www.amazon.co.uk/Toys-Galt-Childrens-Glue-120/dp/B000H5V37C | http://www.amazon.co.uk/Artbox-A4-Pastel-Paper-Sheet/dp/B0071DD70O | http://www.amazon.co.uk/Galt-Toys-1003583-Art-Jar/dp/B004UQT2TU | http://www.amazon.co.uk/BCreative-100g-Mixed-Sequins-Spangles/dp/B004U4LM0O",
         "Product Description Add a bit of sparkle and shimmer to your art projects, with the Crayola Glitter Glues. Perfect for decorating cards, pictures and much more! Each pack comes with 9 Glitter Glues, colours include: clear, silver, light green, green, blue, gold, purple, pink and red. Manufacturer's Description Add a bit of sparkle and shimmer to your art projects, with the Crayola Glitter Glues.Perfect for decorating cards, pictures and much more! Each pack comes with 9 Glitter Glues, colours include: clear, silver, light green, green, blue, gold, purple, pink and red.",
         "Technical Details Item Weight159 g Product Dimensions15.5 x 5 x 20 cm Manufacturer recommended age:3 years and up Item model number3.3542 Main Language(s)Italian manual, Spanish manual Assembly RequiredNo Batteries Required?No Batteries Included?No    Additional Information ASINB0006TXE4O Customer Reviews amznJQ.onReady('popover', function() { (function($) { if($.fn.acrPopover) return; var popoverConfig = { showOnHover:true, showCloseButton: \"ontouchstart\" in document.documentElement, width: null, location:'bottom', locationAlign:'left', locationOffset:[-20,0], group: 'reviewsPopover', clone:false, hoverHideDelay:300 }; $.fn.acrPopover = function() { return this.each(function() { var $this = $(this); if(!$this.data('init') && typeof $this.amazonPopoverTrigger === 'function') { $this.data('init', 1); var ajaxURL = '/gp/customer-reviews/common/du/displayHistoPopAjax.html?' + '&ASIN=' + $this.attr('name') + '&link=1' + '&seeall=1' + '&ref=' + $this.attr('ref'); var myConfig = $.extend(true, { destination: ajaxURL }, popoverConfig); $this.amazonPopoverTrigger(myConfig); } }); }; window.reviewHistPopoverConfig = popoverConfig; var jqInit = window.jQueryInitHistoPopovers = function(asin) { if (typeof $('.acr-popover[name=' + asin + ']').acrPopover === 'function') { $('.acr-popover[name=' + asin + ']').acrPopover(); } }; window.doInit_average_customer_reviews = jqInit; window.onAjaxUpdate_average_customer_reviews = jqInit; window.onCacheUpdate_average_customer_reviews = jqInit; window.onCacheUpdateReselect_average_customer_reviews = jqInit; amznJQ.onCompletion('amznJQ.criticalFeature', function() { setTimeout(function() { amznJQ.declareAvailable('acrPopover'); }, 10); }); })(jQuery); }); amznJQ.onReady('acrPopover', function() { jQuery('.acr-popover').each(function() { if (typeof jQuery(this).acrPopover === 'function') { jQuery(this).acrPopover(); } }); }); 4.3 out of 5 stars See all reviews 41 reviews 4.3 out of 5 stars Best Sellers Rank 1,565 in Toys & Games (See top 100) #23 in Toys & Games > Arts & Crafts > Colouring Pens & Markers #51 in Toys & Games > Arts & Crafts > Drawing & Painting Supplies Shipping Weight159 g Delivery Destinations:Visit the Delivery Destinations Help page to see where this item can be delivered. Date First Available1 Jan. 2002    Feedback  Would you like to update product info or give feedback on images?",
         "Product Description Add a bit of sparkle and shimmer to your art projects, with the Crayola Glitter Glues. Perfect for decorating cards, pictures and much more! Each pack comes with 9 Glitter Glues, colours include: clear, silver, light green, green, blue, gold, purple, pink and red. Manufacturer's Description Add a bit of sparkle and shimmer to your art projects, with the Crayola Glitter Glues.Perfect for decorating cards, pictures and much more! Each pack comes with 9 Glitter Glues, colours include: clear, silver, light green, green, blue, gold, purple, pink and red.",
         "http://www.amazon.co.uk/Crayola-Glitter-Gel-Pens-Pack/dp/B0002HYYGM | http://www.amazon.co.uk/Glitter-Glue-pens-10pk-crafts/dp/B004178KR8 | http://www.amazon.co.uk/Melissa-Doug-Glitter-Glue-Sticks/dp/B0027YTNP0 | http://www.amazon.co.uk/BCreative-100g-Mixed-Sequins-Spangles/dp/B004U4LM0O",
         null,
         "Great for little and big kids alike! // 5.0 // 7 Feb. 2009 // By\n    \n    Rebecca Pavia\n  \n on 7 Feb. 2009 // I have got 3 children so I did think these would get some use from them. However, I actually bought them to add some sparkle to my home made computer greetings cards at Christmas.I wasn't expecting them to work as well as the traditional glue on paper, sprinkle glitter, shake off method but they actually worked much better.The easy to hold pen design allows for greater definition and control for the placement of lovely sparkly glitter. They come in some really beautiful colours and once dry (takes about 2 hours or so to be totally dry) can create some stunning effects. The glue starts off raised up on the paper after application but you should find it settles down to near flat so that all that is visible is the glitter.Great product for both adults interested in home crafts and children for play and fun. | Glitter Glue Pens // 2.0 // 15 Jun. 2011 // By\n    \n    Aisha Humera\n  \n on 15 Jun. 2011 // Very disappointed as this is a crayola product and was expecting their usual good quality. The pens are more like glue pens rather than glitter glue pens. Apart from 1 or 2 pens the rest didnt not work properly because all the glitter had dried on one side of the tube and only the glue was pumping out. So in the end I cut the tubes and mixed the glitter glue to use it.I would not buy this product again as I saw some cheaper quality ones in sainsbury's today and they seemed to do the job well. | crayola glitter glue // 3.0 // 8 Dec. 2010 // By\n    \n    ammie\n  \n on 8 Dec. 2010 // These glitter glue pens are so much fun to use on cards and pictures. My only problem is that 4 out of the 9 pens only have a centimeter of coloured glitter and the rest is glue. The glitter sits at the bottom and won't mix in with the glue. The other 5 are brilliant to use. | Was expecting easy to use pens for xmas labels // 1.0 // 3 Mar. 2015 // By\n    \n    danielle barrett\n  \n on 3 Mar. 2015 // Was expecting easy to use pens for xmas labels, it takes alot of strength and the gel does not come out steady, so your left with blobs on your letters, very disappointing more in view of being crayola. | Lovely glitter glue pens which have come in useful for many craft activities // 5.0 // 31 Jan. 2015 // By\n    \n    shblue\n  \n on 31 Jan. 2015 // Lovely glitter glue pens which have come in useful for many craft activities. They apply smoothly and easily through the small tip on them, meaning that it is quite easy to be precise when applying it.I was very happy with how quickly and well they dried, and the range of colours that came in the packet!They have lasted well considering how often they have been used, and have been well worth the money. | Difficult // 2.0 // 16 Nov. 2010 // By\n    \n    gerrym0lly\n  \n on 16 Nov. 2010 // Difficult to open pens..no instructions....top had to be unscrewed with pliers, then a green stopper had to be removed.  Children would need adut help unless they were budding engineers.No point in complaining to Crayola... | Excellent value and great selection of jewel like colours // 5.0 // 7 Mar. 2015 // By\n    \n    Bargainhunter\n  \n on 7 Mar. 2015 // Excellent value and great selection of jewel like colours.  Easy to apply in thin or thick layers, dries fairly quickly according to depth.  Not quite 30 minutes, so recommend leaving to thoroughly dry for 1 to 2 hours. Very pleased with this item. | It is a better one. // 5.0 // 12 April 2015 // By\n    \n    yuko\n  \n on 12 April 2015 // Thought it maybe slightly more pricy than the other types available on amazon, it is definitely better !!I got two packs of glitterglues from amazon. The cheaper one was half emptied prior to start using it. This one is much better !!",
         "{\"seller\"=>[{\"Seller_name_1\"=>\"Amazon.co.uk\", \"Seller_price_1\"=>\"£3.50\"}, {\"Seller_name_2\"=>\"Simply Direct ltd\", \"Seller_price_2\"=>\"£3.50\"}, {\"Seller_name_3\"=>\"AbbeyShake\", \"Seller_price_3\"=>\"£3.50\"}, {\"Seller_name_4\"=>\"Fun Collectables\", \"Seller_price_4\"=>\"£5.49\"}, {\"Seller_name_5\"=>\"World Wide Shopping Mall Ltd\", \"Seller_price_5\"=>\"£5.99\"}, {\"Seller_name_6\"=>\"Crazee Deal\", \"Seller_price_6\"=>\"£3.75\"}, {\"Seller_name_7\"=>\"BTBK\", \"Seller_price_7\"=>\"£8.71\"}, {\"Seller_name_8\"=>\"MUCHOJUGUETE\", \"Seller_price_8\"=>\"£5.35\"}, {\"Seller_name_9\"=>\"mikogiocattoli\", \"Seller_price_9\"=>\"£5.78\"}, {\"Seller_name_10\"=>\"life-outlet\", \"Seller_price_10\"=>\"£11.64\"}]}"
        ],
        [
         "6720",
         "f73f046eceafa96a810fedf94ae7ce69",
         "IdentiPen Dual Point Marker",
         "Identipen",
         "£1.99",
         null,
         "1",
         "4.0",
         "5.0 out of 5 stars",
         "Arts & Crafts > Colouring Pens & Markers",
         null,
         "The Sakura identi pen is a handy dual tip permanent marker. At one end is a fine fibre bullet tip for fine lines and the other has an extra fine plastic bullet tip for more detailed work. It is a permanent marker with archival quality ink that is low odour & Xylene free. The ink is also waterproof and fade resistant. The ink of the Sakura identi pen can be removed from most surfaces using an alcohol based cleaner. They are available in eight vibrant ink colours and are suitable for writing on leather, metal, wood, glass, CDs, plastic and photographs.",
         "Technical Details Manufacturer recommended age:5 years and up    Additional Information ASINB002Q2RODQ Best Sellers Rank 1,020,064 in Toys & Games (See top 100) #3422 in Toys & Games > Arts & Crafts > Colouring Pens & Markers #10113 in Toys & Games > Arts & Crafts > Drawing & Painting Supplies Delivery Destinations:Visit the Delivery Destinations Help page to see where this item can be delivered. Date First Available25 Oct. 2012    Feedback  Would you like to update product info or give feedback on images?",
         "The Sakura identi pen is a handy dual tip permanent marker. At one end is a fine fibre bullet tip for fine lines and the other has an extra fine plastic bullet tip for more detailed work. It is a permanent marker with archival quality ink that is low odour & Xylene free. The ink is also waterproof and fade resistant. The ink of the Sakura identi pen can be removed from most surfaces using an alcohol based cleaner. They are available in eight vibrant ink colours and are suitable for writing on leather, metal, wood, glass, CDs, plastic and photographs.",
         null,
         null,
         "Sadura identi-pen // 5.0 // 13 Mar. 2013 // By\n    \n    Magee\n  \n on 13 Mar. 2013 // Perfect for identifying fabric items when you can't sew a label onto them .  Very speedy delivery too.  I'm building a collection of colours for my patchwork quilts.",
         "{\"seller\"=>{\"Seller_name_1\"=>\"Pondskipper Crafts\", \"Seller_price_1\"=>\"£1.99\"}}"
        ],
        [
         "6778",
         "218e46904069f6535f217a17a7cccfcb",
         "Melissa & Doug Stacking Construction Vehicles",
         "Melissa & Doug",
         "£10.99",
         "21 new",
         "19",
         "3.0",
         "4.8 out of 5 stars",
         "Baby & Toddler Toys > Sorting, Stacking & Plugging Toys",
         "http://www.amazon.co.uk/Melissa-Doug-Digger-Low-Loader/dp/B00BEW2KVU | http://www.amazon.co.uk/Melissa-Doug-14096-Car-Transporter | http://www.amazon.co.uk/Melissa-and-Doug-Low-Loader/dp/B007ZPW7I6 | http://www.amazon.co.uk/Melissa-Doug-14549-Rubbish-Truck/dp/B00HWHO19K | http://www.amazon.co.uk/Melissa-Doug-Magnetic-Car-Loader/dp/B00J1XE1T8 | http://www.amazon.co.uk/Melissa-Doug-Big-Rig-Building/dp/B00BEW25CO",
         "Product Description Little builders will love these Stacking Construction Vehicles from Melissa and Doug. There are three chunky wooden vehicles to play with - a bulldozer, dump truck and cement mixer.  And each one is made of solid wood parts for lots of building and re-building fun. You can even push the colourful trio along thanks to their free-wheeling base - Perfect for workers in a hurry! This high quality playset is ideal for kids aged three and up. Manufacturer's Description Always prepared for a hard day’s work, these three chunky, wooden construction vehicles, packaged as a set, include a bulldozer, a dump truck and a cement mixer. Each vehicle has a free wheeling base and is constructed of solid wood stacking parts. The fun is endless, as they can be taken apart and rebuilt again and again!! See all Product Description",
         "Technical Details Item Weight1.8 Kg Product Dimensions45.1 x 10.5 x 7.5 cm Manufacturer recommended age:36 months - 6 years Item model number13076 Educational Objective(s)Spacial Awareness Assembly RequiredNo Batteries Required?No Batteries Included?No Material Type(s)wood    Additional Information ASINB0033UX0BK Best Sellers Rank 33,704 in Toys & Games (See top 100) #97 in Toys & Games > Toddler Toys > Sorting, Stacking & Plugging Toys Shipping Weight780 g Delivery Destinations:Visit the Delivery Destinations Help page to see where this item can be delivered. Date First Available11 Jan. 2010    Feedback  Would you like to update product info or give feedback on images?",
         "Product Description Little builders will love these Stacking Construction Vehicles from Melissa and Doug. There are three chunky wooden vehicles to play with - a bulldozer, dump truck and cement mixer.  And each one is made of solid wood parts for lots of building and re-building fun. You can even push the colourful trio along thanks to their free-wheeling base - Perfect for workers in a hurry! This high quality playset is ideal for kids aged three and up. Manufacturer's Description Always prepared for a hard day’s work, these three chunky, wooden construction vehicles, packaged as a set, include a bulldozer, a dump truck and a cement mixer. Each vehicle has a free wheeling base and is constructed of solid wood stacking parts. The fun is endless, as they can be taken apart and rebuilt again and again!! See all Product Description",
         "http://www.amazon.co.uk/Melissa-Doug-14096-Car-Transporter | http://www.amazon.co.uk/Melissa-Doug-10572-Stacking-Train/dp/B0007LLMM2 | http://www.amazon.co.uk/Melissa-Doug-Magnetic-Car-Loader/dp/B00J1XE1T8 | http://www.amazon.co.uk/Melissa-Doug-Digger-Low-Loader/dp/B00BEW2KVU",
         null,
         "Sturdy vehicles that double up as 3D puzzles // 5.0 // 26 Mar. 2012 // By\n    \n    Seren Ade\n  \nHALL OF FAMETOP 500 REVIEWER on 26 Mar. 2012 // Set includes:Dumper TruckCement MixerBulldozer ('Digger')The construction vehicles in this set each consist of 5 take-apart pieces (supporting early numeracy  targets of counting up to 5 using 1:1 correspondence). Everything is chunky and well-made. Where the vehicles have been painted, the colours are bright and appealing, but it's nice to see that some sections retain their natural wood effect. Once assembled, the scoop section of the bulldozer can be moved up and down. | Good solid toy set at a great price // 4.0 // 7 Dec. 2011 // By\n    \n    JohnCL\n  \n on 7 Dec. 2011 // Our 3 year old grandson really liked this very solidly constructed toy set and was soon trying all possible ways to assemble the individual vehicles. It clearly helps to improve shape recognition and assembly skills. | Melissa and Doug // 4.0 // 29 Dec. 2012 // By\n    \n    LoMuds\n  \n on 29 Dec. 2012 // is a firm favourite of mine when it comes to buying gifts. My Son now has around 10 different puzzles and toys from them and they look nice, withstand his sometimes aggressive play and always ensure there is a fun learning aspect at the same time. These stacking vehicles are no different but I do prefer the Train which we have and have given as a gift twice and always becomes a firm favourite. None the less this is money well spent and any little boy would be happy to receive this. | Good quality product // 5.0 // 3 Jan. 2013 // By\n    \n    Sally H\n  \n on 3 Jan. 2013 // Bought this for a Christmas gift so have not actually opened the packaging. However, through the cellophane it looks like a sturdy, well constructed toy. It looks larger than I thought it would be and I think the 2.5 year old boy we bought it for will love it! My daughter has the Melissa and Doug stacking train, which is really good quality and an excellent toy too | Ought to buy it again. // 5.0 // 27 April 2013 // By\n    \n    Lunareef\n  \n on 27 April 2013 // I bought these for a friends child but wish I had bought them for mine too as they are lovely. Well made, nice colours, not plastic and interactive as there are components that come off in order to stack again. Lovely. | A  Solid Toy // 5.0 // 24 Nov. 2013 // By\n    \n    Judy\n  \n on 24 Nov. 2013 // It is a Christmas present so the child hasn't seen it as yet.  It looks well built, the colours are nice and bright and the size is just right for little hands. I am sure he will get lots of play out of this. | Highly recommended, Well worth the price! // 5.0 // 19 May 2014 // By\n    \n    Miss K\n  \n on 19 May 2014 // I cannot recommend these toys enough. My construction vehicle mad 2year old adores them and they have become a firm favorite. When they arrived I was suprised as they are alot bigger than I expected, which is great for clumsy little hands. Nice and chunky and easy for little ones to disassemble and reassemble and lovely bright colours. I really love these and any toddler would, I will certainly be purchasing more similar ones from M&D and a set of these again for my sons baby cousin for his 3rd birthday. | LGS loves them // 5.0 // 24 Dec. 2012 // By\n    \n    R T Minimal\n  \n on 24 Dec. 2012 // My grandson age 2 loves these and plays with them every day. Sometimes he stacks them (always in their original order), sometimes he races the bare bogies. They are one of his favourite toys. Well made and strong for little hands.",
         null
        ],
        [
         "6801",
         "75130be952b7c9cd3e2e6c864ff835b5",
         "Melissa & Doug Stacking Construction Vehicles",
         "Melissa & Doug",
         "£35.08",
         null,
         "1",
         "2.0",
         "5.0 out of 5 stars",
         "Baby & Toddler Toys > Sorting, Stacking & Plugging Toys",
         "http://www.amazon.co.uk/Melissa-Doug-Stacking-Construction | http://www.amazon.co.uk/Melissa-Doug-14096-Car-Transporter | http://www.amazon.co.uk/Melissa-Doug-Digger-Low-Loader/dp/B00BEW2KVU | http://www.amazon.co.uk/Melissa-Doug-Wooden-Farm-Train/dp/B004KPKWMW | http://www.amazon.co.uk/Melissa-Doug-Stacking-Emergency-Vehicles/dp/B000VNXSPK",
         "Always prepared for a hard day's work, these three chunky, wooden construction vehicles, packaged as a set, include a bulldozer, a dump truck and a cement mixer. Each vehicle has a free wheeling base and is constructed of solid wood stacking parts. The fun is endless, as they can be taken apart and rebuilt again and again!!",
         "Technical Details Item Weight907 g Product Dimensions45.7 x 12.7 x 7.6 cm Manufacturer recommended age:36 months - 10 years Item model number3076 Main Language(s)English published, English Number of Puzzle Pieces1 Assembly RequiredNo Batteries Required?No Batteries Included?No    Additional Information ASINB000VNZTQQ Best Sellers Rank 459,689 in Toys & Games (See top 100) #984 in Toys & Games > Toddler Toys > Sorting, Stacking & Plugging Toys Shipping Weight748 g Delivery Destinations:Visit the Delivery Destinations Help page to see where this item can be delivered. Date First Available20 Feb. 2008    Feedback  Would you like to update product info or give feedback on images?",
         "Always prepared for a hard day's work, these three chunky, wooden construction vehicles, packaged as a set, include a bulldozer, a dump truck and a cement mixer. Each vehicle has a free wheeling base and is constructed of solid wood stacking parts. The fun is endless, as they can be taken apart and rebuilt again and again!!",
         "http://www.amazon.co.uk/Melissa-Doug-Stacking-Construction | http://www.amazon.co.uk/Melissa-Doug-14096-Car-Transporter | http://www.amazon.co.uk/Melissa-Doug-Magnetic-Car-Loader/dp/B00J1XE1T8",
         null,
         "Puzzling vehicles // 5.0 // 26 Mar. 2012 // By\n    \n    Seren Ade\n  \nHALL OF FAMETOP 100 REVIEWER on 26 Mar. 2012 // The construction vehicles in this set each consist of 5 take-apart pieces. Everything is chunky and well-made. Where the vehicles have been painted, the colours are bright and appealing, but it's nice to see that some sections retain their natural wood effect. Once assembled, the scoop section of the digger can be moved up and down, though the wooden fixing pegs prevent additional action from either the cement mixer or the dumper truck.",
         null
        ],
        [
         "6858",
         "b9c5c69370b131717378ddeecbc35c55",
         "Aivtalk Transport Trailer Car Carrier Truck Toy for Boys (includes 4 Cars) - Multicolor",
         "Aivtalk",
         null,
         "3 new",
         "73",
         "2.0",
         "4.5 out of 5 stars",
         "Baby & Toddler Toys > Pushchair Toys",
         "http://www.amazon.co.uk/Corgi-Scale-Eddie-Stobart-Transporter | http://www.amazon.co.uk/Peterkin-Scale-Royal-Volvo-Truck/dp/B00F5YVHUS | http://www.amazon.co.uk/Corgi-Toys-Eddie-Stobart-Vehicle/dp/B00FWTAWCK | http://www.amazon.co.uk/Corgi-Toys-TY86646-Superhaulers | http://www.amazon.co.uk/Corgi-Superhaulers | http://www.amazon.co.uk/Peterkin-Scale-Eddie-Stobart-Volvo/dp/B00662GQ90",
         "Colour Name:Red Features: Super cool gift for kids Completely non-toxic, safe for children Designed with realistic features in a smaller scale Specifications: Material: Metal & Plastic For Ages: 3 years and up Dimensions: 29*7*4.5cm Color:As picture Package includes: 1 * Trailer,4 * Mini cars",
         "Technical Details Item Weight318 g Product Dimensions35.6 x 12.7 x 9.1 cm Manufacturer recommended age:5 years and up Manufacturer referenceHF01TAF0011 Assembly RequiredNo Batteries Required?No Batteries Included?No Remote Control Included?No Colorred    Additional Information ASINB0142FVTGM Best Sellers Rank 252,240 in Toys & Games (See top 100) #166 in Toys & Games > Toddler Toys > Pushchair Toys Shipping Weight318 g Delivery Destinations:Visit the Delivery Destinations Help page to see where this item can be delivered. Date First Available18 Aug. 2015    Feedback  Would you like to update product info or give feedback on images?",
         "Colour Name:Red Features: Super cool gift for kids Completely non-toxic, safe for children Designed with realistic features in a smaller scale Specifications: Material: Metal & Plastic For Ages: 3 years and up Dimensions: 29*7*4.5cm Color:As picture Package includes: 1 * Trailer,4 * Mini cars",
         "http://www.amazon.co.uk/Corgi-Superhaulers | http://www.amazon.co.uk/Peterkin-Scale-Eddie-Stobart-Volvo/dp/B00662GQ90 | http://www.amazon.co.uk/Corgi-Scale-Eddie-Stobart-Truck/dp/B00KGZTGNG | http://www.amazon.co.uk/Playmobil-4129-Recycling-Truck-Flashing-x/dp/B006UAFVVC",
         null,
         "Poor quality // 1.0 // 4 Jan. 2014 // By\n    \n    SP\n  \n on 4 Jan. 2014 // The cab bit is metal, trailer part is cheap plastic. The 2 parts don't even hold well together. My son gets very frustrated with it because the trailer constantly falls away when he's pulling it along.  Rubbish!I bought a nice morrisons truck - much bigger and the two part click together nicely. It was made of plastic but ten times better quality than this product. | Not very sturdy // 3.0 // 20 Oct. 2013 // By\n    \n    KR\n  \n on 20 Oct. 2013 // We've had it for some months and by now some wheels have come off. Also the the tanker and the cabin don't stay together very well, so it's really not very good as a children's toy. And I don't know what else it could be used for as it's not something you would want as a collectible... | Cheap Rubbish // 1.0 // 26 Dec. 2012 // By\n    \n    Del Ric\n  \n on 26 Dec. 2012 // In any world that I come from \"Die Cast\" toys are made of metal, with plastic, rubber or glass details. Wholly plastic toys are made by a process called \"injection moulding\". This toy appears to 90% plastic. Corgi seem to believe that by making a very small portion of the cab in metal and the remainder plastic they can use the expression \"Die Cast\".  I have bought Corgi toys for decades.  NEVER AGAIN.  Cheap rubbish! | Very poor quality // 2.0 // 23 Dec. 2013 // By\n    \n    Musto\n  \n on 23 Dec. 2013 // Not good at all. Plastic and awful. The trailer does not stay on either. It must be some sort of \"health and safety\" feature. If not, it must just be a poor product. I have a much older one that is good quality. Things have changed. | Eddie Stobart Truck // 5.0 // 12 Dec. 2011 // By\n    \n    Anjuna*\n  \n on 12 Dec. 2011 // Great Purchase for our son's birthday. He loves it and it is a great toy. Recommend any Eddie Stobart fan to purchase one. Arrived well packaged too Thank you | toy for my wife // 5.0 // 2 April 2013 // By\n    \n    richard tyler\n  \n on 2 April 2013 // my wife loves eddie stowbart lorrys and she was very happy to have this lovely toy for christmass since then we spotted my daughters name on one of eddies waggons  debara jane  richard | Really meaningful toy lorry that highlighted son's love of Eddie 'Spotting' // 4.0 // 16 Jan. 2013 // By\n    \n    Jacqui Purlan\n  \n on 16 Jan. 2013 // Good quality toy that my little boy (age 5) loved as he spends all the time on the motorway spotting Eddie Stobart lorries. Shame the tanker part is plastic, but really for the price you couldn't expect too much. I would have been willing to pay more though had it been metal.He has played with it a lot, he has a road mat and has used it on that with all his other vehicles. Good quality, good price, and je was really excited to see Eddie Stobart's name on it. | Great product // 4.0 // 28 Sept. 2012 // By\n    \n    Jan\n  \n on 28 Sept. 2012 // Ordered this for my son's 9th birthday as he is collecting  Eddie Stobart trucks. Arrived within a couple of days, well packaged and no damage. He is delighted with it and is proudly on the shelf with the others!!",
         "{\"seller\"=>[{\"Seller_name_1\"=>\"Rich World Japan\", \"Seller_price_1\"=>\"£45.65\"}, {\"Seller_name_2\"=>\"HIDEN7\", \"Seller_price_2\"=>\"£45.65\"}, {\"Seller_name_3\"=>\"M&E Store-UK\", \"Seller_price_3\"=>\"£67.98\"}]}"
        ],
        [
         "7156",
         "d093820bbe00a9c45ce961b5a23c7342",
         "Tofern ® Syma 2015 Edition S107E/S107W New Version 3.5 Channel RC Indoor Helicopter with Gyro ~ Blue",
         "Tofern",
         "£26.99",
         null,
         "40",
         "1.0",
         "4.2 out of 5 stars",
         "Sports Toys & Outdoor > Kites & Flight Toys",
         "http://www.amazon.co.uk/Tofern-Edition-Version-Channel-Helicopter | http://www.amazon.co.uk/Syma-S107G-Helicopter | http://www.amazon.co.uk/Tofern-Edition-Version-Channel-Helicopter | http://www.amazon.co.uk/Syma-Gyroscope-Stabilizing | http://www.amazon.co.uk/Ohuhu-AVATAR-Remote-Control-Helicopter | http://www.amazon.co.uk/Syma-Gyroscope-Channel-Helicopter",
         "Colour Name:Blue Product Description This Brand New 3 Channel mini RC helicopter is the world's newest, most durable and stable helicopter. The item comes with the latest gyro system for precision control. The metal frame has proven to withstand dozens of crashes. The mini helicopter charges directly from the controller which uses \"AA\" batteries and has a full-function trim control for the perfect flight. Control Mode: Infra-Red Remote Control Dimensions: 22 x 3.8 x 9.8cm/8.66 x 1.5 x 3.86\"(L x W X H) Battery: 3.7V 150mAh Lithium Polymer Battery. Remote distance: 10~15 meters Flight time: 5~7 minutes Remote control power supply: 6 x AA batteries (not included) Main rotor diameter: 19cm/7.48\" USB cable length: 81.5cm/32.09\" Color: As Shown (Blue, Red, Green, White, Scarlet) Weight: Approx 800g. Package Include: 1 x Helicopter (Without original packing) 1 x Remote Controller 1 x USB Cable 1 x Tail Rotor Blade 1 x User Manual",
         "Technical Details Item Weight798 g Product Dimensions9.8 x 3.8 x 18.6 cm Batteries:6 AA batteries required. (included) Manufacturer recommended age:3 years and up Manufacturer referenceTFS7G1B Educational Objective(s)Spacial Awareness Engine Typeelectric Batteries Required?Yes Batteries Included?Yes Material Care InstructionsKeep Indoors, Do not Wash Remote Control Included?Yes Remote Control TypeInfrared Radio Control SuitabilityIndoor Colorblue    Additional Information ASINB016BPMBN6 Customer Reviews amznJQ.onReady('popover', function() { (function($) { if($.fn.acrPopover) return; var popoverConfig = { showOnHover:true, showCloseButton: \"ontouchstart\" in document.documentElement, width: null, location:'bottom', locationAlign:'left', locationOffset:[-20,0], group: 'reviewsPopover', clone:false, hoverHideDelay:300 }; $.fn.acrPopover = function() { return this.each(function() { var $this = $(this); if(!$this.data('init') && typeof $this.amazonPopoverTrigger === 'function') { $this.data('init', 1); var ajaxURL = '/gp/customer-reviews/common/du/displayHistoPopAjax.html?' + '&ASIN=' + $this.attr('name') + '&link=1' + '&seeall=1' + '&ref=' + $this.attr('ref'); var myConfig = $.extend(true, { destination: ajaxURL }, popoverConfig); $this.amazonPopoverTrigger(myConfig); } }); }; window.reviewHistPopoverConfig = popoverConfig; var jqInit = window.jQueryInitHistoPopovers = function(asin) { if (typeof $('.acr-popover[name=' + asin + ']').acrPopover === 'function') { $('.acr-popover[name=' + asin + ']').acrPopover(); } }; window.doInit_average_customer_reviews = jqInit; window.onAjaxUpdate_average_customer_reviews = jqInit; window.onCacheUpdate_average_customer_reviews = jqInit; window.onCacheUpdateReselect_average_customer_reviews = jqInit; amznJQ.onCompletion('amznJQ.criticalFeature', function() { setTimeout(function() { amznJQ.declareAvailable('acrPopover'); }, 10); }); })(jQuery); }); amznJQ.onReady('acrPopover', function() { jQuery('.acr-popover').each(function() { if (typeof jQuery(this).acrPopover === 'function') { jQuery(this).acrPopover(); } }); }); 4.2 out of 5 stars See all reviews 40 reviews 4.2 out of 5 stars Best Sellers Rank 886,032 in Toys & Games (See top 100) #2769 in Toys & Games > Sports Toys & Outdoor > Kites & Flight Toys Shipping Weight798 g Delivery Destinations:Visit the Delivery Destinations Help page to see where this item can be delivered. Date First Available8 Oct. 2015    Feedback  Would you like to update product info or give feedback on images?",
         "Colour Name:Blue Product Description This Brand New 3 Channel mini RC helicopter is the world's newest, most durable and stable helicopter. The item comes with the latest gyro system for precision control. The metal frame has proven to withstand dozens of crashes. The mini helicopter charges directly from the controller which uses \"AA\" batteries and has a full-function trim control for the perfect flight. Control Mode: Infra-Red Remote Control Dimensions: 22 x 3.8 x 9.8cm/8.66 x 1.5 x 3.86\"(L x W X H) Battery: 3.7V 150mAh Lithium Polymer Battery. Remote distance: 10~15 meters Flight time: 5~7 minutes Remote control power supply: 6 x AA batteries (not included) Main rotor diameter: 19cm/7.48\" USB cable length: 81.5cm/32.09\" Color: As Shown (Blue, Red, Green, White, Scarlet) Weight: Approx 800g. Package Include: 1 x Helicopter (Without original packing) 1 x Remote Controller 1 x USB Cable 1 x Tail Rotor Blade 1 x User Manual",
         null,
         null,
         "Syma S032G - Great If You Have Enough Space // 4.0 // 9 Oct. 2011 // By\n    \n    Honest Joe\n  \n on 9 Oct. 2011 // **Updated 20 October 2012**The first S032G is still going strong, and is so good to fly outdoors occasionaly (in ZERO wind) that I have ordered a second helicopter.  The price has just dipped, so good opportunity to buy a second heli.  This way I should always have spare parts to keep one heli operational; the cost of individual spare parts (blades, batteries, motors) can be far more than the cost of the entire new helicopter.  The S032G has a few glitches (occasional loss of power in flight), but these helis are such good value for the money and can be used outdoors where you can have much more freedom to control them with ease (in zero wind).After the passage of time/more practice, I find the S032G is actually very controllable indoors but is rather too cramped even in a moderate inside area.  For me, this is partially because I avoid flight over objects that might get damaged (or damage it) if it falls out of the air!  I have avoided the larger S031G as I think it will get no use indoors, and outdoors would probably require a trek out to the nearest field.If you like the S032G, seriously consider the S036G - that is a similar size and a very nicely detailed version of the Bell AH-1 Cobra.  Check out my review of that helicopter, it is more expensive, and having a similar radio system is also subject to the occasional loss of power in flight - so operate it wisely.OK these helicopters are not as 'fancy' as a 4 channel helicopter, but what they lack in a fourth channel (sideways movement), they make up for in sheer robustness, value and serviceability.  I can buy a second S032G AND S036G (and just have!) for LESS than than a comparable sized four channel; which by the way will probably get broken as soon as you look at it in a funny way!Read more › | Excellent beginner helicopter - pity about the battery... // 4.0 // 6 Jan. 2011 // By\n    \n    Daniel James\n  \n on 6 Jan. 2011 // This helicopter is a tonne of fun - period !The only issue is the battery life which is pretty bad.The flight time is around 6 minutes and that feels like its gone in 2 minutes (time really does fly when you are having fun).The package doesn't include any spare blades just the rotor and there is no USB charge cable either, which is a shame.The helicopter is still a great present for your child though and will make him/her want to have a go at the next step in RC heli's or planes. | Very good product but let down with poor radio equipment // 4.0 // 30 Aug. 2011 // By\n    \n    C. James\n  \n on 30 Aug. 2011 // i have had this helicopter for about a year now and it has been great for indoor and outdoor flying, when it isnt windy! it is very easy to fly even for beginners and i was very impressed with its build quality! one thing you must be aware of though is this helicopter uses 27MHz radio equipment, this is very basic and you will have times were interference will disrupt your radio link and the helicopter will just fall out the sky but thankfully this does not happen very often and the good build quality will reduce damage during a crash, overall i would say that this is a good buy for beginners and pros! | SYMA S032 Gyro 3ch Radio Controlled helicopter // 5.0 // 3 Jan. 2011 // By\n    \n    J. Matthew\n  \n on 3 Jan. 2011 // These gyro helicopters are very stable once you learn the knack of fine adjustments on the control the S032 is suitable for larger rooms and windless conditions outside and the S107 for smaller rooms | Fun toy // 4.0 // 6 Jun. 2011 // By\n    \n    uh\n  \n on 6 Jun. 2011 // Fun toy - batteri holdes okay (about 10-12 min.) within a few min. very easy to use.To be used inside or in very calm wind.SYMA S032 Gyro 3ch Radio Controlled helicopter | Syma S032 // 5.0 // 12 Jan. 2011 // By\n    \n    Andy\n  \n on 12 Jan. 2011 // This is the 3rd helicopter i've bought and is by far the best. It's a bit too big to fly indoors for long so i'm waiting for the weather to change in order to try it fully. The only downside is the quality of the instructions which have been very badly translated into English. It's fun, really easy to control, responsive & far better than the ones i bought from a famous london store | Brought as a present but...... // 3.0 // 27 Mar. 2011 // By\n    \n    Dale A. Haines\n  \nVINE VOICE on 27 Mar. 2011 // This was brought as a present at christmas from Modelzone.Eventually having changed the thing 3 times we got one that worked (Not on line but from the store in Croydon)!Ignoring how long it took me to get a refund from Modelzone all I can say is that if this was an example of Syma's quality control you can keep it !I'd never buy anything else from their catalogue! | Good fun but treat it carefully // 4.0 // 21 Mar. 2011 // By\n    \n    naomi\n  \n on 21 Mar. 2011 // Bought this for my hubby and he loves it. It's tricky to fly at first, but he's got the hang of it now. Landing is difficult though so wouldn't recommend you buy it for a child under about 12 unless you're happy to buy dozens as it will break pretty easily!",
         null
        ],
        [
         "7179",
         "e3e1e2c168e4909c448882e84a433117",
         "Tofern ® Syma 2015 Edition S107E/S107W New Version 3.5 Channel RC Indoor Helicopter with Gyro ~ Blue",
         "Tofern",
         "£26.99",
         null,
         "99",
         "1.0",
         "4.7 out of 5 stars",
         "Sports Toys & Outdoor > Kites & Flight Toys",
         "http://www.amazon.co.uk/Syma-Gyroscope-Channel-Helicopter | http://www.amazon.co.uk/Syma-Controlled | http://www.amazon.co.uk/Syma-Controlled | http://www.amazon.co.uk/Infrared-Controlled | http://www.amazon.co.uk/Syma-Controlled | http://www.amazon.co.uk/Syma-Controlled",
         "Colour Name:Blue Product Description This Brand New 3 Channel mini RC helicopter is the world's newest, most durable and stable helicopter. The item comes with the latest gyro system for precision control. The metal frame has proven to withstand dozens of crashes. The mini helicopter charges directly from the controller which uses \"AA\" batteries and has a full-function trim control for the perfect flight. Control Mode: Infra-Red Remote Control Dimensions: 22 x 3.8 x 9.8cm/8.66 x 1.5 x 3.86\"(L x W X H) Battery: 3.7V 150mAh Lithium Polymer Battery. Remote distance: 10~15 meters Flight time: 5~7 minutes Remote control power supply: 6 x AA batteries (not included) Main rotor diameter: 19cm/7.48\" USB cable length: 81.5cm/32.09\" Color: As Shown (Blue, Red, Green, White, Scarlet) Weight: Approx 800g. Package Include: 1 x Helicopter (Without original packing) 1 x Remote Controller 1 x USB Cable 1 x Tail Rotor Blade 1 x User Manual",
         "Technical Details Item Weight798 g Product Dimensions9.8 x 3.8 x 18.6 cm Batteries:1 Lithium ion batteries required. Manufacturer recommended age:14 years and up Manufacturer referenceTFS7G1B1 Educational Objective(s)Spacial Awareness Engine Typeelectric Batteries Required?Yes Batteries Included?No Material Care InstructionsKeep Indoors, Do not Wash Remote Control Included?Yes Remote Control TypeInfrared Radio Control SuitabilityIndoor Colorblue    Additional Information ASINB016MKE06Q Best Sellers Rank 324,913 in Toys & Games (See top 100) #1007 in Toys & Games > Sports Toys & Outdoor > Kites & Flight Toys Shipping Weight798 g Delivery Destinations:Visit the Delivery Destinations Help page to see where this item can be delivered. Date First Available14 Oct. 2015    Feedback  Would you like to update product info or give feedback on images?",
         "Colour Name:Blue Product Description This Brand New 3 Channel mini RC helicopter is the world's newest, most durable and stable helicopter. The item comes with the latest gyro system for precision control. The metal frame has proven to withstand dozens of crashes. The mini helicopter charges directly from the controller which uses \"AA\" batteries and has a full-function trim control for the perfect flight. Control Mode: Infra-Red Remote Control Dimensions: 22 x 3.8 x 9.8cm/8.66 x 1.5 x 3.86\"(L x W X H) Battery: 3.7V 150mAh Lithium Polymer Battery. Remote distance: 10~15 meters Flight time: 5~7 minutes Remote control power supply: 6 x AA batteries (not included) Main rotor diameter: 19cm/7.48\" USB cable length: 81.5cm/32.09\" Color: As Shown (Blue, Red, Green, White, Scarlet) Weight: Approx 800g. Package Include: 1 x Helicopter (Without original packing) 1 x Remote Controller 1 x USB Cable 1 x Tail Rotor Blade 1 x User Manual",
         "http://www.amazon.co.uk/Syma-S107G-Helicopter | http://www.amazon.co.uk/Syma-Edition-Version-Indoor-Helicopter | http://www.amazon.co.uk/Syma-Edition-Version-Indoor-Helicopter | http://www.amazon.co.uk/Duracell-Plus-Batteries-Alkaline-Pack/dp/B005OQMWZQ",
         null,
         "Brilliant little item, reviews were spot on!! // 5.0 // 10 Nov. 2013 // By\n    \n    GillM\n  \n on 10 Nov. 2013 // Bought this for my son's 10th birthday as he had had a remote helicopter before but it was sadly broken. Went for this one as the reveiws were really good and quite a lot of the bits on it were made of metal, so I thought it would be more robust.It certainly seems to be lasting longer than his last helicopter. Nice design, style and colour options. | Lovely toy // 4.0 // 7 Aug. 2013 // By\n    \n    Robin Bragg\n  \n on 7 Aug. 2013 // Only downside is the time charging, flies for 10-12 minutes tho, love it, flew it outdoors too even thought it is an indoor helicopter. | Fab Present // 5.0 // 15 Oct. 2013 // By\n    \n    Zoe Barrick\n  \n on 15 Oct. 2013 // Bought this as a present, really durable! Does a lot more than expected and can be used by everyone. Would recommend this as a small gift. | This is not his first helicopter (which was pretty poor). His dream is to fly a good ... // 5.0 // 14 Nov. 2014 // By\n    \n    Kirsty W\n  \n on 14 Nov. 2014 // I have bought this for my 8yr old son. This is not his first helicopter (which was pretty poor). His dream is to fly a good helicopter. As Santa will be delivering this I have charged it up and flown it to make sure he will not be disappointed. First impression when getting it out of the box was \"Wow, well made!\"  When pressing the power button this little thing flips into the air and as long as you are gentle with the controls is so agile it is almost too good to be true. To turn left/right a simple stroke of the control and off it goes with pinpoint accuracy. This toy is a delight to fly and within minutes I had it doing all sorts of stuff around the living room. It hovers with ease, forward and backward control is all so simple. I am so delighted he is going to LOVE this!!  Having flown it don't be put of by the 14+ on the box, I know my son will easily fly this. Because of it's lightweight frame and electronics the only thing I will not let him do with it is the re-charging (tiny fragile plug). I also love the ability to charge it from a computer or USB 240v socket which will save his control batteries for flight. I cannot recommend this helicopter highly enough it is amazing value for money............. just get one!! | helicopter // 5.0 // 1 Feb. 2013 // By\n    \n    sandra sleightholme\n  \n on 1 Feb. 2013 // excellent toy and great gift. well made, durable and strong which is just as well as I crash it regularly! | Excellent, bargain // 5.0 // 27 Jun. 2013 // By\n    \n    Martyn\n  \n on 27 Jun. 2013 // My 8 year old nephew loved it, ME TOO! tho crashed a few times it's quite robust and blades are easy to replace. | ... difficult to master but provides a lot of INDOOR fun. Don't use it in the garden // 4.0 // 9 Nov. 2014 // By\n    \n    Dave Fennessy\n  \n on 9 Nov. 2014 // Quite difficult to master but provides a lot of INDOOR fun. Don't use it in the garden, it simply doesn't have any resistance to air movement. Constant USB battery charging is a pain but then it has to be a small light battery or it wouldn't get off the ground. Took a lot of crash damage onto laminated flooring but finally smashed into pieces after about 5 days. We expected as much. Be prepared to buy constant spare parts or save up for a more robust flying machine. | Remote control helicopter // 5.0 // 15 Feb. 2014 // By\n    \n    michelle\n  \n on 15 Feb. 2014 // My 6 year old son absolutely loved this for his birthday.....& so dose my biggest boy (my HUSBAND)!! So will be ordering another for his birthday! Fast delivery too.",
         null
        ],
        [
         "7195",
         "991e1fbfd6e78df25683e59d5262df0a",
         "XT-XINTE FQ777-124 Pocket Drone 4CH 6Axis Gyro UFO Quadcopter With Switchable Controller RTF Helicopter (Black)",
         "XT-XINTE",
         null,
         "2 new",
         "13",
         "2.0",
         "4.0 out of 5 stars",
         "Sports Toys & Outdoor > Kites & Flight Toys",
         "http://www.amazon.co.uk/XT-XINTE-FQ777-Propeller-Pocket-Quadcopter | http://www.amazon.co.uk/XT-XINTE-124-10-Protective | http://www.amazon.co.uk/FQ777-124-Pocket-Quadcopter | http://www.amazon.co.uk/FQ777-124-Pocket-Quadcopter | http://www.amazon.co.uk/JJRC-Channel-6-Axis-Hexacopter | http://www.amazon.co.uk/Disney-Minnie-Mouse-Magnetic-Sketcher/dp/B0091R2YLG",
         "Colour Name:Black Drone UFO Features: The MINI POCKET DRONE is set up with CF mode(headless) and one key return, which shows this drone is well developed and considered. Unique printing and attractive color design,Small size allows you to fly indoor with limited space. The MINI POCKET DRONE special designed controller is also a storage box for the drone and spare parts. The special controller can achieve: carry the drone/carry spare parts/recharge the drone, also it can be put in your pocket. Controller is designed with MODE1/MODE2 one key swith, which allows everyone to play this drone, no matter you are mode1er/mode2er. Rotor protector is included, as well as landing gears, which are double protection for the rotors and motors, also avoid anyone to get injury. Controller includes a charging cable allows you to charge the drone by batteries in the controller. Also USB cable is available. Lipo battery built-in charge and discharge protection, while powerful motors performs perfect fliping. Drone Helicopter Function: MODE1&MODE2 switch CF mode (headless mode) one key return 360rolling action Notice: For the first time use please full of electricity. Suggestions in the installation of the landing gear after adjust the frequency so that can ensure the gyroscope can accurate calibration. UFO Drone Helicopter Package Included: 1 x FQ777 mini pocket drone(included a 3.7V 100 mah/25C Li-po battery) 1 x Remote Control Transmitter 8 x Propeller(2sets) 1 x Rotor protector 3 x Landing gear (motor protector) 1 x Instruction manual 1 x Quadcopter Battery USB Charger",
         "Technical Details Manufacturer recommended age:14 years and up Item model number$X15171 Assembly RequiredNo Colorblue    Additional Information ASINB00Z6COOF4 Best Sellers Rank 84,285 in Toys & Games (See top 100) #279 in Toys & Games > Sports Toys & Outdoor > Kites & Flight Toys Shipping Weight304 g Delivery Destinations:Visit the Delivery Destinations Help page to see where this item can be delivered. Date First Available8 Jun. 2015    Feedback  Would you like to update product info or give feedback on images?",
         "Colour Name:Black Drone UFO Features: The MINI POCKET DRONE is set up with CF mode(headless) and one key return, which shows this drone is well developed and considered. Unique printing and attractive color design,Small size allows you to fly indoor with limited space. The MINI POCKET DRONE special designed controller is also a storage box for the drone and spare parts. The special controller can achieve: carry the drone/carry spare parts/recharge the drone, also it can be put in your pocket. Controller is designed with MODE1/MODE2 one key swith, which allows everyone to play this drone, no matter you are mode1er/mode2er. Rotor protector is included, as well as landing gears, which are double protection for the rotors and motors, also avoid anyone to get injury. Controller includes a charging cable allows you to charge the drone by batteries in the controller. Also USB cable is available. Lipo battery built-in charge and discharge protection, while powerful motors performs perfect fliping. Drone Helicopter Function: MODE1&MODE2 switch CF mode (headless mode) one key return 360rolling action Notice: For the first time use please full of electricity. Suggestions in the installation of the landing gear after adjust the frequency so that can ensure the gyroscope can accurate calibration. UFO Drone Helicopter Package Included: 1 x FQ777 mini pocket drone(included a 3.7V 100 mah/25C Li-po battery) 1 x Remote Control Transmitter 8 x Propeller(2sets) 1 x Rotor protector 3 x Landing gear (motor protector) 1 x Instruction manual 1 x Quadcopter Battery USB Charger",
         "http://www.amazon.co.uk/FQ777-124-Pocket-Quadcopter | http://www.amazon.co.uk/FQ777-124-Pocket-Quadcopter | http://www.amazon.co.uk/FQ777-124-Pocket-Quadcopter | http://www.amazon.co.uk/JJRC-Channel-6-Axis-Hexacopter",
         null,
         "It's amazing! // 5.0 // 12 Sept. 2015 // By\n    \n    G Shipman\n  \n on 12 Sept. 2015 // I very rarely bother to write reviews but felt I had to for this one particularly as one of the existing views doesn't paint a fair picture.I've had a few of these and this is the best I've experienced yet. For £17 it's simply amazing. The build quality is better than one I spent twice as much on! I was attracted by how small it is and wasn't disappointed. It is true that this does limit the time the battery lasts for, but 4 mins is a fair assessment. I don't think you could expect more for anything so impressively small!It does take a little bit of practice. You're flying a four channel aircraft in your living room after all but it's gyros our well setup and as forgiving as they possibly could be. I was particularly impressed by the additional features that you'd normally have to pay a lot more for. It has trim on three of the channels; two sensitivity settings; a 3D flight mode enabling se impressive flips; and a self righting system so you can throw it into the air upside down and it'll sort itself out.For £17 it can't be beaten. | XT FQ777 124 Pocket Drone // 5.0 // 6 Feb. 2016 // By\n    \n    sedov\n  \n on 6 Feb. 2016 // Excellent service from the provider of this product  well pleased - The product itself takes some time to set up as the instructions can be hard to follow as there small in size - Once trimmed its a fine piece of kit last about 3 to 4 minutes / It comes with attachments that I recommend you fit as the blades are femma and can break if flown into any surface also continuous charging and flying over time will burn out the micro motors the drone will function but will not take off when this happens. Overall its a great drone if respected for a beginner old or young and for the price a bargain | Very happy // 5.0 // 7 Jan. 2016 // By\n    \n    Kath\n  \n on 7 Jan. 2016 // Very happy, will shop again Thank you | Short flight time // 1.0 // 15 Mar. 2016 // By\n    \n    Amazon Customer\n  \n on 15 Mar. 2016 // This is a decent product but a major problem with it is the flight time I am getting, it is horrendous its says about 5 minutes in the description but I only get a maximum of 25 seconds before the battery dies. The suppliers are totally unresponsive as well if you send them a return request. I'm sure the flight time problem will affect a lot of these quadcopters but also there will be a lot of good ones as well, but the quality is really inconsistent. | Fantastic little machine // 5.0 // 13 Oct. 2015 // By\n    \n    Les H\n  \n on 13 Oct. 2015 // Fantastic little machine that I'm using for fun and to practice to get for my bigger drone that's on its way in a few weeks time. Use it indoors though as its easy to lose in long grass. Have a search for quadcopter101 on YouTube as he has a video review on it. | Five Stars // 5.0 // 1 Aug. 2015 // By\n    \n    jozef\n  \n on 1 Aug. 2015 // It does exactly what I expected from it. | great little toy for my boy worth the money they ... // 4.0 // 4 Dec. 2015 // By\n    \n    andy\n  \n on 4 Dec. 2015 // great little toy for my boy  worth the money they dont last long tho on power if u can get passed that then great fun for 10 mins at a time",
         null
        ],
        [
         "7645",
         "a9cc25bde0c6f7fe6acef53bc5d88ee6",
         "Super Truck model sound + light 1:24 scale included 4 small F1 cars",
         "SGM ®",
         "£13.99",
         "2 new",
         "1",
         "1.0",
         "5.0 out of 5 stars",
         "Die-Cast & Toy Vehicles > Toy Vehicles & Accessories > Scaled Models > Vehicles",
         "http://www.amazon.co.uk/18cm-Pink-Party-Plates-Pack/dp/B000X708OI",
         "Friction powered truck series with light and sound and four extra cars built -in battery",
         "Technical Details Manufacturer recommended age:3 years and up    Additional Information ASINB00DELQHSG Customer Reviews amznJQ.onReady('popover', function() { (function($) { if($.fn.acrPopover) return; var popoverConfig = { showOnHover:true, showCloseButton: \"ontouchstart\" in document.documentElement, width: null, location:'bottom', locationAlign:'left', locationOffset:[-20,0], group: 'reviewsPopover', clone:false, hoverHideDelay:300 }; $.fn.acrPopover = function() { return this.each(function() { var $this = $(this); if(!$this.data('init') && typeof $this.amazonPopoverTrigger === 'function') { $this.data('init', 1); var ajaxURL = '/gp/customer-reviews/common/du/displayHistoPopAjax.html?' + '&ASIN=' + $this.attr('name') + '&link=1' + '&seeall=1' + '&ref=' + $this.attr('ref'); var myConfig = $.extend(true, { destination: ajaxURL }, popoverConfig); $this.amazonPopoverTrigger(myConfig); } }); }; window.reviewHistPopoverConfig = popoverConfig; var jqInit = window.jQueryInitHistoPopovers = function(asin) { if (typeof $('.acr-popover[name=' + asin + ']').acrPopover === 'function') { $('.acr-popover[name=' + asin + ']').acrPopover(); } }; window.doInit_average_customer_reviews = jqInit; window.onAjaxUpdate_average_customer_reviews = jqInit; window.onCacheUpdate_average_customer_reviews = jqInit; window.onCacheUpdateReselect_average_customer_reviews = jqInit; amznJQ.onCompletion('amznJQ.criticalFeature', function() { setTimeout(function() { amznJQ.declareAvailable('acrPopover'); }, 10); }); })(jQuery); }); amznJQ.onReady('acrPopover', function() { jQuery('.acr-popover').each(function() { if (typeof jQuery(this).acrPopover === 'function') { jQuery(this).acrPopover(); } }); }); 5.0 out of 5 stars See all reviews 1 review 5.0 out of 5 stars Best Sellers Rank 277,166 in Toys & Games (See top 100) Delivery Destinations:Visit the Delivery Destinations Help page to see where this item can be delivered. Date First Available14 Jun. 2013    Feedback  Would you like to update product info or give feedback on images?",
         "Friction powered truck series with light and sound and four extra cars built -in battery",
         "http://www.amazon.co.uk/Super-Truck-model-sound-light/dp/B00DELT8GY",
         null,
         "Five Stars // 5.0 // 29 Sept. 2014 // By\n    \n    Tross\n  \n on 29 Sept. 2014 // Great product",
         "{\"seller\"=>[{\"Seller_name_1\"=>\"H & H Traders\", \"Seller_price_1\"=>\"£13.99\"}, {\"Seller_name_2\"=>\"SuperStar UK\", \"Seller_price_2\"=>\"£13.99\"}]}"
        ],
        [
         "7754",
         "cd047639402ba5740d0e1e8890e7ef55",
         "Brio 33406 Cow and Wagon",
         "Brio",
         "£7.49",
         "33 new",
         "10",
         "2.0",
         "4.8 out of 5 stars",
         "Die-Cast & Toy Vehicles > Toy Trains & Accessories > Toy Trains & Sets",
         "http://www.amazon.co.uk/BRIO-Safari-Wagon-and-Giraffe/dp/B00GV1B9DO | http://www.amazon.co.uk/Brio-B33565-BRI-33565-Hay-Wagon/dp/B004LZV2N4 | http://www.amazon.co.uk/Toys-Brio-B33577-Car-Transporter | http://www.amazon.co.uk/Brio-BRI-33405-33405-Horse-Trailer/dp/B006IOCR0I | http://www.amazon.co.uk/BRIO-BRI-33696-Lumber-Loading-Wagon/dp/B0027TIPAE | http://www.amazon.co.uk/BRIO-BRI-33698-Clever-Crane-Wagon/dp/B0027TGLV4",
         "Product Description The BRIO Cow and Cattle Wagon are great additions to the BRIO Farm Train or Railway Sets. Load up the cow and connect to the magnetic coupling of any BRIO train, ready for transportation around the farm track.BRIO created the first wooden railway in 1958. Since then they've built up the world's largest range of wooden railway items and many other educational and learning toys.BRIO's mission is to contribute to a child's development by offering good toys that stimulate the mind through play. Thanks to in-depth expertise, BRIO develops toys that always generate joy, while satisfying the child's needs in various phases of development. BRIO is a reliable ‘partner' for parents.BRIO pays attention to every detail through the design process and has always been dedicated to creating products that add extra play value, encourage learning and develop fine motor skills. Box Contains 1 x Cattle Wagon1 x Cow",
         "Technical Details Item Weight41 g Product Dimensions8.6 x 3.4 x 4.8 cm Manufacturer recommended age:36 months - 8 years Item model numberBRI-33406 Educational Objective(s)Spacial Awareness Number of Puzzle Pieces2 Assembly RequiredNo Batteries Required?No Batteries Included?No Material Type(s)Bois Remote Control Included?No Radio Control Suitabilityindoor    Additional Information ASINB006IOCQEK Customer Reviews amznJQ.onReady('popover', function() { (function($) { if($.fn.acrPopover) return; var popoverConfig = { showOnHover:true, showCloseButton: \"ontouchstart\" in document.documentElement, width: null, location:'bottom', locationAlign:'left', locationOffset:[-20,0], group: 'reviewsPopover', clone:false, hoverHideDelay:300 }; $.fn.acrPopover = function() { return this.each(function() { var $this = $(this); if(!$this.data('init') && typeof $this.amazonPopoverTrigger === 'function') { $this.data('init', 1); var ajaxURL = '/gp/customer-reviews/common/du/displayHistoPopAjax.html?' + '&ASIN=' + $this.attr('name') + '&link=1' + '&seeall=1' + '&ref=' + $this.attr('ref'); var myConfig = $.extend(true, { destination: ajaxURL }, popoverConfig); $this.amazonPopoverTrigger(myConfig); } }); }; window.reviewHistPopoverConfig = popoverConfig; var jqInit = window.jQueryInitHistoPopovers = function(asin) { if (typeof $('.acr-popover[name=' + asin + ']').acrPopover === 'function') { $('.acr-popover[name=' + asin + ']').acrPopover(); } }; window.doInit_average_customer_reviews = jqInit; window.onAjaxUpdate_average_customer_reviews = jqInit; window.onCacheUpdate_average_customer_reviews = jqInit; window.onCacheUpdateReselect_average_customer_reviews = jqInit; amznJQ.onCompletion('amznJQ.criticalFeature', function() { setTimeout(function() { amznJQ.declareAvailable('acrPopover'); }, 10); }); })(jQuery); }); amznJQ.onReady('acrPopover', function() { jQuery('.acr-popover').each(function() { if (typeof jQuery(this).acrPopover === 'function') { jQuery(this).acrPopover(); } }); }); 4.8 out of 5 stars See all reviews 10 reviews 4.8 out of 5 stars Best Sellers Rank 73,248 in Toys & Games (See top 100) #2075 in Toys & Games > Education & Science Shipping Weight82 g Delivery Destinations:Visit the Delivery Destinations Help page to see where this item can be delivered. Date First Available12 Feb. 2012    Feedback  Would you like to update product info or give feedback on images?",
         "Product Description The BRIO Cow and Cattle Wagon are great additions to the BRIO Farm Train or Railway Sets. Load up the cow and connect to the magnetic coupling of any BRIO train, ready for transportation around the farm track.BRIO created the first wooden railway in 1958. Since then they've built up the world's largest range of wooden railway items and many other educational and learning toys.BRIO's mission is to contribute to a child's development by offering good toys that stimulate the mind through play. Thanks to in-depth expertise, BRIO develops toys that always generate joy, while satisfying the child's needs in various phases of development. BRIO is a reliable ‘partner' for parents.BRIO pays attention to every detail through the design process and has always been dedicated to creating products that add extra play value, encourage learning and develop fine motor skills. Box Contains 1 x Cattle Wagon1 x Cow",
         "http://www.amazon.co.uk/Toys-Brio-B33577-Car-Transporter | http://www.amazon.co.uk/BRIO-BRI-33404-Rail-Farm-Train/dp/B006IOCRAI | http://www.amazon.co.uk/BRIO-Rail-Magnetic-Bell-Signal/dp/B0001WGIKS | http://www.amazon.co.uk/BRIO-Safari-Wagon-and-Giraffe/dp/B00GV1B9DO",
         null,
         "Brio additions to main set // 5.0 // 15 April 2013 // By\n    \n    Mrs. S. A. Clay\n  \n on 15 April 2013 // I think this is 5 star because the quality of Brio toys is so great !!They all fit onto other carriages and cars. | Brio Cow and Wagon // 5.0 // 29 Nov. 2013 // By\n    \n    Flossie jazz\n  \n on 29 Nov. 2013 // Smaller than expected but good quality. I bought this as a Christmas present so I haven't sent it to Santa yet.Would definitely recommend | Love the cow!! // 5.0 // 5 Dec. 2013 // By\n    \n    Diysue\n  \n on 5 Dec. 2013 // The set is just what I expected and will enhance the set I have bought for my grandsons for Christmas! | Present for a special little boy // 5.0 // 1 Nov. 2013 // By\n    \n    Ann Brackenbury\n  \n on 1 Nov. 2013 // My grandson aged 22 months loves his brio rail track so this was to add interest to his playing as was the train garage | Good Buy // 4.0 // 24 April 2014 // By\n    \n    DW\n  \n on 24 April 2014 // Bought as xmas present with several other items.  Nice colour bright and grandson loved that there was a animal with it..",
         "{\"seller\"=>[{\"Seller_name_1\"=>\"Amazon.co.uk\", \"Seller_price_1\"=>\"£7.49\"}, {\"Seller_name_2\"=>\"jadlamracingmodels\", \"Seller_price_2\"=>\"£7.84\"}, {\"Seller_name_3\"=>\"Hair Skin Beauty\", \"Seller_price_3\"=>\"£7.84\"}, {\"Seller_name_4\"=>\"Buy-For-Less-Online\", \"Seller_price_4\"=>\"£7.85\"}, {\"Seller_name_5\"=>\"Wooden Toy Store Ltd\", \"Seller_price_5\"=>\"£7.98\"}, {\"Seller_name_6\"=>\"SEDIVA UK\", \"Seller_price_6\"=>\"£8.00\"}, {\"Seller_name_7\"=>\"Gameseek\", \"Seller_price_7\"=>\"£8.16\"}, {\"Seller_name_8\"=>\"Jac in a box\", \"Seller_price_8\"=>\"£8.84\"}, {\"Seller_name_9\"=>\"GamesQuest\", \"Seller_price_9\"=>\"£7.99\"}, {\"Seller_name_10\"=>\"D&S Retail Ltd\", \"Seller_price_10\"=>\"£8.82\"}]}"
        ]
       ],
       "shape": {
        "columns": 17,
        "rows": 70
       }
      },
      "text/html": [
       "<div>\n",
       "<style scoped>\n",
       "    .dataframe tbody tr th:only-of-type {\n",
       "        vertical-align: middle;\n",
       "    }\n",
       "\n",
       "    .dataframe tbody tr th {\n",
       "        vertical-align: top;\n",
       "    }\n",
       "\n",
       "    .dataframe thead th {\n",
       "        text-align: right;\n",
       "    }\n",
       "</style>\n",
       "<table border=\"1\" class=\"dataframe\">\n",
       "  <thead>\n",
       "    <tr style=\"text-align: right;\">\n",
       "      <th></th>\n",
       "      <th>uniq_id</th>\n",
       "      <th>product_name</th>\n",
       "      <th>manufacturer</th>\n",
       "      <th>price</th>\n",
       "      <th>number_available_in_stock</th>\n",
       "      <th>number_of_reviews</th>\n",
       "      <th>number_of_answered_questions</th>\n",
       "      <th>average_review_rating</th>\n",
       "      <th>amazon_category_and_sub_category</th>\n",
       "      <th>customers_who_bought_this_item_also_bought</th>\n",
       "      <th>description</th>\n",
       "      <th>product_information</th>\n",
       "      <th>product_description</th>\n",
       "      <th>items_customers_buy_after_viewing_this_item</th>\n",
       "      <th>customer_questions_and_answers</th>\n",
       "      <th>customer_reviews</th>\n",
       "      <th>sellers</th>\n",
       "    </tr>\n",
       "  </thead>\n",
       "  <tbody>\n",
       "    <tr>\n",
       "      <th>71</th>\n",
       "      <td>1e9876e6f7e98a6bb869341b4b56efd5</td>\n",
       "      <td>Power Trains Auto Loader City</td>\n",
       "      <td>POWER CITY TRAINS</td>\n",
       "      <td>£76.99</td>\n",
       "      <td>2 new</td>\n",
       "      <td>NaN</td>\n",
       "      <td>1.0</td>\n",
       "      <td>NaN</td>\n",
       "      <td>NaN</td>\n",
       "      <td>http://www.amazon.co.uk/Power-Trains-Auto-Load...</td>\n",
       "      <td>Power City Trains Auto Loader City</td>\n",
       "      <td>Technical Details Item Weight1.5 Kg Product Di...</td>\n",
       "      <td>Power City Trains Auto Loader City</td>\n",
       "      <td>http://www.amazon.co.uk/Power-Trains-Auto-Load...</td>\n",
       "      <td>NaN</td>\n",
       "      <td>NaN</td>\n",
       "      <td>{\"seller\"=&gt;[{\"Seller_name_1\"=&gt;\"Eurozone Market...</td>\n",
       "    </tr>\n",
       "    <tr>\n",
       "      <th>411</th>\n",
       "      <td>b585918cbbf998a288bbb259313f0296</td>\n",
       "      <td>Polyhedral Dice</td>\n",
       "      <td>Chessex</td>\n",
       "      <td>£11.93</td>\n",
       "      <td>4 new</td>\n",
       "      <td>1</td>\n",
       "      <td>1.0</td>\n",
       "      <td>5.0 out of 5 stars</td>\n",
       "      <td>Games &gt; Dice &amp; Dice Games</td>\n",
       "      <td>http://www.amazon.co.uk/Polyhedral</td>\n",
       "      <td>Signature dice are a compilation of the best s...</td>\n",
       "      <td>Technical Details Item Weight54 g Product Dime...</td>\n",
       "      <td>Signature dice are a compilation of the best s...</td>\n",
       "      <td>NaN</td>\n",
       "      <td>NaN</td>\n",
       "      <td>RPG-tastic! // 5.0 // 21 April 2013 // By\\n   ...</td>\n",
       "      <td>NaN</td>\n",
       "    </tr>\n",
       "    <tr>\n",
       "      <th>441</th>\n",
       "      <td>47e284cab850f3a73f412ed5fe85d969</td>\n",
       "      <td>100 six sided dice, 14mm, random colours</td>\n",
       "      <td>The Dice Place</td>\n",
       "      <td>£10.79</td>\n",
       "      <td>NaN</td>\n",
       "      <td>1</td>\n",
       "      <td>1.0</td>\n",
       "      <td>5.0 out of 5 stars</td>\n",
       "      <td>Games &gt; Dice &amp; Dice Games</td>\n",
       "      <td>http://www.amazon.co.uk/Chessex-Dice-Pound-Pou...</td>\n",
       "      <td>A pack of 100 (minimum) dice useful for many b...</td>\n",
       "      <td>Technical Details Item Weight277 g Product Dim...</td>\n",
       "      <td>A pack of 100 (minimum) dice useful for many b...</td>\n",
       "      <td>http://www.amazon.co.uk/sided-dice-16mm-random...</td>\n",
       "      <td>NaN</td>\n",
       "      <td>Five Stars // 5.0 // 19 Feb. 2015 // By\\n    \\...</td>\n",
       "      <td>{\"seller\"=&gt;{\"Seller_name_1\"=&gt;\"Legendgames\", \"S...</td>\n",
       "    </tr>\n",
       "    <tr>\n",
       "      <th>471</th>\n",
       "      <td>b5b9d9641ddd0c677c5ddaa719207f63</td>\n",
       "      <td>Polyhedral Dice</td>\n",
       "      <td>Chessex</td>\n",
       "      <td>£9.74</td>\n",
       "      <td>2 new</td>\n",
       "      <td>1</td>\n",
       "      <td>1.0</td>\n",
       "      <td>5.0 out of 5 stars</td>\n",
       "      <td>Games &gt; Dice &amp; Dice Games</td>\n",
       "      <td>http://www.amazon.co.uk/WHATWEARS-Poly-Dices-P...</td>\n",
       "      <td>NaN</td>\n",
       "      <td>Technical Details Item Weight54 g Manufacturer...</td>\n",
       "      <td>NaN</td>\n",
       "      <td>NaN</td>\n",
       "      <td>NaN</td>\n",
       "      <td>Good design and good quality, would recommend....</td>\n",
       "      <td>NaN</td>\n",
       "    </tr>\n",
       "    <tr>\n",
       "      <th>585</th>\n",
       "      <td>222285fb1f28be6b3d6d14d5c35e562f</td>\n",
       "      <td>100 six sided dice, 14mm, random colours</td>\n",
       "      <td>The Dice Place</td>\n",
       "      <td>£10.79</td>\n",
       "      <td>NaN</td>\n",
       "      <td>2</td>\n",
       "      <td>1.0</td>\n",
       "      <td>5.0 out of 5 stars</td>\n",
       "      <td>Games &gt; Dice &amp; Dice Games</td>\n",
       "      <td>http://www.amazon.co.uk/spot-12mm-diameter-ass...</td>\n",
       "      <td>A pack of 100 (minimum) dice useful for many b...</td>\n",
       "      <td>Technical Details Item Weight277 g Product Dim...</td>\n",
       "      <td>A pack of 100 (minimum) dice useful for many b...</td>\n",
       "      <td>http://www.amazon.co.uk/spot-12mm-diameter-ass...</td>\n",
       "      <td>NaN</td>\n",
       "      <td>I now have want more // 5.0 // 7 Mar. 2013 // ...</td>\n",
       "      <td>{\"seller\"=&gt;{\"Seller_name_1\"=&gt;\"Legendgames\", \"S...</td>\n",
       "    </tr>\n",
       "    <tr>\n",
       "      <th>...</th>\n",
       "      <td>...</td>\n",
       "      <td>...</td>\n",
       "      <td>...</td>\n",
       "      <td>...</td>\n",
       "      <td>...</td>\n",
       "      <td>...</td>\n",
       "      <td>...</td>\n",
       "      <td>...</td>\n",
       "      <td>...</td>\n",
       "      <td>...</td>\n",
       "      <td>...</td>\n",
       "      <td>...</td>\n",
       "      <td>...</td>\n",
       "      <td>...</td>\n",
       "      <td>...</td>\n",
       "      <td>...</td>\n",
       "      <td>...</td>\n",
       "    </tr>\n",
       "    <tr>\n",
       "      <th>9250</th>\n",
       "      <td>0046d3f852f55ee28b4a049ed387a946</td>\n",
       "      <td>Orchard Toys Farmyard Dominoes</td>\n",
       "      <td>Orchard Toys</td>\n",
       "      <td>£7.99</td>\n",
       "      <td>21 new</td>\n",
       "      <td>19</td>\n",
       "      <td>5.0</td>\n",
       "      <td>4.8 out of 5 stars</td>\n",
       "      <td>Games &gt; Educational Games</td>\n",
       "      <td>http://www.amazon.co.uk/Orchard-Toys-28-Farm-S...</td>\n",
       "      <td>Product Description This is the familiar game ...</td>\n",
       "      <td>Technical Details Item Weight572 g Product Dim...</td>\n",
       "      <td>Product Description This is the familiar game ...</td>\n",
       "      <td>http://www.amazon.co.uk/Orchard-Toys-Old-MacDo...</td>\n",
       "      <td>NaN</td>\n",
       "      <td>brilliant // 5.0 // 15 May 2012 // By\\n    \\n ...</td>\n",
       "      <td>{\"seller\"=&gt;[{\"Seller_name_1\"=&gt;\"Atrad\", \"Seller...</td>\n",
       "    </tr>\n",
       "    <tr>\n",
       "      <th>9449</th>\n",
       "      <td>0cf2e89e32c4729f71647e876cbb5dec</td>\n",
       "      <td>20Q</td>\n",
       "      <td>Mattel</td>\n",
       "      <td>NaN</td>\n",
       "      <td>NaN</td>\n",
       "      <td>34</td>\n",
       "      <td>1.0</td>\n",
       "      <td>4.4 out of 5 stars</td>\n",
       "      <td>Electronic Toys &gt; Educational Computers &amp; Acce...</td>\n",
       "      <td>http://www.amazon.co.uk/An-Astronauts | http:/...</td>\n",
       "      <td>Product Description I have mixed the bar-codes...</td>\n",
       "      <td>Technical Details Item Weight222 g Product Dim...</td>\n",
       "      <td>Product Description I have mixed the bar-codes...</td>\n",
       "      <td>http://www.amazon.co.uk/Radica-I4012-20Q/dp/B0...</td>\n",
       "      <td>does the ball talk? // No displays answer on s...</td>\n",
       "      <td>I beg to differ // 4.0 // 27 Oct. 2010 // By\\n...</td>\n",
       "      <td>NaN</td>\n",
       "    </tr>\n",
       "    <tr>\n",
       "      <th>9467</th>\n",
       "      <td>b7fb4625845f84ffc5b34fdc27189587</td>\n",
       "      <td>20Q</td>\n",
       "      <td>Radica</td>\n",
       "      <td>NaN</td>\n",
       "      <td>2 new</td>\n",
       "      <td>102</td>\n",
       "      <td>1.0</td>\n",
       "      <td>4.5 out of 5 stars</td>\n",
       "      <td>Games &gt; Trivia &amp; Quiz Games</td>\n",
       "      <td>http://www.amazon.co.uk/Radica-I6088-20Q-Versi...</td>\n",
       "      <td>Product Description I can read your mind! Manu...</td>\n",
       "      <td>Technical Details Item Weight91 g Product Dime...</td>\n",
       "      <td>Product Description I can read your mind! Manu...</td>\n",
       "      <td>http://www.amazon.co.uk/Radica-I6088-20Q-Versi...</td>\n",
       "      <td>NaN</td>\n",
       "      <td>Great, but a little bit spooky!! // 5.0 // 21 ...</td>\n",
       "      <td>{\"seller\"=&gt;[{\"Seller_name_1\"=&gt;\"Smaller World F...</td>\n",
       "    </tr>\n",
       "    <tr>\n",
       "      <th>9803</th>\n",
       "      <td>5da64b6e00420450e70c2697a1ca6344</td>\n",
       "      <td>Polyhedral Dice</td>\n",
       "      <td>Chessex</td>\n",
       "      <td>£11.01</td>\n",
       "      <td>4 new</td>\n",
       "      <td>5</td>\n",
       "      <td>1.0</td>\n",
       "      <td>5.0 out of 5 stars</td>\n",
       "      <td>Games &gt; Dice &amp; Dice Games</td>\n",
       "      <td>http://www.amazon.co.uk/Dungeon-Masters-Dungeo...</td>\n",
       "      <td>A set of 7 polyhedral dice, suitable for rolep...</td>\n",
       "      <td>Technical Details Item Weight45 g Product Dime...</td>\n",
       "      <td>A set of 7 polyhedral dice, suitable for rolep...</td>\n",
       "      <td>http://www.amazon.co.uk/Dungeons-Dragons-Playe...</td>\n",
       "      <td>NaN</td>\n",
       "      <td>The best thing I have bought this year // 5.0 ...</td>\n",
       "      <td>NaN</td>\n",
       "    </tr>\n",
       "    <tr>\n",
       "      <th>9914</th>\n",
       "      <td>21779ac901c262f0b1221f73ab02469a</td>\n",
       "      <td>Frozen Domino Brainteasers</td>\n",
       "      <td>Disney Frozen</td>\n",
       "      <td>£5.50</td>\n",
       "      <td>8 new</td>\n",
       "      <td>1</td>\n",
       "      <td>2.0</td>\n",
       "      <td>5.0 out of 5 stars</td>\n",
       "      <td>Characters &amp; Brands &gt; Disney &gt; Toys</td>\n",
       "      <td>http://www.amazon.co.uk/Game-The-Snow-Queen-fa...</td>\n",
       "      <td>Product Description Frozen Domino Box Contains...</td>\n",
       "      <td>Technical Details Item Weight240 g Product Dim...</td>\n",
       "      <td>Product Description Frozen Domino Box Contains...</td>\n",
       "      <td>http://www.amazon.co.uk/Educa-Borras-Frozen-Wo...</td>\n",
       "      <td>NaN</td>\n",
       "      <td>Five Stars // 5.0 // 2 Nov. 2015 // By\\n    \\n...</td>\n",
       "      <td>NaN</td>\n",
       "    </tr>\n",
       "  </tbody>\n",
       "</table>\n",
       "<p>70 rows × 17 columns</p>\n",
       "</div>"
      ],
      "text/plain": [
       "                               uniq_id  \\\n",
       "71    1e9876e6f7e98a6bb869341b4b56efd5   \n",
       "411   b585918cbbf998a288bbb259313f0296   \n",
       "441   47e284cab850f3a73f412ed5fe85d969   \n",
       "471   b5b9d9641ddd0c677c5ddaa719207f63   \n",
       "585   222285fb1f28be6b3d6d14d5c35e562f   \n",
       "...                                ...   \n",
       "9250  0046d3f852f55ee28b4a049ed387a946   \n",
       "9449  0cf2e89e32c4729f71647e876cbb5dec   \n",
       "9467  b7fb4625845f84ffc5b34fdc27189587   \n",
       "9803  5da64b6e00420450e70c2697a1ca6344   \n",
       "9914  21779ac901c262f0b1221f73ab02469a   \n",
       "\n",
       "                                  product_name       manufacturer   price  \\\n",
       "71               Power Trains Auto Loader City  POWER CITY TRAINS  £76.99   \n",
       "411                            Polyhedral Dice            Chessex  £11.93   \n",
       "441   100 six sided dice, 14mm, random colours     The Dice Place  £10.79   \n",
       "471                            Polyhedral Dice            Chessex   £9.74   \n",
       "585   100 six sided dice, 14mm, random colours     The Dice Place  £10.79   \n",
       "...                                        ...                ...     ...   \n",
       "9250            Orchard Toys Farmyard Dominoes       Orchard Toys   £7.99   \n",
       "9449                                       20Q             Mattel     NaN   \n",
       "9467                                       20Q             Radica     NaN   \n",
       "9803                           Polyhedral Dice            Chessex  £11.01   \n",
       "9914                Frozen Domino Brainteasers      Disney Frozen   £5.50   \n",
       "\n",
       "     number_available_in_stock number_of_reviews  \\\n",
       "71                       2 new               NaN   \n",
       "411                      4 new                 1   \n",
       "441                        NaN                 1   \n",
       "471                      2 new                 1   \n",
       "585                        NaN                 2   \n",
       "...                        ...               ...   \n",
       "9250                    21 new                19   \n",
       "9449                       NaN                34   \n",
       "9467                     2 new               102   \n",
       "9803                     4 new                 5   \n",
       "9914                     8 new                 1   \n",
       "\n",
       "      number_of_answered_questions average_review_rating  \\\n",
       "71                             1.0                   NaN   \n",
       "411                            1.0    5.0 out of 5 stars   \n",
       "441                            1.0    5.0 out of 5 stars   \n",
       "471                            1.0    5.0 out of 5 stars   \n",
       "585                            1.0    5.0 out of 5 stars   \n",
       "...                            ...                   ...   \n",
       "9250                           5.0    4.8 out of 5 stars   \n",
       "9449                           1.0    4.4 out of 5 stars   \n",
       "9467                           1.0    4.5 out of 5 stars   \n",
       "9803                           1.0    5.0 out of 5 stars   \n",
       "9914                           2.0    5.0 out of 5 stars   \n",
       "\n",
       "                       amazon_category_and_sub_category  \\\n",
       "71                                                  NaN   \n",
       "411                           Games > Dice & Dice Games   \n",
       "441                           Games > Dice & Dice Games   \n",
       "471                           Games > Dice & Dice Games   \n",
       "585                           Games > Dice & Dice Games   \n",
       "...                                                 ...   \n",
       "9250                          Games > Educational Games   \n",
       "9449  Electronic Toys > Educational Computers & Acce...   \n",
       "9467                        Games > Trivia & Quiz Games   \n",
       "9803                          Games > Dice & Dice Games   \n",
       "9914                Characters & Brands > Disney > Toys   \n",
       "\n",
       "             customers_who_bought_this_item_also_bought  \\\n",
       "71    http://www.amazon.co.uk/Power-Trains-Auto-Load...   \n",
       "411                  http://www.amazon.co.uk/Polyhedral   \n",
       "441   http://www.amazon.co.uk/Chessex-Dice-Pound-Pou...   \n",
       "471   http://www.amazon.co.uk/WHATWEARS-Poly-Dices-P...   \n",
       "585   http://www.amazon.co.uk/spot-12mm-diameter-ass...   \n",
       "...                                                 ...   \n",
       "9250  http://www.amazon.co.uk/Orchard-Toys-28-Farm-S...   \n",
       "9449  http://www.amazon.co.uk/An-Astronauts | http:/...   \n",
       "9467  http://www.amazon.co.uk/Radica-I6088-20Q-Versi...   \n",
       "9803  http://www.amazon.co.uk/Dungeon-Masters-Dungeo...   \n",
       "9914  http://www.amazon.co.uk/Game-The-Snow-Queen-fa...   \n",
       "\n",
       "                                            description  \\\n",
       "71                   Power City Trains Auto Loader City   \n",
       "411   Signature dice are a compilation of the best s...   \n",
       "441   A pack of 100 (minimum) dice useful for many b...   \n",
       "471                                                 NaN   \n",
       "585   A pack of 100 (minimum) dice useful for many b...   \n",
       "...                                                 ...   \n",
       "9250  Product Description This is the familiar game ...   \n",
       "9449  Product Description I have mixed the bar-codes...   \n",
       "9467  Product Description I can read your mind! Manu...   \n",
       "9803  A set of 7 polyhedral dice, suitable for rolep...   \n",
       "9914  Product Description Frozen Domino Box Contains...   \n",
       "\n",
       "                                    product_information  \\\n",
       "71    Technical Details Item Weight1.5 Kg Product Di...   \n",
       "411   Technical Details Item Weight54 g Product Dime...   \n",
       "441   Technical Details Item Weight277 g Product Dim...   \n",
       "471   Technical Details Item Weight54 g Manufacturer...   \n",
       "585   Technical Details Item Weight277 g Product Dim...   \n",
       "...                                                 ...   \n",
       "9250  Technical Details Item Weight572 g Product Dim...   \n",
       "9449  Technical Details Item Weight222 g Product Dim...   \n",
       "9467  Technical Details Item Weight91 g Product Dime...   \n",
       "9803  Technical Details Item Weight45 g Product Dime...   \n",
       "9914  Technical Details Item Weight240 g Product Dim...   \n",
       "\n",
       "                                    product_description  \\\n",
       "71                   Power City Trains Auto Loader City   \n",
       "411   Signature dice are a compilation of the best s...   \n",
       "441   A pack of 100 (minimum) dice useful for many b...   \n",
       "471                                                 NaN   \n",
       "585   A pack of 100 (minimum) dice useful for many b...   \n",
       "...                                                 ...   \n",
       "9250  Product Description This is the familiar game ...   \n",
       "9449  Product Description I have mixed the bar-codes...   \n",
       "9467  Product Description I can read your mind! Manu...   \n",
       "9803  A set of 7 polyhedral dice, suitable for rolep...   \n",
       "9914  Product Description Frozen Domino Box Contains...   \n",
       "\n",
       "            items_customers_buy_after_viewing_this_item  \\\n",
       "71    http://www.amazon.co.uk/Power-Trains-Auto-Load...   \n",
       "411                                                 NaN   \n",
       "441   http://www.amazon.co.uk/sided-dice-16mm-random...   \n",
       "471                                                 NaN   \n",
       "585   http://www.amazon.co.uk/spot-12mm-diameter-ass...   \n",
       "...                                                 ...   \n",
       "9250  http://www.amazon.co.uk/Orchard-Toys-Old-MacDo...   \n",
       "9449  http://www.amazon.co.uk/Radica-I4012-20Q/dp/B0...   \n",
       "9467  http://www.amazon.co.uk/Radica-I6088-20Q-Versi...   \n",
       "9803  http://www.amazon.co.uk/Dungeons-Dragons-Playe...   \n",
       "9914  http://www.amazon.co.uk/Educa-Borras-Frozen-Wo...   \n",
       "\n",
       "                         customer_questions_and_answers  \\\n",
       "71                                                  NaN   \n",
       "411                                                 NaN   \n",
       "441                                                 NaN   \n",
       "471                                                 NaN   \n",
       "585                                                 NaN   \n",
       "...                                                 ...   \n",
       "9250                                                NaN   \n",
       "9449  does the ball talk? // No displays answer on s...   \n",
       "9467                                                NaN   \n",
       "9803                                                NaN   \n",
       "9914                                                NaN   \n",
       "\n",
       "                                       customer_reviews  \\\n",
       "71                                                  NaN   \n",
       "411   RPG-tastic! // 5.0 // 21 April 2013 // By\\n   ...   \n",
       "441   Five Stars // 5.0 // 19 Feb. 2015 // By\\n    \\...   \n",
       "471   Good design and good quality, would recommend....   \n",
       "585   I now have want more // 5.0 // 7 Mar. 2013 // ...   \n",
       "...                                                 ...   \n",
       "9250  brilliant // 5.0 // 15 May 2012 // By\\n    \\n ...   \n",
       "9449  I beg to differ // 4.0 // 27 Oct. 2010 // By\\n...   \n",
       "9467  Great, but a little bit spooky!! // 5.0 // 21 ...   \n",
       "9803  The best thing I have bought this year // 5.0 ...   \n",
       "9914  Five Stars // 5.0 // 2 Nov. 2015 // By\\n    \\n...   \n",
       "\n",
       "                                                sellers  \n",
       "71    {\"seller\"=>[{\"Seller_name_1\"=>\"Eurozone Market...  \n",
       "411                                                 NaN  \n",
       "441   {\"seller\"=>{\"Seller_name_1\"=>\"Legendgames\", \"S...  \n",
       "471                                                 NaN  \n",
       "585   {\"seller\"=>{\"Seller_name_1\"=>\"Legendgames\", \"S...  \n",
       "...                                                 ...  \n",
       "9250  {\"seller\"=>[{\"Seller_name_1\"=>\"Atrad\", \"Seller...  \n",
       "9449                                                NaN  \n",
       "9467  {\"seller\"=>[{\"Seller_name_1\"=>\"Smaller World F...  \n",
       "9803                                                NaN  \n",
       "9914                                                NaN  \n",
       "\n",
       "[70 rows x 17 columns]"
      ]
     },
     "execution_count": 36,
     "metadata": {},
     "output_type": "execute_result"
    }
   ],
   "source": [
    "df[df.groupby('product_name')['product_name'].transform('count') > 1] \n",
    "# The .groupby function allows to aggregate the data occurance. \n",
    "# The .transform('count') > 1 will call out data under the product name occur more than once.\n",
    "# The intention of this move"
   ]
  },
  {
   "cell_type": "code",
   "execution_count": 37,
   "id": "5d8dd1d5",
   "metadata": {},
   "outputs": [
    {
     "data": {
      "application/vnd.microsoft.datawrangler.viewer.v0+json": {
       "columns": [
        {
         "name": "index",
         "rawType": "int64",
         "type": "integer"
        },
        {
         "name": "uniq_id",
         "rawType": "object",
         "type": "string"
        },
        {
         "name": "product_name",
         "rawType": "object",
         "type": "string"
        },
        {
         "name": "manufacturer",
         "rawType": "object",
         "type": "string"
        },
        {
         "name": "price",
         "rawType": "object",
         "type": "string"
        },
        {
         "name": "number_available_in_stock",
         "rawType": "object",
         "type": "string"
        },
        {
         "name": "number_of_reviews",
         "rawType": "object",
         "type": "string"
        },
        {
         "name": "number_of_answered_questions",
         "rawType": "float64",
         "type": "float"
        },
        {
         "name": "average_review_rating",
         "rawType": "object",
         "type": "string"
        },
        {
         "name": "amazon_category_and_sub_category",
         "rawType": "object",
         "type": "string"
        },
        {
         "name": "customers_who_bought_this_item_also_bought",
         "rawType": "object",
         "type": "string"
        },
        {
         "name": "description",
         "rawType": "object",
         "type": "string"
        },
        {
         "name": "product_information",
         "rawType": "object",
         "type": "string"
        },
        {
         "name": "product_description",
         "rawType": "object",
         "type": "string"
        },
        {
         "name": "items_customers_buy_after_viewing_this_item",
         "rawType": "object",
         "type": "string"
        },
        {
         "name": "customer_questions_and_answers",
         "rawType": "object",
         "type": "string"
        },
        {
         "name": "customer_reviews",
         "rawType": "object",
         "type": "string"
        },
        {
         "name": "sellers",
         "rawType": "object",
         "type": "string"
        }
       ],
       "ref": "e1601876-6e17-49c8-995b-877bb5731890",
       "rows": [
        [
         "0",
         "eac7efa5dbd3d667f26eb3d3ab504464",
         "Hornby 2014 Catalogue",
         "Hornby",
         "£3.42",
         "5 new",
         "15",
         "1.0",
         "4.9 out of 5 stars",
         "Hobbies > Model Trains & Railway Sets > Rail Vehicles > Trains",
         "http://www.amazon.co.uk/Hornby-R8150-Catalogue-2015/dp/B00S9SUUBE | http://www.amazon.co.uk/Hornby-Book-Model-Railways-Edition/dp/1844860957 | http://www.amazon.co.uk/Hornby-Book-Scenic-Railway-Modelling/dp/1844861120 | http://www.amazon.co.uk/Peco-60-Plans-Book/dp/B002QVL16I | http://www.amazon.co.uk/Hornby-Gloucester | http://www.amazon.co.uk/Airfix-5014429781902",
         "Product Description Hornby 2014 Catalogue Box Contains 1 x one catalogue",
         "Technical Details Item Weight640 g Product Dimensions29.6 x 20.8 x 1 cm Manufacturer recommended age:6 years and up Item model numberR8148 Main Language(s)English manual, English Number of Game Players1 Number of Puzzle Pieces1 Assembly RequiredNo Scale1:72 Engine Typeelectric Track Width/GaugeHO Batteries Required?No Batteries Included?No Material Type(s)Paper Material Care InstructionsNo Remote Control Included?No Radio Control Suitabilityindoor Colorwhite    Additional Information ASINB00HJ208KO Best Sellers Rank 52,854 in Toys & Games (See top 100) #69 in Toys & Games > Model Trains & Railway Sets > Rail Vehicles > Trains Shipping Weight640 g Delivery Destinations:Visit the Delivery Destinations Help page to see where this item can be delivered. Date First Available24 Dec. 2013    Feedback  Would you like to update product info or give feedback on images?",
         "Product Description Hornby 2014 Catalogue Box Contains 1 x one catalogue",
         "http://www.amazon.co.uk/Hornby-R8150-Catalogue-2015/dp/B00S9SUUBE | http://www.amazon.co.uk/Hornby-Book-Model-Railways-Edition/dp/1844860957 | http://www.amazon.co.uk/Peco-60-Plans-Book/dp/B002QVL16I | http://www.amazon.co.uk/Newcomers-Guide-Model-Railways-Step/dp/1857943295",
         "Does this catalogue detail all the previous Hornby products please? // HiThe 2014 catalogue does indeed detail previous models but also includes new releases for 2014.You would be advised to purchase models as you need them to avoid them being discontinued in subsequent years…\n    \n      see more\n    \n  \n  \n    HiThe 2014 catalogue does indeed detail previous models but also includes new releases for 2014.You would be advised to purchase models as you need them to avoid them being discontinued in subsequent yearsHope this helps\n    \n      see less",
         "Worth Buying For The Pictures Alone (As Ever) // 4.0 // 6 April 2014 // By\n    \n    Copnovelist\n  \n on 6 April 2014 // Part of the magic for me growing up as a boy was to buy (or be given) the new Hornby catalogue every year, even if it included 90% of the same products as the previous year.  I've still got my old ones dating back to the 70s and 80s somewhere.  These days the catalogue is especially informative in that it tells you the vintage of the rolling stock which is useful if you are dedicating your railway to one particular era and train company. | Amazing detail fabulous photography. // 5.0 // 11 April 2015 // By\n    \n    richard\n  \n on 11 April 2015 // Amazing detail, every credit to the photographer in this book, a worthy reference manual, as well as a sales brochure. even if you only have a passing interest in the hobby you will be transported to another time when we were all younger and in awe of the big trains. | 'Great Purchase' // 5.0 // 23 April 2014 // By\n    \n    Pinkhandbag\n  \n on 23 April 2014 // This was purchased on behalf of my Dad. He is always asking me to look up 00 gauge engines online, so this has been a good buy as he can look at it anytime. Would definitely buy the next one 2015!It arrived quickly and in perfect condition :-) | Great Catalogue // 5.0 // 11 Jun. 2014 // By\n    \n    Gary John Mapson\n  \n on 11 Jun. 2014 // Everything I really needed to see what was on offer from Hornby in the way of trains.  Would not have minded it included an RRP as well though | I collect them all as the glossy pictures are great and it is nice that you can still get ... // 5.0 // 7 Dec. 2014 // By\n    \n    David Baker\n  \n on 7 Dec. 2014 // I collect them all as the glossy pictures are great and it is nice that you can still get catalogs to collect. | Great catalogue // 5.0 // 20 Mar. 2015 // By\n    \n    John A. Day\n  \n on 20 Mar. 2015 // What a great book.  Extremely useful insight to all future christmas presents. | Useful // 5.0 // 7 Oct. 2014 // By\n    \n    T. Davies\n  \n on 7 Oct. 2014 // Useful info for someonelike me starting back into the hobby after many years | hornbys latest catalogue. // 5.0 // 1 Dec. 2014 // By\n    \n    John Butlin\n  \n on 1 Dec. 2014 // A well produced very good quality catalogue.Super quality pictures.",
         "{\"seller\"=>[{\"Seller_name_1\"=>\"Amazon.co.uk\", \"Seller_price_1\"=>\"£3.42\"}, {\"Seller_name_2\"=>\"**stop-&-shop-uk**\", \"Seller_price_2\"=>\"£0.19\"}, {\"Seller_name_3\"=>\"World Wide Shopping Mall Ltd\", \"Seller_price_3\"=>\"£9.99\"}, {\"Seller_name_4\"=>\"MyHobbyStore Retail\", \"Seller_price_4\"=>\"£8.00\"}, {\"Seller_name_5\"=>\"francejouet\", \"Seller_price_5\"=>\"£37.62\"}]}"
        ]
       ],
       "shape": {
        "columns": 17,
        "rows": 1
       }
      },
      "text/html": [
       "<div>\n",
       "<style scoped>\n",
       "    .dataframe tbody tr th:only-of-type {\n",
       "        vertical-align: middle;\n",
       "    }\n",
       "\n",
       "    .dataframe tbody tr th {\n",
       "        vertical-align: top;\n",
       "    }\n",
       "\n",
       "    .dataframe thead th {\n",
       "        text-align: right;\n",
       "    }\n",
       "</style>\n",
       "<table border=\"1\" class=\"dataframe\">\n",
       "  <thead>\n",
       "    <tr style=\"text-align: right;\">\n",
       "      <th></th>\n",
       "      <th>uniq_id</th>\n",
       "      <th>product_name</th>\n",
       "      <th>manufacturer</th>\n",
       "      <th>price</th>\n",
       "      <th>number_available_in_stock</th>\n",
       "      <th>number_of_reviews</th>\n",
       "      <th>number_of_answered_questions</th>\n",
       "      <th>average_review_rating</th>\n",
       "      <th>amazon_category_and_sub_category</th>\n",
       "      <th>customers_who_bought_this_item_also_bought</th>\n",
       "      <th>description</th>\n",
       "      <th>product_information</th>\n",
       "      <th>product_description</th>\n",
       "      <th>items_customers_buy_after_viewing_this_item</th>\n",
       "      <th>customer_questions_and_answers</th>\n",
       "      <th>customer_reviews</th>\n",
       "      <th>sellers</th>\n",
       "    </tr>\n",
       "  </thead>\n",
       "  <tbody>\n",
       "    <tr>\n",
       "      <th>0</th>\n",
       "      <td>eac7efa5dbd3d667f26eb3d3ab504464</td>\n",
       "      <td>Hornby 2014 Catalogue</td>\n",
       "      <td>Hornby</td>\n",
       "      <td>£3.42</td>\n",
       "      <td>5 new</td>\n",
       "      <td>15</td>\n",
       "      <td>1.0</td>\n",
       "      <td>4.9 out of 5 stars</td>\n",
       "      <td>Hobbies &gt; Model Trains &amp; Railway Sets &gt; Rail V...</td>\n",
       "      <td>http://www.amazon.co.uk/Hornby-R8150-Catalogue...</td>\n",
       "      <td>Product Description Hornby 2014 Catalogue Box ...</td>\n",
       "      <td>Technical Details Item Weight640 g Product Dim...</td>\n",
       "      <td>Product Description Hornby 2014 Catalogue Box ...</td>\n",
       "      <td>http://www.amazon.co.uk/Hornby-R8150-Catalogue...</td>\n",
       "      <td>Does this catalogue detail all the previous Ho...</td>\n",
       "      <td>Worth Buying For The Pictures Alone (As Ever) ...</td>\n",
       "      <td>{\"seller\"=&gt;[{\"Seller_name_1\"=&gt;\"Amazon.co.uk\", ...</td>\n",
       "    </tr>\n",
       "  </tbody>\n",
       "</table>\n",
       "</div>"
      ],
      "text/plain": [
       "                            uniq_id           product_name manufacturer  \\\n",
       "0  eac7efa5dbd3d667f26eb3d3ab504464  Hornby 2014 Catalogue       Hornby   \n",
       "\n",
       "   price number_available_in_stock number_of_reviews  \\\n",
       "0  £3.42                     5 new                15   \n",
       "\n",
       "   number_of_answered_questions average_review_rating  \\\n",
       "0                           1.0    4.9 out of 5 stars   \n",
       "\n",
       "                    amazon_category_and_sub_category  \\\n",
       "0  Hobbies > Model Trains & Railway Sets > Rail V...   \n",
       "\n",
       "          customers_who_bought_this_item_also_bought  \\\n",
       "0  http://www.amazon.co.uk/Hornby-R8150-Catalogue...   \n",
       "\n",
       "                                         description  \\\n",
       "0  Product Description Hornby 2014 Catalogue Box ...   \n",
       "\n",
       "                                 product_information  \\\n",
       "0  Technical Details Item Weight640 g Product Dim...   \n",
       "\n",
       "                                 product_description  \\\n",
       "0  Product Description Hornby 2014 Catalogue Box ...   \n",
       "\n",
       "         items_customers_buy_after_viewing_this_item  \\\n",
       "0  http://www.amazon.co.uk/Hornby-R8150-Catalogue...   \n",
       "\n",
       "                      customer_questions_and_answers  \\\n",
       "0  Does this catalogue detail all the previous Ho...   \n",
       "\n",
       "                                    customer_reviews  \\\n",
       "0  Worth Buying For The Pictures Alone (As Ever) ...   \n",
       "\n",
       "                                             sellers  \n",
       "0  {\"seller\"=>[{\"Seller_name_1\"=>\"Amazon.co.uk\", ...  "
      ]
     },
     "execution_count": 37,
     "metadata": {},
     "output_type": "execute_result"
    }
   ],
   "source": [
    "# Use DataWrangler to understand data quality issues. \n",
    "# This extension helps to identify missing values, duplicates, and other data quality issues by providing a summary and displaying data in a table format.\n",
    "df.head(1)"
   ]
  },
  {
   "cell_type": "markdown",
   "id": "20a3e949",
   "metadata": {},
   "source": [
    "# Keep Useful Columns Only"
   ]
  },
  {
   "cell_type": "markdown",
   "id": "0144f272",
   "metadata": {},
   "source": [
    "### All Columns in DataFrame"
   ]
  },
  {
   "cell_type": "code",
   "execution_count": 38,
   "id": "6c15ec78",
   "metadata": {},
   "outputs": [
    {
     "name": "stdout",
     "output_type": "stream",
     "text": [
      "<class 'pandas.core.frame.DataFrame'>\n",
      "RangeIndex: 10000 entries, 0 to 9999\n",
      "Data columns (total 17 columns):\n",
      " #   Column                                       Non-Null Count  Dtype  \n",
      "---  ------                                       --------------  -----  \n",
      " 0   uniq_id                                      10000 non-null  object \n",
      " 1   product_name                                 10000 non-null  object \n",
      " 2   manufacturer                                 9993 non-null   object \n",
      " 3   price                                        8565 non-null   object \n",
      " 4   number_available_in_stock                    7500 non-null   object \n",
      " 5   number_of_reviews                            9982 non-null   object \n",
      " 6   number_of_answered_questions                 9235 non-null   float64\n",
      " 7   average_review_rating                        9982 non-null   object \n",
      " 8   amazon_category_and_sub_category             9310 non-null   object \n",
      " 9   customers_who_bought_this_item_also_bought   8938 non-null   object \n",
      " 10  description                                  9349 non-null   object \n",
      " 11  product_information                          9942 non-null   object \n",
      " 12  product_description                          9349 non-null   object \n",
      " 13  items_customers_buy_after_viewing_this_item  6935 non-null   object \n",
      " 14  customer_questions_and_answers               914 non-null    object \n",
      " 15  customer_reviews                             9979 non-null   object \n",
      " 16  sellers                                      6918 non-null   object \n",
      "dtypes: float64(1), object(16)\n",
      "memory usage: 1.3+ MB\n"
     ]
    }
   ],
   "source": [
    "df.info()"
   ]
  },
  {
   "cell_type": "markdown",
   "id": "4a084a7d",
   "metadata": {},
   "source": [
    "### All Columns in Cleaned DataFrame"
   ]
  },
  {
   "cell_type": "code",
   "execution_count": 39,
   "id": "27117f5f",
   "metadata": {},
   "outputs": [],
   "source": [
    "cleaned_df=df[[\n",
    "    'uniq_id',\n",
    "    'product_name',\n",
    "    'price',\n",
    "    'number_available_in_stock',\n",
    "    'number_of_reviews',\n",
    "    'average_review_rating',\n",
    "    'amazon_category_and_sub_category',\n",
    "    'product_information',\n",
    "    'customer_reviews',\n",
    "    'sellers']]"
   ]
  },
  {
   "cell_type": "code",
   "execution_count": 40,
   "id": "e0f7fac9",
   "metadata": {},
   "outputs": [
    {
     "name": "stdout",
     "output_type": "stream",
     "text": [
      "<class 'pandas.core.frame.DataFrame'>\n",
      "RangeIndex: 10000 entries, 0 to 9999\n",
      "Data columns (total 10 columns):\n",
      " #   Column                            Non-Null Count  Dtype \n",
      "---  ------                            --------------  ----- \n",
      " 0   uniq_id                           10000 non-null  object\n",
      " 1   product_name                      10000 non-null  object\n",
      " 2   price                             8565 non-null   object\n",
      " 3   number_available_in_stock         7500 non-null   object\n",
      " 4   number_of_reviews                 9982 non-null   object\n",
      " 5   average_review_rating             9982 non-null   object\n",
      " 6   amazon_category_and_sub_category  9310 non-null   object\n",
      " 7   product_information               9942 non-null   object\n",
      " 8   customer_reviews                  9979 non-null   object\n",
      " 9   sellers                           6918 non-null   object\n",
      "dtypes: object(10)\n",
      "memory usage: 781.4+ KB\n"
     ]
    }
   ],
   "source": [
    "cleaned_df.info()"
   ]
  },
  {
   "cell_type": "markdown",
   "id": "943eb811",
   "metadata": {},
   "source": [
    "# Reformat Columns"
   ]
  },
  {
   "cell_type": "markdown",
   "id": "3892ae5a",
   "metadata": {},
   "source": [
    "## Remove Symbols in \"price\" Column"
   ]
  },
  {
   "cell_type": "code",
   "execution_count": 41,
   "id": "1ada5d1e",
   "metadata": {},
   "outputs": [
    {
     "name": "stderr",
     "output_type": "stream",
     "text": [
      "/var/folders/d0/xkmp50cn5p19ts1h16db856r0000gn/T/ipykernel_7075/2785400651.py:4: SettingWithCopyWarning: \n",
      "A value is trying to be set on a copy of a slice from a DataFrame.\n",
      "Try using .loc[row_indexer,col_indexer] = value instead\n",
      "\n",
      "See the caveats in the documentation: https://pandas.pydata.org/pandas-docs/stable/user_guide/indexing.html#returning-a-view-versus-a-copy\n",
      "  cleaned_df['cleaned_price'] = (\n"
     ]
    }
   ],
   "source": [
    "# Although it is obvious that this column contains money symbol, but it could also contain other characters that I oversee. \n",
    "# So, instead of droping the things I don't want, I will extract the things I want.\n",
    "\n",
    "cleaned_df['cleaned_price'] = (\n",
    "    cleaned_df['price']\n",
    "    .astype(str)  # change the datatype to string\n",
    "    .str.extract(r'(\\d+\\.\\d+|\\d+)')  # From the string, extract only the numeric vaules using regular expression\n",
    "    #(r'\\d+\\.\\d+|\\d+') this regex pattern matches both integer and decimal numbers.\n",
    "    .astype(float) )"
   ]
  },
  {
   "cell_type": "code",
   "execution_count": 42,
   "id": "7b8d03d4",
   "metadata": {},
   "outputs": [
    {
     "name": "stdout",
     "output_type": "stream",
     "text": [
      "<class 'pandas.core.frame.DataFrame'>\n",
      "RangeIndex: 10000 entries, 0 to 9999\n",
      "Data columns (total 11 columns):\n",
      " #   Column                            Non-Null Count  Dtype  \n",
      "---  ------                            --------------  -----  \n",
      " 0   uniq_id                           10000 non-null  object \n",
      " 1   product_name                      10000 non-null  object \n",
      " 2   price                             8565 non-null   object \n",
      " 3   number_available_in_stock         7500 non-null   object \n",
      " 4   number_of_reviews                 9982 non-null   object \n",
      " 5   average_review_rating             9982 non-null   object \n",
      " 6   amazon_category_and_sub_category  9310 non-null   object \n",
      " 7   product_information               9942 non-null   object \n",
      " 8   customer_reviews                  9979 non-null   object \n",
      " 9   sellers                           6918 non-null   object \n",
      " 10  cleaned_price                     8565 non-null   float64\n",
      "dtypes: float64(1), object(10)\n",
      "memory usage: 859.5+ KB\n"
     ]
    },
    {
     "data": {
      "application/vnd.microsoft.datawrangler.viewer.v0+json": {
       "columns": [
        {
         "name": "index",
         "rawType": "int64",
         "type": "integer"
        },
        {
         "name": "uniq_id",
         "rawType": "object",
         "type": "string"
        },
        {
         "name": "product_name",
         "rawType": "object",
         "type": "string"
        },
        {
         "name": "price",
         "rawType": "object",
         "type": "string"
        },
        {
         "name": "number_available_in_stock",
         "rawType": "object",
         "type": "unknown"
        },
        {
         "name": "number_of_reviews",
         "rawType": "object",
         "type": "string"
        },
        {
         "name": "average_review_rating",
         "rawType": "object",
         "type": "string"
        },
        {
         "name": "amazon_category_and_sub_category",
         "rawType": "object",
         "type": "string"
        },
        {
         "name": "product_information",
         "rawType": "object",
         "type": "string"
        },
        {
         "name": "customer_reviews",
         "rawType": "object",
         "type": "string"
        },
        {
         "name": "sellers",
         "rawType": "object",
         "type": "string"
        },
        {
         "name": "cleaned_price",
         "rawType": "float64",
         "type": "float"
        }
       ],
       "ref": "558ffd64-af9c-43ac-861d-4705da346f03",
       "rows": [
        [
         "0",
         "eac7efa5dbd3d667f26eb3d3ab504464",
         "Hornby 2014 Catalogue",
         "£3.42",
         "5 new",
         "15",
         "4.9 out of 5 stars",
         "Hobbies > Model Trains & Railway Sets > Rail Vehicles > Trains",
         "Technical Details Item Weight640 g Product Dimensions29.6 x 20.8 x 1 cm Manufacturer recommended age:6 years and up Item model numberR8148 Main Language(s)English manual, English Number of Game Players1 Number of Puzzle Pieces1 Assembly RequiredNo Scale1:72 Engine Typeelectric Track Width/GaugeHO Batteries Required?No Batteries Included?No Material Type(s)Paper Material Care InstructionsNo Remote Control Included?No Radio Control Suitabilityindoor Colorwhite    Additional Information ASINB00HJ208KO Best Sellers Rank 52,854 in Toys & Games (See top 100) #69 in Toys & Games > Model Trains & Railway Sets > Rail Vehicles > Trains Shipping Weight640 g Delivery Destinations:Visit the Delivery Destinations Help page to see where this item can be delivered. Date First Available24 Dec. 2013    Feedback  Would you like to update product info or give feedback on images?",
         "Worth Buying For The Pictures Alone (As Ever) // 4.0 // 6 April 2014 // By\n    \n    Copnovelist\n  \n on 6 April 2014 // Part of the magic for me growing up as a boy was to buy (or be given) the new Hornby catalogue every year, even if it included 90% of the same products as the previous year.  I've still got my old ones dating back to the 70s and 80s somewhere.  These days the catalogue is especially informative in that it tells you the vintage of the rolling stock which is useful if you are dedicating your railway to one particular era and train company. | Amazing detail fabulous photography. // 5.0 // 11 April 2015 // By\n    \n    richard\n  \n on 11 April 2015 // Amazing detail, every credit to the photographer in this book, a worthy reference manual, as well as a sales brochure. even if you only have a passing interest in the hobby you will be transported to another time when we were all younger and in awe of the big trains. | 'Great Purchase' // 5.0 // 23 April 2014 // By\n    \n    Pinkhandbag\n  \n on 23 April 2014 // This was purchased on behalf of my Dad. He is always asking me to look up 00 gauge engines online, so this has been a good buy as he can look at it anytime. Would definitely buy the next one 2015!It arrived quickly and in perfect condition :-) | Great Catalogue // 5.0 // 11 Jun. 2014 // By\n    \n    Gary John Mapson\n  \n on 11 Jun. 2014 // Everything I really needed to see what was on offer from Hornby in the way of trains.  Would not have minded it included an RRP as well though | I collect them all as the glossy pictures are great and it is nice that you can still get ... // 5.0 // 7 Dec. 2014 // By\n    \n    David Baker\n  \n on 7 Dec. 2014 // I collect them all as the glossy pictures are great and it is nice that you can still get catalogs to collect. | Great catalogue // 5.0 // 20 Mar. 2015 // By\n    \n    John A. Day\n  \n on 20 Mar. 2015 // What a great book.  Extremely useful insight to all future christmas presents. | Useful // 5.0 // 7 Oct. 2014 // By\n    \n    T. Davies\n  \n on 7 Oct. 2014 // Useful info for someonelike me starting back into the hobby after many years | hornbys latest catalogue. // 5.0 // 1 Dec. 2014 // By\n    \n    John Butlin\n  \n on 1 Dec. 2014 // A well produced very good quality catalogue.Super quality pictures.",
         "{\"seller\"=>[{\"Seller_name_1\"=>\"Amazon.co.uk\", \"Seller_price_1\"=>\"£3.42\"}, {\"Seller_name_2\"=>\"**stop-&-shop-uk**\", \"Seller_price_2\"=>\"£0.19\"}, {\"Seller_name_3\"=>\"World Wide Shopping Mall Ltd\", \"Seller_price_3\"=>\"£9.99\"}, {\"Seller_name_4\"=>\"MyHobbyStore Retail\", \"Seller_price_4\"=>\"£8.00\"}, {\"Seller_name_5\"=>\"francejouet\", \"Seller_price_5\"=>\"£37.62\"}]}",
         "3.42"
        ],
        [
         "1",
         "b17540ef7e86e461d37f3ae58b7b72ac",
         "FunkyBuys® Large Christmas Holiday Express Festive Train Set (SI-TY1017) Toy Light / Sounds / Battery Operated & Smoke",
         "£16.99",
         null,
         "2",
         "4.5 out of 5 stars",
         "Hobbies > Model Trains & Railway Sets > Rail Vehicles > Trains",
         "Technical Details Manufacturer recommended age:3 years and up Item model numberSI-TY1017-B    Additional Information ASINB01434AIRS Best Sellers Rank 169,625 in Toys & Games (See top 100) #261 in Toys & Games > Model Trains & Railway Sets > Rail Vehicles > Trains Delivery Destinations:Visit the Delivery Destinations Help page to see where this item can be delivered. Date First Available18 Aug. 2015   ",
         "Four Stars // 4.0 // 18 Dec. 2015 // By\n    \n    kenneth bell\n  \n on 18 Dec. 2015 // Very happy with the communication with funkybuys | Five Stars // 5.0 // 14 Jan. 2016 // By\n    \n    moosixty\n  \n on 14 Jan. 2016 // Great buy.",
         "{\"seller\"=>{\"Seller_name_1\"=>\"UHD WHOLESALE\", \"Seller_price_1\"=>\"£16.99\"}}",
         "16.99"
        ],
        [
         "2",
         "348f344247b0c1a935b1223072ef9d8a",
         "CLASSIC TOY TRAIN SET TRACK CARRIAGES LIGHT ENGINE BOXED BOYS KIDS BATTERY",
         "£9.99",
         "2 new",
         "17",
         "3.9 out of 5 stars",
         "Hobbies > Model Trains & Railway Sets > Rail Vehicles > Trains",
         "Technical Details Manufacturer recommended age:3 years and up    Additional Information ASINB00E5MNXJ4 Best Sellers Rank 54,147 in Toys & Games (See top 100) #72 in Toys & Games > Model Trains & Railway Sets > Rail Vehicles > Trains Delivery Destinations:Visit the Delivery Destinations Help page to see where this item can be delivered. Date First Available25 July 2013    Feedback  Would you like to update product info or give feedback on images?",
         "**Highly Recommended!** // 5.0 // 26 May 2015 // By\n    \n    Simon.B :-)\n  \n on 26 May 2015 // Simple & GREAT FUN for 5+My nephews face was amazing when he opened this for his birthday!! His mouth dropped open with surprise! (no joke, it literally did!)It's very easy to connect the plastic track/assemble, it takes 2 mins. It's very easy to connect the trains together and apply to track.All you need is two AA batteries and time to watch your child enjoy themselves!We even added homemade tunnels to this to make it more fun, we simply cut holes in cardboard boxes to put around certain parts of the track!This is brilliant for very young kids if they're very interested in trains. This gets them started in the hobby and doesn't cost much at all! | Excellent product // 5.0 // 29 Jun. 2014 // By\n    \n    Trevor\n  \n on 29 Jun. 2014 // Excellent product everybody should have one or to of product  excellent  100 percent ok speedy delivery excellent i give it five stars CLASSIC TOY TRAIN SET TRACK CARRIAGES LIGHT ENGINE BOXED BOYS KIDS BATTERYdouble aa battery goes in top of engine | Review book finding love again // 5.0 // 20 Aug. 2015 // By\n    \n    Janet\n  \n on 20 Aug. 2015 // I was extremely pleased with the train set really good value for money. | I would not recommend this item // 1.0 // 11 Dec. 2015 // By\n    \n    ann milburn\n  \n on 11 Dec. 2015 // i found this item, not suitable for young children,  very difficult to keep the carriages together and the whole thing kept coming off the track.All very thin plastic. I would not recommend this item. | ... for my young nephew for Christmas I was very disappointed but as it was only £7 it was not ... // 1.0 // 11 Jan. 2016 // By\n    \n    T. F. Snowdon\n  \n on 11 Jan. 2016 // The Train did not work  and as it was a present for my young nephew for Christmas I was very disappointed but as it was only £7 it was not worth the fuss of ordering another | Better than expected // 4.0 // 22 Dec. 2015 // By\n    \n    Kindle Customer\n  \n on 22 Dec. 2015 // Better than expected. It has a proper oval of track rather than just a circle. My 2 year old grandsn loves it although he finds it difficult to put on the track. | Brilliant little train // 5.0 // 28 Dec. 2015 // By\n    \n    LorsF\n  \n on 28 Dec. 2015 // Brilliant little train.  Bought for my son who was looking for a train that looks like the polar express - he was not disappointed.  Great value. | ok train , but carriages kept coming off track // 3.0 // 16 Dec. 2015 // By\n    \n    mrs nice\n  \n on 16 Dec. 2015 // train carriages kept falling track  of and the connectors not good. better on the floor",
         "{\"seller\"=>[{\"Seller_name_1\"=>\"DEAL-BOX\", \"Seller_price_1\"=>\"£9.99\"}, {\"Seller_name_2\"=>\"DO NOT BUY - TESTING ACCOUNT\", \"Seller_price_2\"=>\"£29.90\"}]}",
         "9.99"
        ]
       ],
       "shape": {
        "columns": 11,
        "rows": 3
       }
      },
      "text/html": [
       "<div>\n",
       "<style scoped>\n",
       "    .dataframe tbody tr th:only-of-type {\n",
       "        vertical-align: middle;\n",
       "    }\n",
       "\n",
       "    .dataframe tbody tr th {\n",
       "        vertical-align: top;\n",
       "    }\n",
       "\n",
       "    .dataframe thead th {\n",
       "        text-align: right;\n",
       "    }\n",
       "</style>\n",
       "<table border=\"1\" class=\"dataframe\">\n",
       "  <thead>\n",
       "    <tr style=\"text-align: right;\">\n",
       "      <th></th>\n",
       "      <th>uniq_id</th>\n",
       "      <th>product_name</th>\n",
       "      <th>price</th>\n",
       "      <th>number_available_in_stock</th>\n",
       "      <th>number_of_reviews</th>\n",
       "      <th>average_review_rating</th>\n",
       "      <th>amazon_category_and_sub_category</th>\n",
       "      <th>product_information</th>\n",
       "      <th>customer_reviews</th>\n",
       "      <th>sellers</th>\n",
       "      <th>cleaned_price</th>\n",
       "    </tr>\n",
       "  </thead>\n",
       "  <tbody>\n",
       "    <tr>\n",
       "      <th>0</th>\n",
       "      <td>eac7efa5dbd3d667f26eb3d3ab504464</td>\n",
       "      <td>Hornby 2014 Catalogue</td>\n",
       "      <td>£3.42</td>\n",
       "      <td>5 new</td>\n",
       "      <td>15</td>\n",
       "      <td>4.9 out of 5 stars</td>\n",
       "      <td>Hobbies &gt; Model Trains &amp; Railway Sets &gt; Rail V...</td>\n",
       "      <td>Technical Details Item Weight640 g Product Dim...</td>\n",
       "      <td>Worth Buying For The Pictures Alone (As Ever) ...</td>\n",
       "      <td>{\"seller\"=&gt;[{\"Seller_name_1\"=&gt;\"Amazon.co.uk\", ...</td>\n",
       "      <td>3.42</td>\n",
       "    </tr>\n",
       "    <tr>\n",
       "      <th>1</th>\n",
       "      <td>b17540ef7e86e461d37f3ae58b7b72ac</td>\n",
       "      <td>FunkyBuys® Large Christmas Holiday Express Fes...</td>\n",
       "      <td>£16.99</td>\n",
       "      <td>NaN</td>\n",
       "      <td>2</td>\n",
       "      <td>4.5 out of 5 stars</td>\n",
       "      <td>Hobbies &gt; Model Trains &amp; Railway Sets &gt; Rail V...</td>\n",
       "      <td>Technical Details Manufacturer recommended age...</td>\n",
       "      <td>Four Stars // 4.0 // 18 Dec. 2015 // By\\n    \\...</td>\n",
       "      <td>{\"seller\"=&gt;{\"Seller_name_1\"=&gt;\"UHD WHOLESALE\", ...</td>\n",
       "      <td>16.99</td>\n",
       "    </tr>\n",
       "    <tr>\n",
       "      <th>2</th>\n",
       "      <td>348f344247b0c1a935b1223072ef9d8a</td>\n",
       "      <td>CLASSIC TOY TRAIN SET TRACK CARRIAGES LIGHT EN...</td>\n",
       "      <td>£9.99</td>\n",
       "      <td>2 new</td>\n",
       "      <td>17</td>\n",
       "      <td>3.9 out of 5 stars</td>\n",
       "      <td>Hobbies &gt; Model Trains &amp; Railway Sets &gt; Rail V...</td>\n",
       "      <td>Technical Details Manufacturer recommended age...</td>\n",
       "      <td>**Highly Recommended!** // 5.0 // 26 May 2015 ...</td>\n",
       "      <td>{\"seller\"=&gt;[{\"Seller_name_1\"=&gt;\"DEAL-BOX\", \"Sel...</td>\n",
       "      <td>9.99</td>\n",
       "    </tr>\n",
       "  </tbody>\n",
       "</table>\n",
       "</div>"
      ],
      "text/plain": [
       "                            uniq_id  \\\n",
       "0  eac7efa5dbd3d667f26eb3d3ab504464   \n",
       "1  b17540ef7e86e461d37f3ae58b7b72ac   \n",
       "2  348f344247b0c1a935b1223072ef9d8a   \n",
       "\n",
       "                                        product_name   price  \\\n",
       "0                              Hornby 2014 Catalogue   £3.42   \n",
       "1  FunkyBuys® Large Christmas Holiday Express Fes...  £16.99   \n",
       "2  CLASSIC TOY TRAIN SET TRACK CARRIAGES LIGHT EN...   £9.99   \n",
       "\n",
       "  number_available_in_stock number_of_reviews average_review_rating  \\\n",
       "0                     5 new                15    4.9 out of 5 stars   \n",
       "1                       NaN                 2    4.5 out of 5 stars   \n",
       "2                     2 new                17    3.9 out of 5 stars   \n",
       "\n",
       "                    amazon_category_and_sub_category  \\\n",
       "0  Hobbies > Model Trains & Railway Sets > Rail V...   \n",
       "1  Hobbies > Model Trains & Railway Sets > Rail V...   \n",
       "2  Hobbies > Model Trains & Railway Sets > Rail V...   \n",
       "\n",
       "                                 product_information  \\\n",
       "0  Technical Details Item Weight640 g Product Dim...   \n",
       "1  Technical Details Manufacturer recommended age...   \n",
       "2  Technical Details Manufacturer recommended age...   \n",
       "\n",
       "                                    customer_reviews  \\\n",
       "0  Worth Buying For The Pictures Alone (As Ever) ...   \n",
       "1  Four Stars // 4.0 // 18 Dec. 2015 // By\\n    \\...   \n",
       "2  **Highly Recommended!** // 5.0 // 26 May 2015 ...   \n",
       "\n",
       "                                             sellers  cleaned_price  \n",
       "0  {\"seller\"=>[{\"Seller_name_1\"=>\"Amazon.co.uk\", ...           3.42  \n",
       "1  {\"seller\"=>{\"Seller_name_1\"=>\"UHD WHOLESALE\", ...          16.99  \n",
       "2  {\"seller\"=>[{\"Seller_name_1\"=>\"DEAL-BOX\", \"Sel...           9.99  "
      ]
     },
     "execution_count": 42,
     "metadata": {},
     "output_type": "execute_result"
    }
   ],
   "source": [
    "cleaned_df.info()\n",
    "cleaned_df.head(3)"
   ]
  },
  {
   "cell_type": "markdown",
   "id": "111e58e1",
   "metadata": {},
   "source": [
    "## Extract Numerical Data from \"average_review_rating\" and Correct Data Type"
   ]
  },
  {
   "cell_type": "code",
   "execution_count": 43,
   "id": "a1b3a599",
   "metadata": {},
   "outputs": [
    {
     "name": "stderr",
     "output_type": "stream",
     "text": [
      "/var/folders/d0/xkmp50cn5p19ts1h16db856r0000gn/T/ipykernel_7075/3933719750.py:1: SettingWithCopyWarning: \n",
      "A value is trying to be set on a copy of a slice from a DataFrame.\n",
      "Try using .loc[row_indexer,col_indexer] = value instead\n",
      "\n",
      "See the caveats in the documentation: https://pandas.pydata.org/pandas-docs/stable/user_guide/indexing.html#returning-a-view-versus-a-copy\n",
      "  cleaned_df['average_review_rating_out_of_5'] = (# Create a new column 'average_rating_out_of_5.0' in cleaned_df for cleaned average review ratings.\n"
     ]
    }
   ],
   "source": [
    "cleaned_df['average_review_rating_out_of_5'] = (# Create a new column 'average_rating_out_of_5.0' in cleaned_df for cleaned average review ratings.\n",
    "    cleaned_df['average_review_rating'] \n",
    "    .astype(str) # Convert to string to handle any NaNs, as explained in the previous steps.\n",
    "    .str.extract(r'(\\d+\\.\\d+|\\d+)', expand=False)  \n",
    "    # (\\d+ extracts one or more digits. Eg: '123', '4567', '89'.\n",
    "    # \\.\\d+ extracts a decimal point followed by one or more digits. Eg: '3.5', '4.0', '2.75'.\n",
    "    # | extracts ither an integer (\\d+) or a float (\\d+\\.\\d+).\n",
    "    # expand=False ensures that the result is a Series, not a DataFrame. Eg: '123.45' will be extracted as a single value, not as 1, 2, 3 . 4 and 5 in individual columns.\n",
    "    .astype(float)\n",
    " ) # Convert to float."
   ]
  },
  {
   "cell_type": "code",
   "execution_count": 44,
   "id": "d545c338",
   "metadata": {},
   "outputs": [
    {
     "name": "stdout",
     "output_type": "stream",
     "text": [
      "<class 'pandas.core.frame.DataFrame'>\n",
      "RangeIndex: 10000 entries, 0 to 9999\n",
      "Data columns (total 12 columns):\n",
      " #   Column                            Non-Null Count  Dtype  \n",
      "---  ------                            --------------  -----  \n",
      " 0   uniq_id                           10000 non-null  object \n",
      " 1   product_name                      10000 non-null  object \n",
      " 2   price                             8565 non-null   object \n",
      " 3   number_available_in_stock         7500 non-null   object \n",
      " 4   number_of_reviews                 9982 non-null   object \n",
      " 5   average_review_rating             9982 non-null   object \n",
      " 6   amazon_category_and_sub_category  9310 non-null   object \n",
      " 7   product_information               9942 non-null   object \n",
      " 8   customer_reviews                  9979 non-null   object \n",
      " 9   sellers                           6918 non-null   object \n",
      " 10  cleaned_price                     8565 non-null   float64\n",
      " 11  average_review_rating_out_of_5    9982 non-null   float64\n",
      "dtypes: float64(2), object(10)\n",
      "memory usage: 937.6+ KB\n"
     ]
    }
   ],
   "source": [
    "cleaned_df.info()"
   ]
  },
  {
   "cell_type": "markdown",
   "id": "de9acff7",
   "metadata": {},
   "source": [
    "## Split Product Hierachy for \"amazon_category_and_sub_category\" Column\n"
   ]
  },
  {
   "cell_type": "code",
   "execution_count": 45,
   "id": "cf5412e6",
   "metadata": {},
   "outputs": [
    {
     "name": "stderr",
     "output_type": "stream",
     "text": [
      "/var/folders/d0/xkmp50cn5p19ts1h16db856r0000gn/T/ipykernel_7075/127122190.py:3: SettingWithCopyWarning: \n",
      "A value is trying to be set on a copy of a slice from a DataFrame.\n",
      "Try using .loc[row_indexer,col_indexer] = value instead\n",
      "\n",
      "See the caveats in the documentation: https://pandas.pydata.org/pandas-docs/stable/user_guide/indexing.html#returning-a-view-versus-a-copy\n",
      "  cleaned_df[['main_category', 'sub_category']] = (\n",
      "/var/folders/d0/xkmp50cn5p19ts1h16db856r0000gn/T/ipykernel_7075/127122190.py:3: SettingWithCopyWarning: \n",
      "A value is trying to be set on a copy of a slice from a DataFrame.\n",
      "Try using .loc[row_indexer,col_indexer] = value instead\n",
      "\n",
      "See the caveats in the documentation: https://pandas.pydata.org/pandas-docs/stable/user_guide/indexing.html#returning-a-view-versus-a-copy\n",
      "  cleaned_df[['main_category', 'sub_category']] = (\n"
     ]
    }
   ],
   "source": [
    "# The reason to keep two levels of the hierachy only is because many of the category level stopped after two levels. \n",
    "\n",
    "cleaned_df[['main_category', 'sub_category']] = (\n",
    "    df['amazon_category_and_sub_category']\n",
    "    .str.split('>', expand=True)[[0, 1]])\n",
    "# The .str.split('>') function splits the string into a list of substrings based on the '>'.\n",
    "# The expand=True function specifies the split data to expand to its new column, not within the original column. \n",
    "# The [[0,1]] function specifies to select the first and second from the hierachy list only."
   ]
  },
  {
   "cell_type": "code",
   "execution_count": 46,
   "id": "c2dd3271",
   "metadata": {},
   "outputs": [
    {
     "name": "stdout",
     "output_type": "stream",
     "text": [
      "<class 'pandas.core.frame.DataFrame'>\n",
      "RangeIndex: 10000 entries, 0 to 9999\n",
      "Data columns (total 14 columns):\n",
      " #   Column                            Non-Null Count  Dtype  \n",
      "---  ------                            --------------  -----  \n",
      " 0   uniq_id                           10000 non-null  object \n",
      " 1   product_name                      10000 non-null  object \n",
      " 2   price                             8565 non-null   object \n",
      " 3   number_available_in_stock         7500 non-null   object \n",
      " 4   number_of_reviews                 9982 non-null   object \n",
      " 5   average_review_rating             9982 non-null   object \n",
      " 6   amazon_category_and_sub_category  9310 non-null   object \n",
      " 7   product_information               9942 non-null   object \n",
      " 8   customer_reviews                  9979 non-null   object \n",
      " 9   sellers                           6918 non-null   object \n",
      " 10  cleaned_price                     8565 non-null   float64\n",
      " 11  average_review_rating_out_of_5    9982 non-null   float64\n",
      " 12  main_category                     9310 non-null   object \n",
      " 13  sub_category                      9310 non-null   object \n",
      "dtypes: float64(2), object(12)\n",
      "memory usage: 1.1+ MB\n"
     ]
    }
   ],
   "source": [
    "cleaned_df.info()\n",
    "# The row count of the two new columns are same as the original. This means good."
   ]
  },
  {
   "cell_type": "code",
   "execution_count": 47,
   "id": "71b53109",
   "metadata": {},
   "outputs": [
    {
     "data": {
      "application/vnd.microsoft.datawrangler.viewer.v0+json": {
       "columns": [
        {
         "name": "index",
         "rawType": "int64",
         "type": "integer"
        },
        {
         "name": "uniq_id",
         "rawType": "object",
         "type": "string"
        },
        {
         "name": "product_name",
         "rawType": "object",
         "type": "string"
        },
        {
         "name": "price",
         "rawType": "object",
         "type": "string"
        },
        {
         "name": "number_available_in_stock",
         "rawType": "object",
         "type": "unknown"
        },
        {
         "name": "number_of_reviews",
         "rawType": "object",
         "type": "string"
        },
        {
         "name": "average_review_rating",
         "rawType": "object",
         "type": "string"
        },
        {
         "name": "amazon_category_and_sub_category",
         "rawType": "object",
         "type": "string"
        },
        {
         "name": "product_information",
         "rawType": "object",
         "type": "string"
        },
        {
         "name": "customer_reviews",
         "rawType": "object",
         "type": "string"
        },
        {
         "name": "sellers",
         "rawType": "object",
         "type": "string"
        },
        {
         "name": "cleaned_price",
         "rawType": "float64",
         "type": "float"
        },
        {
         "name": "average_review_rating_out_of_5",
         "rawType": "float64",
         "type": "float"
        },
        {
         "name": "main_category",
         "rawType": "object",
         "type": "string"
        },
        {
         "name": "sub_category",
         "rawType": "object",
         "type": "string"
        }
       ],
       "ref": "10d6ce85-23f3-4c5f-ba7f-e090817a1cd9",
       "rows": [
        [
         "0",
         "eac7efa5dbd3d667f26eb3d3ab504464",
         "Hornby 2014 Catalogue",
         "£3.42",
         "5 new",
         "15",
         "4.9 out of 5 stars",
         "Hobbies > Model Trains & Railway Sets > Rail Vehicles > Trains",
         "Technical Details Item Weight640 g Product Dimensions29.6 x 20.8 x 1 cm Manufacturer recommended age:6 years and up Item model numberR8148 Main Language(s)English manual, English Number of Game Players1 Number of Puzzle Pieces1 Assembly RequiredNo Scale1:72 Engine Typeelectric Track Width/GaugeHO Batteries Required?No Batteries Included?No Material Type(s)Paper Material Care InstructionsNo Remote Control Included?No Radio Control Suitabilityindoor Colorwhite    Additional Information ASINB00HJ208KO Best Sellers Rank 52,854 in Toys & Games (See top 100) #69 in Toys & Games > Model Trains & Railway Sets > Rail Vehicles > Trains Shipping Weight640 g Delivery Destinations:Visit the Delivery Destinations Help page to see where this item can be delivered. Date First Available24 Dec. 2013    Feedback  Would you like to update product info or give feedback on images?",
         "Worth Buying For The Pictures Alone (As Ever) // 4.0 // 6 April 2014 // By\n    \n    Copnovelist\n  \n on 6 April 2014 // Part of the magic for me growing up as a boy was to buy (or be given) the new Hornby catalogue every year, even if it included 90% of the same products as the previous year.  I've still got my old ones dating back to the 70s and 80s somewhere.  These days the catalogue is especially informative in that it tells you the vintage of the rolling stock which is useful if you are dedicating your railway to one particular era and train company. | Amazing detail fabulous photography. // 5.0 // 11 April 2015 // By\n    \n    richard\n  \n on 11 April 2015 // Amazing detail, every credit to the photographer in this book, a worthy reference manual, as well as a sales brochure. even if you only have a passing interest in the hobby you will be transported to another time when we were all younger and in awe of the big trains. | 'Great Purchase' // 5.0 // 23 April 2014 // By\n    \n    Pinkhandbag\n  \n on 23 April 2014 // This was purchased on behalf of my Dad. He is always asking me to look up 00 gauge engines online, so this has been a good buy as he can look at it anytime. Would definitely buy the next one 2015!It arrived quickly and in perfect condition :-) | Great Catalogue // 5.0 // 11 Jun. 2014 // By\n    \n    Gary John Mapson\n  \n on 11 Jun. 2014 // Everything I really needed to see what was on offer from Hornby in the way of trains.  Would not have minded it included an RRP as well though | I collect them all as the glossy pictures are great and it is nice that you can still get ... // 5.0 // 7 Dec. 2014 // By\n    \n    David Baker\n  \n on 7 Dec. 2014 // I collect them all as the glossy pictures are great and it is nice that you can still get catalogs to collect. | Great catalogue // 5.0 // 20 Mar. 2015 // By\n    \n    John A. Day\n  \n on 20 Mar. 2015 // What a great book.  Extremely useful insight to all future christmas presents. | Useful // 5.0 // 7 Oct. 2014 // By\n    \n    T. Davies\n  \n on 7 Oct. 2014 // Useful info for someonelike me starting back into the hobby after many years | hornbys latest catalogue. // 5.0 // 1 Dec. 2014 // By\n    \n    John Butlin\n  \n on 1 Dec. 2014 // A well produced very good quality catalogue.Super quality pictures.",
         "{\"seller\"=>[{\"Seller_name_1\"=>\"Amazon.co.uk\", \"Seller_price_1\"=>\"£3.42\"}, {\"Seller_name_2\"=>\"**stop-&-shop-uk**\", \"Seller_price_2\"=>\"£0.19\"}, {\"Seller_name_3\"=>\"World Wide Shopping Mall Ltd\", \"Seller_price_3\"=>\"£9.99\"}, {\"Seller_name_4\"=>\"MyHobbyStore Retail\", \"Seller_price_4\"=>\"£8.00\"}, {\"Seller_name_5\"=>\"francejouet\", \"Seller_price_5\"=>\"£37.62\"}]}",
         "3.42",
         "4.9",
         "Hobbies ",
         " Model Trains & Railway Sets "
        ],
        [
         "1",
         "b17540ef7e86e461d37f3ae58b7b72ac",
         "FunkyBuys® Large Christmas Holiday Express Festive Train Set (SI-TY1017) Toy Light / Sounds / Battery Operated & Smoke",
         "£16.99",
         null,
         "2",
         "4.5 out of 5 stars",
         "Hobbies > Model Trains & Railway Sets > Rail Vehicles > Trains",
         "Technical Details Manufacturer recommended age:3 years and up Item model numberSI-TY1017-B    Additional Information ASINB01434AIRS Best Sellers Rank 169,625 in Toys & Games (See top 100) #261 in Toys & Games > Model Trains & Railway Sets > Rail Vehicles > Trains Delivery Destinations:Visit the Delivery Destinations Help page to see where this item can be delivered. Date First Available18 Aug. 2015   ",
         "Four Stars // 4.0 // 18 Dec. 2015 // By\n    \n    kenneth bell\n  \n on 18 Dec. 2015 // Very happy with the communication with funkybuys | Five Stars // 5.0 // 14 Jan. 2016 // By\n    \n    moosixty\n  \n on 14 Jan. 2016 // Great buy.",
         "{\"seller\"=>{\"Seller_name_1\"=>\"UHD WHOLESALE\", \"Seller_price_1\"=>\"£16.99\"}}",
         "16.99",
         "4.5",
         "Hobbies ",
         " Model Trains & Railway Sets "
        ],
        [
         "2",
         "348f344247b0c1a935b1223072ef9d8a",
         "CLASSIC TOY TRAIN SET TRACK CARRIAGES LIGHT ENGINE BOXED BOYS KIDS BATTERY",
         "£9.99",
         "2 new",
         "17",
         "3.9 out of 5 stars",
         "Hobbies > Model Trains & Railway Sets > Rail Vehicles > Trains",
         "Technical Details Manufacturer recommended age:3 years and up    Additional Information ASINB00E5MNXJ4 Best Sellers Rank 54,147 in Toys & Games (See top 100) #72 in Toys & Games > Model Trains & Railway Sets > Rail Vehicles > Trains Delivery Destinations:Visit the Delivery Destinations Help page to see where this item can be delivered. Date First Available25 July 2013    Feedback  Would you like to update product info or give feedback on images?",
         "**Highly Recommended!** // 5.0 // 26 May 2015 // By\n    \n    Simon.B :-)\n  \n on 26 May 2015 // Simple & GREAT FUN for 5+My nephews face was amazing when he opened this for his birthday!! His mouth dropped open with surprise! (no joke, it literally did!)It's very easy to connect the plastic track/assemble, it takes 2 mins. It's very easy to connect the trains together and apply to track.All you need is two AA batteries and time to watch your child enjoy themselves!We even added homemade tunnels to this to make it more fun, we simply cut holes in cardboard boxes to put around certain parts of the track!This is brilliant for very young kids if they're very interested in trains. This gets them started in the hobby and doesn't cost much at all! | Excellent product // 5.0 // 29 Jun. 2014 // By\n    \n    Trevor\n  \n on 29 Jun. 2014 // Excellent product everybody should have one or to of product  excellent  100 percent ok speedy delivery excellent i give it five stars CLASSIC TOY TRAIN SET TRACK CARRIAGES LIGHT ENGINE BOXED BOYS KIDS BATTERYdouble aa battery goes in top of engine | Review book finding love again // 5.0 // 20 Aug. 2015 // By\n    \n    Janet\n  \n on 20 Aug. 2015 // I was extremely pleased with the train set really good value for money. | I would not recommend this item // 1.0 // 11 Dec. 2015 // By\n    \n    ann milburn\n  \n on 11 Dec. 2015 // i found this item, not suitable for young children,  very difficult to keep the carriages together and the whole thing kept coming off the track.All very thin plastic. I would not recommend this item. | ... for my young nephew for Christmas I was very disappointed but as it was only £7 it was not ... // 1.0 // 11 Jan. 2016 // By\n    \n    T. F. Snowdon\n  \n on 11 Jan. 2016 // The Train did not work  and as it was a present for my young nephew for Christmas I was very disappointed but as it was only £7 it was not worth the fuss of ordering another | Better than expected // 4.0 // 22 Dec. 2015 // By\n    \n    Kindle Customer\n  \n on 22 Dec. 2015 // Better than expected. It has a proper oval of track rather than just a circle. My 2 year old grandsn loves it although he finds it difficult to put on the track. | Brilliant little train // 5.0 // 28 Dec. 2015 // By\n    \n    LorsF\n  \n on 28 Dec. 2015 // Brilliant little train.  Bought for my son who was looking for a train that looks like the polar express - he was not disappointed.  Great value. | ok train , but carriages kept coming off track // 3.0 // 16 Dec. 2015 // By\n    \n    mrs nice\n  \n on 16 Dec. 2015 // train carriages kept falling track  of and the connectors not good. better on the floor",
         "{\"seller\"=>[{\"Seller_name_1\"=>\"DEAL-BOX\", \"Seller_price_1\"=>\"£9.99\"}, {\"Seller_name_2\"=>\"DO NOT BUY - TESTING ACCOUNT\", \"Seller_price_2\"=>\"£29.90\"}]}",
         "9.99",
         "3.9",
         "Hobbies ",
         " Model Trains & Railway Sets "
        ]
       ],
       "shape": {
        "columns": 14,
        "rows": 3
       }
      },
      "text/html": [
       "<div>\n",
       "<style scoped>\n",
       "    .dataframe tbody tr th:only-of-type {\n",
       "        vertical-align: middle;\n",
       "    }\n",
       "\n",
       "    .dataframe tbody tr th {\n",
       "        vertical-align: top;\n",
       "    }\n",
       "\n",
       "    .dataframe thead th {\n",
       "        text-align: right;\n",
       "    }\n",
       "</style>\n",
       "<table border=\"1\" class=\"dataframe\">\n",
       "  <thead>\n",
       "    <tr style=\"text-align: right;\">\n",
       "      <th></th>\n",
       "      <th>uniq_id</th>\n",
       "      <th>product_name</th>\n",
       "      <th>price</th>\n",
       "      <th>number_available_in_stock</th>\n",
       "      <th>number_of_reviews</th>\n",
       "      <th>average_review_rating</th>\n",
       "      <th>amazon_category_and_sub_category</th>\n",
       "      <th>product_information</th>\n",
       "      <th>customer_reviews</th>\n",
       "      <th>sellers</th>\n",
       "      <th>cleaned_price</th>\n",
       "      <th>average_review_rating_out_of_5</th>\n",
       "      <th>main_category</th>\n",
       "      <th>sub_category</th>\n",
       "    </tr>\n",
       "  </thead>\n",
       "  <tbody>\n",
       "    <tr>\n",
       "      <th>0</th>\n",
       "      <td>eac7efa5dbd3d667f26eb3d3ab504464</td>\n",
       "      <td>Hornby 2014 Catalogue</td>\n",
       "      <td>£3.42</td>\n",
       "      <td>5 new</td>\n",
       "      <td>15</td>\n",
       "      <td>4.9 out of 5 stars</td>\n",
       "      <td>Hobbies &gt; Model Trains &amp; Railway Sets &gt; Rail V...</td>\n",
       "      <td>Technical Details Item Weight640 g Product Dim...</td>\n",
       "      <td>Worth Buying For The Pictures Alone (As Ever) ...</td>\n",
       "      <td>{\"seller\"=&gt;[{\"Seller_name_1\"=&gt;\"Amazon.co.uk\", ...</td>\n",
       "      <td>3.42</td>\n",
       "      <td>4.9</td>\n",
       "      <td>Hobbies</td>\n",
       "      <td>Model Trains &amp; Railway Sets</td>\n",
       "    </tr>\n",
       "    <tr>\n",
       "      <th>1</th>\n",
       "      <td>b17540ef7e86e461d37f3ae58b7b72ac</td>\n",
       "      <td>FunkyBuys® Large Christmas Holiday Express Fes...</td>\n",
       "      <td>£16.99</td>\n",
       "      <td>NaN</td>\n",
       "      <td>2</td>\n",
       "      <td>4.5 out of 5 stars</td>\n",
       "      <td>Hobbies &gt; Model Trains &amp; Railway Sets &gt; Rail V...</td>\n",
       "      <td>Technical Details Manufacturer recommended age...</td>\n",
       "      <td>Four Stars // 4.0 // 18 Dec. 2015 // By\\n    \\...</td>\n",
       "      <td>{\"seller\"=&gt;{\"Seller_name_1\"=&gt;\"UHD WHOLESALE\", ...</td>\n",
       "      <td>16.99</td>\n",
       "      <td>4.5</td>\n",
       "      <td>Hobbies</td>\n",
       "      <td>Model Trains &amp; Railway Sets</td>\n",
       "    </tr>\n",
       "    <tr>\n",
       "      <th>2</th>\n",
       "      <td>348f344247b0c1a935b1223072ef9d8a</td>\n",
       "      <td>CLASSIC TOY TRAIN SET TRACK CARRIAGES LIGHT EN...</td>\n",
       "      <td>£9.99</td>\n",
       "      <td>2 new</td>\n",
       "      <td>17</td>\n",
       "      <td>3.9 out of 5 stars</td>\n",
       "      <td>Hobbies &gt; Model Trains &amp; Railway Sets &gt; Rail V...</td>\n",
       "      <td>Technical Details Manufacturer recommended age...</td>\n",
       "      <td>**Highly Recommended!** // 5.0 // 26 May 2015 ...</td>\n",
       "      <td>{\"seller\"=&gt;[{\"Seller_name_1\"=&gt;\"DEAL-BOX\", \"Sel...</td>\n",
       "      <td>9.99</td>\n",
       "      <td>3.9</td>\n",
       "      <td>Hobbies</td>\n",
       "      <td>Model Trains &amp; Railway Sets</td>\n",
       "    </tr>\n",
       "  </tbody>\n",
       "</table>\n",
       "</div>"
      ],
      "text/plain": [
       "                            uniq_id  \\\n",
       "0  eac7efa5dbd3d667f26eb3d3ab504464   \n",
       "1  b17540ef7e86e461d37f3ae58b7b72ac   \n",
       "2  348f344247b0c1a935b1223072ef9d8a   \n",
       "\n",
       "                                        product_name   price  \\\n",
       "0                              Hornby 2014 Catalogue   £3.42   \n",
       "1  FunkyBuys® Large Christmas Holiday Express Fes...  £16.99   \n",
       "2  CLASSIC TOY TRAIN SET TRACK CARRIAGES LIGHT EN...   £9.99   \n",
       "\n",
       "  number_available_in_stock number_of_reviews average_review_rating  \\\n",
       "0                     5 new                15    4.9 out of 5 stars   \n",
       "1                       NaN                 2    4.5 out of 5 stars   \n",
       "2                     2 new                17    3.9 out of 5 stars   \n",
       "\n",
       "                    amazon_category_and_sub_category  \\\n",
       "0  Hobbies > Model Trains & Railway Sets > Rail V...   \n",
       "1  Hobbies > Model Trains & Railway Sets > Rail V...   \n",
       "2  Hobbies > Model Trains & Railway Sets > Rail V...   \n",
       "\n",
       "                                 product_information  \\\n",
       "0  Technical Details Item Weight640 g Product Dim...   \n",
       "1  Technical Details Manufacturer recommended age...   \n",
       "2  Technical Details Manufacturer recommended age...   \n",
       "\n",
       "                                    customer_reviews  \\\n",
       "0  Worth Buying For The Pictures Alone (As Ever) ...   \n",
       "1  Four Stars // 4.0 // 18 Dec. 2015 // By\\n    \\...   \n",
       "2  **Highly Recommended!** // 5.0 // 26 May 2015 ...   \n",
       "\n",
       "                                             sellers  cleaned_price  \\\n",
       "0  {\"seller\"=>[{\"Seller_name_1\"=>\"Amazon.co.uk\", ...           3.42   \n",
       "1  {\"seller\"=>{\"Seller_name_1\"=>\"UHD WHOLESALE\", ...          16.99   \n",
       "2  {\"seller\"=>[{\"Seller_name_1\"=>\"DEAL-BOX\", \"Sel...           9.99   \n",
       "\n",
       "   average_review_rating_out_of_5 main_category                   sub_category  \n",
       "0                             4.9      Hobbies    Model Trains & Railway Sets   \n",
       "1                             4.5      Hobbies    Model Trains & Railway Sets   \n",
       "2                             3.9      Hobbies    Model Trains & Railway Sets   "
      ]
     },
     "execution_count": 47,
     "metadata": {},
     "output_type": "execute_result"
    }
   ],
   "source": [
    "cleaned_df.head(3)"
   ]
  },
  {
   "cell_type": "code",
   "execution_count": 48,
   "id": "c51d6e6f",
   "metadata": {},
   "outputs": [
    {
     "name": "stdout",
     "output_type": "stream",
     "text": [
      "main_category\n",
      "Hobbies                              1464\n",
      "Die-Cast & Toy Vehicles              1221\n",
      "Figures & Playsets                   1111\n",
      "Characters & Brands                   960\n",
      "Games                                 941\n",
      "Arts & Crafts                         802\n",
      "Party Supplies                        694\n",
      "NaN                                   690\n",
      "Fancy Dress                           585\n",
      "Sports Toys & Outdoor                 372\n",
      "Dolls & Accessories                   371\n",
      "Jigsaws & Puzzles                     274\n",
      "Puppets & Puppet Theatres             269\n",
      "Baby & Toddler Toys                   106\n",
      "Pretend Play                           45\n",
      "Musical Toy Instruments                19\n",
      "Novelty & Special Use                  11\n",
      "Pens, Pencils & Writing Supplies        7\n",
      "Office Supplies                         6\n",
      "Electronic Toys                         5\n",
      "Home Accessories                        5\n",
      "Bags                                    4\n",
      "Cooking & Dining                        4\n",
      "Educational Toys                        3\n",
      "Women                                   3\n",
      "Worlds Apart                            3\n",
      "Gardening                               3\n",
      "Indoor Lighting                         2\n",
      "Supporters' Gear                        2\n",
      "Dogs                                    2\n",
      "Medication & Remedies                   2\n",
      "Sweets, Chocolate & Gum                 2\n",
      "Medical Supplies & Equipment            1\n",
      "Lab & Scientific Products               1\n",
      "Car Parts                               1\n",
      "Sex & Sensuality                        1\n",
      "Men                                     1\n",
      "Jams, Honey & Spreads                   1\n",
      "Laundry, Storage & Organisation         1\n",
      "Camping & Hiking                        1\n",
      "Bedding & Linens                        1\n",
      "Storage, Cleaning & Ring Sizers         1\n",
      "Handbags & Shoulder Bags                1\n",
      "Novelty Jewellery                       1\n",
      "Name: count, dtype: int64\n"
     ]
    }
   ],
   "source": [
    "print(cleaned_df['main_category'].value_counts(dropna=False)) \n",
    "# This function allows me to see the count of each category, including the missing value."
   ]
  },
  {
   "cell_type": "code",
   "execution_count": 49,
   "id": "1b99b10a",
   "metadata": {},
   "outputs": [
    {
     "name": "stdout",
     "output_type": "stream",
     "text": [
      "sub_category\n",
      " Toy Vehicles & Accessories          1100\n",
      "NaN                                   690\n",
      " Science Fiction & Fantasy            485\n",
      " Accessories                          388\n",
      " Model Trains & Railway Sets          386\n",
      "                                     ... \n",
      " Transportation & Traffic               1\n",
      " Specialty & Decorative Lighting        1\n",
      " Instruments                            1\n",
      " Trading Cards & Accessories            1\n",
      " Drinking Games                         1\n",
      "Name: count, Length: 166, dtype: int64\n"
     ]
    }
   ],
   "source": [
    "print(cleaned_df['sub_category'].value_counts(dropna=False)) "
   ]
  },
  {
   "cell_type": "markdown",
   "id": "2f372443",
   "metadata": {},
   "source": [
    "## Extract Values from \"product_information\" Column"
   ]
  },
  {
   "cell_type": "markdown",
   "id": "0f990a88",
   "metadata": {},
   "source": [
    "### Extract Item Weight"
   ]
  },
  {
   "cell_type": "code",
   "execution_count": 50,
   "id": "d2feec51",
   "metadata": {},
   "outputs": [
    {
     "name": "stderr",
     "output_type": "stream",
     "text": [
      "/var/folders/d0/xkmp50cn5p19ts1h16db856r0000gn/T/ipykernel_7075/1967455311.py:3: SettingWithCopyWarning: \n",
      "A value is trying to be set on a copy of a slice from a DataFrame.\n",
      "Try using .loc[row_indexer,col_indexer] = value instead\n",
      "\n",
      "See the caveats in the documentation: https://pandas.pydata.org/pandas-docs/stable/user_guide/indexing.html#returning-a-view-versus-a-copy\n",
      "  cleaned_df['item_weight'] = cleaned_df['product_information'].str.extract(r'Item Weight\\s*([\\d\\.]+\\s*(?:g|Kg))',\n"
     ]
    }
   ],
   "source": [
    "# This column has a lot of mixed information, but I only want to extract two things. They are the item weight (for logistics) and the recommended age (for buyer reference).\n",
    "\n",
    "cleaned_df['item_weight'] = cleaned_df['product_information'].str.extract(r'Item Weight\\s*([\\d\\.]+\\s*(?:g|Kg))', \n",
    "    expand=False)\n",
    "\n",
    "# Regular expression is used to exract the item weight, with \\s* allows for space between the word item and weight.\n",
    "# ([\\d\\.]+ specifies extracting value with one or more digits or decimal point.\n",
    "# \\s* allows for space after the value.\n",
    "# (?:g|Kg) specifies the unit can either be g or kg.\n",
    "# The entire expression within the bracket indicates to only return the weight value plus unit."
   ]
  },
  {
   "cell_type": "code",
   "execution_count": 51,
   "id": "13e2aa10",
   "metadata": {},
   "outputs": [
    {
     "name": "stderr",
     "output_type": "stream",
     "text": [
      "/var/folders/d0/xkmp50cn5p19ts1h16db856r0000gn/T/ipykernel_7075/1765398044.py:14: SettingWithCopyWarning: \n",
      "A value is trying to be set on a copy of a slice from a DataFrame.\n",
      "Try using .loc[row_indexer,col_indexer] = value instead\n",
      "\n",
      "See the caveats in the documentation: https://pandas.pydata.org/pandas-docs/stable/user_guide/indexing.html#returning-a-view-versus-a-copy\n",
      "  cleaned_df['item_weight'] = cleaned_df['item_weight'].apply(convert_to_kg)\n"
     ]
    }
   ],
   "source": [
    "# I want the unit within the column to be consistent for better data reviewing. \n",
    "\n",
    "def convert_to_kg(value): # This def instruction defines what I want python to do with \"convert_to_kg\".\n",
    "    if pd.isna(value):  # if value is missing, just return NaN\n",
    "        return None\n",
    "    value = value.strip() \n",
    "    if value.endswith(\"Kg\"): # if values end with kg\n",
    "        return float(value.replace(\"Kg\", \"\").strip()) # return only a decimal value and replace the kg with whitespace.\n",
    "    elif value.endswith(\"g\"): # if values ends with g\n",
    "        return float(value.replace(\"g\", \"\").strip()) / 1000 # return only a decimal value that divided by 1000 and replace the g with whitespace.\n",
    "    else:\n",
    "        return None\n",
    "    \n",
    "cleaned_df['item_weight'] = cleaned_df['item_weight'].apply(convert_to_kg)\n",
    "# By applying the defined instruction that has been explained to python, I want it to apply this expression to the \"item_weight\" column to remove the unit and make everything numeric in kilograms."
   ]
  },
  {
   "cell_type": "code",
   "execution_count": 52,
   "id": "4620fd5b",
   "metadata": {},
   "outputs": [
    {
     "name": "stderr",
     "output_type": "stream",
     "text": [
      "/var/folders/d0/xkmp50cn5p19ts1h16db856r0000gn/T/ipykernel_7075/237502366.py:2: SettingWithCopyWarning: \n",
      "A value is trying to be set on a copy of a slice from a DataFrame\n",
      "\n",
      "See the caveats in the documentation: https://pandas.pydata.org/pandas-docs/stable/user_guide/indexing.html#returning-a-view-versus-a-copy\n",
      "  cleaned_df.rename(columns={'item_weight': 'item_weight_in_kg'}, inplace=True)\n"
     ]
    }
   ],
   "source": [
    "# Rename the column to reflect the unit.\n",
    "cleaned_df.rename(columns={'item_weight': 'item_weight_in_kg'}, inplace=True)"
   ]
  },
  {
   "cell_type": "code",
   "execution_count": 53,
   "id": "4ccdc47d",
   "metadata": {},
   "outputs": [
    {
     "data": {
      "application/vnd.microsoft.datawrangler.viewer.v0+json": {
       "columns": [
        {
         "name": "index",
         "rawType": "int64",
         "type": "integer"
        },
        {
         "name": "uniq_id",
         "rawType": "object",
         "type": "string"
        },
        {
         "name": "product_name",
         "rawType": "object",
         "type": "string"
        },
        {
         "name": "price",
         "rawType": "object",
         "type": "string"
        },
        {
         "name": "number_available_in_stock",
         "rawType": "object",
         "type": "unknown"
        },
        {
         "name": "number_of_reviews",
         "rawType": "object",
         "type": "string"
        },
        {
         "name": "average_review_rating",
         "rawType": "object",
         "type": "string"
        },
        {
         "name": "amazon_category_and_sub_category",
         "rawType": "object",
         "type": "string"
        },
        {
         "name": "product_information",
         "rawType": "object",
         "type": "string"
        },
        {
         "name": "customer_reviews",
         "rawType": "object",
         "type": "string"
        },
        {
         "name": "sellers",
         "rawType": "object",
         "type": "string"
        },
        {
         "name": "cleaned_price",
         "rawType": "float64",
         "type": "float"
        },
        {
         "name": "average_review_rating_out_of_5",
         "rawType": "float64",
         "type": "float"
        },
        {
         "name": "main_category",
         "rawType": "object",
         "type": "string"
        },
        {
         "name": "sub_category",
         "rawType": "object",
         "type": "string"
        },
        {
         "name": "item_weight_in_kg",
         "rawType": "float64",
         "type": "float"
        }
       ],
       "ref": "11a863ce-e461-4098-99fb-e781071a3675",
       "rows": [
        [
         "0",
         "eac7efa5dbd3d667f26eb3d3ab504464",
         "Hornby 2014 Catalogue",
         "£3.42",
         "5 new",
         "15",
         "4.9 out of 5 stars",
         "Hobbies > Model Trains & Railway Sets > Rail Vehicles > Trains",
         "Technical Details Item Weight640 g Product Dimensions29.6 x 20.8 x 1 cm Manufacturer recommended age:6 years and up Item model numberR8148 Main Language(s)English manual, English Number of Game Players1 Number of Puzzle Pieces1 Assembly RequiredNo Scale1:72 Engine Typeelectric Track Width/GaugeHO Batteries Required?No Batteries Included?No Material Type(s)Paper Material Care InstructionsNo Remote Control Included?No Radio Control Suitabilityindoor Colorwhite    Additional Information ASINB00HJ208KO Best Sellers Rank 52,854 in Toys & Games (See top 100) #69 in Toys & Games > Model Trains & Railway Sets > Rail Vehicles > Trains Shipping Weight640 g Delivery Destinations:Visit the Delivery Destinations Help page to see where this item can be delivered. Date First Available24 Dec. 2013    Feedback  Would you like to update product info or give feedback on images?",
         "Worth Buying For The Pictures Alone (As Ever) // 4.0 // 6 April 2014 // By\n    \n    Copnovelist\n  \n on 6 April 2014 // Part of the magic for me growing up as a boy was to buy (or be given) the new Hornby catalogue every year, even if it included 90% of the same products as the previous year.  I've still got my old ones dating back to the 70s and 80s somewhere.  These days the catalogue is especially informative in that it tells you the vintage of the rolling stock which is useful if you are dedicating your railway to one particular era and train company. | Amazing detail fabulous photography. // 5.0 // 11 April 2015 // By\n    \n    richard\n  \n on 11 April 2015 // Amazing detail, every credit to the photographer in this book, a worthy reference manual, as well as a sales brochure. even if you only have a passing interest in the hobby you will be transported to another time when we were all younger and in awe of the big trains. | 'Great Purchase' // 5.0 // 23 April 2014 // By\n    \n    Pinkhandbag\n  \n on 23 April 2014 // This was purchased on behalf of my Dad. He is always asking me to look up 00 gauge engines online, so this has been a good buy as he can look at it anytime. Would definitely buy the next one 2015!It arrived quickly and in perfect condition :-) | Great Catalogue // 5.0 // 11 Jun. 2014 // By\n    \n    Gary John Mapson\n  \n on 11 Jun. 2014 // Everything I really needed to see what was on offer from Hornby in the way of trains.  Would not have minded it included an RRP as well though | I collect them all as the glossy pictures are great and it is nice that you can still get ... // 5.0 // 7 Dec. 2014 // By\n    \n    David Baker\n  \n on 7 Dec. 2014 // I collect them all as the glossy pictures are great and it is nice that you can still get catalogs to collect. | Great catalogue // 5.0 // 20 Mar. 2015 // By\n    \n    John A. Day\n  \n on 20 Mar. 2015 // What a great book.  Extremely useful insight to all future christmas presents. | Useful // 5.0 // 7 Oct. 2014 // By\n    \n    T. Davies\n  \n on 7 Oct. 2014 // Useful info for someonelike me starting back into the hobby after many years | hornbys latest catalogue. // 5.0 // 1 Dec. 2014 // By\n    \n    John Butlin\n  \n on 1 Dec. 2014 // A well produced very good quality catalogue.Super quality pictures.",
         "{\"seller\"=>[{\"Seller_name_1\"=>\"Amazon.co.uk\", \"Seller_price_1\"=>\"£3.42\"}, {\"Seller_name_2\"=>\"**stop-&-shop-uk**\", \"Seller_price_2\"=>\"£0.19\"}, {\"Seller_name_3\"=>\"World Wide Shopping Mall Ltd\", \"Seller_price_3\"=>\"£9.99\"}, {\"Seller_name_4\"=>\"MyHobbyStore Retail\", \"Seller_price_4\"=>\"£8.00\"}, {\"Seller_name_5\"=>\"francejouet\", \"Seller_price_5\"=>\"£37.62\"}]}",
         "3.42",
         "4.9",
         "Hobbies ",
         " Model Trains & Railway Sets ",
         "0.64"
        ],
        [
         "1",
         "b17540ef7e86e461d37f3ae58b7b72ac",
         "FunkyBuys® Large Christmas Holiday Express Festive Train Set (SI-TY1017) Toy Light / Sounds / Battery Operated & Smoke",
         "£16.99",
         null,
         "2",
         "4.5 out of 5 stars",
         "Hobbies > Model Trains & Railway Sets > Rail Vehicles > Trains",
         "Technical Details Manufacturer recommended age:3 years and up Item model numberSI-TY1017-B    Additional Information ASINB01434AIRS Best Sellers Rank 169,625 in Toys & Games (See top 100) #261 in Toys & Games > Model Trains & Railway Sets > Rail Vehicles > Trains Delivery Destinations:Visit the Delivery Destinations Help page to see where this item can be delivered. Date First Available18 Aug. 2015   ",
         "Four Stars // 4.0 // 18 Dec. 2015 // By\n    \n    kenneth bell\n  \n on 18 Dec. 2015 // Very happy with the communication with funkybuys | Five Stars // 5.0 // 14 Jan. 2016 // By\n    \n    moosixty\n  \n on 14 Jan. 2016 // Great buy.",
         "{\"seller\"=>{\"Seller_name_1\"=>\"UHD WHOLESALE\", \"Seller_price_1\"=>\"£16.99\"}}",
         "16.99",
         "4.5",
         "Hobbies ",
         " Model Trains & Railway Sets ",
         null
        ],
        [
         "2",
         "348f344247b0c1a935b1223072ef9d8a",
         "CLASSIC TOY TRAIN SET TRACK CARRIAGES LIGHT ENGINE BOXED BOYS KIDS BATTERY",
         "£9.99",
         "2 new",
         "17",
         "3.9 out of 5 stars",
         "Hobbies > Model Trains & Railway Sets > Rail Vehicles > Trains",
         "Technical Details Manufacturer recommended age:3 years and up    Additional Information ASINB00E5MNXJ4 Best Sellers Rank 54,147 in Toys & Games (See top 100) #72 in Toys & Games > Model Trains & Railway Sets > Rail Vehicles > Trains Delivery Destinations:Visit the Delivery Destinations Help page to see where this item can be delivered. Date First Available25 July 2013    Feedback  Would you like to update product info or give feedback on images?",
         "**Highly Recommended!** // 5.0 // 26 May 2015 // By\n    \n    Simon.B :-)\n  \n on 26 May 2015 // Simple & GREAT FUN for 5+My nephews face was amazing when he opened this for his birthday!! His mouth dropped open with surprise! (no joke, it literally did!)It's very easy to connect the plastic track/assemble, it takes 2 mins. It's very easy to connect the trains together and apply to track.All you need is two AA batteries and time to watch your child enjoy themselves!We even added homemade tunnels to this to make it more fun, we simply cut holes in cardboard boxes to put around certain parts of the track!This is brilliant for very young kids if they're very interested in trains. This gets them started in the hobby and doesn't cost much at all! | Excellent product // 5.0 // 29 Jun. 2014 // By\n    \n    Trevor\n  \n on 29 Jun. 2014 // Excellent product everybody should have one or to of product  excellent  100 percent ok speedy delivery excellent i give it five stars CLASSIC TOY TRAIN SET TRACK CARRIAGES LIGHT ENGINE BOXED BOYS KIDS BATTERYdouble aa battery goes in top of engine | Review book finding love again // 5.0 // 20 Aug. 2015 // By\n    \n    Janet\n  \n on 20 Aug. 2015 // I was extremely pleased with the train set really good value for money. | I would not recommend this item // 1.0 // 11 Dec. 2015 // By\n    \n    ann milburn\n  \n on 11 Dec. 2015 // i found this item, not suitable for young children,  very difficult to keep the carriages together and the whole thing kept coming off the track.All very thin plastic. I would not recommend this item. | ... for my young nephew for Christmas I was very disappointed but as it was only £7 it was not ... // 1.0 // 11 Jan. 2016 // By\n    \n    T. F. Snowdon\n  \n on 11 Jan. 2016 // The Train did not work  and as it was a present for my young nephew for Christmas I was very disappointed but as it was only £7 it was not worth the fuss of ordering another | Better than expected // 4.0 // 22 Dec. 2015 // By\n    \n    Kindle Customer\n  \n on 22 Dec. 2015 // Better than expected. It has a proper oval of track rather than just a circle. My 2 year old grandsn loves it although he finds it difficult to put on the track. | Brilliant little train // 5.0 // 28 Dec. 2015 // By\n    \n    LorsF\n  \n on 28 Dec. 2015 // Brilliant little train.  Bought for my son who was looking for a train that looks like the polar express - he was not disappointed.  Great value. | ok train , but carriages kept coming off track // 3.0 // 16 Dec. 2015 // By\n    \n    mrs nice\n  \n on 16 Dec. 2015 // train carriages kept falling track  of and the connectors not good. better on the floor",
         "{\"seller\"=>[{\"Seller_name_1\"=>\"DEAL-BOX\", \"Seller_price_1\"=>\"£9.99\"}, {\"Seller_name_2\"=>\"DO NOT BUY - TESTING ACCOUNT\", \"Seller_price_2\"=>\"£29.90\"}]}",
         "9.99",
         "3.9",
         "Hobbies ",
         " Model Trains & Railway Sets ",
         null
        ]
       ],
       "shape": {
        "columns": 15,
        "rows": 3
       }
      },
      "text/html": [
       "<div>\n",
       "<style scoped>\n",
       "    .dataframe tbody tr th:only-of-type {\n",
       "        vertical-align: middle;\n",
       "    }\n",
       "\n",
       "    .dataframe tbody tr th {\n",
       "        vertical-align: top;\n",
       "    }\n",
       "\n",
       "    .dataframe thead th {\n",
       "        text-align: right;\n",
       "    }\n",
       "</style>\n",
       "<table border=\"1\" class=\"dataframe\">\n",
       "  <thead>\n",
       "    <tr style=\"text-align: right;\">\n",
       "      <th></th>\n",
       "      <th>uniq_id</th>\n",
       "      <th>product_name</th>\n",
       "      <th>price</th>\n",
       "      <th>number_available_in_stock</th>\n",
       "      <th>number_of_reviews</th>\n",
       "      <th>average_review_rating</th>\n",
       "      <th>amazon_category_and_sub_category</th>\n",
       "      <th>product_information</th>\n",
       "      <th>customer_reviews</th>\n",
       "      <th>sellers</th>\n",
       "      <th>cleaned_price</th>\n",
       "      <th>average_review_rating_out_of_5</th>\n",
       "      <th>main_category</th>\n",
       "      <th>sub_category</th>\n",
       "      <th>item_weight_in_kg</th>\n",
       "    </tr>\n",
       "  </thead>\n",
       "  <tbody>\n",
       "    <tr>\n",
       "      <th>0</th>\n",
       "      <td>eac7efa5dbd3d667f26eb3d3ab504464</td>\n",
       "      <td>Hornby 2014 Catalogue</td>\n",
       "      <td>£3.42</td>\n",
       "      <td>5 new</td>\n",
       "      <td>15</td>\n",
       "      <td>4.9 out of 5 stars</td>\n",
       "      <td>Hobbies &gt; Model Trains &amp; Railway Sets &gt; Rail V...</td>\n",
       "      <td>Technical Details Item Weight640 g Product Dim...</td>\n",
       "      <td>Worth Buying For The Pictures Alone (As Ever) ...</td>\n",
       "      <td>{\"seller\"=&gt;[{\"Seller_name_1\"=&gt;\"Amazon.co.uk\", ...</td>\n",
       "      <td>3.42</td>\n",
       "      <td>4.9</td>\n",
       "      <td>Hobbies</td>\n",
       "      <td>Model Trains &amp; Railway Sets</td>\n",
       "      <td>0.64</td>\n",
       "    </tr>\n",
       "    <tr>\n",
       "      <th>1</th>\n",
       "      <td>b17540ef7e86e461d37f3ae58b7b72ac</td>\n",
       "      <td>FunkyBuys® Large Christmas Holiday Express Fes...</td>\n",
       "      <td>£16.99</td>\n",
       "      <td>NaN</td>\n",
       "      <td>2</td>\n",
       "      <td>4.5 out of 5 stars</td>\n",
       "      <td>Hobbies &gt; Model Trains &amp; Railway Sets &gt; Rail V...</td>\n",
       "      <td>Technical Details Manufacturer recommended age...</td>\n",
       "      <td>Four Stars // 4.0 // 18 Dec. 2015 // By\\n    \\...</td>\n",
       "      <td>{\"seller\"=&gt;{\"Seller_name_1\"=&gt;\"UHD WHOLESALE\", ...</td>\n",
       "      <td>16.99</td>\n",
       "      <td>4.5</td>\n",
       "      <td>Hobbies</td>\n",
       "      <td>Model Trains &amp; Railway Sets</td>\n",
       "      <td>NaN</td>\n",
       "    </tr>\n",
       "    <tr>\n",
       "      <th>2</th>\n",
       "      <td>348f344247b0c1a935b1223072ef9d8a</td>\n",
       "      <td>CLASSIC TOY TRAIN SET TRACK CARRIAGES LIGHT EN...</td>\n",
       "      <td>£9.99</td>\n",
       "      <td>2 new</td>\n",
       "      <td>17</td>\n",
       "      <td>3.9 out of 5 stars</td>\n",
       "      <td>Hobbies &gt; Model Trains &amp; Railway Sets &gt; Rail V...</td>\n",
       "      <td>Technical Details Manufacturer recommended age...</td>\n",
       "      <td>**Highly Recommended!** // 5.0 // 26 May 2015 ...</td>\n",
       "      <td>{\"seller\"=&gt;[{\"Seller_name_1\"=&gt;\"DEAL-BOX\", \"Sel...</td>\n",
       "      <td>9.99</td>\n",
       "      <td>3.9</td>\n",
       "      <td>Hobbies</td>\n",
       "      <td>Model Trains &amp; Railway Sets</td>\n",
       "      <td>NaN</td>\n",
       "    </tr>\n",
       "  </tbody>\n",
       "</table>\n",
       "</div>"
      ],
      "text/plain": [
       "                            uniq_id  \\\n",
       "0  eac7efa5dbd3d667f26eb3d3ab504464   \n",
       "1  b17540ef7e86e461d37f3ae58b7b72ac   \n",
       "2  348f344247b0c1a935b1223072ef9d8a   \n",
       "\n",
       "                                        product_name   price  \\\n",
       "0                              Hornby 2014 Catalogue   £3.42   \n",
       "1  FunkyBuys® Large Christmas Holiday Express Fes...  £16.99   \n",
       "2  CLASSIC TOY TRAIN SET TRACK CARRIAGES LIGHT EN...   £9.99   \n",
       "\n",
       "  number_available_in_stock number_of_reviews average_review_rating  \\\n",
       "0                     5 new                15    4.9 out of 5 stars   \n",
       "1                       NaN                 2    4.5 out of 5 stars   \n",
       "2                     2 new                17    3.9 out of 5 stars   \n",
       "\n",
       "                    amazon_category_and_sub_category  \\\n",
       "0  Hobbies > Model Trains & Railway Sets > Rail V...   \n",
       "1  Hobbies > Model Trains & Railway Sets > Rail V...   \n",
       "2  Hobbies > Model Trains & Railway Sets > Rail V...   \n",
       "\n",
       "                                 product_information  \\\n",
       "0  Technical Details Item Weight640 g Product Dim...   \n",
       "1  Technical Details Manufacturer recommended age...   \n",
       "2  Technical Details Manufacturer recommended age...   \n",
       "\n",
       "                                    customer_reviews  \\\n",
       "0  Worth Buying For The Pictures Alone (As Ever) ...   \n",
       "1  Four Stars // 4.0 // 18 Dec. 2015 // By\\n    \\...   \n",
       "2  **Highly Recommended!** // 5.0 // 26 May 2015 ...   \n",
       "\n",
       "                                             sellers  cleaned_price  \\\n",
       "0  {\"seller\"=>[{\"Seller_name_1\"=>\"Amazon.co.uk\", ...           3.42   \n",
       "1  {\"seller\"=>{\"Seller_name_1\"=>\"UHD WHOLESALE\", ...          16.99   \n",
       "2  {\"seller\"=>[{\"Seller_name_1\"=>\"DEAL-BOX\", \"Sel...           9.99   \n",
       "\n",
       "   average_review_rating_out_of_5 main_category  \\\n",
       "0                             4.9      Hobbies    \n",
       "1                             4.5      Hobbies    \n",
       "2                             3.9      Hobbies    \n",
       "\n",
       "                    sub_category  item_weight_in_kg  \n",
       "0   Model Trains & Railway Sets                0.64  \n",
       "1   Model Trains & Railway Sets                 NaN  \n",
       "2   Model Trains & Railway Sets                 NaN  "
      ]
     },
     "execution_count": 53,
     "metadata": {},
     "output_type": "execute_result"
    }
   ],
   "source": [
    "cleaned_df.head(3)"
   ]
  },
  {
   "cell_type": "markdown",
   "id": "ecbf8043",
   "metadata": {},
   "source": [
    "### Extract Recommended Age"
   ]
  },
  {
   "cell_type": "code",
   "execution_count": 54,
   "id": "f1b3935a",
   "metadata": {},
   "outputs": [],
   "source": [
    "# First, extract the manufacturer recommended age from the product_information column.\n",
    "\n",
    "age_extracted = cleaned_df['product_information'].str.extract(\n",
    "    r'Manufacturer recommended age:(\\d+)\\s*(years|months)',\n",
    "    expand=True)  \n"
   ]
  },
  {
   "cell_type": "code",
   "execution_count": 55,
   "id": "741abf99",
   "metadata": {},
   "outputs": [],
   "source": [
    "age_value = pd.to_numeric(age_extracted[0], errors='coerce')\n",
    "age_unit = age_extracted[1]"
   ]
  },
  {
   "cell_type": "code",
   "execution_count": 56,
   "id": "a8701161",
   "metadata": {},
   "outputs": [
    {
     "name": "stderr",
     "output_type": "stream",
     "text": [
      "/var/folders/d0/xkmp50cn5p19ts1h16db856r0000gn/T/ipykernel_7075/3005929257.py:1: SettingWithCopyWarning: \n",
      "A value is trying to be set on a copy of a slice from a DataFrame.\n",
      "Try using .loc[row_indexer,col_indexer] = value instead\n",
      "\n",
      "See the caveats in the documentation: https://pandas.pydata.org/pandas-docs/stable/user_guide/indexing.html#returning-a-view-versus-a-copy\n",
      "  cleaned_df['recommended_minimum_age_years'] = np.where(\n"
     ]
    }
   ],
   "source": [
    "cleaned_df['recommended_minimum_age_years'] = np.where(\n",
    "    age_unit == 'months',\n",
    "    age_value / 12,   # months → years\n",
    "    age_value).round(2)  # already in years\n"
   ]
  },
  {
   "cell_type": "code",
   "execution_count": 57,
   "id": "1dd32519",
   "metadata": {},
   "outputs": [
    {
     "data": {
      "application/vnd.microsoft.datawrangler.viewer.v0+json": {
       "columns": [
        {
         "name": "index",
         "rawType": "int64",
         "type": "integer"
        },
        {
         "name": "uniq_id",
         "rawType": "object",
         "type": "string"
        },
        {
         "name": "product_name",
         "rawType": "object",
         "type": "string"
        },
        {
         "name": "price",
         "rawType": "object",
         "type": "string"
        },
        {
         "name": "number_available_in_stock",
         "rawType": "object",
         "type": "unknown"
        },
        {
         "name": "number_of_reviews",
         "rawType": "object",
         "type": "string"
        },
        {
         "name": "average_review_rating",
         "rawType": "object",
         "type": "string"
        },
        {
         "name": "amazon_category_and_sub_category",
         "rawType": "object",
         "type": "string"
        },
        {
         "name": "product_information",
         "rawType": "object",
         "type": "string"
        },
        {
         "name": "customer_reviews",
         "rawType": "object",
         "type": "string"
        },
        {
         "name": "sellers",
         "rawType": "object",
         "type": "string"
        },
        {
         "name": "cleaned_price",
         "rawType": "float64",
         "type": "float"
        },
        {
         "name": "average_review_rating_out_of_5",
         "rawType": "float64",
         "type": "float"
        },
        {
         "name": "main_category",
         "rawType": "object",
         "type": "string"
        },
        {
         "name": "sub_category",
         "rawType": "object",
         "type": "string"
        },
        {
         "name": "item_weight_in_kg",
         "rawType": "float64",
         "type": "float"
        },
        {
         "name": "recommended_minimum_age_years",
         "rawType": "float64",
         "type": "float"
        }
       ],
       "ref": "1246bdd5-e604-4733-a2bd-c316e7a89a8c",
       "rows": [
        [
         "0",
         "eac7efa5dbd3d667f26eb3d3ab504464",
         "Hornby 2014 Catalogue",
         "£3.42",
         "5 new",
         "15",
         "4.9 out of 5 stars",
         "Hobbies > Model Trains & Railway Sets > Rail Vehicles > Trains",
         "Technical Details Item Weight640 g Product Dimensions29.6 x 20.8 x 1 cm Manufacturer recommended age:6 years and up Item model numberR8148 Main Language(s)English manual, English Number of Game Players1 Number of Puzzle Pieces1 Assembly RequiredNo Scale1:72 Engine Typeelectric Track Width/GaugeHO Batteries Required?No Batteries Included?No Material Type(s)Paper Material Care InstructionsNo Remote Control Included?No Radio Control Suitabilityindoor Colorwhite    Additional Information ASINB00HJ208KO Best Sellers Rank 52,854 in Toys & Games (See top 100) #69 in Toys & Games > Model Trains & Railway Sets > Rail Vehicles > Trains Shipping Weight640 g Delivery Destinations:Visit the Delivery Destinations Help page to see where this item can be delivered. Date First Available24 Dec. 2013    Feedback  Would you like to update product info or give feedback on images?",
         "Worth Buying For The Pictures Alone (As Ever) // 4.0 // 6 April 2014 // By\n    \n    Copnovelist\n  \n on 6 April 2014 // Part of the magic for me growing up as a boy was to buy (or be given) the new Hornby catalogue every year, even if it included 90% of the same products as the previous year.  I've still got my old ones dating back to the 70s and 80s somewhere.  These days the catalogue is especially informative in that it tells you the vintage of the rolling stock which is useful if you are dedicating your railway to one particular era and train company. | Amazing detail fabulous photography. // 5.0 // 11 April 2015 // By\n    \n    richard\n  \n on 11 April 2015 // Amazing detail, every credit to the photographer in this book, a worthy reference manual, as well as a sales brochure. even if you only have a passing interest in the hobby you will be transported to another time when we were all younger and in awe of the big trains. | 'Great Purchase' // 5.0 // 23 April 2014 // By\n    \n    Pinkhandbag\n  \n on 23 April 2014 // This was purchased on behalf of my Dad. He is always asking me to look up 00 gauge engines online, so this has been a good buy as he can look at it anytime. Would definitely buy the next one 2015!It arrived quickly and in perfect condition :-) | Great Catalogue // 5.0 // 11 Jun. 2014 // By\n    \n    Gary John Mapson\n  \n on 11 Jun. 2014 // Everything I really needed to see what was on offer from Hornby in the way of trains.  Would not have minded it included an RRP as well though | I collect them all as the glossy pictures are great and it is nice that you can still get ... // 5.0 // 7 Dec. 2014 // By\n    \n    David Baker\n  \n on 7 Dec. 2014 // I collect them all as the glossy pictures are great and it is nice that you can still get catalogs to collect. | Great catalogue // 5.0 // 20 Mar. 2015 // By\n    \n    John A. Day\n  \n on 20 Mar. 2015 // What a great book.  Extremely useful insight to all future christmas presents. | Useful // 5.0 // 7 Oct. 2014 // By\n    \n    T. Davies\n  \n on 7 Oct. 2014 // Useful info for someonelike me starting back into the hobby after many years | hornbys latest catalogue. // 5.0 // 1 Dec. 2014 // By\n    \n    John Butlin\n  \n on 1 Dec. 2014 // A well produced very good quality catalogue.Super quality pictures.",
         "{\"seller\"=>[{\"Seller_name_1\"=>\"Amazon.co.uk\", \"Seller_price_1\"=>\"£3.42\"}, {\"Seller_name_2\"=>\"**stop-&-shop-uk**\", \"Seller_price_2\"=>\"£0.19\"}, {\"Seller_name_3\"=>\"World Wide Shopping Mall Ltd\", \"Seller_price_3\"=>\"£9.99\"}, {\"Seller_name_4\"=>\"MyHobbyStore Retail\", \"Seller_price_4\"=>\"£8.00\"}, {\"Seller_name_5\"=>\"francejouet\", \"Seller_price_5\"=>\"£37.62\"}]}",
         "3.42",
         "4.9",
         "Hobbies ",
         " Model Trains & Railway Sets ",
         "0.64",
         "6.0"
        ],
        [
         "1",
         "b17540ef7e86e461d37f3ae58b7b72ac",
         "FunkyBuys® Large Christmas Holiday Express Festive Train Set (SI-TY1017) Toy Light / Sounds / Battery Operated & Smoke",
         "£16.99",
         null,
         "2",
         "4.5 out of 5 stars",
         "Hobbies > Model Trains & Railway Sets > Rail Vehicles > Trains",
         "Technical Details Manufacturer recommended age:3 years and up Item model numberSI-TY1017-B    Additional Information ASINB01434AIRS Best Sellers Rank 169,625 in Toys & Games (See top 100) #261 in Toys & Games > Model Trains & Railway Sets > Rail Vehicles > Trains Delivery Destinations:Visit the Delivery Destinations Help page to see where this item can be delivered. Date First Available18 Aug. 2015   ",
         "Four Stars // 4.0 // 18 Dec. 2015 // By\n    \n    kenneth bell\n  \n on 18 Dec. 2015 // Very happy with the communication with funkybuys | Five Stars // 5.0 // 14 Jan. 2016 // By\n    \n    moosixty\n  \n on 14 Jan. 2016 // Great buy.",
         "{\"seller\"=>{\"Seller_name_1\"=>\"UHD WHOLESALE\", \"Seller_price_1\"=>\"£16.99\"}}",
         "16.99",
         "4.5",
         "Hobbies ",
         " Model Trains & Railway Sets ",
         null,
         "3.0"
        ],
        [
         "2",
         "348f344247b0c1a935b1223072ef9d8a",
         "CLASSIC TOY TRAIN SET TRACK CARRIAGES LIGHT ENGINE BOXED BOYS KIDS BATTERY",
         "£9.99",
         "2 new",
         "17",
         "3.9 out of 5 stars",
         "Hobbies > Model Trains & Railway Sets > Rail Vehicles > Trains",
         "Technical Details Manufacturer recommended age:3 years and up    Additional Information ASINB00E5MNXJ4 Best Sellers Rank 54,147 in Toys & Games (See top 100) #72 in Toys & Games > Model Trains & Railway Sets > Rail Vehicles > Trains Delivery Destinations:Visit the Delivery Destinations Help page to see where this item can be delivered. Date First Available25 July 2013    Feedback  Would you like to update product info or give feedback on images?",
         "**Highly Recommended!** // 5.0 // 26 May 2015 // By\n    \n    Simon.B :-)\n  \n on 26 May 2015 // Simple & GREAT FUN for 5+My nephews face was amazing when he opened this for his birthday!! His mouth dropped open with surprise! (no joke, it literally did!)It's very easy to connect the plastic track/assemble, it takes 2 mins. It's very easy to connect the trains together and apply to track.All you need is two AA batteries and time to watch your child enjoy themselves!We even added homemade tunnels to this to make it more fun, we simply cut holes in cardboard boxes to put around certain parts of the track!This is brilliant for very young kids if they're very interested in trains. This gets them started in the hobby and doesn't cost much at all! | Excellent product // 5.0 // 29 Jun. 2014 // By\n    \n    Trevor\n  \n on 29 Jun. 2014 // Excellent product everybody should have one or to of product  excellent  100 percent ok speedy delivery excellent i give it five stars CLASSIC TOY TRAIN SET TRACK CARRIAGES LIGHT ENGINE BOXED BOYS KIDS BATTERYdouble aa battery goes in top of engine | Review book finding love again // 5.0 // 20 Aug. 2015 // By\n    \n    Janet\n  \n on 20 Aug. 2015 // I was extremely pleased with the train set really good value for money. | I would not recommend this item // 1.0 // 11 Dec. 2015 // By\n    \n    ann milburn\n  \n on 11 Dec. 2015 // i found this item, not suitable for young children,  very difficult to keep the carriages together and the whole thing kept coming off the track.All very thin plastic. I would not recommend this item. | ... for my young nephew for Christmas I was very disappointed but as it was only £7 it was not ... // 1.0 // 11 Jan. 2016 // By\n    \n    T. F. Snowdon\n  \n on 11 Jan. 2016 // The Train did not work  and as it was a present for my young nephew for Christmas I was very disappointed but as it was only £7 it was not worth the fuss of ordering another | Better than expected // 4.0 // 22 Dec. 2015 // By\n    \n    Kindle Customer\n  \n on 22 Dec. 2015 // Better than expected. It has a proper oval of track rather than just a circle. My 2 year old grandsn loves it although he finds it difficult to put on the track. | Brilliant little train // 5.0 // 28 Dec. 2015 // By\n    \n    LorsF\n  \n on 28 Dec. 2015 // Brilliant little train.  Bought for my son who was looking for a train that looks like the polar express - he was not disappointed.  Great value. | ok train , but carriages kept coming off track // 3.0 // 16 Dec. 2015 // By\n    \n    mrs nice\n  \n on 16 Dec. 2015 // train carriages kept falling track  of and the connectors not good. better on the floor",
         "{\"seller\"=>[{\"Seller_name_1\"=>\"DEAL-BOX\", \"Seller_price_1\"=>\"£9.99\"}, {\"Seller_name_2\"=>\"DO NOT BUY - TESTING ACCOUNT\", \"Seller_price_2\"=>\"£29.90\"}]}",
         "9.99",
         "3.9",
         "Hobbies ",
         " Model Trains & Railway Sets ",
         null,
         "3.0"
        ]
       ],
       "shape": {
        "columns": 16,
        "rows": 3
       }
      },
      "text/html": [
       "<div>\n",
       "<style scoped>\n",
       "    .dataframe tbody tr th:only-of-type {\n",
       "        vertical-align: middle;\n",
       "    }\n",
       "\n",
       "    .dataframe tbody tr th {\n",
       "        vertical-align: top;\n",
       "    }\n",
       "\n",
       "    .dataframe thead th {\n",
       "        text-align: right;\n",
       "    }\n",
       "</style>\n",
       "<table border=\"1\" class=\"dataframe\">\n",
       "  <thead>\n",
       "    <tr style=\"text-align: right;\">\n",
       "      <th></th>\n",
       "      <th>uniq_id</th>\n",
       "      <th>product_name</th>\n",
       "      <th>price</th>\n",
       "      <th>number_available_in_stock</th>\n",
       "      <th>number_of_reviews</th>\n",
       "      <th>average_review_rating</th>\n",
       "      <th>amazon_category_and_sub_category</th>\n",
       "      <th>product_information</th>\n",
       "      <th>customer_reviews</th>\n",
       "      <th>sellers</th>\n",
       "      <th>cleaned_price</th>\n",
       "      <th>average_review_rating_out_of_5</th>\n",
       "      <th>main_category</th>\n",
       "      <th>sub_category</th>\n",
       "      <th>item_weight_in_kg</th>\n",
       "      <th>recommended_minimum_age_years</th>\n",
       "    </tr>\n",
       "  </thead>\n",
       "  <tbody>\n",
       "    <tr>\n",
       "      <th>0</th>\n",
       "      <td>eac7efa5dbd3d667f26eb3d3ab504464</td>\n",
       "      <td>Hornby 2014 Catalogue</td>\n",
       "      <td>£3.42</td>\n",
       "      <td>5 new</td>\n",
       "      <td>15</td>\n",
       "      <td>4.9 out of 5 stars</td>\n",
       "      <td>Hobbies &gt; Model Trains &amp; Railway Sets &gt; Rail V...</td>\n",
       "      <td>Technical Details Item Weight640 g Product Dim...</td>\n",
       "      <td>Worth Buying For The Pictures Alone (As Ever) ...</td>\n",
       "      <td>{\"seller\"=&gt;[{\"Seller_name_1\"=&gt;\"Amazon.co.uk\", ...</td>\n",
       "      <td>3.42</td>\n",
       "      <td>4.9</td>\n",
       "      <td>Hobbies</td>\n",
       "      <td>Model Trains &amp; Railway Sets</td>\n",
       "      <td>0.64</td>\n",
       "      <td>6.0</td>\n",
       "    </tr>\n",
       "    <tr>\n",
       "      <th>1</th>\n",
       "      <td>b17540ef7e86e461d37f3ae58b7b72ac</td>\n",
       "      <td>FunkyBuys® Large Christmas Holiday Express Fes...</td>\n",
       "      <td>£16.99</td>\n",
       "      <td>NaN</td>\n",
       "      <td>2</td>\n",
       "      <td>4.5 out of 5 stars</td>\n",
       "      <td>Hobbies &gt; Model Trains &amp; Railway Sets &gt; Rail V...</td>\n",
       "      <td>Technical Details Manufacturer recommended age...</td>\n",
       "      <td>Four Stars // 4.0 // 18 Dec. 2015 // By\\n    \\...</td>\n",
       "      <td>{\"seller\"=&gt;{\"Seller_name_1\"=&gt;\"UHD WHOLESALE\", ...</td>\n",
       "      <td>16.99</td>\n",
       "      <td>4.5</td>\n",
       "      <td>Hobbies</td>\n",
       "      <td>Model Trains &amp; Railway Sets</td>\n",
       "      <td>NaN</td>\n",
       "      <td>3.0</td>\n",
       "    </tr>\n",
       "    <tr>\n",
       "      <th>2</th>\n",
       "      <td>348f344247b0c1a935b1223072ef9d8a</td>\n",
       "      <td>CLASSIC TOY TRAIN SET TRACK CARRIAGES LIGHT EN...</td>\n",
       "      <td>£9.99</td>\n",
       "      <td>2 new</td>\n",
       "      <td>17</td>\n",
       "      <td>3.9 out of 5 stars</td>\n",
       "      <td>Hobbies &gt; Model Trains &amp; Railway Sets &gt; Rail V...</td>\n",
       "      <td>Technical Details Manufacturer recommended age...</td>\n",
       "      <td>**Highly Recommended!** // 5.0 // 26 May 2015 ...</td>\n",
       "      <td>{\"seller\"=&gt;[{\"Seller_name_1\"=&gt;\"DEAL-BOX\", \"Sel...</td>\n",
       "      <td>9.99</td>\n",
       "      <td>3.9</td>\n",
       "      <td>Hobbies</td>\n",
       "      <td>Model Trains &amp; Railway Sets</td>\n",
       "      <td>NaN</td>\n",
       "      <td>3.0</td>\n",
       "    </tr>\n",
       "  </tbody>\n",
       "</table>\n",
       "</div>"
      ],
      "text/plain": [
       "                            uniq_id  \\\n",
       "0  eac7efa5dbd3d667f26eb3d3ab504464   \n",
       "1  b17540ef7e86e461d37f3ae58b7b72ac   \n",
       "2  348f344247b0c1a935b1223072ef9d8a   \n",
       "\n",
       "                                        product_name   price  \\\n",
       "0                              Hornby 2014 Catalogue   £3.42   \n",
       "1  FunkyBuys® Large Christmas Holiday Express Fes...  £16.99   \n",
       "2  CLASSIC TOY TRAIN SET TRACK CARRIAGES LIGHT EN...   £9.99   \n",
       "\n",
       "  number_available_in_stock number_of_reviews average_review_rating  \\\n",
       "0                     5 new                15    4.9 out of 5 stars   \n",
       "1                       NaN                 2    4.5 out of 5 stars   \n",
       "2                     2 new                17    3.9 out of 5 stars   \n",
       "\n",
       "                    amazon_category_and_sub_category  \\\n",
       "0  Hobbies > Model Trains & Railway Sets > Rail V...   \n",
       "1  Hobbies > Model Trains & Railway Sets > Rail V...   \n",
       "2  Hobbies > Model Trains & Railway Sets > Rail V...   \n",
       "\n",
       "                                 product_information  \\\n",
       "0  Technical Details Item Weight640 g Product Dim...   \n",
       "1  Technical Details Manufacturer recommended age...   \n",
       "2  Technical Details Manufacturer recommended age...   \n",
       "\n",
       "                                    customer_reviews  \\\n",
       "0  Worth Buying For The Pictures Alone (As Ever) ...   \n",
       "1  Four Stars // 4.0 // 18 Dec. 2015 // By\\n    \\...   \n",
       "2  **Highly Recommended!** // 5.0 // 26 May 2015 ...   \n",
       "\n",
       "                                             sellers  cleaned_price  \\\n",
       "0  {\"seller\"=>[{\"Seller_name_1\"=>\"Amazon.co.uk\", ...           3.42   \n",
       "1  {\"seller\"=>{\"Seller_name_1\"=>\"UHD WHOLESALE\", ...          16.99   \n",
       "2  {\"seller\"=>[{\"Seller_name_1\"=>\"DEAL-BOX\", \"Sel...           9.99   \n",
       "\n",
       "   average_review_rating_out_of_5 main_category  \\\n",
       "0                             4.9      Hobbies    \n",
       "1                             4.5      Hobbies    \n",
       "2                             3.9      Hobbies    \n",
       "\n",
       "                    sub_category  item_weight_in_kg  \\\n",
       "0   Model Trains & Railway Sets                0.64   \n",
       "1   Model Trains & Railway Sets                 NaN   \n",
       "2   Model Trains & Railway Sets                 NaN   \n",
       "\n",
       "   recommended_minimum_age_years  \n",
       "0                            6.0  \n",
       "1                            3.0  \n",
       "2                            3.0  "
      ]
     },
     "execution_count": 57,
     "metadata": {},
     "output_type": "execute_result"
    }
   ],
   "source": [
    "cleaned_df.head(3)"
   ]
  },
  {
   "cell_type": "markdown",
   "id": "7d7e501d",
   "metadata": {},
   "source": [
    "## Apply Strip () to All Str Type Columns"
   ]
  },
  {
   "cell_type": "code",
   "execution_count": 58,
   "id": "398a7cf4",
   "metadata": {},
   "outputs": [
    {
     "name": "stdout",
     "output_type": "stream",
     "text": [
      "<class 'pandas.core.frame.DataFrame'>\n",
      "RangeIndex: 10000 entries, 0 to 9999\n",
      "Data columns (total 16 columns):\n",
      " #   Column                            Non-Null Count  Dtype  \n",
      "---  ------                            --------------  -----  \n",
      " 0   uniq_id                           10000 non-null  object \n",
      " 1   product_name                      10000 non-null  object \n",
      " 2   price                             8565 non-null   object \n",
      " 3   number_available_in_stock         7500 non-null   object \n",
      " 4   number_of_reviews                 9982 non-null   object \n",
      " 5   average_review_rating             9982 non-null   object \n",
      " 6   amazon_category_and_sub_category  9310 non-null   object \n",
      " 7   product_information               9942 non-null   object \n",
      " 8   customer_reviews                  9979 non-null   object \n",
      " 9   sellers                           6918 non-null   object \n",
      " 10  cleaned_price                     8565 non-null   float64\n",
      " 11  average_review_rating_out_of_5    9982 non-null   float64\n",
      " 12  main_category                     9310 non-null   object \n",
      " 13  sub_category                      9310 non-null   object \n",
      " 14  item_weight_in_kg                 7752 non-null   float64\n",
      " 15  recommended_minimum_age_years     8718 non-null   float64\n",
      "dtypes: float64(4), object(12)\n",
      "memory usage: 1.2+ MB\n"
     ]
    }
   ],
   "source": [
    "cleaned_df.info()"
   ]
  },
  {
   "cell_type": "code",
   "execution_count": 59,
   "id": "398a7cf4",
   "metadata": {},
   "outputs": [
    {
     "name": "stderr",
     "output_type": "stream",
     "text": [
      "/var/folders/d0/xkmp50cn5p19ts1h16db856r0000gn/T/ipykernel_7075/3491162696.py:2: SettingWithCopyWarning: \n",
      "A value is trying to be set on a copy of a slice from a DataFrame.\n",
      "Try using .loc[row_indexer,col_indexer] = value instead\n",
      "\n",
      "See the caveats in the documentation: https://pandas.pydata.org/pandas-docs/stable/user_guide/indexing.html#returning-a-view-versus-a-copy\n",
      "  cleaned_df[col] = cleaned_df[col].str.strip()\n"
     ]
    }
   ],
   "source": [
    "for col in cleaned_df.select_dtypes(include='object').columns:\n",
    "    cleaned_df[col] = cleaned_df[col].str.strip()"
   ]
  },
  {
   "cell_type": "markdown",
   "id": "f2b233b3",
   "metadata": {},
   "source": [
    "## Drop Original Columns"
   ]
  },
  {
   "cell_type": "code",
   "execution_count": 60,
   "id": "288016a6",
   "metadata": {},
   "outputs": [
    {
     "name": "stderr",
     "output_type": "stream",
     "text": [
      "/var/folders/d0/xkmp50cn5p19ts1h16db856r0000gn/T/ipykernel_7075/648916161.py:1: SettingWithCopyWarning: \n",
      "A value is trying to be set on a copy of a slice from a DataFrame\n",
      "\n",
      "See the caveats in the documentation: https://pandas.pydata.org/pandas-docs/stable/user_guide/indexing.html#returning-a-view-versus-a-copy\n",
      "  cleaned_df.drop(columns=['average_review_rating','amazon_category_and_sub_category'], inplace=True)  # Drop the original column after extracting the main category.\n"
     ]
    }
   ],
   "source": [
    "cleaned_df.drop(columns=['average_review_rating','amazon_category_and_sub_category'], inplace=True)  # Drop the original column after extracting the main category."
   ]
  },
  {
   "cell_type": "code",
   "execution_count": 61,
   "id": "288016a6",
   "metadata": {},
   "outputs": [
    {
     "name": "stdout",
     "output_type": "stream",
     "text": [
      "<class 'pandas.core.frame.DataFrame'>\n",
      "RangeIndex: 10000 entries, 0 to 9999\n",
      "Data columns (total 14 columns):\n",
      " #   Column                          Non-Null Count  Dtype  \n",
      "---  ------                          --------------  -----  \n",
      " 0   uniq_id                         10000 non-null  object \n",
      " 1   product_name                    10000 non-null  object \n",
      " 2   price                           8565 non-null   object \n",
      " 3   number_available_in_stock       7500 non-null   object \n",
      " 4   number_of_reviews               9982 non-null   object \n",
      " 5   product_information             9942 non-null   object \n",
      " 6   customer_reviews                9979 non-null   object \n",
      " 7   sellers                         6918 non-null   object \n",
      " 8   cleaned_price                   8565 non-null   float64\n",
      " 9   average_review_rating_out_of_5  9982 non-null   float64\n",
      " 10  main_category                   9310 non-null   object \n",
      " 11  sub_category                    9310 non-null   object \n",
      " 12  item_weight_in_kg               7752 non-null   float64\n",
      " 13  recommended_minimum_age_years   8718 non-null   float64\n",
      "dtypes: float64(4), object(10)\n",
      "memory usage: 1.1+ MB\n"
     ]
    },
    {
     "data": {
      "application/vnd.microsoft.datawrangler.viewer.v0+json": {
       "columns": [
        {
         "name": "index",
         "rawType": "int64",
         "type": "integer"
        },
        {
         "name": "uniq_id",
         "rawType": "object",
         "type": "string"
        },
        {
         "name": "product_name",
         "rawType": "object",
         "type": "string"
        },
        {
         "name": "price",
         "rawType": "object",
         "type": "string"
        },
        {
         "name": "number_available_in_stock",
         "rawType": "object",
         "type": "string"
        },
        {
         "name": "number_of_reviews",
         "rawType": "object",
         "type": "string"
        },
        {
         "name": "product_information",
         "rawType": "object",
         "type": "string"
        },
        {
         "name": "customer_reviews",
         "rawType": "object",
         "type": "string"
        },
        {
         "name": "sellers",
         "rawType": "object",
         "type": "string"
        },
        {
         "name": "cleaned_price",
         "rawType": "float64",
         "type": "float"
        },
        {
         "name": "average_review_rating_out_of_5",
         "rawType": "float64",
         "type": "float"
        },
        {
         "name": "main_category",
         "rawType": "object",
         "type": "string"
        },
        {
         "name": "sub_category",
         "rawType": "object",
         "type": "string"
        },
        {
         "name": "item_weight_in_kg",
         "rawType": "float64",
         "type": "float"
        },
        {
         "name": "recommended_minimum_age_years",
         "rawType": "float64",
         "type": "float"
        }
       ],
       "ref": "0718dede-3c7d-4d13-a705-b8bed7072ce5",
       "rows": [
        [
         "0",
         "eac7efa5dbd3d667f26eb3d3ab504464",
         "Hornby 2014 Catalogue",
         "£3.42",
         "5 new",
         "15",
         "Technical Details Item Weight640 g Product Dimensions29.6 x 20.8 x 1 cm Manufacturer recommended age:6 years and up Item model numberR8148 Main Language(s)English manual, English Number of Game Players1 Number of Puzzle Pieces1 Assembly RequiredNo Scale1:72 Engine Typeelectric Track Width/GaugeHO Batteries Required?No Batteries Included?No Material Type(s)Paper Material Care InstructionsNo Remote Control Included?No Radio Control Suitabilityindoor Colorwhite    Additional Information ASINB00HJ208KO Best Sellers Rank 52,854 in Toys & Games (See top 100) #69 in Toys & Games > Model Trains & Railway Sets > Rail Vehicles > Trains Shipping Weight640 g Delivery Destinations:Visit the Delivery Destinations Help page to see where this item can be delivered. Date First Available24 Dec. 2013    Feedback  Would you like to update product info or give feedback on images?",
         "Worth Buying For The Pictures Alone (As Ever) // 4.0 // 6 April 2014 // By\n    \n    Copnovelist\n  \n on 6 April 2014 // Part of the magic for me growing up as a boy was to buy (or be given) the new Hornby catalogue every year, even if it included 90% of the same products as the previous year.  I've still got my old ones dating back to the 70s and 80s somewhere.  These days the catalogue is especially informative in that it tells you the vintage of the rolling stock which is useful if you are dedicating your railway to one particular era and train company. | Amazing detail fabulous photography. // 5.0 // 11 April 2015 // By\n    \n    richard\n  \n on 11 April 2015 // Amazing detail, every credit to the photographer in this book, a worthy reference manual, as well as a sales brochure. even if you only have a passing interest in the hobby you will be transported to another time when we were all younger and in awe of the big trains. | 'Great Purchase' // 5.0 // 23 April 2014 // By\n    \n    Pinkhandbag\n  \n on 23 April 2014 // This was purchased on behalf of my Dad. He is always asking me to look up 00 gauge engines online, so this has been a good buy as he can look at it anytime. Would definitely buy the next one 2015!It arrived quickly and in perfect condition :-) | Great Catalogue // 5.0 // 11 Jun. 2014 // By\n    \n    Gary John Mapson\n  \n on 11 Jun. 2014 // Everything I really needed to see what was on offer from Hornby in the way of trains.  Would not have minded it included an RRP as well though | I collect them all as the glossy pictures are great and it is nice that you can still get ... // 5.0 // 7 Dec. 2014 // By\n    \n    David Baker\n  \n on 7 Dec. 2014 // I collect them all as the glossy pictures are great and it is nice that you can still get catalogs to collect. | Great catalogue // 5.0 // 20 Mar. 2015 // By\n    \n    John A. Day\n  \n on 20 Mar. 2015 // What a great book.  Extremely useful insight to all future christmas presents. | Useful // 5.0 // 7 Oct. 2014 // By\n    \n    T. Davies\n  \n on 7 Oct. 2014 // Useful info for someonelike me starting back into the hobby after many years | hornbys latest catalogue. // 5.0 // 1 Dec. 2014 // By\n    \n    John Butlin\n  \n on 1 Dec. 2014 // A well produced very good quality catalogue.Super quality pictures.",
         "{\"seller\"=>[{\"Seller_name_1\"=>\"Amazon.co.uk\", \"Seller_price_1\"=>\"£3.42\"}, {\"Seller_name_2\"=>\"**stop-&-shop-uk**\", \"Seller_price_2\"=>\"£0.19\"}, {\"Seller_name_3\"=>\"World Wide Shopping Mall Ltd\", \"Seller_price_3\"=>\"£9.99\"}, {\"Seller_name_4\"=>\"MyHobbyStore Retail\", \"Seller_price_4\"=>\"£8.00\"}, {\"Seller_name_5\"=>\"francejouet\", \"Seller_price_5\"=>\"£37.62\"}]}",
         "3.42",
         "4.9",
         "Hobbies",
         "Model Trains & Railway Sets",
         "0.64",
         "6.0"
        ]
       ],
       "shape": {
        "columns": 14,
        "rows": 1
       }
      },
      "text/html": [
       "<div>\n",
       "<style scoped>\n",
       "    .dataframe tbody tr th:only-of-type {\n",
       "        vertical-align: middle;\n",
       "    }\n",
       "\n",
       "    .dataframe tbody tr th {\n",
       "        vertical-align: top;\n",
       "    }\n",
       "\n",
       "    .dataframe thead th {\n",
       "        text-align: right;\n",
       "    }\n",
       "</style>\n",
       "<table border=\"1\" class=\"dataframe\">\n",
       "  <thead>\n",
       "    <tr style=\"text-align: right;\">\n",
       "      <th></th>\n",
       "      <th>uniq_id</th>\n",
       "      <th>product_name</th>\n",
       "      <th>price</th>\n",
       "      <th>number_available_in_stock</th>\n",
       "      <th>number_of_reviews</th>\n",
       "      <th>product_information</th>\n",
       "      <th>customer_reviews</th>\n",
       "      <th>sellers</th>\n",
       "      <th>cleaned_price</th>\n",
       "      <th>average_review_rating_out_of_5</th>\n",
       "      <th>main_category</th>\n",
       "      <th>sub_category</th>\n",
       "      <th>item_weight_in_kg</th>\n",
       "      <th>recommended_minimum_age_years</th>\n",
       "    </tr>\n",
       "  </thead>\n",
       "  <tbody>\n",
       "    <tr>\n",
       "      <th>0</th>\n",
       "      <td>eac7efa5dbd3d667f26eb3d3ab504464</td>\n",
       "      <td>Hornby 2014 Catalogue</td>\n",
       "      <td>£3.42</td>\n",
       "      <td>5 new</td>\n",
       "      <td>15</td>\n",
       "      <td>Technical Details Item Weight640 g Product Dim...</td>\n",
       "      <td>Worth Buying For The Pictures Alone (As Ever) ...</td>\n",
       "      <td>{\"seller\"=&gt;[{\"Seller_name_1\"=&gt;\"Amazon.co.uk\", ...</td>\n",
       "      <td>3.42</td>\n",
       "      <td>4.9</td>\n",
       "      <td>Hobbies</td>\n",
       "      <td>Model Trains &amp; Railway Sets</td>\n",
       "      <td>0.64</td>\n",
       "      <td>6.0</td>\n",
       "    </tr>\n",
       "  </tbody>\n",
       "</table>\n",
       "</div>"
      ],
      "text/plain": [
       "                            uniq_id           product_name  price  \\\n",
       "0  eac7efa5dbd3d667f26eb3d3ab504464  Hornby 2014 Catalogue  £3.42   \n",
       "\n",
       "  number_available_in_stock number_of_reviews  \\\n",
       "0                     5 new                15   \n",
       "\n",
       "                                 product_information  \\\n",
       "0  Technical Details Item Weight640 g Product Dim...   \n",
       "\n",
       "                                    customer_reviews  \\\n",
       "0  Worth Buying For The Pictures Alone (As Ever) ...   \n",
       "\n",
       "                                             sellers  cleaned_price  \\\n",
       "0  {\"seller\"=>[{\"Seller_name_1\"=>\"Amazon.co.uk\", ...           3.42   \n",
       "\n",
       "   average_review_rating_out_of_5 main_category                 sub_category  \\\n",
       "0                             4.9       Hobbies  Model Trains & Railway Sets   \n",
       "\n",
       "   item_weight_in_kg  recommended_minimum_age_years  \n",
       "0               0.64                            6.0  "
      ]
     },
     "execution_count": 61,
     "metadata": {},
     "output_type": "execute_result"
    }
   ],
   "source": [
    "cleaned_df.info()\n",
    "cleaned_df.head(1)"
   ]
  },
  {
   "cell_type": "markdown",
   "id": "5c938c0d",
   "metadata": {},
   "source": [
    "# Filling Missing Values"
   ]
  },
  {
   "cell_type": "markdown",
   "id": "6287e093",
   "metadata": {},
   "source": [
    "## Fill in Missing Values for 'amazon_category'"
   ]
  },
  {
   "cell_type": "code",
   "execution_count": 62,
   "id": "f154797a",
   "metadata": {},
   "outputs": [
    {
     "ename": "KeyError",
     "evalue": "'amazon_category'",
     "output_type": "error",
     "traceback": [
      "\u001b[31m---------------------------------------------------------------------------\u001b[39m",
      "\u001b[31mKeyError\u001b[39m                                  Traceback (most recent call last)",
      "\u001b[36mFile \u001b[39m\u001b[32m/opt/anaconda3/envs/COMP647_env_py312/lib/python3.12/site-packages/pandas/core/indexes/base.py:3812\u001b[39m, in \u001b[36mIndex.get_loc\u001b[39m\u001b[34m(self, key)\u001b[39m\n\u001b[32m   3811\u001b[39m \u001b[38;5;28;01mtry\u001b[39;00m:\n\u001b[32m-> \u001b[39m\u001b[32m3812\u001b[39m     \u001b[38;5;28;01mreturn\u001b[39;00m \u001b[38;5;28mself\u001b[39m._engine.get_loc(casted_key)\n\u001b[32m   3813\u001b[39m \u001b[38;5;28;01mexcept\u001b[39;00m \u001b[38;5;167;01mKeyError\u001b[39;00m \u001b[38;5;28;01mas\u001b[39;00m err:\n",
      "\u001b[36mFile \u001b[39m\u001b[32mindex.pyx:167\u001b[39m, in \u001b[36mpandas._libs.index.IndexEngine.get_loc\u001b[39m\u001b[34m()\u001b[39m\n",
      "\u001b[36mFile \u001b[39m\u001b[32mindex.pyx:196\u001b[39m, in \u001b[36mpandas._libs.index.IndexEngine.get_loc\u001b[39m\u001b[34m()\u001b[39m\n",
      "\u001b[36mFile \u001b[39m\u001b[32mpandas/_libs/hashtable_class_helper.pxi:7088\u001b[39m, in \u001b[36mpandas._libs.hashtable.PyObjectHashTable.get_item\u001b[39m\u001b[34m()\u001b[39m\n",
      "\u001b[36mFile \u001b[39m\u001b[32mpandas/_libs/hashtable_class_helper.pxi:7096\u001b[39m, in \u001b[36mpandas._libs.hashtable.PyObjectHashTable.get_item\u001b[39m\u001b[34m()\u001b[39m\n",
      "\u001b[31mKeyError\u001b[39m: 'amazon_category'",
      "\nThe above exception was the direct cause of the following exception:\n",
      "\u001b[31mKeyError\u001b[39m                                  Traceback (most recent call last)",
      "\u001b[36mCell\u001b[39m\u001b[36m \u001b[39m\u001b[32mIn[62]\u001b[39m\u001b[32m, line 1\u001b[39m\n\u001b[32m----> \u001b[39m\u001b[32m1\u001b[39m cleaned_df[\u001b[33m'\u001b[39m\u001b[33mamazon_category\u001b[39m\u001b[33m'\u001b[39m] = cleaned_df[\u001b[33m'\u001b[39m\u001b[33mamazon_category\u001b[39m\u001b[33m'\u001b[39m].fillna(\u001b[33m'\u001b[39m\u001b[33mUnknown\u001b[39m\u001b[33m'\u001b[39m)\n",
      "\u001b[36mFile \u001b[39m\u001b[32m/opt/anaconda3/envs/COMP647_env_py312/lib/python3.12/site-packages/pandas/core/frame.py:4107\u001b[39m, in \u001b[36mDataFrame.__getitem__\u001b[39m\u001b[34m(self, key)\u001b[39m\n\u001b[32m   4105\u001b[39m \u001b[38;5;28;01mif\u001b[39;00m \u001b[38;5;28mself\u001b[39m.columns.nlevels > \u001b[32m1\u001b[39m:\n\u001b[32m   4106\u001b[39m     \u001b[38;5;28;01mreturn\u001b[39;00m \u001b[38;5;28mself\u001b[39m._getitem_multilevel(key)\n\u001b[32m-> \u001b[39m\u001b[32m4107\u001b[39m indexer = \u001b[38;5;28mself\u001b[39m.columns.get_loc(key)\n\u001b[32m   4108\u001b[39m \u001b[38;5;28;01mif\u001b[39;00m is_integer(indexer):\n\u001b[32m   4109\u001b[39m     indexer = [indexer]\n",
      "\u001b[36mFile \u001b[39m\u001b[32m/opt/anaconda3/envs/COMP647_env_py312/lib/python3.12/site-packages/pandas/core/indexes/base.py:3819\u001b[39m, in \u001b[36mIndex.get_loc\u001b[39m\u001b[34m(self, key)\u001b[39m\n\u001b[32m   3814\u001b[39m     \u001b[38;5;28;01mif\u001b[39;00m \u001b[38;5;28misinstance\u001b[39m(casted_key, \u001b[38;5;28mslice\u001b[39m) \u001b[38;5;129;01mor\u001b[39;00m (\n\u001b[32m   3815\u001b[39m         \u001b[38;5;28misinstance\u001b[39m(casted_key, abc.Iterable)\n\u001b[32m   3816\u001b[39m         \u001b[38;5;129;01mand\u001b[39;00m \u001b[38;5;28many\u001b[39m(\u001b[38;5;28misinstance\u001b[39m(x, \u001b[38;5;28mslice\u001b[39m) \u001b[38;5;28;01mfor\u001b[39;00m x \u001b[38;5;129;01min\u001b[39;00m casted_key)\n\u001b[32m   3817\u001b[39m     ):\n\u001b[32m   3818\u001b[39m         \u001b[38;5;28;01mraise\u001b[39;00m InvalidIndexError(key)\n\u001b[32m-> \u001b[39m\u001b[32m3819\u001b[39m     \u001b[38;5;28;01mraise\u001b[39;00m \u001b[38;5;167;01mKeyError\u001b[39;00m(key) \u001b[38;5;28;01mfrom\u001b[39;00m\u001b[38;5;250m \u001b[39m\u001b[34;01merr\u001b[39;00m\n\u001b[32m   3820\u001b[39m \u001b[38;5;28;01mexcept\u001b[39;00m \u001b[38;5;167;01mTypeError\u001b[39;00m:\n\u001b[32m   3821\u001b[39m     \u001b[38;5;66;03m# If we have a listlike key, _check_indexing_error will raise\u001b[39;00m\n\u001b[32m   3822\u001b[39m     \u001b[38;5;66;03m#  InvalidIndexError. Otherwise we fall through and re-raise\u001b[39;00m\n\u001b[32m   3823\u001b[39m     \u001b[38;5;66;03m#  the TypeError.\u001b[39;00m\n\u001b[32m   3824\u001b[39m     \u001b[38;5;28mself\u001b[39m._check_indexing_error(key)\n",
      "\u001b[31mKeyError\u001b[39m: 'amazon_category'"
     ]
    }
   ],
   "source": [
    "cleaned_df['amazon_category'] = cleaned_df['amazon_category'].fillna('Unknown') # fillna() replaces NaN values with 'Unknown'."
   ]
  },
  {
   "cell_type": "code",
   "execution_count": null,
   "id": "f8551661",
   "metadata": {},
   "outputs": [
    {
     "data": {
      "application/vnd.microsoft.datawrangler.viewer.v0+json": {
       "columns": [
        {
         "name": "index",
         "rawType": "int64",
         "type": "integer"
        },
        {
         "name": "uniq_id",
         "rawType": "object",
         "type": "string"
        },
        {
         "name": "product_name",
         "rawType": "object",
         "type": "string"
        },
        {
         "name": "price",
         "rawType": "object",
         "type": "string"
        },
        {
         "name": "number_available_in_stock",
         "rawType": "object",
         "type": "string"
        },
        {
         "name": "number_of_reviews",
         "rawType": "object",
         "type": "string"
        },
        {
         "name": "product_information",
         "rawType": "object",
         "type": "string"
        },
        {
         "name": "customer_reviews",
         "rawType": "object",
         "type": "string"
        },
        {
         "name": "sellers",
         "rawType": "object",
         "type": "string"
        },
        {
         "name": "average_review_rating_out_of_5",
         "rawType": "float64",
         "type": "float"
        },
        {
         "name": "amazon_category",
         "rawType": "object",
         "type": "string"
        }
       ],
       "ref": "6bca39e0-ab17-4534-8aac-860ae98802f0",
       "rows": [
        [
         "0",
         "eac7efa5dbd3d667f26eb3d3ab504464",
         "Hornby 2014 Catalogue",
         "£3.42",
         "5 new",
         "15",
         "Technical Details Item Weight640 g Product Dimensions29.6 x 20.8 x 1 cm Manufacturer recommended age:6 years and up Item model numberR8148 Main Language(s)English manual, English Number of Game Players1 Number of Puzzle Pieces1 Assembly RequiredNo Scale1:72 Engine Typeelectric Track Width/GaugeHO Batteries Required?No Batteries Included?No Material Type(s)Paper Material Care InstructionsNo Remote Control Included?No Radio Control Suitabilityindoor Colorwhite    Additional Information ASINB00HJ208KO Best Sellers Rank 52,854 in Toys & Games (See top 100) #69 in Toys & Games > Model Trains & Railway Sets > Rail Vehicles > Trains Shipping Weight640 g Delivery Destinations:Visit the Delivery Destinations Help page to see where this item can be delivered. Date First Available24 Dec. 2013    Feedback  Would you like to update product info or give feedback on images?",
         "Worth Buying For The Pictures Alone (As Ever) // 4.0 // 6 April 2014 // By\n    \n    Copnovelist\n  \n on 6 April 2014 // Part of the magic for me growing up as a boy was to buy (or be given) the new Hornby catalogue every year, even if it included 90% of the same products as the previous year.  I've still got my old ones dating back to the 70s and 80s somewhere.  These days the catalogue is especially informative in that it tells you the vintage of the rolling stock which is useful if you are dedicating your railway to one particular era and train company. | Amazing detail fabulous photography. // 5.0 // 11 April 2015 // By\n    \n    richard\n  \n on 11 April 2015 // Amazing detail, every credit to the photographer in this book, a worthy reference manual, as well as a sales brochure. even if you only have a passing interest in the hobby you will be transported to another time when we were all younger and in awe of the big trains. | 'Great Purchase' // 5.0 // 23 April 2014 // By\n    \n    Pinkhandbag\n  \n on 23 April 2014 // This was purchased on behalf of my Dad. He is always asking me to look up 00 gauge engines online, so this has been a good buy as he can look at it anytime. Would definitely buy the next one 2015!It arrived quickly and in perfect condition :-) | Great Catalogue // 5.0 // 11 Jun. 2014 // By\n    \n    Gary John Mapson\n  \n on 11 Jun. 2014 // Everything I really needed to see what was on offer from Hornby in the way of trains.  Would not have minded it included an RRP as well though | I collect them all as the glossy pictures are great and it is nice that you can still get ... // 5.0 // 7 Dec. 2014 // By\n    \n    David Baker\n  \n on 7 Dec. 2014 // I collect them all as the glossy pictures are great and it is nice that you can still get catalogs to collect. | Great catalogue // 5.0 // 20 Mar. 2015 // By\n    \n    John A. Day\n  \n on 20 Mar. 2015 // What a great book.  Extremely useful insight to all future christmas presents. | Useful // 5.0 // 7 Oct. 2014 // By\n    \n    T. Davies\n  \n on 7 Oct. 2014 // Useful info for someonelike me starting back into the hobby after many years | hornbys latest catalogue. // 5.0 // 1 Dec. 2014 // By\n    \n    John Butlin\n  \n on 1 Dec. 2014 // A well produced very good quality catalogue.Super quality pictures.",
         "{\"seller\"=>[{\"Seller_name_1\"=>\"Amazon.co.uk\", \"Seller_price_1\"=>\"£3.42\"}, {\"Seller_name_2\"=>\"**stop-&-shop-uk**\", \"Seller_price_2\"=>\"£0.19\"}, {\"Seller_name_3\"=>\"World Wide Shopping Mall Ltd\", \"Seller_price_3\"=>\"£9.99\"}, {\"Seller_name_4\"=>\"MyHobbyStore Retail\", \"Seller_price_4\"=>\"£8.00\"}, {\"Seller_name_5\"=>\"francejouet\", \"Seller_price_5\"=>\"£37.62\"}]}",
         "4.9",
         "Hobbies"
        ]
       ],
       "shape": {
        "columns": 10,
        "rows": 1
       }
      },
      "text/html": [
       "<div>\n",
       "<style scoped>\n",
       "    .dataframe tbody tr th:only-of-type {\n",
       "        vertical-align: middle;\n",
       "    }\n",
       "\n",
       "    .dataframe tbody tr th {\n",
       "        vertical-align: top;\n",
       "    }\n",
       "\n",
       "    .dataframe thead th {\n",
       "        text-align: right;\n",
       "    }\n",
       "</style>\n",
       "<table border=\"1\" class=\"dataframe\">\n",
       "  <thead>\n",
       "    <tr style=\"text-align: right;\">\n",
       "      <th></th>\n",
       "      <th>uniq_id</th>\n",
       "      <th>product_name</th>\n",
       "      <th>price</th>\n",
       "      <th>number_available_in_stock</th>\n",
       "      <th>number_of_reviews</th>\n",
       "      <th>product_information</th>\n",
       "      <th>customer_reviews</th>\n",
       "      <th>sellers</th>\n",
       "      <th>average_review_rating_out_of_5</th>\n",
       "      <th>amazon_category</th>\n",
       "    </tr>\n",
       "  </thead>\n",
       "  <tbody>\n",
       "    <tr>\n",
       "      <th>0</th>\n",
       "      <td>eac7efa5dbd3d667f26eb3d3ab504464</td>\n",
       "      <td>Hornby 2014 Catalogue</td>\n",
       "      <td>£3.42</td>\n",
       "      <td>5 new</td>\n",
       "      <td>15</td>\n",
       "      <td>Technical Details Item Weight640 g Product Dim...</td>\n",
       "      <td>Worth Buying For The Pictures Alone (As Ever) ...</td>\n",
       "      <td>{\"seller\"=&gt;[{\"Seller_name_1\"=&gt;\"Amazon.co.uk\", ...</td>\n",
       "      <td>4.9</td>\n",
       "      <td>Hobbies</td>\n",
       "    </tr>\n",
       "  </tbody>\n",
       "</table>\n",
       "</div>"
      ],
      "text/plain": [
       "                            uniq_id           product_name  price  \\\n",
       "0  eac7efa5dbd3d667f26eb3d3ab504464  Hornby 2014 Catalogue  £3.42   \n",
       "\n",
       "  number_available_in_stock number_of_reviews  \\\n",
       "0                     5 new                15   \n",
       "\n",
       "                                 product_information  \\\n",
       "0  Technical Details Item Weight640 g Product Dim...   \n",
       "\n",
       "                                    customer_reviews  \\\n",
       "0  Worth Buying For The Pictures Alone (As Ever) ...   \n",
       "\n",
       "                                             sellers  \\\n",
       "0  {\"seller\"=>[{\"Seller_name_1\"=>\"Amazon.co.uk\", ...   \n",
       "\n",
       "   average_review_rating_out_of_5 amazon_category  \n",
       "0                             4.9         Hobbies  "
      ]
     },
     "execution_count": 55,
     "metadata": {},
     "output_type": "execute_result"
    }
   ],
   "source": [
    "cleaned_df.head(1)"
   ]
  },
  {
   "cell_type": "markdown",
   "id": "1f107ab5",
   "metadata": {},
   "source": [
    "## Fill in Missing Values for 'average_review_rating_out_of_5'"
   ]
  },
  {
   "cell_type": "code",
   "execution_count": null,
   "id": "fa02d9b4",
   "metadata": {},
   "outputs": [
    {
     "name": "stderr",
     "output_type": "stream",
     "text": [
      "/var/folders/d0/xkmp50cn5p19ts1h16db856r0000gn/T/ipykernel_1444/4203628704.py:1: SettingWithCopyWarning: \n",
      "A value is trying to be set on a copy of a slice from a DataFrame.\n",
      "Try using .loc[row_indexer,col_indexer] = value instead\n",
      "\n",
      "See the caveats in the documentation: https://pandas.pydata.org/pandas-docs/stable/user_guide/indexing.html#returning-a-view-versus-a-copy\n",
      "  cleaned_df['average_review_rating_out_of_5'] = (\n"
     ]
    }
   ],
   "source": [
    "cleaned_df['average_review_rating_out_of_5'] = (\n",
    "    cleaned_df.groupby('amazon_category')['average_review_rating_out_of_5'] # .groupby() groups the DataFrame by 'amazon_category'and 'average_review_rating_out_of_5' columns.\n",
    "    .transform(lambda x: x.fillna(x.mean())) # .transform() applies a function to each group, filling NaN values with the mean of the group.\n",
    "    # lambda x: x.fillna(x.mean()) calculates the mean of the group and fills NaN values with that mean.\n",
    ").round(1) # .round(1) rounds the values to one decimal place."
   ]
  },
  {
   "cell_type": "code",
   "execution_count": null,
   "id": "7f5d0848",
   "metadata": {},
   "outputs": [
    {
     "data": {
      "application/vnd.microsoft.datawrangler.viewer.v0+json": {
       "columns": [
        {
         "name": "index",
         "rawType": "int64",
         "type": "integer"
        },
        {
         "name": "uniq_id",
         "rawType": "object",
         "type": "string"
        },
        {
         "name": "product_name",
         "rawType": "object",
         "type": "string"
        },
        {
         "name": "price",
         "rawType": "object",
         "type": "string"
        },
        {
         "name": "number_available_in_stock",
         "rawType": "object",
         "type": "string"
        },
        {
         "name": "number_of_reviews",
         "rawType": "object",
         "type": "string"
        },
        {
         "name": "product_information",
         "rawType": "object",
         "type": "string"
        },
        {
         "name": "customer_reviews",
         "rawType": "object",
         "type": "string"
        },
        {
         "name": "sellers",
         "rawType": "object",
         "type": "string"
        },
        {
         "name": "average_review_rating_out_of_5",
         "rawType": "float64",
         "type": "float"
        },
        {
         "name": "amazon_category",
         "rawType": "object",
         "type": "string"
        }
       ],
       "ref": "1920535c-1f36-474d-a242-66607d48f604",
       "rows": [
        [
         "0",
         "eac7efa5dbd3d667f26eb3d3ab504464",
         "Hornby 2014 Catalogue",
         "£3.42",
         "5 new",
         "15",
         "Technical Details Item Weight640 g Product Dimensions29.6 x 20.8 x 1 cm Manufacturer recommended age:6 years and up Item model numberR8148 Main Language(s)English manual, English Number of Game Players1 Number of Puzzle Pieces1 Assembly RequiredNo Scale1:72 Engine Typeelectric Track Width/GaugeHO Batteries Required?No Batteries Included?No Material Type(s)Paper Material Care InstructionsNo Remote Control Included?No Radio Control Suitabilityindoor Colorwhite    Additional Information ASINB00HJ208KO Best Sellers Rank 52,854 in Toys & Games (See top 100) #69 in Toys & Games > Model Trains & Railway Sets > Rail Vehicles > Trains Shipping Weight640 g Delivery Destinations:Visit the Delivery Destinations Help page to see where this item can be delivered. Date First Available24 Dec. 2013    Feedback  Would you like to update product info or give feedback on images?",
         "Worth Buying For The Pictures Alone (As Ever) // 4.0 // 6 April 2014 // By\n    \n    Copnovelist\n  \n on 6 April 2014 // Part of the magic for me growing up as a boy was to buy (or be given) the new Hornby catalogue every year, even if it included 90% of the same products as the previous year.  I've still got my old ones dating back to the 70s and 80s somewhere.  These days the catalogue is especially informative in that it tells you the vintage of the rolling stock which is useful if you are dedicating your railway to one particular era and train company. | Amazing detail fabulous photography. // 5.0 // 11 April 2015 // By\n    \n    richard\n  \n on 11 April 2015 // Amazing detail, every credit to the photographer in this book, a worthy reference manual, as well as a sales brochure. even if you only have a passing interest in the hobby you will be transported to another time when we were all younger and in awe of the big trains. | 'Great Purchase' // 5.0 // 23 April 2014 // By\n    \n    Pinkhandbag\n  \n on 23 April 2014 // This was purchased on behalf of my Dad. He is always asking me to look up 00 gauge engines online, so this has been a good buy as he can look at it anytime. Would definitely buy the next one 2015!It arrived quickly and in perfect condition :-) | Great Catalogue // 5.0 // 11 Jun. 2014 // By\n    \n    Gary John Mapson\n  \n on 11 Jun. 2014 // Everything I really needed to see what was on offer from Hornby in the way of trains.  Would not have minded it included an RRP as well though | I collect them all as the glossy pictures are great and it is nice that you can still get ... // 5.0 // 7 Dec. 2014 // By\n    \n    David Baker\n  \n on 7 Dec. 2014 // I collect them all as the glossy pictures are great and it is nice that you can still get catalogs to collect. | Great catalogue // 5.0 // 20 Mar. 2015 // By\n    \n    John A. Day\n  \n on 20 Mar. 2015 // What a great book.  Extremely useful insight to all future christmas presents. | Useful // 5.0 // 7 Oct. 2014 // By\n    \n    T. Davies\n  \n on 7 Oct. 2014 // Useful info for someonelike me starting back into the hobby after many years | hornbys latest catalogue. // 5.0 // 1 Dec. 2014 // By\n    \n    John Butlin\n  \n on 1 Dec. 2014 // A well produced very good quality catalogue.Super quality pictures.",
         "{\"seller\"=>[{\"Seller_name_1\"=>\"Amazon.co.uk\", \"Seller_price_1\"=>\"£3.42\"}, {\"Seller_name_2\"=>\"**stop-&-shop-uk**\", \"Seller_price_2\"=>\"£0.19\"}, {\"Seller_name_3\"=>\"World Wide Shopping Mall Ltd\", \"Seller_price_3\"=>\"£9.99\"}, {\"Seller_name_4\"=>\"MyHobbyStore Retail\", \"Seller_price_4\"=>\"£8.00\"}, {\"Seller_name_5\"=>\"francejouet\", \"Seller_price_5\"=>\"£37.62\"}]}",
         "4.9",
         "Hobbies"
        ]
       ],
       "shape": {
        "columns": 10,
        "rows": 1
       }
      },
      "text/html": [
       "<div>\n",
       "<style scoped>\n",
       "    .dataframe tbody tr th:only-of-type {\n",
       "        vertical-align: middle;\n",
       "    }\n",
       "\n",
       "    .dataframe tbody tr th {\n",
       "        vertical-align: top;\n",
       "    }\n",
       "\n",
       "    .dataframe thead th {\n",
       "        text-align: right;\n",
       "    }\n",
       "</style>\n",
       "<table border=\"1\" class=\"dataframe\">\n",
       "  <thead>\n",
       "    <tr style=\"text-align: right;\">\n",
       "      <th></th>\n",
       "      <th>uniq_id</th>\n",
       "      <th>product_name</th>\n",
       "      <th>price</th>\n",
       "      <th>number_available_in_stock</th>\n",
       "      <th>number_of_reviews</th>\n",
       "      <th>product_information</th>\n",
       "      <th>customer_reviews</th>\n",
       "      <th>sellers</th>\n",
       "      <th>average_review_rating_out_of_5</th>\n",
       "      <th>amazon_category</th>\n",
       "    </tr>\n",
       "  </thead>\n",
       "  <tbody>\n",
       "    <tr>\n",
       "      <th>0</th>\n",
       "      <td>eac7efa5dbd3d667f26eb3d3ab504464</td>\n",
       "      <td>Hornby 2014 Catalogue</td>\n",
       "      <td>£3.42</td>\n",
       "      <td>5 new</td>\n",
       "      <td>15</td>\n",
       "      <td>Technical Details Item Weight640 g Product Dim...</td>\n",
       "      <td>Worth Buying For The Pictures Alone (As Ever) ...</td>\n",
       "      <td>{\"seller\"=&gt;[{\"Seller_name_1\"=&gt;\"Amazon.co.uk\", ...</td>\n",
       "      <td>4.9</td>\n",
       "      <td>Hobbies</td>\n",
       "    </tr>\n",
       "  </tbody>\n",
       "</table>\n",
       "</div>"
      ],
      "text/plain": [
       "                            uniq_id           product_name  price  \\\n",
       "0  eac7efa5dbd3d667f26eb3d3ab504464  Hornby 2014 Catalogue  £3.42   \n",
       "\n",
       "  number_available_in_stock number_of_reviews  \\\n",
       "0                     5 new                15   \n",
       "\n",
       "                                 product_information  \\\n",
       "0  Technical Details Item Weight640 g Product Dim...   \n",
       "\n",
       "                                    customer_reviews  \\\n",
       "0  Worth Buying For The Pictures Alone (As Ever) ...   \n",
       "\n",
       "                                             sellers  \\\n",
       "0  {\"seller\"=>[{\"Seller_name_1\"=>\"Amazon.co.uk\", ...   \n",
       "\n",
       "   average_review_rating_out_of_5 amazon_category  \n",
       "0                             4.9         Hobbies  "
      ]
     },
     "execution_count": 57,
     "metadata": {},
     "output_type": "execute_result"
    }
   ],
   "source": [
    "cleaned_df.head(1)"
   ]
  },
  {
   "cell_type": "markdown",
   "id": "b404102e",
   "metadata": {},
   "source": [
    "## Fill in Missing Values for 'number_of_reviews'"
   ]
  },
  {
   "cell_type": "code",
   "execution_count": null,
   "id": "dd30154f",
   "metadata": {},
   "outputs": [
    {
     "name": "stderr",
     "output_type": "stream",
     "text": [
      "/var/folders/d0/xkmp50cn5p19ts1h16db856r0000gn/T/ipykernel_1444/96151733.py:1: SettingWithCopyWarning: \n",
      "A value is trying to be set on a copy of a slice from a DataFrame.\n",
      "Try using .loc[row_indexer,col_indexer] = value instead\n",
      "\n",
      "See the caveats in the documentation: https://pandas.pydata.org/pandas-docs/stable/user_guide/indexing.html#returning-a-view-versus-a-copy\n",
      "  cleaned_df['number_of_reviews'] = pd.to_numeric(cleaned_df['number_of_reviews'], errors='coerce')\n"
     ]
    }
   ],
   "source": [
    "cleaned_df['number_of_reviews'] = pd.to_numeric(cleaned_df['number_of_reviews'], errors='coerce')\n",
    "# pd.to_numeric() converts values to numbers, and anything invalid (like strings or symbols) becomes NaN.\n",
    "# errors='coerce' ensures that any non-numeric values are converted to NaN instead of raising an error."
   ]
  },
  {
   "cell_type": "code",
   "execution_count": null,
   "id": "b0b93bd9",
   "metadata": {},
   "outputs": [
    {
     "name": "stderr",
     "output_type": "stream",
     "text": [
      "/var/folders/d0/xkmp50cn5p19ts1h16db856r0000gn/T/ipykernel_1444/597056016.py:1: SettingWithCopyWarning: \n",
      "A value is trying to be set on a copy of a slice from a DataFrame.\n",
      "Try using .loc[row_indexer,col_indexer] = value instead\n",
      "\n",
      "See the caveats in the documentation: https://pandas.pydata.org/pandas-docs/stable/user_guide/indexing.html#returning-a-view-versus-a-copy\n",
      "  cleaned_df['number_of_reviews'] = (\n"
     ]
    }
   ],
   "source": [
    "cleaned_df['number_of_reviews'] = (\n",
    "    cleaned_df.groupby('amazon_category')['number_of_reviews']\n",
    "    .transform(lambda x: x.fillna(x.mode())) # .transform() applies a function to each categorical group, filling NaN values with the mode of the group.\n",
    "    # lambda x: x.fillna(x.mode()) calculates the mode of the group and fills NaN values with that mode.\n",
    ")"
   ]
  },
  {
   "cell_type": "code",
   "execution_count": null,
   "id": "2bfc7297",
   "metadata": {},
   "outputs": [
    {
     "data": {
      "application/vnd.microsoft.datawrangler.viewer.v0+json": {
       "columns": [
        {
         "name": "index",
         "rawType": "int64",
         "type": "integer"
        },
        {
         "name": "uniq_id",
         "rawType": "object",
         "type": "string"
        },
        {
         "name": "product_name",
         "rawType": "object",
         "type": "string"
        },
        {
         "name": "price",
         "rawType": "object",
         "type": "string"
        },
        {
         "name": "number_available_in_stock",
         "rawType": "object",
         "type": "string"
        },
        {
         "name": "number_of_reviews",
         "rawType": "float64",
         "type": "float"
        },
        {
         "name": "product_information",
         "rawType": "object",
         "type": "string"
        },
        {
         "name": "customer_reviews",
         "rawType": "object",
         "type": "string"
        },
        {
         "name": "sellers",
         "rawType": "object",
         "type": "string"
        },
        {
         "name": "average_review_rating_out_of_5",
         "rawType": "float64",
         "type": "float"
        },
        {
         "name": "amazon_category",
         "rawType": "object",
         "type": "string"
        }
       ],
       "ref": "d1023ff2-efa7-4c67-a330-b3bf9374fd66",
       "rows": [
        [
         "0",
         "eac7efa5dbd3d667f26eb3d3ab504464",
         "Hornby 2014 Catalogue",
         "£3.42",
         "5 new",
         "15.0",
         "Technical Details Item Weight640 g Product Dimensions29.6 x 20.8 x 1 cm Manufacturer recommended age:6 years and up Item model numberR8148 Main Language(s)English manual, English Number of Game Players1 Number of Puzzle Pieces1 Assembly RequiredNo Scale1:72 Engine Typeelectric Track Width/GaugeHO Batteries Required?No Batteries Included?No Material Type(s)Paper Material Care InstructionsNo Remote Control Included?No Radio Control Suitabilityindoor Colorwhite    Additional Information ASINB00HJ208KO Best Sellers Rank 52,854 in Toys & Games (See top 100) #69 in Toys & Games > Model Trains & Railway Sets > Rail Vehicles > Trains Shipping Weight640 g Delivery Destinations:Visit the Delivery Destinations Help page to see where this item can be delivered. Date First Available24 Dec. 2013    Feedback  Would you like to update product info or give feedback on images?",
         "Worth Buying For The Pictures Alone (As Ever) // 4.0 // 6 April 2014 // By\n    \n    Copnovelist\n  \n on 6 April 2014 // Part of the magic for me growing up as a boy was to buy (or be given) the new Hornby catalogue every year, even if it included 90% of the same products as the previous year.  I've still got my old ones dating back to the 70s and 80s somewhere.  These days the catalogue is especially informative in that it tells you the vintage of the rolling stock which is useful if you are dedicating your railway to one particular era and train company. | Amazing detail fabulous photography. // 5.0 // 11 April 2015 // By\n    \n    richard\n  \n on 11 April 2015 // Amazing detail, every credit to the photographer in this book, a worthy reference manual, as well as a sales brochure. even if you only have a passing interest in the hobby you will be transported to another time when we were all younger and in awe of the big trains. | 'Great Purchase' // 5.0 // 23 April 2014 // By\n    \n    Pinkhandbag\n  \n on 23 April 2014 // This was purchased on behalf of my Dad. He is always asking me to look up 00 gauge engines online, so this has been a good buy as he can look at it anytime. Would definitely buy the next one 2015!It arrived quickly and in perfect condition :-) | Great Catalogue // 5.0 // 11 Jun. 2014 // By\n    \n    Gary John Mapson\n  \n on 11 Jun. 2014 // Everything I really needed to see what was on offer from Hornby in the way of trains.  Would not have minded it included an RRP as well though | I collect them all as the glossy pictures are great and it is nice that you can still get ... // 5.0 // 7 Dec. 2014 // By\n    \n    David Baker\n  \n on 7 Dec. 2014 // I collect them all as the glossy pictures are great and it is nice that you can still get catalogs to collect. | Great catalogue // 5.0 // 20 Mar. 2015 // By\n    \n    John A. Day\n  \n on 20 Mar. 2015 // What a great book.  Extremely useful insight to all future christmas presents. | Useful // 5.0 // 7 Oct. 2014 // By\n    \n    T. Davies\n  \n on 7 Oct. 2014 // Useful info for someonelike me starting back into the hobby after many years | hornbys latest catalogue. // 5.0 // 1 Dec. 2014 // By\n    \n    John Butlin\n  \n on 1 Dec. 2014 // A well produced very good quality catalogue.Super quality pictures.",
         "{\"seller\"=>[{\"Seller_name_1\"=>\"Amazon.co.uk\", \"Seller_price_1\"=>\"£3.42\"}, {\"Seller_name_2\"=>\"**stop-&-shop-uk**\", \"Seller_price_2\"=>\"£0.19\"}, {\"Seller_name_3\"=>\"World Wide Shopping Mall Ltd\", \"Seller_price_3\"=>\"£9.99\"}, {\"Seller_name_4\"=>\"MyHobbyStore Retail\", \"Seller_price_4\"=>\"£8.00\"}, {\"Seller_name_5\"=>\"francejouet\", \"Seller_price_5\"=>\"£37.62\"}]}",
         "4.9",
         "Hobbies"
        ]
       ],
       "shape": {
        "columns": 10,
        "rows": 1
       }
      },
      "text/html": [
       "<div>\n",
       "<style scoped>\n",
       "    .dataframe tbody tr th:only-of-type {\n",
       "        vertical-align: middle;\n",
       "    }\n",
       "\n",
       "    .dataframe tbody tr th {\n",
       "        vertical-align: top;\n",
       "    }\n",
       "\n",
       "    .dataframe thead th {\n",
       "        text-align: right;\n",
       "    }\n",
       "</style>\n",
       "<table border=\"1\" class=\"dataframe\">\n",
       "  <thead>\n",
       "    <tr style=\"text-align: right;\">\n",
       "      <th></th>\n",
       "      <th>uniq_id</th>\n",
       "      <th>product_name</th>\n",
       "      <th>price</th>\n",
       "      <th>number_available_in_stock</th>\n",
       "      <th>number_of_reviews</th>\n",
       "      <th>product_information</th>\n",
       "      <th>customer_reviews</th>\n",
       "      <th>sellers</th>\n",
       "      <th>average_review_rating_out_of_5</th>\n",
       "      <th>amazon_category</th>\n",
       "    </tr>\n",
       "  </thead>\n",
       "  <tbody>\n",
       "    <tr>\n",
       "      <th>0</th>\n",
       "      <td>eac7efa5dbd3d667f26eb3d3ab504464</td>\n",
       "      <td>Hornby 2014 Catalogue</td>\n",
       "      <td>£3.42</td>\n",
       "      <td>5 new</td>\n",
       "      <td>15.0</td>\n",
       "      <td>Technical Details Item Weight640 g Product Dim...</td>\n",
       "      <td>Worth Buying For The Pictures Alone (As Ever) ...</td>\n",
       "      <td>{\"seller\"=&gt;[{\"Seller_name_1\"=&gt;\"Amazon.co.uk\", ...</td>\n",
       "      <td>4.9</td>\n",
       "      <td>Hobbies</td>\n",
       "    </tr>\n",
       "  </tbody>\n",
       "</table>\n",
       "</div>"
      ],
      "text/plain": [
       "                            uniq_id           product_name  price  \\\n",
       "0  eac7efa5dbd3d667f26eb3d3ab504464  Hornby 2014 Catalogue  £3.42   \n",
       "\n",
       "  number_available_in_stock  number_of_reviews  \\\n",
       "0                     5 new               15.0   \n",
       "\n",
       "                                 product_information  \\\n",
       "0  Technical Details Item Weight640 g Product Dim...   \n",
       "\n",
       "                                    customer_reviews  \\\n",
       "0  Worth Buying For The Pictures Alone (As Ever) ...   \n",
       "\n",
       "                                             sellers  \\\n",
       "0  {\"seller\"=>[{\"Seller_name_1\"=>\"Amazon.co.uk\", ...   \n",
       "\n",
       "   average_review_rating_out_of_5 amazon_category  \n",
       "0                             4.9         Hobbies  "
      ]
     },
     "execution_count": 60,
     "metadata": {},
     "output_type": "execute_result"
    }
   ],
   "source": [
    "cleaned_df.head(1)"
   ]
  },
  {
   "cell_type": "code",
   "execution_count": null,
   "id": "ddfbfda2",
   "metadata": {},
   "outputs": [
    {
     "name": "stdout",
     "output_type": "stream",
     "text": [
      "<class 'pandas.core.frame.DataFrame'>\n",
      "RangeIndex: 10000 entries, 0 to 9999\n",
      "Data columns (total 10 columns):\n",
      " #   Column                          Non-Null Count  Dtype  \n",
      "---  ------                          --------------  -----  \n",
      " 0   uniq_id                         10000 non-null  object \n",
      " 1   product_name                    10000 non-null  object \n",
      " 2   price                           8565 non-null   object \n",
      " 3   number_available_in_stock       7500 non-null   object \n",
      " 4   number_of_reviews               9980 non-null   float64\n",
      " 5   product_information             9942 non-null   object \n",
      " 6   customer_reviews                9979 non-null   object \n",
      " 7   sellers                         6918 non-null   object \n",
      " 8   average_review_rating_out_of_5  10000 non-null  float64\n",
      " 9   amazon_category                 10000 non-null  object \n",
      "dtypes: float64(2), object(8)\n",
      "memory usage: 781.4+ KB\n"
     ]
    }
   ],
   "source": [
    "cleaned_df.info ()"
   ]
  },
  {
   "cell_type": "markdown",
   "id": "181b7193",
   "metadata": {},
   "source": [
    "# Visualise Data"
   ]
  },
  {
   "cell_type": "code",
   "execution_count": null,
   "id": "ac4372e9",
   "metadata": {},
   "outputs": [
    {
     "ename": "",
     "evalue": "",
     "output_type": "error",
     "traceback": [
      "\u001b[1;31mThe Kernel crashed while executing code in the current cell or a previous cell. \n",
      "\u001b[1;31mPlease review the code in the cell(s) to identify a possible cause of the failure. \n",
      "\u001b[1;31mClick <a href='https://aka.ms/vscodeJupyterKernelCrash'>here</a> for more info. \n",
      "\u001b[1;31mView Jupyter <a href='command:jupyter.viewOutput'>log</a> for further details."
     ]
    }
   ],
   "source": [
    "cleaned_df_filtered = cleaned_df[\n",
    "    (cleaned_df['average_review_rating_out_of_5'] > 4.5) &\n",
    "    (pd.to_numeric(cleaned_df['number_of_reviews'], errors='coerce').fillna(0).astype(int) >= 51)\n",
    "]"
   ]
  },
  {
   "cell_type": "code",
   "execution_count": null,
   "id": "a41deac6",
   "metadata": {},
   "outputs": [
    {
     "data": {
      "application/vnd.microsoft.datawrangler.viewer.v0+json": {
       "columns": [
        {
         "name": "index",
         "rawType": "object",
         "type": "string"
        },
        {
         "name": "count",
         "rawType": "float64",
         "type": "float"
        }
       ],
       "ref": "2d13cf26-34cb-43a4-a9a7-a7e6717959b4",
       "rows": [
        [
         "count",
         "192.0"
        ],
        [
         "mean",
         "51.979166666666664"
        ],
        [
         "std",
         "334.6872097339701"
        ],
        [
         "min",
         "1.0"
        ],
        [
         "25%",
         "1.0"
        ],
        [
         "50%",
         "2.0"
        ],
        [
         "75%",
         "9.0"
        ],
        [
         "max",
         "4315.0"
        ]
       ],
       "shape": {
        "columns": 1,
        "rows": 8
       }
      },
      "text/plain": [
       "count     192.000000\n",
       "mean       51.979167\n",
       "std       334.687210\n",
       "min         1.000000\n",
       "25%         1.000000\n",
       "50%         2.000000\n",
       "75%         9.000000\n",
       "max      4315.000000\n",
       "Name: count, dtype: float64"
      ]
     },
     "execution_count": 63,
     "metadata": {},
     "output_type": "execute_result"
    }
   ],
   "source": [
    "cleaned_df['number_of_reviews'].value_counts().describe()\n",
    "# .value_counts() counts the occurrences of each unique value in the 'number_of_reviews' column.\n",
    "# .describe() provides a summary of statistics for the counts, including count, mean, standard deviation, min, max, and quartiles."
   ]
  },
  {
   "cell_type": "code",
   "execution_count": null,
   "id": "3dca1a20",
   "metadata": {},
   "outputs": [
    {
     "name": "stderr",
     "output_type": "stream",
     "text": [
      "/var/folders/d0/xkmp50cn5p19ts1h16db856r0000gn/T/ipykernel_1444/2958708628.py:1: SettingWithCopyWarning: \n",
      "A value is trying to be set on a copy of a slice from a DataFrame.\n",
      "Try using .loc[row_indexer,col_indexer] = value instead\n",
      "\n",
      "See the caveats in the documentation: https://pandas.pydata.org/pandas-docs/stable/user_guide/indexing.html#returning-a-view-versus-a-copy\n",
      "  cleaned_df_filtered['review_bins'] = pd.cut(\n"
     ]
    }
   ],
   "source": [
    "cleaned_df_filtered['review_bins'] = pd.cut(\n",
    "    cleaned_df_filtered['number_of_reviews'],\n",
    "    bins=[0, 10, 25, 50, 100, 250, 500, 1000, float('inf')], # bins = [] will sort values into bins. The .float('inf') will sort all values beyond the last bin.\n",
    "    labels=['1-10', '11-25', '26-50', '51-100', '101-250', '251-500', '501-1000', '1000+']) # 8 labels are created becuase the number of label must be one less than bin. \n",
    "    # These labels will group numbers into ranges."
   ]
  },
  {
   "cell_type": "code",
   "execution_count": null,
   "id": "d3528df6",
   "metadata": {},
   "outputs": [
    {
     "name": "stderr",
     "output_type": "stream",
     "text": [
      "/var/folders/d0/xkmp50cn5p19ts1h16db856r0000gn/T/ipykernel_1444/866519659.py:1: SettingWithCopyWarning: \n",
      "A value is trying to be set on a copy of a slice from a DataFrame.\n",
      "Try using .loc[row_indexer,col_indexer] = value instead\n",
      "\n",
      "See the caveats in the documentation: https://pandas.pydata.org/pandas-docs/stable/user_guide/indexing.html#returning-a-view-versus-a-copy\n",
      "  cleaned_df_filtered['review_bins'] = pd.cut( # pd.cut() is a function used to group numeric values into categories (bins).\n"
     ]
    }
   ],
   "source": [
    "cleaned_df_filtered['review_bins'] = pd.cut( # pd.cut() is a function used to group numeric values into categories (bins).\n",
    "    cleaned_df_filtered['number_of_reviews'],\n",
    "    bins=[0, 10, 25, 50, 100, 250, 500, 1000, float('inf')], # Define ranges.\n",
    "    labels=['1-10', '11-25', '26-50', '51-100', '101-250', '251-500', '501-1000', '1000+'], # Assign names to those ranges.\n",
    "    include_lowest=True # Ensures values equal to the lowest bin (i.e., 0) are included\n",
    ")"
   ]
  },
  {
   "cell_type": "code",
   "execution_count": null,
   "id": "7d74efbc",
   "metadata": {},
   "outputs": [],
   "source": [
    "top_categories = cleaned_df_filtered['amazon_category'].value_counts().nlargest(10).index\n",
    "# .value_counts, will count how many times each category appears (i.e., frequency of each category)\n",
    "# .nlargest(10), will grab the top 10 categories with the most records.\n",
    "# .index, will return just the category names (i.e., only the labels, not the counts)\n",
    "\n",
    "\n",
    "df_top = cleaned_df_filtered[cleaned_df_filtered['amazon_category'].isin(top_categories)]\n"
   ]
  },
  {
   "cell_type": "code",
   "execution_count": null,
   "id": "c6a512ea",
   "metadata": {},
   "outputs": [],
   "source": [
    "bins_to_keep = ['51-100', '101-250', '251-500', '501-1000', '1000+']\n",
    "\n",
    "df_top_filtered = df_top[df_top['review_bins'].isin(bins_to_keep)].copy()\n",
    "\n",
    "df_top_filtered['review_bins'] = pd.Categorical(\n",
    "    df_top_filtered['review_bins'],\n",
    "    categories=bins_to_keep,\n",
    "    ordered=True \n",
    ")\n"
   ]
  },
  {
   "cell_type": "code",
   "execution_count": null,
   "id": "6a6028a5",
   "metadata": {},
   "outputs": [
    {
     "data": {
      "image/png": "[encoded data removed]",
      "text/plain": [
       "<Figure size 1400x600 with 1 Axes>"
      ]
     },
     "metadata": {},
     "output_type": "display_data"
    }
   ],
   "source": [
    "\n",
    "#sns.scatterplot(\n",
    "    #data=df_top_filtered,\n",
    "    #x=\"review_bins\",\n",
    "    #y=\"average_review_rating_out_of_5\",\n",
    "    #style=\"amazon_category\",\n",
    "#)\n",
    "\n",
    "plt.figure(figsize=(14, 6))\n",
    "sns.boxplot(\n",
    "    data=df_top_filtered,\n",
    "    x=\"review_bins\",\n",
    "    y=\"average_review_rating_out_of_5\",\n",
    "    hue=\"amazon_category\",\n",
    "    dodge=True, # This code ensures the review bin gets its own separate box, side by side, not overlapping each other.\n",
    "    width=0.8 \n",
    ")\n",
    "\n",
    "\n",
    "plt.legend(\n",
    "    title=\"amazon_category\",\n",
    "    bbox_to_anchor=(1.01, 1),  # Place legend outside the axes\n",
    "    loc='upper left',\n",
    "    borderaxespad=0 # Space between the legend and the graph\n",
    ")\n",
    "\n",
    "plt.title(\"Rating by Review Count Range and Top Category\")\n",
    "plt.xlabel(\"Number of Reviews (Binned)\")\n",
    "plt.ylabel(\"Average Review Rating (out of 5)\")\n",
    "plt.tight_layout()  # Prevent label/legend cutoff\n",
    "plt.show()\n"
   ]
  },
  {
   "cell_type": "markdown",
   "id": "9f342974",
   "metadata": {},
   "source": [
    "# Answer to the Research Question\n",
    " - I should sell products in the Games category, as most items in this category receive high response rates and optimal ratings."
   ]
  }
 ],
 "metadata": {
  "kernelspec": {
   "display_name": "COMP647_env_py312",
   "language": "python",
   "name": "python3"
  },
  "language_info": {
   "codemirror_mode": {
    "name": "ipython",
    "version": 3
   },
   "file_extension": ".py",
   "mimetype": "text/x-python",
   "name": "python",
   "nbconvert_exporter": "python",
   "pygments_lexer": "ipython3",
   "version": "3.12.11"
  }
 },
 "nbformat": 4,
 "nbformat_minor": 5
}

{
 "cells": [
  {
   "cell_type": "code",
   "execution_count": 87,
   "id": "1eb5da77",
   "metadata": {},
   "outputs": [
    {
     "name": "stdout",
     "output_type": "stream",
     "text": [
      "/opt/anaconda3/envs/COMP647_env_py312/bin/python\n"
     ]
    }
   ],
   "source": [
    "import sys\n",
    "print(sys.executable)\n",
    "\n"
   ]
  },
  {
   "cell_type": "code",
   "execution_count": 88,
   "id": "8be6aa1d",
   "metadata": {},
   "outputs": [
    {
     "name": "stdout",
     "output_type": "stream",
     "text": [
      "Student Name: Xiuwen (Alice) Zhu\n",
      "Student ID: 1149188\n",
      "Course Code: COMP647\n",
      "Course Examiner: Professor Don Kulasiri\n",
      "Due Date: 07/08/2025\n"
     ]
    }
   ],
   "source": [
    "print (\"Student Name: Xiuwen (Alice) Zhu\") \n",
    "print (\"Student ID: 1149188\")\n",
    "print (\"Course Code: COMP647\")\n",
    "print (\"Course Examiner: Professor Don Kulasiri\")\n",
    "print (\"Due Date: 07/08/2025\")"
   ]
  },
  {
   "cell_type": "markdown",
   "id": "9bd2fd98",
   "metadata": {},
   "source": [
    "**1: Import the necessary libraries for data cleaning**"
   ]
  },
  {
   "cell_type": "code",
   "execution_count": 89,
   "id": "f9db2683",
   "metadata": {},
   "outputs": [],
   "source": [
    "import numpy as np # Numerical operations and array handling.\n",
    "import pandas as pd # Data manipulation and analysis.\n",
    "import matplotlib.pyplot as plt # Plotting library for creating static, animated, and interactive visualizations.\n",
    "import seaborn as sns # Statistical data visualization library based on matplotlib.\n",
    "from scipy import stats # Module for scientific computing, including statistical functions."
   ]
  },
  {
   "cell_type": "markdown",
   "id": "7444b703",
   "metadata": {},
   "source": [
    "**2. Command table output requirements**"
   ]
  },
  {
   "cell_type": "code",
   "execution_count": 90,
   "id": "0a83972a",
   "metadata": {},
   "outputs": [],
   "source": [
    "pd.set_option('display.max_columns', None) # Display all columns in DataFrame.\n",
    "pd.set_option('display.max_rows', None) # Display all rows in DataFrame.  "
   ]
  },
  {
   "cell_type": "markdown",
   "id": "986b6305",
   "metadata": {},
   "source": [
    "**3. Read the data from CSV**"
   ]
  },
  {
   "cell_type": "code",
   "execution_count": 91,
   "id": "516917c6",
   "metadata": {},
   "outputs": [],
   "source": [
    "dataframe = pd.read_csv('amazon_co-ecommerce_sample.csv') # Read the data from CSV file into a DataFrame. Abbreviate 'dataframe' as 'df' in future for convenience."
   ]
  },
  {
   "cell_type": "markdown",
   "id": "0850b4c5",
   "metadata": {},
   "source": [
    "**4. Find data information of each column** "
   ]
  },
  {
   "cell_type": "code",
   "execution_count": 92,
   "id": "1e3ebadd",
   "metadata": {},
   "outputs": [
    {
     "name": "stdout",
     "output_type": "stream",
     "text": [
      "<class 'pandas.core.frame.DataFrame'>\n",
      "RangeIndex: 10000 entries, 0 to 9999\n",
      "Data columns (total 17 columns):\n",
      " #   Column                                       Non-Null Count  Dtype  \n",
      "---  ------                                       --------------  -----  \n",
      " 0   uniq_id                                      10000 non-null  object \n",
      " 1   product_name                                 10000 non-null  object \n",
      " 2   manufacturer                                 9993 non-null   object \n",
      " 3   price                                        8565 non-null   object \n",
      " 4   number_available_in_stock                    7500 non-null   object \n",
      " 5   number_of_reviews                            9982 non-null   object \n",
      " 6   number_of_answered_questions                 9235 non-null   float64\n",
      " 7   average_review_rating                        9982 non-null   object \n",
      " 8   amazon_category_and_sub_category             9310 non-null   object \n",
      " 9   customers_who_bought_this_item_also_bought   8938 non-null   object \n",
      " 10  description                                  9349 non-null   object \n",
      " 11  product_information                          9942 non-null   object \n",
      " 12  product_description                          9349 non-null   object \n",
      " 13  items_customers_buy_after_viewing_this_item  6935 non-null   object \n",
      " 14  customer_questions_and_answers               914 non-null    object \n",
      " 15  customer_reviews                             9979 non-null   object \n",
      " 16  sellers                                      6918 non-null   object \n",
      "dtypes: float64(1), object(16)\n",
      "memory usage: 1.3+ MB\n"
     ]
    }
   ],
   "source": [
    "df = info = dataframe.info() # Get information about the DataFrame, including data types and missing values."
   ]
  },
  {
   "cell_type": "markdown",
   "id": "c6fe8495",
   "metadata": {},
   "source": [
    "**5. Find percentage of missing values**"
   ]
  },
  {
   "cell_type": "code",
   "execution_count": null,
   "id": "0cb892ca",
   "metadata": {},
   "outputs": [
    {
     "name": "stdout",
     "output_type": "stream",
     "text": [
      "uniq_id                                         0.00\n",
      "product_name                                    0.00\n",
      "manufacturer                                    0.07\n",
      "price                                          14.35\n",
      "number_available_in_stock                      25.00\n",
      "number_of_reviews                               0.18\n",
      "number_of_answered_questions                    7.65\n",
      "average_review_rating                           0.18\n",
      "amazon_category_and_sub_category                6.90\n",
      "customers_who_bought_this_item_also_bought     10.62\n",
      "description                                     6.51\n",
      "product_information                             0.58\n",
      "product_description                             6.51\n",
      "items_customers_buy_after_viewing_this_item    30.65\n",
      "customer_questions_and_answers                 90.86\n",
      "customer_reviews                                0.21\n",
      "sellers                                        30.82\n",
      "dtype: float64\n"
     ]
    }
   ],
   "source": [
    "missing_percentage = (dataframe.isna().sum()/ len(dataframe) * 100) # Calculate the percentage of missing values in each column.\n",
    "print(missing_percentage) # Display the percentage of missing values for each column.\n"
   ]
  }
 ],
 "metadata": {
  "kernelspec": {
   "display_name": "COMP647_env_py312",
   "language": "python",
   "name": "python3"
  },
  "language_info": {
   "codemirror_mode": {
    "name": "ipython",
    "version": 3
   },
   "file_extension": ".py",
   "mimetype": "text/x-python",
   "name": "python",
   "nbconvert_exporter": "python",
   "pygments_lexer": "ipython3",
   "version": "3.12.11"
  }
 },
 "nbformat": 4,
 "nbformat_minor": 5
}
